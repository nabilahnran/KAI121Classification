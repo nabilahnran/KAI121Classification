{
  "nbformat": 4,
  "nbformat_minor": 0,
  "metadata": {
    "colab": {
      "name": "Copy of Model - Data Twitter Mentions.ipynb",
      "provenance": [],
      "collapsed_sections": []
    },
    "kernelspec": {
      "name": "python3",
      "display_name": "Python 3"
    },
    "language_info": {
      "name": "python"
    },
    "accelerator": "GPU"
  },
  "cells": [
    {
      "cell_type": "code",
      "source": [
        "import tensorflow as tf\n",
        "import pandas as pd"
      ],
      "metadata": {
        "id": "GRUYXijdsLr1"
      },
      "execution_count": null,
      "outputs": []
    },
    {
      "cell_type": "code",
      "source": [
        "testing_portion = 0.2\n",
        "oov = '<OOV_TOK>'\n",
        "vocab_size = 10000\n",
        "embedding_dim = 16\n",
        "trunc_type = 'post'\n",
        "padding_type = 'post'\n",
        "max_length = 150"
      ],
      "metadata": {
        "id": "1GPiyyDytD4Q"
      },
      "execution_count": null,
      "outputs": []
    },
    {
      "cell_type": "markdown",
      "source": [
        "# with stopwords and number"
      ],
      "metadata": {
        "id": "Ak4Lw_CDr90M"
      }
    },
    {
      "cell_type": "code",
      "source": [
        "from sklearn.model_selection import train_test_split\n",
        "from tensorflow.keras.preprocessing.text import Tokenizer\n",
        "from tensorflow.keras.preprocessing.sequence import pad_sequences\n",
        "import numpy as np"
      ],
      "metadata": {
        "id": "AomMW3_6qF6P"
      },
      "execution_count": null,
      "outputs": []
    },
    {
      "cell_type": "code",
      "source": [
        "data = pd.read_csv('KAI121mentions-merged.csv')\n",
        "predict_data = pd.read_csv('predict.csv', sep = ';')\n",
        "data.drop(columns = ['Unnamed: 0'], inplace = True)\n",
        "predict_data.drop(columns = ['Unnamed: 0'], inplace = True)\n",
        "print(data)\n",
        "predict_data"
      ],
      "metadata": {
        "colab": {
          "base_uri": "https://localhost:8080/",
          "height": 967
        },
        "id": "PWm9lG7YsaQW",
        "outputId": "b7fac48a-88ce-4253-d387-ce1205a753cb"
      },
      "execution_count": null,
      "outputs": [
        {
          "output_type": "stream",
          "name": "stdout",
          "text": [
            "         tanggal sentiment       topic  \\\n",
            "0      9/24/2021    netral  jadwalrute   \n",
            "1      9/24/2021    netral      syarat   \n",
            "2      9/24/2021    netral      syarat   \n",
            "3      9/24/2021    netral      syarat   \n",
            "4      9/24/2021    netral        lain   \n",
            "...          ...       ...         ...   \n",
            "12132   11/29/21    netral        lain   \n",
            "12133   11/29/21    netral  jadwalrute   \n",
            "12134   11/29/21    netral        lain   \n",
            "12135   11/29/21    netral      syarat   \n",
            "12136   11/29/21    netral      syarat   \n",
            "\n",
            "                                                    text  \n",
            "0                             rute kereta yang mana saja  \n",
            "1      sore min kalo kereta pemberangkatan besok jam ...  \n",
            "2      halo kalo mau naik kereta tapi belum vaksin di...  \n",
            "3      mohon info rapid test antigen di stasiun cireb...  \n",
            "4      railmin boleh tolong dibalas dm saya saya telp...  \n",
            "...                                                  ...  \n",
            "12132                                         ke bandung  \n",
            "12133  halo kak mau nanya kereta joglokerto purwokert...  \n",
            "12134  stasiun pasar senen kalo jam 1 siang saya samp...  \n",
            "12135  halo mau tanya untuk syarat naik kereta untuk ...  \n",
            "12136  selamat malam min saya mau tanya besok kereta ...  \n",
            "\n",
            "[12137 rows x 4 columns]\n"
          ]
        },
        {
          "output_type": "execute_result",
          "data": {
            "text/plain": [
              "                  created_at                   id  \\\n",
              "0   2022-01-03T23:58:30.000Z  1478153829782802433   \n",
              "1   2022-01-03T23:56:20.000Z  1478153282765869063   \n",
              "2   2022-01-03T23:54:59.000Z  1478152944734203905   \n",
              "3   2022-01-03T23:51:11.000Z  1478151987225001985   \n",
              "4   2022-01-03T23:49:39.000Z  1478151604452823040   \n",
              "5   2022-01-03T23:47:07.000Z  1478150964364275712   \n",
              "6   2022-01-03T23:45:13.000Z  1478150485487984645   \n",
              "7   2022-01-03T23:42:54.000Z  1478149904501329920   \n",
              "8   2022-01-03T23:31:34.000Z  1478147050495639555   \n",
              "9   2022-01-03T23:18:02.000Z  1478143647090556928   \n",
              "10  2022-01-03T23:17:20.000Z  1478143471584088066   \n",
              "11  2022-01-03T23:05:52.000Z  1478140582945910786   \n",
              "12  2022-01-03T23:03:59.000Z  1478140110700904450   \n",
              "13  2022-01-03T22:55:30.000Z  1478137975330328577   \n",
              "\n",
              "                                                 text  \n",
              "0                    tolong cek dm admin terima kasih  \n",
              "1   nyari duit makanya bagi saya ini sudah termasu...  \n",
              "2                                               buset  \n",
              "3                                 Happy new year 2022  \n",
              "4      gak gelem kerjo meneng2an kerjoan e kudu viral  \n",
              "5                                       cek dm ya min  \n",
              "6   lah emangnya dia ngelakuin pelecehan sampe di ...  \n",
              "7   selamat pagi railmin apakah ada kabar ka bima ...  \n",
              "8   apalagi kalo udh penuh tetep di paksa masuk ya...  \n",
              "9                                           jadwalnya  \n",
              "10  min boleh share jadwal kereta stasiun tugi nyi...  \n",
              "11  sebaiknya yang diperbolehkan naik angkutan umu...  \n",
              "12                                happy new year 2022  \n",
              "13                  mantab terimakasih kakak2 infonya  "
            ],
            "text/html": [
              "\n",
              "  <div id=\"df-8cb3c2cf-100d-40ec-9739-ffae9401a796\">\n",
              "    <div class=\"colab-df-container\">\n",
              "      <div>\n",
              "<style scoped>\n",
              "    .dataframe tbody tr th:only-of-type {\n",
              "        vertical-align: middle;\n",
              "    }\n",
              "\n",
              "    .dataframe tbody tr th {\n",
              "        vertical-align: top;\n",
              "    }\n",
              "\n",
              "    .dataframe thead th {\n",
              "        text-align: right;\n",
              "    }\n",
              "</style>\n",
              "<table border=\"1\" class=\"dataframe\">\n",
              "  <thead>\n",
              "    <tr style=\"text-align: right;\">\n",
              "      <th></th>\n",
              "      <th>created_at</th>\n",
              "      <th>id</th>\n",
              "      <th>text</th>\n",
              "    </tr>\n",
              "  </thead>\n",
              "  <tbody>\n",
              "    <tr>\n",
              "      <th>0</th>\n",
              "      <td>2022-01-03T23:58:30.000Z</td>\n",
              "      <td>1478153829782802433</td>\n",
              "      <td>tolong cek dm admin terima kasih</td>\n",
              "    </tr>\n",
              "    <tr>\n",
              "      <th>1</th>\n",
              "      <td>2022-01-03T23:56:20.000Z</td>\n",
              "      <td>1478153282765869063</td>\n",
              "      <td>nyari duit makanya bagi saya ini sudah termasu...</td>\n",
              "    </tr>\n",
              "    <tr>\n",
              "      <th>2</th>\n",
              "      <td>2022-01-03T23:54:59.000Z</td>\n",
              "      <td>1478152944734203905</td>\n",
              "      <td>buset</td>\n",
              "    </tr>\n",
              "    <tr>\n",
              "      <th>3</th>\n",
              "      <td>2022-01-03T23:51:11.000Z</td>\n",
              "      <td>1478151987225001985</td>\n",
              "      <td>Happy new year 2022</td>\n",
              "    </tr>\n",
              "    <tr>\n",
              "      <th>4</th>\n",
              "      <td>2022-01-03T23:49:39.000Z</td>\n",
              "      <td>1478151604452823040</td>\n",
              "      <td>gak gelem kerjo meneng2an kerjoan e kudu viral</td>\n",
              "    </tr>\n",
              "    <tr>\n",
              "      <th>5</th>\n",
              "      <td>2022-01-03T23:47:07.000Z</td>\n",
              "      <td>1478150964364275712</td>\n",
              "      <td>cek dm ya min</td>\n",
              "    </tr>\n",
              "    <tr>\n",
              "      <th>6</th>\n",
              "      <td>2022-01-03T23:45:13.000Z</td>\n",
              "      <td>1478150485487984645</td>\n",
              "      <td>lah emangnya dia ngelakuin pelecehan sampe di ...</td>\n",
              "    </tr>\n",
              "    <tr>\n",
              "      <th>7</th>\n",
              "      <td>2022-01-03T23:42:54.000Z</td>\n",
              "      <td>1478149904501329920</td>\n",
              "      <td>selamat pagi railmin apakah ada kabar ka bima ...</td>\n",
              "    </tr>\n",
              "    <tr>\n",
              "      <th>8</th>\n",
              "      <td>2022-01-03T23:31:34.000Z</td>\n",
              "      <td>1478147050495639555</td>\n",
              "      <td>apalagi kalo udh penuh tetep di paksa masuk ya...</td>\n",
              "    </tr>\n",
              "    <tr>\n",
              "      <th>9</th>\n",
              "      <td>2022-01-03T23:18:02.000Z</td>\n",
              "      <td>1478143647090556928</td>\n",
              "      <td>jadwalnya</td>\n",
              "    </tr>\n",
              "    <tr>\n",
              "      <th>10</th>\n",
              "      <td>2022-01-03T23:17:20.000Z</td>\n",
              "      <td>1478143471584088066</td>\n",
              "      <td>min boleh share jadwal kereta stasiun tugi nyi...</td>\n",
              "    </tr>\n",
              "    <tr>\n",
              "      <th>11</th>\n",
              "      <td>2022-01-03T23:05:52.000Z</td>\n",
              "      <td>1478140582945910786</td>\n",
              "      <td>sebaiknya yang diperbolehkan naik angkutan umu...</td>\n",
              "    </tr>\n",
              "    <tr>\n",
              "      <th>12</th>\n",
              "      <td>2022-01-03T23:03:59.000Z</td>\n",
              "      <td>1478140110700904450</td>\n",
              "      <td>happy new year 2022</td>\n",
              "    </tr>\n",
              "    <tr>\n",
              "      <th>13</th>\n",
              "      <td>2022-01-03T22:55:30.000Z</td>\n",
              "      <td>1478137975330328577</td>\n",
              "      <td>mantab terimakasih kakak2 infonya</td>\n",
              "    </tr>\n",
              "  </tbody>\n",
              "</table>\n",
              "</div>\n",
              "      <button class=\"colab-df-convert\" onclick=\"convertToInteractive('df-8cb3c2cf-100d-40ec-9739-ffae9401a796')\"\n",
              "              title=\"Convert this dataframe to an interactive table.\"\n",
              "              style=\"display:none;\">\n",
              "        \n",
              "  <svg xmlns=\"http://www.w3.org/2000/svg\" height=\"24px\"viewBox=\"0 0 24 24\"\n",
              "       width=\"24px\">\n",
              "    <path d=\"M0 0h24v24H0V0z\" fill=\"none\"/>\n",
              "    <path d=\"M18.56 5.44l.94 2.06.94-2.06 2.06-.94-2.06-.94-.94-2.06-.94 2.06-2.06.94zm-11 1L8.5 8.5l.94-2.06 2.06-.94-2.06-.94L8.5 2.5l-.94 2.06-2.06.94zm10 10l.94 2.06.94-2.06 2.06-.94-2.06-.94-.94-2.06-.94 2.06-2.06.94z\"/><path d=\"M17.41 7.96l-1.37-1.37c-.4-.4-.92-.59-1.43-.59-.52 0-1.04.2-1.43.59L10.3 9.45l-7.72 7.72c-.78.78-.78 2.05 0 2.83L4 21.41c.39.39.9.59 1.41.59.51 0 1.02-.2 1.41-.59l7.78-7.78 2.81-2.81c.8-.78.8-2.07 0-2.86zM5.41 20L4 18.59l7.72-7.72 1.47 1.35L5.41 20z\"/>\n",
              "  </svg>\n",
              "      </button>\n",
              "      \n",
              "  <style>\n",
              "    .colab-df-container {\n",
              "      display:flex;\n",
              "      flex-wrap:wrap;\n",
              "      gap: 12px;\n",
              "    }\n",
              "\n",
              "    .colab-df-convert {\n",
              "      background-color: #E8F0FE;\n",
              "      border: none;\n",
              "      border-radius: 50%;\n",
              "      cursor: pointer;\n",
              "      display: none;\n",
              "      fill: #1967D2;\n",
              "      height: 32px;\n",
              "      padding: 0 0 0 0;\n",
              "      width: 32px;\n",
              "    }\n",
              "\n",
              "    .colab-df-convert:hover {\n",
              "      background-color: #E2EBFA;\n",
              "      box-shadow: 0px 1px 2px rgba(60, 64, 67, 0.3), 0px 1px 3px 1px rgba(60, 64, 67, 0.15);\n",
              "      fill: #174EA6;\n",
              "    }\n",
              "\n",
              "    [theme=dark] .colab-df-convert {\n",
              "      background-color: #3B4455;\n",
              "      fill: #D2E3FC;\n",
              "    }\n",
              "\n",
              "    [theme=dark] .colab-df-convert:hover {\n",
              "      background-color: #434B5C;\n",
              "      box-shadow: 0px 1px 3px 1px rgba(0, 0, 0, 0.15);\n",
              "      filter: drop-shadow(0px 1px 2px rgba(0, 0, 0, 0.3));\n",
              "      fill: #FFFFFF;\n",
              "    }\n",
              "  </style>\n",
              "\n",
              "      <script>\n",
              "        const buttonEl =\n",
              "          document.querySelector('#df-8cb3c2cf-100d-40ec-9739-ffae9401a796 button.colab-df-convert');\n",
              "        buttonEl.style.display =\n",
              "          google.colab.kernel.accessAllowed ? 'block' : 'none';\n",
              "\n",
              "        async function convertToInteractive(key) {\n",
              "          const element = document.querySelector('#df-8cb3c2cf-100d-40ec-9739-ffae9401a796');\n",
              "          const dataTable =\n",
              "            await google.colab.kernel.invokeFunction('convertToInteractive',\n",
              "                                                     [key], {});\n",
              "          if (!dataTable) return;\n",
              "\n",
              "          const docLinkHtml = 'Like what you see? Visit the ' +\n",
              "            '<a target=\"_blank\" href=https://colab.research.google.com/notebooks/data_table.ipynb>data table notebook</a>'\n",
              "            + ' to learn more about interactive tables.';\n",
              "          element.innerHTML = '';\n",
              "          dataTable['output_type'] = 'display_data';\n",
              "          await google.colab.output.renderOutput(dataTable, element);\n",
              "          const docLink = document.createElement('div');\n",
              "          docLink.innerHTML = docLinkHtml;\n",
              "          element.appendChild(docLink);\n",
              "        }\n",
              "      </script>\n",
              "    </div>\n",
              "  </div>\n",
              "  "
            ]
          },
          "metadata": {},
          "execution_count": 2
        }
      ]
    },
    {
      "cell_type": "code",
      "source": [
        "print(len(data))\n",
        "for a in data['sentiment'].unique():\n",
        "  print(\"number of \" + a + \" label: \" + str(len(data[data['sentiment'] == a])))\n",
        "print(\"\\n\")\n",
        "for a in data['topic'].unique():\n",
        "  print(\"number of \" + a + \" label: \" + str(len(data[data['topic'] == a])))"
      ],
      "metadata": {
        "colab": {
          "base_uri": "https://localhost:8080/"
        },
        "id": "G45F8s7jMxbg",
        "outputId": "79f32f24-2e78-4552-9752-68d71cab40aa"
      },
      "execution_count": null,
      "outputs": [
        {
          "output_type": "stream",
          "name": "stdout",
          "text": [
            "12137\n",
            "number of netral label: 11557\n",
            "number of positif label: 291\n",
            "number of negatif label: 289\n",
            "\n",
            "\n",
            "number of jadwalrute label: 2006\n",
            "number of syarat label: 3164\n",
            "number of lain label: 4904\n",
            "number of aturan label: 530\n",
            "number of pelayanan label: 184\n",
            "number of ticketing label: 820\n",
            "number of experience label: 261\n",
            "number of fasilitas label: 268\n"
          ]
        }
      ]
    },
    {
      "cell_type": "code",
      "source": [
        "from sklearn.model_selection import train_test_split\n",
        "\n",
        "train_text = data['text']\n",
        "train_sent = data['sentiment']\n",
        "train_topic = data['topic']"
      ],
      "metadata": {
        "id": "yt41InkjBJZ6"
      },
      "execution_count": null,
      "outputs": []
    },
    {
      "cell_type": "code",
      "source": [
        "tokenizer = Tokenizer(vocab_size, oov_token= oov)\n",
        "tokenizer.fit_on_texts(train_text)\n",
        "word_index = tokenizer.word_index\n",
        "print(word_index)\n",
        "\n",
        "sent_tok = Tokenizer()\n",
        "sent_tok.fit_on_texts(train_sent)\n",
        "sent_word_index = sent_tok.word_index\n",
        "print(sent_word_index)\n",
        "\n",
        "topic_tok = Tokenizer()\n",
        "topic_tok.fit_on_texts(train_topic)\n",
        "topic_word_index = topic_tok.word_index\n",
        "print(topic_word_index)"
      ],
      "metadata": {
        "colab": {
          "base_uri": "https://localhost:8080/"
        },
        "outputId": "03cf88e2-9025-4012-e996-b1f74c4a51b9",
        "id": "cfB1gdymBJaC"
      },
      "execution_count": null,
      "outputs": [
        {
          "output_type": "stream",
          "name": "stdout",
          "text": [
            "{'<OOV_TOK>': 1, 'min': 2, 'di': 3, 'ya': 4, 'kereta': 5, 'stasiun': 6, 'tidak': 7, 'untuk': 8, 'antigen': 9, 'kasih': 10, 'terima': 11, 'ada': 12, 'dari': 13, 'yang': 14, 'jam': 15, 'mau': 16, 'bisa': 17, 'saya': 18, 'dan': 19, 'berapa': 20, 'ke': 21, 'naik': 22, 'ka': 23, 'apa': 24, 'apakah': 25, 'sudah': 26, 'dm': 27, 'ini': 28, 'cek': 29, 'kai': 30, 'kalau': 31, 'tanya': 32, 'lagi': 33, 'kak': 34, 'halo': 35, 'atau': 36, 'sampai': 37, 'kalo': 38, 'vaksin': 39, 'rapid': 40, 'belum': 41, 'selamat': 42, 'harus': 43, 'masih': 44, 'tanggal': 45, 'beroperasi': 46, 'tiket': 47, 'tapi': 48, 'itu': 49, 'juga': 50, 'lokal': 51, 'api': 52, 'aja': 53, 'nya': 54, 'pasar': 55, 'tahun': 56, 'mohon': 57, 'yogyakarta': 58, 'hari': 59, 'tes': 60, 'boleh': 61, 'jadwal': 62, 'kapan': 63, 'surabaya': 64, 'perjalanan': 65, 'pagi': 66, 'tolong': 67, 'udah': 68, 'anak': 69, 'jakarta': 70, 'swab': 71, 'senen': 72, 'makasih': 73, 'dong': 74, 'admin': 75, 'test': 76, 'dengan': 77, 'sama': 78, 'jauh': 79, 'kok': 80, 'gambir': 81, 'jalan': 82, 'jarak': 83, 'info': 84, 'semarang': 85, 'kan': 86, 'malam': 87, 'bandung': 88, '2': 89, 'baik': 90, 'infonya': 91, 'buka': 92, 'jadi': 93, 'aplikasi': 94, 'syarat': 95, 'sekarang': 96, 'mulai': 97, 'saja': 98, 'ga': 99, '1': 100, 'karena': 101, 'layanan': 102, 'oktober': 103, 'surat': 104, 'access': 105, 'keberangkatan': 106, 'buat': 107, 'kah': 108, 'siang': 109, 'malang': 110, 'terus': 111, 'gimana': 112, 'lebih': 113, 'seperti': 114, 'penumpang': 115, 'perlu': 116, 'oke': 117, 'aku': 118, 'banyak': 119, 'kenapa': 120, 'bekasi': 121, 'hasil': 122, 'pake': 123, 'sore': 124, 'tersedia': 125, 'solo': 126, 'nanya': 127, 'kota': 128, 'banget': 129, 'semoga': 130, 'baru': 131, 'lama': 132, 'bulan': 133, 'nih': 134, 'pakai': 135, 'pelayanan': 136, '12': 137, 'palang': 138, 'orang': 139, 'september': 140, 'argo': 141, 'minggu': 142, 'hanya': 143, 'pak': 144, 'penataran': 145, 'purwokerto': 146, 'menggunakan': 147, 'joglosemarkerto': 148, '3': 149, 'tujuan': 150, 'lempuyangan': 151, 'bukan': 152, 'tegal': 153, 'akan': 154, 'kembali': 155, 'gubeng': 156, 'saat': 157, 'dhoho': 158, 'besok': 159, 'maaf': 160, 'cuma': 161, '2021': 162, 'railmin': 163, 'selalu': 164, 'dulu': 165, 'kaligung': 166, 'kita': 167, 'beli': 168, 'pada': 169, 'berlaku': 170, 'bagaimana': 171, 'lain': 172, 'tetap': 173, 'berangkat': 174, 'dalam': 175, 'mana': 176, 'krl': 177, 'indonesia': 178, 'minta': 179, 'ulang': 180, 'sih': 181, 'bandara': 182, 'langsung': 183, 'jika': 184, 'pcr': 185, 'atas': 186, 'desember': 187, 'soalnya': 188, 'semua': 189, 'tempat': 190, 'you': 191, 'turi': 192, 'berarti': 193, 'wajib': 194, 'lewat': 195, 'pedulilindungi': 196, 'jangan': 197, 'rute': 198, 'waktu': 199, 'antar': 200, 'iya': 201, 'dapat': 202, 'ekonomi': 203, 'hai': 204, 'kali': 205, 'salah': 206, 'usia': 207, 'tawang': 208, 'thank': 209, 'gitu': 210, 'bawa': 211, 'persyaratan': 212, 'wkwk': 213, 'dibawah': 214, 'pt': 215, 'airlangga': 216, 'padahal': 217, 'sebelum': 218, 'pas': 219, 'rencana': 220, 'kursi': 221, 'harga': 222, 'pasti': 223, 'operasional': 224, 'masuk': 225, 'benar': 226, 'gerbong': 227, 'coba': 228, 'kartu': 229, 'mimin': 230, 'bertanya': 231, 'mas': 232, 'pesan': 233, 'tugu': 234, 'jember': 235, 'kira': 236, 'transportasi': 237, 'dosis': 238, 'kami': 239, 'tau': 240, 'syaratnya': 241, 'keluar': 242, 'cepat': 243, 'informasinya': 244, 'masa': 245, 'melayani': 246, 'sertifikat': 247, 'yah': 248, 'via': 249, 'kemarin': 250, 'berhenti': 251, 'hingga': 252, 'setelah': 253, '5': 254, 'punya': 255, 'tarif': 256, 'melakukan': 257, 'memang': 258, 'nanti': 259, '6': 260, 'ppkm': 261, 'lalu': 262, 'cirebon': 263, 'genose': 264, 'ingin': 265, 'medan': 266, 'turun': 267, 'keterangan': 268, 'sabtu': 269, 'kerja': 270, 'cukup': 271, 'tiketnya': 272, 'menjadi': 273, '7': 274, 'bengawan': 275, 'angkot': 276, 'tadi': 277, 'pukul': 278, 'nomor': 279, 'bawah': 280, 'poncol': 281, 'jurusan': 282, 'biar': 283, 'cikarang': 284, 'senin': 285, '4': 286, 'satu': 287, 'jadwalnya': 288, 'eksekutif': 289, 'dimana': 290, 'setengah': 291, 'siap': 292, 'thanks': 293, 'luar': 294, 'sebelumnya': 295, 'express': 296, 'sidoarjo': 297, 'walahar': 298, 'menuju': 299, 'pp': 300, 'gini': 301, 'informasi': 302, 'balas': 303, 'malah': 304, 'emang': 305, 'kamandaka': 306, 'kejadian': 307, 'khusus': 308, 'yia': 309, 'tanpa': 310, 'biaya': 311, 'ujung': 312, 'pulang': 313, 'kiaracondong': 314, 'kayak': 315, 'contoh': 316, '76': 317, 'lah': 318, 'tersebut': 319, 'jalur': 320, 'antigennya': 321, 'depan': 322, 'purwakarta': 323, 'sekali': 324, 'balapan': 325, 'setiap': 326, 'dibuka': 327, 'melalui': 328, 'mantap': 329, 'akhirnya': 330, 'pernah': 331, 'ribu': 332, 'keretanya': 333, 'makan': 334, 'ktp': 335, 'selebar': 336, 'sangat': 337, 'selama': 338, 'muncul': 339, 'nyaman': 340, 'madiun': 341, 'cara': 342, 'duduk': 343, 'update': 344, 'jawab': 345, 'nasional': 346, 'maharani': 347, '8': 348, 'menunjukkan': 349, 'no': 350, 'parahyangan': 351, 'paling': 352, 'bapak': 353, 'pertama': 354, 'akun': 355, 'misal': 356, 'fasilitas': 357, 'permisi': 358, 'memanjang': 359, 'ibu': 360, '24': 361, 'selain': 362, 'covid': 363, 'bagi': 364, 'segera': 365, 'hasilnya': 366, 'sehat': 367, 'bayar': 368, 'alhamdulillah': 369, 'beroprasi': 370, 'sebagai': 371, 'baca': 372, 'jk': 373, 'tabrakan': 374, 'strp': 375, 'semakin': 376, 'bales': 377, 'tutup': 378, 'tuh': 379, 'hp': 380, 'liat': 381, 'dear': 382, 'makin': 383, 'pintu': 384, 'blitar': 385, 'termasuk': 386, 'banyuwangi': 387, '4122021': 388, 'loh': 389, 'bener': 390, 'deh': 391, 'probowangi': 392, 'umur': 393, 'malem': 394, 'butuh': 395, 'balik': 396, 'bayi': 397, 'nunggu': 398, 'kamu': 399, 'pengen': 400, 'ok': 401, 'cc': 402, 'ke76': 403, 'pesen': 404, '9': 405, 'libur': 406, 'respon': 407, '0900': 408, 'oh': 409, 'booking': 410, 'keren': 411, 'jawa': 412, 'kangen': 413, 'dah': 414, 'tetep': 415, 'dekat': 416, 'sepeda': 417, 'wah': 418, 'lihat': 419, '10': 420, 'kecil': 421, 'hi': 422, 'bogor': 423, 'gue': 424, 'bantu': 425, 'pembayaran': 426, 'warga': 427, 'aturan': 428, 'taksaka': 429, 'mungkin': 430, 'email': 431, 'sesuai': 432, 'dilakukan': 433, 'persyaratannya': 434, 'kaya': 435, 'jumat': 436, 'namun': 437, 'go': 438, 'kau': 439, 'pekalongan': 440, 'utara': 441, 'kurang': 442, 'pandemi': 443, 'pergi': 444, 'aglomerasi': 445, 'kutoarjo': 446, 'tiap': 447, 'enak': 448, 'petugas': 449, 'bojonegoro': 450, 'izin': 451, 'harganya': 452, 'gabisa': 453, 'kode': 454, 'katanya': 455, 'show': 456, 'januari': 457, 'ternyata': 458, 'timur': 459, 'relasi': 460, 'masyarakat': 461, 'bikin': 462, 'balita': 463, 'hati': 464, 'umum': 465, 'memberikan': 466, 'wifi': 467, 'sendiri': 468, 'klinik': 469, 'diperbolehkan': 470, 'data': 471, 'sd': 472, 'akhir': 473, 'hehe': 474, '30': 475, 'sering': 476, 'rakyat': 477, 'jaya': 478, 'cikampek': 479, 'jelas': 480, 'h': 481, 'prameks': 482, 'please': 483, 'jatinegara': 484, 'maju': 485, 'terbaik': 486, 'oleh': 487, 'klaten': 488, 'doang': 489, 'bilang': 490, 'terkait': 491, 'level': 492, 'ganti': 493, 'mereka': 494, 'beberapa': 495, 'motor': 496, 'anda': 497, 'dirgahayu': 498, 'cari': 499, 'perlintasan': 500, 'pemerintah': 501, 'jayabaya': 502, 'manggarai': 503, 'seat': 504, 'pemberangkatan': 505, 'patokan': 506, 'e': 507, 'kertajaya': 508, 'dapet': 509, 'nah': 510, 'bukti': 511, 'pemesanan': 512, 'pilih': 513, 'bagus': 514, 'anggrek': 515, 'gratis': 516, 'id': 517, 'si': 518, 'tetapi': 519, 'biasa': 520, '14': 521, 'biasanya': 522, 'kediri': 523, 'kirim': 524, 'datang': 525, 'online': 526, 'membawa': 527, 'merak': 528, 'sukses': 529, 'terbaru': 530, 'menit': 531, 'rumah': 532, 'sejak': 533, 'selatan': 534, 'operasi': 535, 'plis': 536, 'malabar': 537, 'pembelian': 538, 'mbak': 539, 'haha': 540, 'uang': 541, 'premium': 542, 'okay': 543, 'tiba': 544, 'barang': 545, 'arah': 546, 'secara': 547, 'abang': 548, 'dinomor': 549, 'dijawab': 550, 'dibantu': 551, 'ikut': 552, 'kebumen': 553, 'bantuannya': 554, 'kalian': 555, 'btw': 556, 'raya': 557, 'ketentuan': 558, 'ambil': 559, 'operasionalnya': 560, 'tugas': 561, 'tanjung': 562, 'anies': 563, 'yuk': 564, 'dia': 565, 'vaksinasi': 566, 'commuter': 567, 'harusnya': 568, 'ditunggu': 569, 'susah': 570, 'kelas': 571, 'agustus': 572, 'akses': 573, 'krd': 574, 'mojokerto': 575, 'brebes': 576, 'habis': 577, 'tanah': 578, 'foto': 579, 'purwosari': 580, 'cuman': 581, 'pembatalan': 582, 'adalah': 583, 'tunggu': 584, 'tinggal': 585, 'in': 586, 'kemana': 587, 'jayakarta': 588, 'begini': 589, 'betul': 590, 'sukabumi': 591, 'agar': 592, 'lu': 593, 'formula': 594, 'refund': 595, 'awal': 596, 'berubah': 597, 'masker': 598, 'perubahan': 599, 'menunjukan': 600, 'sebaliknya': 601, 'daftar': 602, 'follow': 603, 'silakan': 604, 'pengiriman': 605, 'masalah': 606, 'sehingga': 607, 'telah': 608, 'mending': 609, 'kakak': 610, 'karawang': 611, 'belom': 612, 'bus': 613, 'sancaka': 614, 'maksudnya': 615, 'mah': 616, 'check': 617, 'mention': 618, 'tambahan': 619, 'rs': 620, 'cibatuan': 621, 'kebijakan': 622, 'sedang': 623, 'aktif': 624, '13': 625, 'terakhir': 626, 'cepu': 627, 'bang': 628, 'lupa': 629, 'november': 630, 'jl': 631, 'parkir': 632, 'murah': 633, 'sekitar': 634, 'jombang': 635, '20': 636, 'menyertakan': 637, 'kampung': 638, 'wilis': 639, 'bromo': 640, 'lengkap': 641, 'bukanya': 642, '23': 643, 'ku': 644, 'suka': 645, 'terintegrasi': 646, 'link': 647, 'sakit': 648, 'error': 649, 'ayo': 650, 'reschedule': 651, 'pun': 652, 'digunakan': 653, 'biayanya': 654, 'gapapa': 655, 'kondisi': 656, 'terdaftar': 657, 'beda': 658, 'full': 659, 'nama': 660, 'serayu': 661, '1700': 662, 'print': 663, 'kata': 664, 'batal': 665, 'calon': 666, '17': 667, 'menyediakan': 668, 'pelanggan': 669, 'cilacap': 670, 'dicek': 671, 'mahal': 672, '22': 673, 'aman': 674, 'gagal': 675, 'dipesan': 676, 'sedangkan': 677, 'saran': 678, 'sebelah': 679, '15': 680, 'salam': 681, 'pengguna': 682, 'ribet': 683, 'tahu': 684, 'sini': 685, 'tua': 686, 'bis': 687, 'caranya': 688, 'ketika': 689, 'apalagi': 690, 'provinsi': 691, 'peraturan': 692, 'negara': 693, 'usah': 694, 'begitu': 695, 'minimal': 696, 'persero': 697, 'hut': 698, 'logistik': 699, 'estimasi': 700, 'om': 701, 'cs': 702, 'dikasih': 703, 'ekspres': 704, '45': 705, 'rel': 706, 'bakal': 707, 'dokter': 708, 'sri': 709, 'pusat': 710, 'progo': 711, 'loket': 712, 'responnya': 713, 'pelayanannya': 714, 'nik': 715, 'serta': 716, 'jasa': 717, '18': 718, 'harina': 719, '19': 720, 'kantor': 721, 'dharmawangsa': 722, 'bahkan': 723, 'hal': 724, 'kapasitas': 725, 'karna': 726, 'kajj': 727, 'lainnya': 728, 'walaupun': 729, 'wijayakusuma': 730, 'antrian': 731, 'pihak': 732, 'besar': 733, 'keluarga': 734, 'tak': 735, 'maksimal': 736, 'prujakan': 737, 'jaman': 738, 'silahkan': 739, 'to': 740, 'kosong': 741, 'per': 742, 'kabar': 743, 'ah': 744, 'toilet': 745, 'out': 746, 'nunjukin': 747, 'kedua': 748, 'lokasi': 749, 'nuhun': 750, '16': 751, 'duduknya': 752, 'belakang': 753, 'siapa': 754, 'moda': 755, 'bersama': 756, 'kena': 757, 'tanggung': 758, 'kayaknya': 759, 'ubah': 760, '29': 761, 'good': 762, 'tengah': 763, 'cepet': 764, 'on': 765, 'divaksin': 766, 'eh': 767, 'selimut': 768, 'joglosemar': 769, 'negatif': 770, 'apabila': 771, 'puskesmas': 772, 'telat': 773, 'rencananya': 774, 'rangkaian': 775, 'naiknya': 776, 'sepur': 777, 'bangil': 778, 'pertanyaan': 779, 'kroya': 780, 'semangat': 781, 'cpns': 782, 'informasikan': 783, 'apapun': 784, 'hampir': 785, 'sayang': 786, 'kepada': 787, 'mulu': 788, 'aamiin': 789, 'menunggu': 790, 'mengenai': 791, 'mutiara': 792, 'panjang': 793, 'adakah': 794, 'tasikmalaya': 795, '1x24': 796, 'bagian': 797, 'lintas': 798, 'traveloka': 799, 'disini': 800, 'tentang': 801, 'jawabannya': 802, 'dibeli': 803, 'cimahi': 804, 'dibales': 805, 'aneh': 806, 'memiliki': 807, 'dilayani': 808, 'rp': 809, 'gaada': 810, 'ijin': 811, 'mudik': 812, 'diberikan': 813, 'dipakai': 814, 'h1': 815, 'prokes': 816, 'lho': 817, 'penting': 818, 'cetak': 819, 'a': 820, 'sementara': 821, 'percuma': 822, 'proses': 823, '11': 824, 'berikut': 825, 'normal': 826, 'bisnis': 827, 'gombong': 828, 'gara': 829, 'ranggajati': 830, 'kursinya': 831, 'supaya': 832, 'adanya': 833, 'distasiun': 834, 'boarding': 835, 'tolol': 836, 'mu': 837, '1500': 838, 'menu': 839, 'area': 840, 'paket': 841, 'aplikasinya': 842, 'line': 843, 'misalnya': 844, 'daerah': 845, 'ditiadakan': 846, 'maupun': 847, 'hamil': 848, 'pandanwangi': 849, '25': 850, 'serius': 851, 'penuh': 852, 'perihal': 853, 'solusi': 854, 'sekalian': 855, 'kek': 856, 'takut': 857, '2022': 858, 'lanjut': 859, 'anti': 860, 'sistem': 861, 'soal': 862, 'kesehatan': 863, 'the': 864, 'jenis': 865, 'tertentu': 866, 'lawu': 867, 'wonokromo': 868, 'kebetulan': 869, 'alun': 870, 'bos': 871, 'makanya': 872, 'meskipun': 873, 'tulungagung': 874, 'gajayana': 875, 'komuter': 876, 'kertosono': 877, 'pemalang': 878, 'sewa': 879, 'mati': 880, 'happy': 881, 'fotosepur': 882, 'barusan': 883, 'terjadi': 884, 'web': 885, 'main': 886, 'tergantung': 887, 'dua': 888, 'situ': 889, 'cibatu': 890, 'lokomotif': 891, 'beneran': 892, 'antara': 893, 'dimulai': 894, 'membantu': 895, 'selesai': 896, 'ekspress': 897, 'lab': 898, 'pribadi': 899, 'jadinya': 900, 'dwipangga': 901, 'diatas': 902, 'daripada': 903, '100': 904, 'ketinggalan': 905, 'waduh': 906, 'berita': 907, 'matarmaja': 908, 'meski': 909, 'garut': 910, 'banjar': 911, '21': 912, 'berhasil': 913, 'sabar': 914, 'makanan': 915, 'daop': 916, 'allah': 917, 'pilihan': 918, 'goblok': 919, 'kegiatan': 920, 'kritik': 921, 'supir': 922, 'bca': 923, 'perusahaan': 924, 'lodaya': 925, 'mobil': 926, 'merah': 927, 'service': 928, 'ambarawa': 929, 'para': 930, 'sekian': 931, 'lipat': 932, 'scan': 933, 'lancar': 934, 'ac': 935, 'terlalu': 936, 'tidur': 937, 'penyintas': 938, 'memakai': 939, 'joglo': 940, 'membuat': 941, 'diperpanjang': 942, 'juta': 943, 'pesawat': 944, 'mesti': 945, 'swabnya': 946, 'bebas': 947, 'tarifnya': 948, 'keberangkatannya': 949, 'an': 950, 'pembatasan': 951, 'urgent': 952, 'wisata': 953, 'pengumuman': 954, 'makasi': 955, 'gubernur': 956, 'alternatif': 957, 'digital': 958, '28': 959, 'terdekat': 960, 'nasi': 961, 'kemaren': 962, 'station': 963, 'i': 964, 'love': 965, 'mba': 966, 'status': 967, 'lumayan': 968, 'asik': 969, 'uda': 970, 'hilang': 971, 'resmi': 972, 'free': 973, 'peron': 974, 'dahulu': 975, 'maksud': 976, 'huhu': 977, 'terlambat': 978, 'seluruh': 979, 'login': 980, 'diganti': 981, 'abis': 982, 'brantas': 983, 'lamongan': 984, 'diluar': 985, 'keselamatan': 986, 'ditambah': 987, 'antri': 988, 'video': 989, 'bro': 990, 'tebet': 991, 'hut76kai': 992, 'customer': 993, 'kendala': 994, 'mendukung': 995, 'job': 996, 'teman': 997, 'lakukan': 998, 'keburu': 999, 'punten': 1000, 'duit': 1001, 'posisi': 1002, 'tweet': 1003, 'asli': 1004, 'pemeriksaan': 1005, 'disitu': 1006, 'install': 1007, 'noted': 1008, 'nganjuk': 1009, 'kemudian': 1010, 'covid19': 1011, 'barcode': 1012, 'menanyakan': 1013, 'rt': 1014, 'sana': 1015, 'sedih': 1016, 'sembrani': 1017, 'sertif': 1018, 'non': 1019, 'berpergian': 1020, 'assalamualaikum': 1021, 'beroperasinya': 1022, 'ni': 1023, 'rabu': 1024, 'jatim': 1025, 'kamis': 1026, 'cicalengka': 1027, 'males': 1028, 'distancing': 1029, 'turitung': 1030, 'asal': 1031, 'wates': 1032, 'bila': 1033, 'twitter': 1034, 'korban': 1035, 'ketemu': 1036, 'berat': 1037, 'dibalas': 1038, 'bukannya': 1039, 'dilarang': 1040, 'angkutan': 1041, 'bangsa': 1042, 'bepergian': 1043, 'website': 1044, 'lampu': 1045, 'detail': 1046, 'diisi': 1047, 'jaga': 1048, 'pasuruan': 1049, 'muter': 1050, 'diperbaiki': 1051, 'livery': 1052, 'bantal': 1053, 'kondektur': 1054, 'kirain': 1055, 'air': 1056, 'bentuk': 1057, 'dipake': 1058, 'terlebih': 1059, 'seneng': 1060, 'dibawa': 1061, 'melampirkan': 1062, 'yaitu': 1063, 'stop': 1064, 'dki': 1065, 'membatalkan': 1066, 'disana': 1067, 'kemungkinan': 1068, 'kuota': 1069, 'hangus': 1070, 'pendaftaran': 1071, 'bagasi': 1072, 'pindah': 1073, 'rangkasurabaya': 1074, 'minn': 1075, 'milik': 1076, 'tambah': 1077, 'yak': 1078, 'rangkas': 1079, 'penumpangnya': 1080, 'lokalan': 1081, 'agak': 1082, 'laporan': 1083, 'balai': 1084, 'halte': 1085, 'hadir': 1086, 'perbaikan': 1087, 'instagram': 1088, 'dikarenakan': 1089, 'tanggap': 1090, 'masinis': 1091, 'bahwa': 1092, 'tanda': 1093, 'hiks': 1094, 'direspon': 1095, 'packing': 1096, 'kendaraan': 1097, 'mundur': 1098, 'pengecekan': 1099, 'samping': 1100, 'nomer': 1101, 'diberlakukan': 1102, 'lowongan': 1103, 'minum': 1104, 'urusan': 1105, 'negeri': 1106, 'sepertinya': 1107, 'pekerja': 1108, 'bantuan': 1109, 'artinya': 1110, 'riwayat': 1111, '27': 1112, 'kadang': 1113, 'harinya': 1114, 'mudah': 1115, 'ig': 1116, 'keperluan': 1117, 'memesan': 1118, 'alasan': 1119, 'tesnya': 1120, 'ngecek': 1121, 'terlanjur': 1122, 'bingung': 1123, 'bolak': 1124, 'sempat': 1125, 'inap': 1126, 'setuju': 1127, '31': 1128, 'memerlukan': 1129, 'kalah': 1130, 'sehari': 1131, 'persen': 1132, 'maka': 1133, 'berupa': 1134, 'amat': 1135, '70': 1136, '1400': 1137, 'segitu': 1138, 'utama': 1139, 'namanya': 1140, 'diri': 1141, 'mepet': 1142, 'paham': 1143, 'gak': 1144, 'lo': 1145, 'rusak': 1146, 'mikir': 1147, 'tag': 1148, 'bodoh': 1149, 'cheribon': 1150, 'tepat': 1151, 'petugasnya': 1152, 'pendek': 1153, 'wa': 1154, 'identitas': 1155, 'mencoba': 1156, 'diinfokan': 1157, 'padalarang': 1158, 'ko': 1159, 'jatiluhur': 1160, 'sedikit': 1161, 'arus': 1162, 'wilayah': 1163, 'kai121': 1164, 'demi': 1165, 'jatibarang': 1166, 'kanan': 1167, 'time': 1168, 'pangrango': 1169, 'waktunya': 1170, 'istirahat': 1171, 'ilang': 1172, 'isi': 1173, 'bakalan': 1174, 'disediakan': 1175, 'valid': 1176, 'pasundan': 1177, 'kahuripan': 1178, 'keterangannya': 1179, 'senang': 1180, 'sektor': 1181, 'program': 1182, 'bu': 1183, 'gausah': 1184, 'bekerja': 1185, 'rutenya': 1186, 'mataram': 1187, 'up': 1188, 'lrt': 1189, 'swasta': 1190, 'milih': 1191, 'berencana': 1192, 'jaringan': 1193, 'masukin': 1194, 'nice': 1195, 'konfirmasi': 1196, 'dana': 1197, '1800': 1198, 'bumn': 1199, 'capek': 1200, 'jabodetabek': 1201, 'sim': 1202, 'diperlukan': 1203, 'bedanya': 1204, 'operasikan': 1205, 'seru': 1206, 'social': 1207, 'dokumen': 1208, 'hidup': 1209, 'temen': 1210, 'ketapang': 1211, 'klik': 1212, 'railfans': 1213, 'ngomong': 1214, 'ciamis': 1215, 'tinggi': 1216, 'poin': 1217, 'logawa': 1218, 'koper': 1219, 'dibuat': 1220, 'by': 1221, 'belajar': 1222, 'melihat': 1223, 'sekolah': 1224, 'parah': 1225, 'luxury': 1226, 'hahaha': 1227, 'make': 1228, 'favorit': 1229, 'satunya': 1230, 'atur': 1231, 'tertib': 1232, 'mengubah': 1233, 'bareng': 1234, 'slawi': 1235, 'beri': 1236, 'ketersediaan': 1237, 'space': 1238, 'menghubungi': 1239, 'berikutnya': 1240, 'setempat': 1241, 'blora': 1242, 'mengingat': 1243, 'seharusnya': 1244, 'menerima': 1245, 'berasa': 1246, 'gate': 1247, 'is': 1248, 'penjelasannya': 1249, 'semisal': 1250, 'bangku': 1251, 'dioperasikan': 1252, 'gatau': 1253, 'membeli': 1254, 'aduh': 1255, 'lapangan': 1256, 'dibatalkan': 1257, 'rekening': 1258, 'dinas': 1259, 'leles': 1260, 'andalan': 1261, 'rogojampi': 1262, 'weekend': 1263, 'versi': 1264, 'tumapel': 1265, 'testnya': 1266, 'waru': 1267, 'pengambilan': 1268, '1900': 1269, 'dateng': 1270, 'matur': 1271, 'kepanjen': 1272, 'jamnya': 1273, 'barat': 1274, 'berjalan': 1275, 'kedung': 1276, 'cancel': 1277, 'merubah': 1278, 'lokasinya': 1279, 'guru': 1280, 'secepatnya': 1281, 'berhadapan': 1282, 'mendapatkan': 1283, 'suara': 1284, 'ramah': 1285, 'rame': 1286, 'seorang': 1287, 'pangandaran': 1288, 'berbeda': 1289, 'santai': 1290, 'anis': 1291, 'gas': 1292, 'panas': 1293, 'rupiah': 1294, 'diskon': 1295, 'malu': 1296, 'otak': 1297, 'lansia': 1298, 'dibaca': 1299, 'x': 1300, 'yasa': 1301, 'jebres': 1302, 'birthday': 1303, 'kue': 1304, 'film': 1305, 'kayanya': 1306, 'hujan': 1307, 'kini': 1308, 'copy': 1309, 'menikmati': 1310, 'kaku': 1311, 'misalkan': 1312, 'uu': 1313, 'call': 1314, 'baiklah': 1315, 'larangan': 1316, 'diambil': 1317, 'disiplin': 1318, 'rasanya': 1319, 'kenyamanan': 1320, 'bangunkarta': 1321, 'hotel': 1322, 'polisi': 1323, 'tempuh': 1324, 'mengganti': 1325, 'sepi': 1326, 'buang': 1327, 'trip': 1328, 'tut': 1329, 'kasihan': 1330, 'tulisannya': 1331, 'kiri': 1332, 'mengapa': 1333, 'gambar': 1334, 'liburan': 1335, 'terbuka': 1336, 'depok': 1337, 'batas': 1338, 'numpang': 1339, 'disuruh': 1340, 'vaksinnya': 1341, 'kesana': 1342, 'ngrombo': 1343, 'pdf': 1344, 'prosedur': 1345, 'agung': 1346, 'rail': 1347, 'dilihat': 1348, 'indah': 1349, 'rasa': 1350, 'dmnya': 1351, 'kusuma': 1352, 'istri': 1353, 'rugi': 1354, 'sempet': 1355, 'bahan': 1356, 'alat': 1357, 'ha': 1358, 'tasik': 1359, 'denah': 1360, 'suruh': 1361, 'handphone': 1362, 'hihi': 1363, 'dimaksud': 1364, 'deket': 1365, 'ngawi': 1366, 'berenti': 1367, 'bahagia': 1368, 'sendirian': 1369, 'stasiunnya': 1370, 'pass': 1371, 'perjalan': 1372, 'setia': 1373, 'transit': 1374, 'diwajibkan': 1375, 'ta': 1376, 'double': 1377, '0': 1378, 'nyewa': 1379, 'gan': 1380, 'down': 1381, 'wib': 1382, 'anaknya': 1383, 'f1': 1384, 'ibukota': 1385, 'presiden': 1386, 'pekerjaan': 1387, 'cerita': 1388, 'perkeretaapian': 1389, 'jepang': 1390, 'yeay': 1391, 'if': 1392, '0830': 1393, 'penjelasan': 1394, 'loko': 1395, 'diubah': 1396, 'input': 1397, 'tangguh': 1398, 'tumbuh': 1399, 'dipesen': 1400, 'desa': 1401, 'off': 1402, 'turangga': 1403, 'perbaiki': 1404, 'gaya': 1405, 'qris': 1406, 'sambil': 1407, 'keluarnya': 1408, 'tulisan': 1409, 'jual': 1410, 'guys': 1411, 'yakin': 1412, 'armada': 1413, 'bebek': 1414, 'jualan': 1415, 'my': 1416, 'for': 1417, 'nonton': 1418, 'tertinggal': 1419, 'karyawan': 1420, 'kuliah': 1421, 'komplain': 1422, 'sms': 1423, 'pulau': 1424, 'sidareja': 1425, 'download': 1426, 'mahasiswa': 1427, 'penyakit': 1428, 'perjalanannya': 1429, 'weleri': 1430, 'nyampe': 1431, 'melewati': 1432, 'sebuah': 1433, 'sip': 1434, 'babat': 1435, 'dikit': 1436, 'semarkerto': 1437, 'khususnya': 1438, 'tap': 1439, 'berlakunya': 1440, 'password': 1441, 'mrt': 1442, 'probolinggo': 1443, 'doho': 1444, 'tanggalnya': 1445, 'untung': 1446, 'tawangalun': 1447, 'kedatangan': 1448, 'suwun': 1449, 'jalanin': 1450, 'ditemukan': 1451, 'wijaya': 1452, 'travel': 1453, 'restorasi': 1454, 'pelajar': 1455, 'tu': 1456, 'protes': 1457, 'kesempatan': 1458, 'tunjukan': 1459, 'kradenan': 1460, 'bni': 1461, 'lagian': 1462, 'selanjutnya': 1463, 'dewasa': 1464, 'pingin': 1465, 'acara': 1466, 'kucing': 1467, 'bertahap': 1468, 'depannya': 1469, 'wangi': 1470, 'merupakan': 1471, 'next': 1472, 'masing': 1473, 'dihapus': 1474, 'share': 1475, 'baiknya': 1476, 'finally': 1477, 'alhasil': 1478, 'best': 1479, 'keliatan': 1480, '85': 1481, 'hebat': 1482, '26': 1483, 'berada': 1484, 'subuh': 1485, 'sulit': 1486, 'banking': 1487, 'ih': 1488, 'mudahan': 1489, 'pajak': 1490, 'penitipan': 1491, 'dirut': 1492, 'museum': 1493, 'manusia': 1494, 'wow': 1495, 'mampu': 1496, 'berinovasi': 1497, 'keretaapikita': 1498, 'publik': 1499, 'so': 1500, '021': 1501, 'sampah': 1502, 'bersih': 1503, 'kecelakaan': 1504, 'bismillah': 1505, 'ngerti': 1506, 'gunung': 1507, 'jembatan': 1508, 'posisinya': 1509, 'no1': 1510, 'pergudangan': 1511, 'sampaikan': 1512, '1324': 1513, 'maos': 1514, 'chat': 1515, 'kaipay': 1516, 'hiburan': 1517, 'undang': 1518, 'center': 1519, 'sengaja': 1520, 'pemandangan': 1521, 'berupaya': 1522, 'situasi': 1523, 'bergerak': 1524, 'kebanyakan': 1525, 'hewan': 1526, 'bekas': 1527, 'perdana': 1528, 'amin': 1529, 'sragen': 1530, 'misi': 1531, 'deretan': 1532, 'dipastikan': 1533, 'perhitungan': 1534, 'duh': 1535, 'telfon': 1536, 'bayarnya': 1537, 'satgas': 1538, 'semenjak': 1539, 'connect': 1540, 'hadeuh': 1541, 'jarang': 1542, 'pembangunan': 1543, 'peningkatan': 1544, 'apresiasi': 1545, 'protokol': 1546, 'ditanya': 1547, 'terjangkau': 1548, 'dipisah': 1549, 'ayam': 1550, 'wanita': 1551, 'dingin': 1552, 'server': 1553, 'news': 1554, 'aaa': 1555, 'detik': 1556, 'singasari': 1557, 'file': 1558, 'batu': 1559, 'pegawai': 1560, 'otomatis': 1561, 'hemat': 1562, 'stabil': 1563, 'transfer': 1564, 'dibatasi': 1565, 'darii': 1566, 'purwojaya': 1567, 'seminggu': 1568, 'prosedurnya': 1569, 'ikutan': 1570, 'masukan': 1571, 'kertas': 1572, 'antibodi': 1573, 'mempunyai': 1574, 'batara': 1575, 'kresna': 1576, 'hardcopy': 1577, 'tangerang': 1578, 'cantik': 1579, 'rantau': 1580, 'prapat': 1581, 'masi': 1582, '50': 1583, 'bima': 1584, 'mandiri': 1585, 'macet': 1586, 'kasian': 1587, 'token': 1588, 'terhadap': 1589, 'bumiayu': 1590, 'trans': 1591, 'ber': 1592, 'sample': 1593, 'log': 1594, 'babakan': 1595, 'mengikuti': 1596, 'fyi': 1597, 'oiya': 1598, 'positif': 1599, 'balasan': 1600, 'biru': 1601, 'kirakira': 1602, 'sritanjung': 1603, 'otw': 1604, 'tampilan': 1605, 'gangguan': 1606, 'lapor': 1607, 'nuwun': 1608, 'terutama': 1609, 'dijalankan': 1610, 'rapih': 1611, 'mo': 1612, 'memilih': 1613, 'jawaban': 1614, 'menjawab': 1615, 'dasar': 1616, 'rindu': 1617, 'pastinya': 1618, 'kasus': 1619, 'hadapan': 1620, 'rapidnya': 1621, 'jumlah': 1622, 'bitung': 1623, 'malioboro': 1624, 'berjarak': 1625, 'pandan': 1626, 'kopi': 1627, 'bangunan': 1628, 'reservasi': 1629, 'berangkatnya': 1630, 'yes': 1631, 'keterlambatan': 1632, 'setau': 1633, 'potongan': 1634, 'terlihat': 1635, 'fix': 1636, 'jajan': 1637, 'ataupun': 1638, 'sepanjang': 1639, 'bolehkah': 1640, 'proyek': 1641, 'seatnya': 1642, 'baby': 1643, 'anggota': 1644, 'berfungsi': 1645, 'ganggu': 1646, 'melanggar': 1647, 'nambah': 1648, 'd': 1649, 'hm': 1650, '620': 1651, 'adminnya': 1652, 'sampean': 1653, 'pemda': 1654, 'ampun': 1655, 'ceritanya': 1656, 'layang': 1657, 'ngeri': 1658, 'palangnya': 1659, 'saldo': 1660, 'dibayar': 1661, 'komen': 1662, 'top': 1663, 'warna': 1664, 'dikenakan': 1665, 'orangnya': 1666, 'perhubungan': 1667, 'help': 1668, 'hadiah': 1669, 'buzzerp': 1670, 'he': 1671, 'beliau': 1672, 'pastikan': 1673, '0800': 1674, 'book': 1675, 'ortu': 1676, 'khawatir': 1677, 'kepala': 1678, 'karang': 1679, '2020': 1680, 'pjka': 1681, 'mall': 1682, 'kertanegara': 1683, 'gudang': 1684, 'live': 1685, 'mengucaplikasian': 1686, 'rubah': 1687, 'senantiasa': 1688, 'muria': 1689, 'kaki': 1690, 'stiker': 1691, 'jogja': 1692, 'tv': 1693, 'natal': 1694, 'nature': 1695, 'nerobos': 1696, 'gumarang': 1697, 'membutuhkan': 1698, 'verifikasi': 1699, 'berharap': 1700, 'sekaligus': 1701, 'solusinya': 1702, 'ajak': 1703, 'gunakan': 1704, 'unggulan': 1705, 'goreng': 1706, 'mobile': 1707, 'bermasalah': 1708, 'pasarturi': 1709, 'kembang': 1710, '01': 1711, 'kuat': 1712, 'mengunjungi': 1713, 'cm': 1714, '50000': 1715, 'sebaiknya': 1716, 'membuka': 1717, 'berlawanan': 1718, 'sekitaran': 1719, 'hidung': 1720, 'tukang': 1721, 'induk': 1722, 'kedepannya': 1723, 'hehehe': 1724, 'laki': 1725, 'badan': 1726, 'gerbongnya': 1727, 'kang': 1728, 'niat': 1729, 'bahaya': 1730, 'promo': 1731, 'acces': 1732, 'saudara': 1733, 'sembuh': 1734, 'ngasih': 1735, 'notif': 1736, 'ketentuannya': 1737, 'ptidaknti': 1738, 'spesialis': 1739, 'stay': 1740, 'plus': 1741, 'prambanan': 1742, 'kebijakannya': 1743, 'brawijaya': 1744, 'php': 1745, 'diupdate': 1746, 'cocok': 1747, 'aturannya': 1748, 'regulasi': 1749, 'guna': 1750, 'done': 1751, 'terupdate': 1752, 'ketat': 1753, 'invalid': 1754, 'corona': 1755, 'clear': 1756, 'menaiki': 1757, 'internet': 1758, 'diizinkan': 1759, 'exist': 1760, 'papa': 1761, 'setahun': 1762, 'tanyakan': 1763, 'nantinya': 1764, '80': 1765, 'tahap': 1766, 'intinya': 1767, 'kemenhub': 1768, 'atuh': 1769, 'cimindi': 1770, 'rw': 1771, 'tulung': 1772, '124': 1773, 'disebelah': 1774, 'yo': 1775, 'takutnya': 1776, 'ngelink': 1777, 'kudu': 1778, 'sejumlah': 1779, 'tunjukin': 1780, 'efektif': 1781, 'seterusnya': 1782, 'kabarnya': 1783, 'tindakan': 1784, 'pikiran': 1785, 'hadap': 1786, 'ditunjukkan': 1787, 'reply': 1788, 'isinya': 1789, 'pekan': 1790, 'acnya': 1791, 'dicetak': 1792, 'cilok': 1793, 'euy': 1794, 'suasana': 1795, 'metode': 1796, 'okey': 1797, 'sawunggalih': 1798, 'diaplikasi': 1799, 'softcopy': 1800, 'bosen': 1801, 'pengantar': 1802, 'ngeyel': 1803, 'merasakan': 1804, 'adik': 1805, 'adi': 1806, '75': 1807, 'masak': 1808, 'mata': 1809, 'menurut': 1810, 'kelihatan': 1811, 'prupuk': 1812, 'daritadi': 1813, 'dikosongkan': 1814, 'fisik': 1815, '2000': 1816, 'model': 1817, 'bertanggung': 1818, 'apaan': 1819, 'meluncurkan': 1820, 'kaum': 1821, 'lucu': 1822, 'seger': 1823, 'pula': 1824, 'nder': 1825, 'bermanfaat': 1826, 'kejang': 1827, 'tahunnya': 1828, 'integrasi': 1829, 'keamanan': 1830, 'fakultatif': 1831, 'transaksi': 1832, 'korea': 1833, 'and': 1834, 'kerjaan': 1835, 'recruitment': 1836, 'diberi': 1837, 'tertera': 1838, 'jpl': 1839, 'dungu': 1840, 'ditingkatkan': 1841, 'lord': 1842, 'andai': 1843, 'menghadirkan': 1844, '121': 1845, 'sempit': 1846, 'asyik': 1847, 'alias': 1848, 'bahasa': 1849, 'rata': 1850, 'infokan': 1851, 'pengalaman': 1852, 'm': 1853, 'penjaga': 1854, 'upaya': 1855, 'penasaran': 1856, 'koja': 1857, 'terminal': 1858, '085813365755': 1859, '0895338765389': 1860, 'gondangdia': 1861, 'mangga': 1862, 'pengirimannya': 1863, 'cooking': 1864, 'upload': 1865, 'berdiri': 1866, 'ptkai': 1867, 'halaman': 1868, 'klaim': 1869, 'mesin': 1870, 'lepas': 1871, 'ruang': 1872, 'buzzer': 1873, 'sadar': 1874, 'yaa': 1875, 'semeru': 1876, 'ditegur': 1877, 'menerobos': 1878, 'marka': 1879, 'pantai': 1880, 'dll': 1881, 'dilalui': 1882, 'komorbid': 1883, 'dipo': 1884, 'berkenan': 1885, 'hubungi': 1886, 'perbolehkan': 1887, 'jabar': 1888, 'percepatan': 1889, 'soekarno': 1890, 'hatta': 1891, 'sdm': 1892, 'kerata': 1893, 'harap': 1894, 'board': 1895, 'total': 1896, 'launching': 1897, 'sok': 1898, 'tertulis': 1899, 'teh': 1900, 'of': 1901, 'nangis': 1902, 'ganteng': 1903, 'lawan': 1904, 'padang': 1905, 'mie': 1906, 'bali': 1907, 'loading': 1908, 'qr': 1909, 'mengingatkan': 1910, 'lagu': 1911, 'trouble': 1912, 'layanannya': 1913, 'executive': 1914, 'sisi': 1915, 'selamanya': 1916, 'tulis': 1917, 'bangga': 1918, 'agro': 1919, 'juli': 1920, 'konfirmasinya': 1921, 'laku': 1922, 'esensial': 1923, 'batalkan': 1924, 'duluan': 1925, 'pemberitahuan': 1926, 'jelek': 1927, 'diprint': 1928, '2200': 1929, 'dibatalin': 1930, 'perpanjang': 1931, 'situs': 1932, 'modal': 1933, 'dibutuhkan': 1934, 'cipeundeuy': 1935, 'cilegon': 1936, 'isoman': 1937, 'semuanya': 1938, 'mushola': 1939, 'uninstall': 1940, 'semula': 1941, 'sekitarnya': 1942, 'mengalami': 1943, 'datanya': 1944, 'saling': 1945, 'pejuang': 1946, '0630': 1947, 'nggih': 1948, 'tokopedia': 1949, 'berkala': 1950, 'priuk': 1951, 'terhitung': 1952, 'dibolehkan': 1953, 'terdeteksi': 1954, 'besoknya': 1955, 'hapus': 1956, 'penggunaan': 1957, 'telepon': 1958, 'panataran': 1959, 'dicoba': 1960, 'sebab': 1961, 'layak': 1962, 'mengurangi': 1963, 'harian': 1964, 'jateng': 1965, 'berbayar': 1966, 'selasa': 1967, 'ingat': 1968, 'terowongan': 1969, 'kecewa': 1970, 'walau': 1971, 'keadaan': 1972, 'keras': 1973, 'dibulan': 1974, 'sarana': 1975, 'penerapan': 1976, 'didalam': 1977, 'jtidakla': 1978, 'traveling': 1979, 'sia': 1980, 'smpai': 1981, 'nge': 1982, 'senja': 1983, 'joglosemakerto': 1984, 'pokoknya': 1985, 'popmie': 1986, 'kerta': 1987, 'terbatas': 1988, 'segala': 1989, 'sungguh': 1990, 'kenangan': 1991, 'tunjukkan': 1992, 'argolawu': 1993, 'kemenkes': 1994, 'gapeka': 1995, 'bawaan': 1996, 'berati': 1997, 'beb': 1998, 'nyalahin': 1999, 'soemarmo': 2000, 'listrik': 2001, 'hello': 2002, 'payah': 2003, 'cinta': 2004, 'tata': 2005, 'ditaruh': 2006, 'enaknya': 2007, 'dijalan': 2008, 'subsidi': 2009, 'sahabat': 2010, 'jawabnya': 2011, 'template': 2012, 'menghapus': 2013, 'schedule': 2014, '2019': 2015, 'order': 2016, 'balikin': 2017, 'terdapat': 2018, 'merasa': 2019, 'j': 2020, 'wewenang': 2021, 'dek': 2022, 'thankyou': 2023, 'fokus': 2024, 'ibunya': 2025, 'gen': 2026, 'yaallah': 2027, 'repot': 2028, 'gila': 2029, 'purnama': 2030, 'gua': 2031, 'shopeepay': 2032, 'team': 2033, 'aktivasi': 2034, 'kayu': 2035, 'baswedan': 2036, 'insyaallah': 2037, 'inovasi': 2038, 'janji': 2039, 'narasi': 2040, 'lha': 2041, 'epic': 2042, 'argowilis': 2043, 'kenyang': 2044, 'google': 2045, 'jokowi': 2046, 'shopee': 2047, 'menteri': 2048, 'reduksi': 2049, 'sampeyan': 2050, 'ngapain': 2051, 'vintage': 2052, 'itulah': 2053, 'wes': 2054, 'geprek': 2055, 'janjian': 2056, 'lidah': 2057, 'kecamatan': 2058, 'macam': 2059, 'im': 2060, 'desain': 2061, 'kontak': 2062, 'under': 2063, 'mjb': 2064, 'menyambut': 2065, 'menyenangkan': 2066, 'melintas': 2067, 'pulkam': 2068, '201': 2069, 'murid': 2070, 'fakta': 2071, 'disebut': 2072, 'digit': 2073, 'ps': 2074, 'perbedaan': 2075, 'puas': 2076, 'loker': 2077, 'll': 2078, 'apbn': 2079, 'diem': 2080, '530': 2081, 'track': 2082, 'wifinya': 2083, 'exo': 2084, 'niatan': 2085, 'dirimu': 2086, 'hahahaha': 2087, 'care': 2088, 'tuker': 2089, 'berbagai': 2090, 'semalam': 2091, 'selengkapnya': 2092, 'gede': 2093, 'membangun': 2094, 'disampaikan': 2095, 'ekosistem': 2096, 'ngubah': 2097, 'antecsepur': 2098, 'indomaret': 2099, 'bandan': 2100, 'pademangan': 2101, 'jatuh': 2102, 'cafe': 2103, 'mak': 2104, 'toiletnya': 2105, 'tambahin': 2106, 'konfigurasi': 2107, 'karya': 2108, 'komisaris': 2109, 'pahlawan': 2110, 'fajar': 2111, 'taun': 2112, 'istimewa': 2113, 'menampilkan': 2114, 'dipecat': 2115, 'ngadep': 2116, 'reset': 2117, 'berkerumun': 2118, 'joglokerto': 2119, 'official': 2120, 'seputar': 2121, 'heran': 2122, 'train': 2123, 'machine': 2124, 'parkiran': 2125, 'doi': 2126, 'lahir': 2127, 'bermain': 2128, 'dikirim': 2129, 'biarkan': 2130, 'pecat': 2131, 'sepatu': 2132, 'terkoneksi': 2133, 'disusul': 2134, 'angkotnya': 2135, 'melawan': 2136, 'locker': 2137, 'ca': 2138, 'atm': 2139, '711711': 2140, 'setidaknya': 2141, 'tamatan': 2142, 'slta': 2143, 'sopir': 2144, 'memastikan': 2145, 'timpjkanaikkereta': 2146, 'empuk': 2147, 'bintaro': 2148, 'sosialisasi': 2149, 'sarankan': 2150, 'nyobain': 2151, 'available': 2152, 'open': 2153, 'sebenarnya': 2154, 'sapi': 2155, 'diakses': 2156, 'h7': 2157, 'lawang': 2158, 'volumetrik': 2159, '1kg': 2160, 'kg': 2161, 'perhatikan': 2162, 'sebetulnya': 2163, 'kebiasaan': 2164, 'seriusan': 2165, 'kircon': 2166, 'cakung': 2167, 'nyoba': 2168, 'dipasang': 2169, 'lewati': 2170, 'berkurang': 2171, 'dipercepat': 2172, 'meningkat': 2173, 'reguler': 2174, 'kodenya': 2175, 'tempatnya': 2176, 'dibelakang': 2177, 'mantep': 2178, 'peraturannya': 2179, 'tertahan': 2180, 'code': 2181, 'internal': 2182, 'kredit': 2183, 'berkali': 2184, 'aktifkan': 2185, 'era': 2186, 'ijazah': 2187, 'kagak': 2188, 'filenya': 2189, 'nilai': 2190, 'maks': 2191, 'kerjasama': 2192, 'berikan': 2193, 'koneksi': 2194, 'mobilitas': 2195, 'tercantum': 2196, 'sinyal': 2197, 'masukkan': 2198, 'capture': 2199, 'sm': 2200, 'bias': 2201, 'disebuntukan': 2202, 'medis': 2203, 'ngambil': 2204, 'cuti': 2205, 'dikembalikan': 2206, 'diklik': 2207, 'hak': 2208, 'memungkinkan': 2209, 'ajah': 2210, 'tas': 2211, 'relasinya': 2212, 'bangun': 2213, 'puluhan': 2214, 'anggaran': 2215, 'great': 2216, 'salut': 2217, 'sosial': 2218, 'jelaskan': 2219, 'pay': 2220, 'soetta': 2221, 'mestinya': 2222, 'kampus': 2223, 'rangka': 2224, 'magang': 2225, 'ready': 2226, 'sandi': 2227, 'haloo': 2228, 'teknis': 2229, 'diproses': 2230, 'kehabisan': 2231, '3x24': 2232, 'fotonya': 2233, 'terbaca': 2234, 'prokesnya': 2235, 'diterima': 2236, 'asalkan': 2237, 'adil': 2238, 'bolehin': 2239, 'setelahnya': 2240, 'buk': 2241, 'ojek': 2242, 'diminta': 2243, 'skd': 2244, 'kalotidak': 2245, 'direksi': 2246, 'blom': 2247, 'ngirim': 2248, 'hendak': 2249, 'baturaden': 2250, 'fast': 2251, 'already': 2252, '081388179907': 2253, 'kandungan': 2254, 'dilengkapi': 2255, 'bank': 2256, 'berapaa': 2257, 'kk': 2258, 'mekanisme': 2259, 'mengadakan': 2260, 'sinovac': 2261, 'disertakan': 2262, 'tanggul': 2263, 'keatas': 2264, 'am': 2265, 'acess': 2266, 'tegak': 2267, 'dihari': 2268, 'dompet': 2269, 'tipis': 2270, 'sampel': 2271, 'cisauk': 2272, 'edaran': 2273, 'lekas': 2274, 'hukum': 2275, 'usul': 2276, 'muka': 2277, 'sold': 2278, 'memenuhi': 2279, 'bentar': 2280, 'uangnya': 2281, 'duanya': 2282, 'nyusahin': 2283, '2100': 2284, 'usaha': 2285, 'pakek': 2286, 'denger': 2287, 'caruban': 2288, 'soft': 2289, 'tangga': 2290, 'pegel': 2291, 'colok': 2292, 'haduh': 2293, 'berpindah': 2294, 'perharinya': 2295, 'minkai': 2296, 'potong': 2297, 'kedepan': 2298, 'sampainya': 2299, 'serang': 2300, 'letaknya': 2301, 'petak': 2302, 'tragedi': 2303, 'cmiiw': 2304, 'keretaan': 2305, 'cakep': 2306, 'youtube': 2307, 'suaranya': 2308, 'me': 2309, 'nyari': 2310, 'rancaekek': 2311, 'inget': 2312, 'dikirimkan': 2313, 'mtb': 2314, '60': 2315, 'denpasar': 2316, 'manual': 2317, 'nyatanya': 2318, 'terhubung': 2319, 'pertengahan': 2320, 'pemilihan': 2321, 'sisa': 2322, 'pantes': 2323, 'hape': 2324, 'singgah': 2325, 'kembalikan': 2326, 'terserah': 2327, 'rilis': 2328, 'terhalang': 2329, 'tentunya': 2330, 'disewakan': 2331, 'pemesanannya': 2332, 'snack': 2333, 'saking': 2334, 'semacam': 2335, 'antriannya': 2336, 'logika': 2337, 'dijual': 2338, 'pencerahannya': 2339, 'benowo': 2340, 'berani': 2341, 'rombongan': 2342, 'pop': 2343, 'langganan': 2344, 'thread': 2345, 'lunas': 2346, 'nasibnya': 2347, 'postingan': 2348, 'segini': 2349, 'hatinya': 2350, 'diluncurkan': 2351, 'tipe': 2352, 'menghilang': 2353, 'priority': 2354, 'or': 2355, 'searah': 2356, 'rebutan': 2357, 'videonya': 2358, 'bayangin': 2359, 'mbaknya': 2360, 'sedari': 2361, 'dibikin': 2362, 'blok': 2363, 'mengedukasi': 2364, 'edukasi': 2365, 'diinformasikan': 2366, 'jujur': 2367, 'mei': 2368, 'terlampir': 2369, 'typo': 2370, 'ngerasain': 2371, 'piye': 2372, 'have': 2373, 'ditjen': 2374, 'berkarya': 2375, 'memperingati': 2376, 'gercep': 2377, 'infant': 2378, 'menemani': 2379, 'standar': 2380, 'kalijaga': 2381, 'medcomad': 2382, 'event': 2383, 'super': 2384, 'buatan': 2385, '45000': 2386, 'sis': 2387, 'wae': 2388, 'kesalahan': 2389, 'kunci': 2390, 'this': 2391, 'wong': 2392, 'dilebur': 2393, 'memperbaiki': 2394, 'doa': 2395, 'bipang': 2396, 'kelak': 2397, 'ditagih': 2398, 'akhirat': 2399, 'ngaku': 2400, 'kualitas': 2401, 'ditanggapi': 2402, 'boro': 2403, 'sma': 2404, 'itupun': 2405, 'pkalau': 2406, 'kementrian': 2407, 'ye': 2408, 'kenyataan': 2409, 'pengaturan': 2410, 'redup': 2411, 'fresh': 2412, 'edisi': 2413, 'radio': 2414, '0700': 2415, '03': 2416, 'crew': 2417, 'bisanya': 2418, 'alhamdulilah': 2419, 'bravo': 2420, 'du': 2421, 'nyinyir': 2422, 'mandalika': 2423, 'anjir': 2424, 'tangan': 2425, 'berdasarkan': 2426, 'bidang': 2427, 'berkesan': 2428, 'klb': 2429, 'bersangkutan': 2430, 'ditolak': 2431, 'simak': 2432, '104': 2433, 'bertugas': 2434, 'sekedar': 2435, 'pertanyaannya': 2436, 'bongkar': 2437, 'antigenya': 2438, 'sindoro': 2439, 'dibolehin': 2440, 'sediakan': 2441, 'mencari': 2442, 'mi': 2443, 'menginformasikan': 2444, 'cut': 2445, 'with': 2446, 'patuhi': 2447, 'terisi': 2448, 'selang': 2449, 'memberi': 2450, 'ri': 2451, 'sejarah': 2452, 'bakar': 2453, 'administrasi': 2454, 'ciremai': 2455, 'pencarian': 2456, 'penjualan': 2457, 'whatsapp': 2458, 'gaji': 2459, 'private': 2460, 'pasang': 2461, 'asap': 2462, 'hukuman': 2463, 'ngeh': 2464, '2230': 2465, 'diajak': 2466, 'day': 2467, 'kejaksan': 2468, 'action': 2469, 'setauku': 2470, 'bung': 2471, 'waspada': 2472, 'entah': 2473, 'tinjau': 2474, 'dipindah': 2475, 'awalnya': 2476, 'auto': 2477, 'kaka': 2478, 'skrining': 2479, 'view': 2480, 'it': 2481, 'letak': 2482, 'terbukti': 2483, 'buset': 2484, 'mampir': 2485, 'contohnya': 2486, 'upgrade': 2487, 'mbanking': 2488, 'masnya': 2489, 'kelancaran': 2490, 'perkereta': 2491, 'apian': 2492, 'kebangetan': 2493, 'pramuka': 2494, 'edan': 2495, '2300': 2496, 'mengoperasikan': 2497, 'kebanggaan': 2498, 'sub': 2499, 'g': 2500, 'no33': 2501, 'melayu': 2502, 'pegadaian': 2503, '02122985551': 2504, '085810070318': 2505, '08998734816': 2506, 'menteng': 2507, 'komplek': 2508, '1001': 2509, '02126070110': 2510, '085890230166': 2511, '089611429302': 2512, '082327148777': 2513, '085710445809': 2514, 'dooring': 2515, 'hayu': 2516, 'mental': 2517, 'sudirman': 2518, 'bptj': 2519, 'mari': 2520, 'kesampaian': 2521, 'set': 2522, 'linkaja': 2523, 'jabodebek': 2524, 'cake': 2525, 'ngab': 2526, 'group': 2527, 'baja': 2528, '640': 2529, 'alamat': 2530, 'tenaga': 2531, 'dini': 2532, 'nikahan': 2533, 'subclass': 2534, 'ditutup': 2535, 'limit': 2536, 'sesuatu': 2537, 'kotor': 2538, 'mentri': 2539, 'otaknya': 2540, 'mengganggu': 2541, 'terasa': 2542, 'b': 2543, 'la': 2544, 'sholat': 2545, 'berusia': 2546, 'contact': 2547, 'eboarding': 2548, 'tepatnya': 2549, 'diatur': 2550, 'untun': 2551, 'mendadak': 2552, 'ditulis': 2553, 'twitternya': 2554, 'singkat': 2555, 'tindak': 2556, 'lanjuti': 2557, 'adek': 2558, 'sebagian': 2559, 'ditindak': 2560, 'menang': 2561, 'lambat': 2562, 'transportation': 2563, 'keretaapiindonesia': 2564, 'sebelahan': 2565, 'kuenya': 2566, 'stasion': 2567, 'amir': 2568, 'senilai': 2569, 'reward': 2570, 'sumber': 2571, 'perasaan': 2572, 'kreatif': 2573, 'got': 2574, 'iklan': 2575, 'checkout': 2576, '0620': 2577, 'ngobrol': 2578, 'kalog': 2579, 'tim': 2580, 'nataru': 2581, 'antrean': 2582, 'shower': 2583, 'batita': 2584, 'vending': 2585, 'didampingi': 2586, 'satpam': 2587, 'staf': 2588, 'prosesnya': 2589, 'menerapkan': 2590, 'yth': 2591, 'perbandingan': 2592, '300': 2593, 'nakes': 2594, 'voucher': 2595, 'taxi': 2596, 'stindro': 2597, 'billing': 2598, 'seleksi': 2599, 'telp': 2600, 'kebingungan': 2601, 'akui': 2602, 'asing': 2603, 'sebulan': 2604, 'alasannya': 2605, 'kebagian': 2606, 'kondisional': 2607, 'ama': 2608, 'arte': 2609, 'pertigaan': 2610, 'gudeg': 2611, 'yu': 2612, 'djum': 2613, '110kg': 2614, 'jago': 2615, 'offline': 2616, 'staisun': 2617, 'maskernya': 2618, 'batasi': 2619, 'peradaban': 2620, 'face': 2621, 'mabok': 2622, 'dikira': 2623, 'ikan': 2624, 'sriwijaya': 2625, 'terpotong': 2626, 'sultan': 2627, 'suatu': 2628, 'layar': 2629, 'kuburan': 2630, 'request': 2631, 'motivasi': 2632, 'dipermudah': 2633, 'dikereta': 2634, 'norak': 2635, 'seluler': 2636, '35': 2637, 'pertanggal': 2638, '500': 2639, 'dibenahi': 2640, 'notifikasi': 2641, 'any': 2642, 'always': 2643, 'right': 2644, 'meneraplikasian': 2645, 'baris': 2646, 'adain': 2647, 'durasi': 2648, 'wih': 2649, 'ngebut': 2650, 'bertambah': 2651, 'jayalah': 2652, 'skhu': 2653, 'justru': 2654, 'kegedean': 2655, 'include': 2656, 'relevan': 2657, 'andir': 2658, 'solutif': 2659, 'what': 2660, 'batalin': 2661, 'duitnya': 2662, 'bangkrut': 2663, 'memuaskan': 2664, 'telpon': 2665, 'bocah': 2666, '1430': 2667, 'fakultas': 2668, 'halah': 2669, 'sari': 2670, 'suratnya': 2671, 'melahirkan': 2672, 'kritikal': 2673, 'card': 2674, 'gejala': 2675, 'sk': 2676, 'safe': 2677, 'terpapar': 2678, 'kelurahan': 2679, 'darah': 2680, 'rendah': 2681, 'sobat': 2682, 'kebutuhan': 2683, 'met': 2684, 'pelangi': 2685, '8a': 2686, 'post': 2687, 'pengembalian': 2688, 'meninggal': 2689, 'cikini': 2690, 'berobat': 2691, 'bd': 2692, 'disiaplikasian': 2693, 'numpuk': 2694, 'lari': 2695, 'miris': 2696, 'kecuali': 2697, 'ditunjukan': 2698, 'cdm': 2699, 'tertunda': 2700, 'kabupaten': 2701, 'yangtidak': 2702, 'tumpukan': 2703, 'melanjuntukan': 2704, 'tolonglah': 2705, 'tingkatkan': 2706, 'kepastian': 2707, 'tambun': 2708, 'commuterline': 2709, 'terbit': 2710, 'dianggap': 2711, 'genap': 2712, 'mempermudah': 2713, 'keliling': 2714, 'num': 2715, 'gempa': 2716, 'apaapa': 2717, 'cache': 2718, 'praktek': 2719, 'apinya': 2720, 'dinaiki': 2721, 'terimaksih': 2722, 'botol': 2723, 'paginya': 2724, 'astra': 2725, 'wfh': 2726, 'pulangnya': 2727, 'hub': 2728, 'sibuk': 2729, 'dikatakan': 2730, 'rincian': 2731, 'logis': 2732, 'balesan': 2733, 'kelonggaran': 2734, 'tiga': 2735, 'jamber': 2736, 'kab': 2737, 'penerbangan': 2738, 'dalem': 2739, 'logic': 2740, 'mang': 2741, 'disesuaikan': 2742, 'pilihannya': 2743, 'dialami': 2744, 'papar': 2745, 'ketik': 2746, 'pacitan': 2747, 'jemput': 2748, 'menjalankan': 2749, 'apatidak': 2750, 'diterapkan': 2751, 'antarkota': 2752, 'mendapat': 2753, 'mengeluarkan': 2754, 'format': 2755, 'binjai': 2756, 'hoax': 2757, 'manapun': 2758, 'nostalgia': 2759, 'perpanjangan': 2760, 'tujuannya': 2761, 'penyebaran': 2762, 'transport': 2763, 'aktifin': 2764, 'domisili': 2765, 'ongkos': 2766, 'krian': 2767, 'srtp': 2768, 'trayek': 2769, 'perjam': 2770, 'kesel': 2771, 'koktidak': 2772, 'berhadap': 2773, 'masuknya': 2774, 'cl': 2775, 'kelengkapan': 2776, 'duri': 2777, 'gamau': 2778, 'nungguin': 2779, 'multi': 2780, 'ditempat': 2781, 'eskalator': 2782, 'simple': 2783, 'lulus': 2784, 'hayo': 2785, 'perhatian': 2786, 'diputar': 2787, 'udahtidak': 2788, 'bergantung': 2789, 'tekor': 2790, 'ngga': 2791, 'simpel': 2792, 'emg': 2793, 'dibukanya': 2794, 'oprasi': 2795, 'perkenalkan': 2796, 'sponsor': 2797, 'keesokan': 2798, 'not': 2799, 'your': 2800, 'paledang': 2801, 'hangat': 2802, 'menambah': 2803, 'penambahan': 2804, 'mengatur': 2805, 'ditambahkan': 2806, 'kareta': 2807, 'jaraknya': 2808, 'periode': 2809, 'permanen': 2810, 'menyusul': 2811, 'pelayananya': 2812, 'gaperlu': 2813, 'jalannya': 2814, 'mesen': 2815, 'cepatnya': 2816, 'setasiun': 2817, 'dirjen': 2818, 'pagar': 2819, 'palembang': 2820, 'cipendeuy': 2821, 'xixi': 2822, 'suguhan': 2823, 'anget': 2824, '77': 2825, 'message': 2826, 'kompensasi': 2827, 'sumpah': 2828, 'support': 2829, 'difungsikan': 2830, '1x': 2831, 'gambarnya': 2832, 'penerimaan': 2833, 'sambel': 2834, '83': 2835, 'minus': 2836, 'dibandingkan': 2837, 'yogyakartasolo': 2838, 'sertifikan': 2839, 'ktpnya': 2840, 'dadakan': 2841, 'malamnya': 2842, 'lolos': 2843, 'tanyain': 2844, 'mencantumkan': 2845, 'ajuin': 2846, 'gaboleh': 2847, 'perkiraan': 2848, 'oprasional': 2849, 'uji': 2850, 'terbarunya': 2851, 'terusan': 2852, 'penjelasanya': 2853, 'ganda': 2854, 'gelap': 2855, 'serem': 2856, 'joglosemarkarto': 2857, '294': 2858, 'interior': 2859, 'dlu': 2860, 'gais': 2861, 'covidnya': 2862, 'tk': 2863, '106': 2864, 'fasilitasnya': 2865, 'keretaapi': 2866, 'kelanjutannya': 2867, 'remaja': 2868, 'operasinya': 2869, 'menginap': 2870, 'malangsurabaya': 2871, 'over': 2872, 'ban': 2873, 'bakso': 2874, 'merusak': 2875, 'jelasin': 2876, 'terang': 2877, 'us': 2878, 'jatah': 2879, 'kelamaan': 2880, 'robot': 2881, 'jadilah': 2882, 'pesannya': 2883, '250': 2884, 'bioskop': 2885, 'penyekatan': 2886, 'excellence': 2887, '0530': 2888, 'menghadap': 2889, 'praktis': 2890, 'porter': 2891, '1820': 2892, 'berhubung': 2893, 'peduli': 2894, '6000': 2895, 'membahayakan': 2896, 'joglosemarketo': 2897, 'last': 2898, 'harapan': 2899, 'tertawa': 2900, 'okee': 2901, 'kuala': 2902, 'stabas': 2903, 'sebidang': 2904, 'arjawinangun': 2905, 'lanjutan': 2906, 'fly': 2907, 'cegah': 2908, 'smp': 2909, 'menemukan': 2910, 'rambu': 2911, 'jalanan': 2912, 'muak': 2913, 'account': 2914, 'comment': 2915, 'marah': 2916, 'yuhu': 2917, 'mentions': 2918, 'diharuskan': 2919, 'woi': 2920, 'batik': 2921, 'barakallah': 2922, 'bertransformasi': 2923, 'ditinggal': 2924, '2105': 2925, 'rapi': 2926, 'plat': 2927, 'kebayoran': 2928, 'direktur': 2929, 'merekrut': 2930, 'maklum': 2931, 'iklannya': 2932, 'terbalaskan': 2933, 'mandek': 2934, 'walikota': 2935, 'ls': 2936, 'februari': 2937, '49': 2938, 'km': 2939, 'hatur': 2940, 'know': 2941, 'lumajang': 2942, 'ditertibkan': 2943, 'tol': 2944, 'prasarana': 2945, 'perkeretapian': 2946, 'pacar': 2947, 'fe': 2948, 'garong': 2949, 'interpelasi': 2950, 'dprd': 2951, 'sudut': 2952, 'pandang': 2953, 'akut': 2954, 'hitam': 2955, 'dijauhkan': 2956, 'putih': 2957, 'kenal': 2958, 'bedakan': 2959, 'ngurusin': 2960, 'ahok': 2961, 'penataan': 2962, 'tema': 2963, 'keinginan': 2964, 'fraksi': 2965, 'dsb': 2966, 'kotak': 2967, 'back': 2968, 'kolaborasi': 2969, 'tahunan': 2970, 'bacot': 2971, 'pastiin': 2972, 'delay': 2973, 'laper': 2974, 'galak': 2975, 'bego': 2976, 'spd': 2977, 'pulsa': 2978, 'ulangi': 2979, 'turut': 2980, 'kotanya': 2981, 'ponorogo': 2982, 'pasca': 2983, 'pinter': 2984, 'mulainya': 2985, 'menyerang': 2986, 'at': 2987, 'mewujudkan': 2988, 'menyuduntukan': 2989, 'terulang': 2990, 'papua': 2991, 'wetan': 2992, 'stnk': 2993, 'dealer': 2994, 'sebentar': 2995, 'terawat': 2996, 'fungsi': 2997, '40': 2998, 'dikantong': 2999, 'bersebelahan': 3000, 'jati': 3001, 'dibangun': 3002, 'kondekturnya': 3003, 'angkatan': 3004, 'menambahkan': 3005, 'buku': 3006, '200': 3007, 'yaelah': 3008, 'bambang': 3009, 'macetnya': 3010, 'koordinasikan': 3011, 'kacau': 3012, 'klari': 3013, 'harikeretaapinasional': 3014, 'pariwisata': 3015, 'segi': 3016, 'kutojaya': 3017, 'p': 3018, 'visual': 3019, 'operator': 3020, 'ulangtahun': 3021, 'efisien': 3022, 'selamatulang': 3023, 'tahunkai': 3024, 'sewaktu': 3025, 'asuransi': 3026, 'risiko': 3027, 'pengirim': 3028, '110': 3029, 'dendam': 3030, 'humas': 3031, 'rekrutmen': 3032, 'kisaran': 3033, 'terkini': 3034, 'pembayarannya': 3035, 'sebesar': 3036, 'kolaboratif': 3037, 'penggusuran': 3038, 'merugikan': 3039, 'jajarannya': 3040, 'pemberhentian': 3041, 'dp': 3042, 'jargon': 3043, '737': 3044, 'ngaret': 3045, 'nar': 3046, 'kebawah': 3047, 'beginian': 3048, 'koreksi': 3049, 'responsnya': 3050, 'arahan': 3051, 'sebagainya': 3052, 'single': 3053, 'kedungjati': 3054, 'manajemen': 3055, 'lt3': 3056, 'pso': 3057, 'dunia': 3058, 'meresmikan': 3059, 'need': 3060, 'manfaat': 3061, 'sosmed': 3062, 'cebong': 3063, 'rompi': 3064, 'orange': 3065, 'bungkus': 3066, 'bau': 3067, 'sapa': 3068, 'menyalahkan': 3069, 'kasi': 3070, 'diam': 3071, 'besi': 3072, 'polsuska': 3073, 'keberhasilan': 3074, 'padat': 3075, 'pokonya': 3076, 'debat': 3077, 'tetaplah': 3078, 'berhak': 3079, 'k3': 3080, 'lempar': 3081, 'tupoksinya': 3082, 'gimna': 3083, 'mutu': 3084, 'kenceng': 3085, 'kirimin': 3086, 'ketawa': 3087, 'pramex': 3088, 'ditengah': 3089, 'lelah': 3090, 'menyampaikan': 3091, 'ala': 3092, 'hard': 3093, 'banten': 3094, 'menutup': 3095, 'masalahnya': 3096, 'niatnya': 3097, '7050': 3098, 'statiun': 3099, 'statsiun': 3100, 'ucapkan': 3101, 'gelar': 3102, 'lanjuntukan': 3103, 'block': 3104, 'pencerahan': 3105, 'komunitas': 3106, 'membenahi': 3107, 'hancur': 3108, 'cicilan': 3109, 'ngetweet': 3110, 'jm': 3111, 'digitalbisa': 3112, 'untukindonesialebihbaik': 3113, 'pnp': 3114, 'before': 3115, 'sarapan': 3116, 'sad': 3117, 'plumpang': 3118, 'semper': 3119, '14260': 3120, 'azis': 3121, '081246489392': 3122, '081519329324': 3123, 'pos': 3124, '02122127240': 3125, '085714589880': 3126, '081213401231': 3127, 'no110': 3128, 'rt16': 3129, 'rw9': 3130, 'duku': 3131, 'kebon': 3132, 'kacang': 3133, '0895607981886': 3134, '081284916072': 3135, 'bungur': 3136, 'no7': 3137, 'polsek': 3138, '24506077': 3139, '21474532': 3140, '081211818545': 3141, '085714286550': 3142, '089602516557': 3143, '087888535777': 3144, '085659833311': 3145, '082211283188': 3146, '0895701027755': 3147, '02183788569': 3148, '081281140308': 3149, '081382394382': 3150, 'hasyim': 3151, '02121232896': 3152, '02122695551': 3153, '087733965994': 3154, '081382495760': 3155, 'uap': 3156, 'pinangsia': 3157, 'kesini': 3158, 'resminya': 3159, 'sumur': 3160, 'resapan': 3161, 'cipinang': 3162, 'tranportasi': 3163, 'serbu': 3164, 'yoi': 3165, 'dicari': 3166, 'melepas': 3167, 'bye': 3168, 'ngaruh': 3169, 'porong': 3170, 'gopay': 3171, 'latar': 3172, 'dimaklumi': 3173, 'haurgeulis': 3174, 'jendela': 3175, 'terpisah': 3176, '925': 3177, '2045': 3178, 'list': 3179, 'penampakan': 3180, 'lapar': 3181, 'dimasa': 3182, 'dibilang': 3183, 'berkesempatan': 3184, 'tersedianya': 3185, 'drop': 3186, 'lur': 3187, 'dewan': 3188, 'mengucapkan': 3189, 'hilangkan': 3190, '32': 3191, 'dijadikan': 3192, 'berjaya': 3193, 'digembok': 3194, 'reaktivasi': 3195, 'artikel': 3196, 'emoney': 3197, 'siih': 3198, 'once': 3199, 'anakku': 3200, '206': 3201, 'pict': 3202, '0645': 3203, 'tuhan': 3204, '0812': 3205, 'ngalah': 3206, 'hore': 3207, 'idnum': 3208, 'kehidupan': 3209, 'separuh': 3210, 'hijau': 3211, 'pasal': 3212, 'muda': 3213, 'giliran': 3214, 'berguna': 3215, 'barangkali': 3216, 'monggo': 3217, '2024': 3218, 'selisih': 3219, 'bete': 3220, 'berdua': 3221, 'eko': 3222, 'mentionsdm': 3223, 'tuanya': 3224, 'anggap': 3225, 'fotocopy': 3226, 'balasannya': 3227, 'keliru': 3228, 'kaos': 3229, 'cctv': 3230, 'gopar': 3231, 'arahnya': 3232, 'welcome': 3233, 'today': 3234, 'spot': 3235, 'dipanggil': 3236, 'musholanya': 3237, 'membuatmu': 3238, 'juanda': 3239, 'memperbolehkan': 3240, 'banter': 3241, 'diperjelas': 3242, 'lampirkan': 3243, '0500': 3244, 'jos': 3245, 'momen': 3246, 'belanja': 3247, 'grobogan': 3248, 'apanya': 3249, 'ditahan': 3250, 'kendal': 3251, 'telatnya': 3252, 'paste': 3253, 'teriak': 3254, 'iyaa': 3255, 'audio': 3256, 'bapaknya': 3257, 'bulat': 3258, 'cikudapateuh': 3259, 'korek': 3260, 'lemot': 3261, 'diduluin': 3262, 'awas': 3263, 'tanggapi': 3264, 'dahulukan': 3265, 'deras': 3266, 'mekanik': 3267, 'sorry': 3268, 'ditanggepin': 3269, 'biarin': 3270, 'cipendey': 3271, 'naf': 3272, 'yit': 3273, 'pintar': 3274, 'hidungnya': 3275, 's1': 3276, 'berusaha': 3277, 'droplet': 3278, 'kakek': 3279, 'trees': 3280, 'buru': 3281, 'kakinya': 3282, 'menghadapi': 3283, 'asalnya': 3284, 'nkri': 3285, 'separator': 3286, 'dipanjangin': 3287, 'panjangin': 3288, 'pemkab': 3289, 'dijadwal': 3290, 'dikala': 3291, 'meminimalisir': 3292, 'nutup': 3293, 'pelecehan': 3294, 'membalas': 3295, 'penat': 3296, 'sanksi': 3297, 'rezeki': 3298, '33': 3299, 'nelpon': 3300, 'its': 3301, 'maap': 3302, 'statusnya': 3303, 'cianjur': 3304, 'penghargaan': 3305, 'driver': 3306, 'tilang': 3307, 'kehilangan': 3308, 'nyebrang': 3309, 'gilimanuk': 3310, 'nyenyak': 3311, 'panjangnya': 3312, '1600': 3313, 'kembaran': 3314, 'perawatan': 3315, 'moto': 3316, 'tempuhnya': 3317, 'ketimbang': 3318, 'barunya': 3319, 'teknologi': 3320, 'kru': 3321, 'berulang': 3322, 'seritfikat': 3323, 'tadinya': 3324, 'ngemplak': 3325, 'temanggung': 3326, 'berbulan': 3327, 'cair': 3328, 'sei': 3329, 'jajaran': 3330, 'susahnya': 3331, 'excellent': 3332, 'satuan': 3333, 'pxlxt4000': 3334, 'timbangannya': 3335, 'terbesarnya': 3336, 'koordinasi': 3337, 'aparat': 3338, 'pelanggar': 3339, 'dilaporin': 3340, 'dikasi': 3341, 'bilangnya': 3342, 'bermasker': 3343, 'pembagian': 3344, 'hutan': 3345, 'ketertiban': 3346, 'shield': 3347, 'imbau': 3348, 'k1': 3349, 'dijamin': 3350, 'haru': 3351, 'kebeli': 3352, 'mitra': 3353, 'kramatjati': 3354, 'kecepatan': 3355, 'dibeberapa': 3356, 'menggembirakan': 3357, 'label': 3358, 'dilaksanakan': 3359, 'tissue': 3360, 'perempuan': 3361, 'signal': 3362, 'nyambi': 3363, 'perut': 3364, 'akhlak': 3365, 'has': 3366, 'jakartabandung': 3367, 'anniversary': 3368, 'special': 3369, 'frame': 3370, 'merujuk': 3371, 'dibahas': 3372, 'sayangnya': 3373, 'mim': 3374, 'barisnya': 3375, 'perubahannya': 3376, 'berlangsung': 3377, 'inovasinya': 3378, 'jonan': 3379, 'arti': 3380, 'angka': 3381, 'dishub': 3382, 'transkrip': 3383, 'pembaruan': 3384, 'penggemar': 3385, 'berterima': 3386, 'pengendara': 3387, 'disimpan': 3388, 'huhuhu': 3389, 'smoking': 3390, 'baturraden': 3391, 'ditoleransi': 3392, 'dikeluarkan': 3393, 'menkes': 3394, 'we': 3395, 'perantauan': 3396, 'jelasnya': 3397, 'joglosemarkerjo': 3398, 'rujukan': 3399, 'nimbrung': 3400, 'narik': 3401, 'etiket': 3402, 'why': 3403, 'barcodenya': 3404, 'raphi': 3405, 'berlanjut': 3406, 'ratusan': 3407, 'ditemani': 3408, 'more': 3409, 'berfikir': 3410, 'menyesal': 3411, 'dokternya': 3412, 'did': 3413, 'lion': 3414, 'oalah': 3415, 'media': 3416, 'pendaftarannya': 3417, 'jenggala': 3418, 'kjj': 3419, 'tesan': 3420, 'jalankan': 3421, 'kebal': 3422, 'berpa': 3423, 'sediain': 3424, 'rscm': 3425, 'semacamnya': 3426, 'rentang': 3427, 'device': 3428, 'menumpuk': 3429, 'dipaketin': 3430, '2130': 3431, 'demen': 3432, 'ekonominya': 3433, 'dipotong': 3434, 'temannya': 3435, 'ujian': 3436, 'damai': 3437, 'ngejar': 3438, 'sbelum': 3439, 'seprti': 3440, 'transjakarta': 3441, 'perturan': 3442, 'menyayangkan': 3443, 'keadilan': 3444, 'luhur': 3445, 'empat': 3446, 'termudah': 3447, 'rsu': 3448, 'bojong': 3449, 'sudimara': 3450, 'malahan': 3451, 'tunda': 3452, 'sepedanya': 3453, 'buaran': 3454, 'baya': 3455, 'tangal': 3456, 'refresh': 3457, 'kiriman': 3458, 'geser': 3459, 'pariaman': 3460, '920': 3461, 'pcrnya': 3462, 'suhu': 3463, 'pelaksanaan': 3464, 'sertifikatnya': 3465, 'bayaran': 3466, 'gresik': 3467, 'max': 3468, 'ngebug': 3469, 'disegerakan': 3470, 'eticket': 3471, 'anjing': 3472, 'menjaga': 3473, 'pengajuan': 3474, 'kenakan': 3475, 'diinfo': 3476, 'android': 3477, 'berantakan': 3478, 'cash': 3479, 'lurus': 3480, 'kocak': 3481, 'evaluasi': 3482, 'menyusahkan': 3483, 'dipersulit': 3484, 'dzolim': 3485, 'ldari': 3486, 'yey': 3487, 'pembukaan': 3488, 'terhormat': 3489, 'buffering': 3490, 'menoreh': 3491, 'seberapa': 3492, 'coyo': 3493, 'minka': 3494, 'berumur': 3495, 'petunjuknya': 3496, 'diperjalanan': 3497, 'dijalanin': 3498, 'pertimbangan': 3499, 'dihentikan': 3500, 'zona': 3501, 'maret': 3502, 'penyitas': 3503, '20092021': 3504, 'mbok': 3505, 'andarioid': 3506, 'tahum': 3507, 'ataukah': 3508, 'mataku': 3509, 'logout': 3510, 'tatap': 3511, 'rutin': 3512, 'merchant': 3513, 'senennya': 3514, 'kaji': 3515, 'melalukan': 3516, 'peserta': 3517, 'pengin': 3518, 'kalistail': 3519, 'pondok': 3520, 'membutuh': 3521, 'ktm': 3522, 'pikirannya': 3523, 'menhub': 3524, 'bisakah': 3525, 'nyatidak': 3526, 'mantul': 3527, 'mengakses': 3528, 'serpong': 3529, 'ngebis': 3530, 'october': 3531, 'banding': 3532, 'ja': 3533, 'miin': 3534, 'efek': 3535, 'yakan': 3536, '1000': 3537, 'musim': 3538, 'toh': 3539, 'bersabar': 3540, 'teruntuk': 3541, 'updatenya': 3542, 'garis': 3543, 'se': 3544, 'kali24': 3545, 'sambung': 3546, 'dijelaskan': 3547, 'universitas': 3548, 'pancasila': 3549, 'dibenerin': 3550, 'perjalananan': 3551, 'pke': 3552, 'dikunci': 3553, 'indariamayu': 3554, 'screenshot': 3555, 'men': 3556, 'singosari': 3557, '630': 3558, 'beres': 3559, 'lampung': 3560, 'baturaja': 3561, 'search': 3562, 'maunya': 3563, 'rejekinya': 3564, 'allowed': 3565, 'asem': 3566, 'c': 3567, 'sedia': 3568, 'kala': 3569, 'atautidak': 3570, 'embel': 3571, 'bulanan': 3572, 'kemacetan': 3573, 'direncanakan': 3574, 'pegaden': 3575, 'karanganyar': 3576, 'menumpang': 3577, 'ceknya': 3578, 'bsa': 3579, 'blum': 3580, 'sebat': 3581, 'insiden': 3582, '1995': 3583, 'pot': 3584, 'channel': 3585, 'bala': 3586, 'berjumpa': 3587, 'seandainya': 3588, 'dikunjungi': 3589, 'kuotanya': 3590, 'neng': 3591, 'kenerangkatan': 3592, 'warung': 3593, 'menyesuaikan': 3594, 'hmm': 3595, 'darmawangsa': 3596, 'woles': 3597, 'turunin': 3598, 'mlm': 3599, '2000an': 3600, 'bukatutup': 3601, 'shalat': 3602, 'ramai': 3603, 'alam': 3604, 'patut': 3605, 'pimpinan': 3606, 'pelonggaran': 3607, 'nunjukkin': 3608, 'detailnya': 3609, 'faktanya': 3610, 'gadobangkong': 3611, 'kaligungnya': 3612, 'berangkatan': 3613, 'terafiliasi': 3614, 'kimia': 3615, 'farma': 3616, 'grafis': 3617, 'parujakan': 3618, 'random': 3619, 'dilanjut': 3620, '0821': 3621, 'gedangan': 3622, 'berlakukan': 3623, 'sakitnya': 3624, 'freeze': 3625, 'ngefreeze': 3626, 'maintenance': 3627, 'lagii': 3628, '850': 3629, 'skalian': 3630, 'gapake': 3631, 'hes': 3632, 'anyway': 3633, 'menyelesaikan': 3634, 'membaik': 3635, 'timeout': 3636, 'putri': 3637, 'deli': 3638, 'diredupkan': 3639, 'trek': 3640, 'kelar': 3641, 'pembatalannya': 3642, 'ditinjau': 3643, 'faktor': 3644, 'sekiranya': 3645, 'kategori': 3646, 'turunkan': 3647, 'cimekar': 3648, 'ots': 3649, 'mendaftar': 3650, 'budget': 3651, 'jauhnya': 3652, 'lokalnya': 3653, 'virus': 3654, 'disewain': 3655, 'bohong': 3656, 'pagaden': 3657, 'rela': 3658, 'wajar': 3659, 'kedungsepur': 3660, 'ml': 3661, 'periksa': 3662, 'cepetan': 3663, 'pelit': 3664, 'kaiaccess': 3665, 'tiketdotcom': 3666, '1150': 3667, 'perhatiannya': 3668, 'kasihh': 3669, 'stasium': 3670, 'rezim': 3671, 'pecel': 3672, 'setail': 3673, 'mahalan': 3674, 'ngapa': 3675, 'naiki': 3676, 'kandang': 3677, 'mengunakan': 3678, 'tujuh': 3679, 'ajatidak': 3680, 'lelet': 3681, 'menyewa': 3682, 'umumnya': 3683, 'dimasukin': 3684, 'netijen': 3685, 'nihil': 3686, 'bookingnya': 3687, 'split': 3688, 'komersial': 3689, 'segerbong': 3690, 'pelajaran': 3691, 'berharga': 3692, 'lempuyang': 3693, 'banyaknya': 3694, 'replynya': 3695, 'hrga': 3696, 'menetaplikasian': 3697, 'noh': 3698, '48': 3699, 'bike': 3700, 'ntuh': 3701, 'faskes': 3702, '1730': 3703, 'ato': 3704, 'aktifnya': 3705, 'tips': 3706, 'siaplikasian': 3707, 'konten': 3708, 'too': 3709, 'long': 3710, 'suda': 3711, 'keputusan': 3712, 'sent': 3713, '254': 3714, 'something': 3715, 'when': 3716, 'wrong': 3717, 'diumumkan': 3718, 'stsiun': 3719, 'mohom': 3720, 'pembatas': 3721, 'trus': 3722, 'favoritku': 3723, 'seolah': 3724, 'keknya': 3725, 'siapapun': 3726, 'dilayaninya': 3727, 'whatsaplikasi': 3728, 'muntah': 3729, 'prihatin': 3730, 'titip': 3731, 'benahi': 3732, 'komentar': 3733, 'percaya': 3734, 'verified': 3735, '2014': 3736, 'jembut': 3737, 'heh': 3738, 'widih': 3739, 'ngomel': 3740, 'moke': 3741, 'tinder': 3742, 'mantan': 3743, 'syukur': 3744, 'bar': 3745, 'sunset': 3746, 'teruslah': 3747, 'menyusu': 3748, 'asi': 3749, 'mimpi': 3750, 'suroboyo': 3751, 'berakhir': 3752, 'healing': 3753, 'astaga': 3754, 'gondariong': 3755, 'solokutoarjo': 3756, 'sumut': 3757, 'improve': 3758, 'ngarep': 3759, 'ticket': 3760, 'atensinya': 3761, 'kumuh': 3762, 'tempo': 3763, 'v': 3764, 'nang': 3765, 'temenku': 3766, 'disalahkan': 3767, 'ngingetin': 3768, 'njir': 3769, 'nuna': 3770, 'panik': 3771, 'think': 3772, 'about': 3773, 'kepotong': 3774, 'slot': 3775, 'berkat': 3776, 'busway': 3777, 'kawasan': 3778, 'panggil': 3779, 'kelebihan': 3780, 'bong': 3781, 'gunners': 3782, 'abal': 3783, 'liar': 3784, 'ranah': 3785, 'politik': 3786, 'ngaji': 3787, 'warni': 3788, 'lapis': 3789, 'terlewat': 3790, 'goblokin': 3791, 'bedain': 3792, 'nitip': 3793, 'baju': 3794, 'spdi': 3795, 'emng': 3796, 'dukungan': 3797, 'korupsi': 3798, 'ingetin': 3799, 'ngurusi': 3800, 'bansos': 3801, 'perkotaan': 3802, 'cmn': 3803, 'usulkan': 3804, 'terusedia': 3805, 'kontrak': 3806, 'ngelantur': 3807, 'pindahan': 3808, 'sebatas': 3809, 'anganangan': 3810, 'gagasan': 3811, 'ngeresmiin': 3812, 'biji': 3813, 'presidennya': 3814, 'wakil': 3815, 'bentuknya': 3816, 'yha': 3817, 'be': 3818, 'menuntut': 3819, 'payung': 3820, 'laptop': 3821, 'gaes': 3822, 'pantura': 3823, 'menyiksa': 3824, 'perkembangan': 3825, 'indeed': 3826, 'anus': 3827, '120': 3828, 'mewarnai': 3829, 'dikejar': 3830, 'kuntilanak': 3831, 'musik': 3832, 'kci': 3833, 'buntu': 3834, 'hang': 3835, 'ending': 3836, 'endingnya': 3837, 'city': 3838, 'halnya': 3839, 'kindly': 3840, 'gess': 3841, 'halangan': 3842, 'subuh2': 3843, 'ngejudge': 3844, 'pengecualian': 3845, 'magetan': 3846, 'memperoleh': 3847, 'prestasi': 3848, 'memudahkan': 3849, 'connected': 3850, 'istana': 3851, 'galunggung': 3852, 'menolak': 3853, 'bolehlah': 3854, 'ngajak': 3855, 'body': 3856, 'dialihkan': 3857, 'sirkuit': 3858, 'wan': 3859, 'abud': 3860, 'tertata': 3861, 'editan': 3862, 'slalu': 3863, 'kelojotan': 3864, 'bersinergi': 3865, 'kebersihannya': 3866, 'tubuh': 3867, 'kerap': 3868, 'srikandi': 3869, 'kompas': 3870, 'registrasi': 3871, 'polri': 3872, 'menjelaskan': 3873, 'rsud': 3874, 'bentrok': 3875, 'ongkosnya': 3876, '1830': 3877, 'mereda': 3878, 'peta': 3879, 'sebelahnya': 3880, 'saranku': 3881, 'lahat': 3882, 'unit': 3883, 'dibuktikan': 3884, 'notice': 3885, 'putar': 3886, 'adu': 3887, 'lutut': 3888, 'date': 3889, 'lega': 3890, 'passport': 3891, 'diingatkan': 3892, 'physical': 3893, 'lembah': 3894, 'jangka': 3895, 'betulin': 3896, 'kuitansi': 3897, 'like': 3898, 'kta': 3899, 'standby': 3900, 'penantian': 3901, 'hpnya': 3902, 'benernya': 3903, 'jorok': 3904, 'lanjutkan': 3905, 'dimasak': 3906, 'miminnn': 3907, 'walka': 3908, 'otc': 3909, 'mun': 3910, 'cup': 3911, 'agent': 3912, 'payment': 3913, 'again': 3914, 'problem': 3915, 'keduanya': 3916, 'kalmas': 3917, '04': 3918, 'melintasi': 3919, 'soloyogyakarta': 3920, 'iv': 3921, 'terbaiknya': 3922, '1550': 3923, 'kejutan': 3924, 'seling': 3925, 'accses': 3926, 'serba': 3927, 'aa': 3928, 'tancap': 3929, 'peringatan': 3930, 'mendingan': 3931, 'apiku': 3932, 'kalaupun': 3933, 'menjadikan': 3934, 'sweet': 3935, 'bersamamu': 3936, 'slow': 3937, '131': 3938, 'menitan': 3939, '1225': 3940, 'direktorat': 3941, 'kementerian': 3942, 'sbelumnya': 3943, 'hey': 3944, 'mentiondm': 3945, 'keluhan': 3946, 'ruangan': 3947, 'weekdays': 3948, 'guard': 3949, 'pencet': 3950, 'bacanya': 3951, 'akunnya': 3952, 'titik': 3953, 'sebagaimana': 3954, 'alami': 3955, '46': 3956, 'inovatif': 3957, 'pembual': 3958, 'bijak': 3959, 'dicolok': 3960, 'pemilik': 3961, 'bun': 3962, 'kritis': 3963, 'kencleng': 3964, 'astaghfirullah': 3965, 'persyaratanya': 3966, 'ujungnya': 3967, 'mirip': 3968, 'niih': 3969, 'renta': 3970, 'tahan': 3971, 'item': 3972, 'bloon': 3973, 'sifatnya': 3974, 'durung': 3975, 'rajawali': 3976, 'nusantara': 3977, 'usahanya': 3978, 'kontol': 3979, 'hr': 3980, 'pdhal': 3981, 'ontime': 3982, 'ngantor': 3983, 'tai': 3984, 'dipersyaratkan': 3985, 'kira2': 3986, 'gembok': 3987, 'din': 3988, 'optimis': 3989, 'pergantian': 3990, 'vendor': 3991, 'counter': 3992, 'mendesak': 3993, 'kontribusi': 3994, 'kelalaian': 3995, '52': 3996, 'kotabumi': 3997, '2030': 3998, 'aksesnya': 3999, 'from': 4000, 'ho': 4001, 'dapetnya': 4002, 'kamandakanya': 4003, 'ex': 4004, '2055': 4005, 'ikutnya': 4006, 'dikorupsi': 4007, 'mangkrak': 4008, 'moga': 4009, 'berpikir': 4010, 'based': 4011, 'fact': 4012, 'lol': 4013, 'eropa': 4014, 'kelompok': 4015, 'buta': 4016, 'bin': 4017, 'kaga': 4018, 'usik': 4019, 'puja': 4020, 'idiot': 4021, 'ojol': 4022, 'udahlah': 4023, 'ngak': 4024, 'mengutamakan': 4025, 'brutus': 4026, 'kyai': 4027, 'fox': 4028, 'panjenengan': 4029, 'sejauh': 4030, 'kuda': 4031, 'diwacanakan': 4032, 'penghidupan': 4033, 'keasliannya': 4034, 'melulu': 4035, 'close': 4036, 'tersendiri': 4037, 'patuh': 4038, 'kumur': 4039, 'dengar': 4040, 'mengkritik': 4041, 'dikritik': 4042, 'bahas': 4043, 'kebijaksanaan': 4044, 'berpengaruh': 4045, 'bebal': 4046, '90': 4047, 'derajat': 4048, 'bokong': 4049, 'lembar': 4050, 'faham': 4051, 'melempar': 4052, 'integritas': 4053, 'asn': 4054, 'budeg': 4055, 'menghubungkan': 4056, 'berlalu': 4057, 'tutupnya': 4058, 'jawabkan': 4059, 'hadirmu': 4060, 'ekpressnya': 4061, 'prakteknya': 4062, 'peresmian': 4063, 'halooo': 4064, 'mendaki': 4065, 'ngebus': 4066, 'terkadang': 4067, 'ayolah': 4068, 'hei': 4069, 'jakartayogyakarta': 4070, 'ealah': 4071, 'part': 4072, 'kebablasan': 4073, 'spill': 4074, 'divisi': 4075, 'memperpanjang': 4076, 'darimana': 4077, 'dijelasin': 4078, 'vs': 4079, 'kadariun': 4080, 'diverifikasi': 4081, 'kapok': 4082, 'bicara': 4083, 'potensi': 4084, 'kerugian': 4085, 'gampang': 4086, 'mnjadi': 4087, 'diwakilkan': 4088, 'plb': 4089, '1130': 4090, 'terkendali': 4091, 'form': 4092, 'dipilih': 4093, 'kemajuan': 4094, 'gatot': 4095, 'pasrah': 4096, 'ditjenka': 4097, 'kltmr': 4098, 'tuins': 4099, 'terbesar': 4100, 'kh': 4101, 'wahid': 4102, 'no11a': 4103, '0816812349': 4104, 'cabang': 4105, 'restroom': 4106, 'penjadwalan': 4107, 'heheh': 4108, 'didaerah': 4109, 'dongini': 4110, 'tamu': 4111, 'kegagalan': 4112, 'kerjakan': 4113, 'kaget': 4114, 'cisaat': 4115, 'saatnya': 4116, 'argoparahyangan': 4117, 'permintaan': 4118, '2a': 4119, 'ektp': 4120, 'pacaran': 4121, 'kulineran': 4122, 'terharu': 4123, 'beban': 4124, 'pejabat': 4125, 'cover': 4126, 'sesekali': 4127, 'gepreknya': 4128, 'testan': 4129, 'intip': 4130, 'kadul': 4131, 'ss': 4132, '0850': 4133, 'umat': 4134, 'mancarli': 4135, 'brubah': 4136, 'pelantikan': 4137, 'menunjang': 4138, 'dorong': 4139, 'cc203': 4140, 'beroperasikah': 4141, 'dijepang': 4142, 'kacamata': 4143, 'de': 4144, 'tiktok': 4145, 'durasinya': 4146, '1052': 4147, 'pria': 4148, 'inilah': 4149, 'cobain': 4150, 'dimasakin': 4151, 'chef': 4152, 'handal': 4153, 'colokan': 4154, 'menempuh': 4155, 'menyaksikan': 4156, 'menciptakan': 4157, 'ekonomis': 4158, 'terdengar': 4159, 'kece': 4160, 'credit': 4161, 'fotografer': 4162, 'pusing': 4163, 'terlibat': 4164, 'rejeki': 4165, 'kenapaa': 4166, 'meningkatkan': 4167, 'ular': 4168, 'modern': 4169, 'menjangkau': 4170, 'oy': 4171, 'chairebon': 4172, 'memutuskan': 4173, 'nemu': 4174, 'mass': 4175, 'tanggapannya': 4176, 'tekan': 4177, 'ngehang': 4178, 'pesanan': 4179, 'solosemarang': 4180, 'menindaklanjuti': 4181, 'cita': 4182, 'editioncc': 4183, '39': 4184, 'gambi': 4185, 'rbandung': 4186, 'lpn': 4187, 'kelasnya': 4188, 'prima': 4189, 'berkunjung': 4190, '76tahun': 4191, 'sticker': 4192, 'teruskan': 4193, 'matang': 4194, 'ketidaknyamanannya': 4195, 'rerata': 4196, 'konser': 4197, 'gnose': 4198, 'barengan': 4199, 'terdepan': 4200, 'dipercaya': 4201, 'argobromo': 4202, 'jejer': 4203, 'rapat': 4204, 'sewaktuwaktu': 4205, 'diharga': 4206, 'berkas': 4207, 'mindi': 4208, 'istirahatnya': 4209, 'bunyi': 4210, 'anyar': 4211, '0274555773': 4212, '08988330788': 4213, '0896': 4214, '3662': 4215, '5794': 4216, '0895': 4217, '6034': 4218, '24395': 4219, '081225349955': 4220, '3577': 4221, '4055': 4222, '2170': 4223, '3383': 4224, 'bausasran': 4225, 'danurejan': 4226, '50m': 4227, 'ido': 4228, 'power': 4229, 'wk': 4230, 'aslinya': 4231, 'roda': 4232, 'prabumulih': 4233, 'antre': 4234, 'damri': 4235, 'susi': 4236, 'tenyata': 4237, 'jernih': 4238, 'fikiran': 4239, 'sudahlah': 4240, 'hidupmu': 4241, 'ngopi': 4242, 'speaker': 4243, 'senyaman': 4244, 'cipatat': 4245, 'kertonegoro': 4246, 'lh': 4247, 'sesudah': 4248, 'cibitung': 4249, 'streaming': 4250, 'hatihati': 4251, 'bole': 4252, 'release': 4253, 'penjualannya': 4254, 'swt': 4255, 'yra': 4256, 'yaterima': 4257, 'alamin': 4258, 'garing': 4259, 'nabrak': 4260, 'humanis': 4261, 'perokok': 4262, 'konsumen': 4263, 'kesulitan': 4264, 'dinyatakan': 4265, 'perhari': 4266, 'des': 4267, 'cah': 4268, '368': 4269, 'distance': 4270, 'dirangkaikan': 4271, 'limas': 4272, 'pemadaman': 4273, 'nyala': 4274, 'pembeli': 4275, 'nongol': 4276, 'monitor': 4277, 'berwarna': 4278, 'ter': 4279, '2x24': 4280, 'iseng': 4281, 'sabaran': 4282, 'tegalnya': 4283, 'spesial': 4284, 'inka': 4285, 'depo': 4286, 'bekal': 4287, 'samsek': 4288, 'belinya': 4289, 'bernama': 4290, 'arya': 4291, 'wawancara': 4292, 'jr': 4293, 'tematik': 4294, 'dipasar': 4295, 'aduan': 4296, 'csid': 4297, 'penyimpanan': 4298, 'radikalisme': 4299, 'bnpt': 4300, 'sambut': 4301, 'tl': 4302, 'rekaman': 4303, 'mask': 4304, 'eror': 4305, 'surakarta': 4306, 'taunya': 4307, 'tunjuk': 4308, 'klakson': 4309, 'magrib': 4310, 'licin': 4311, 'teknisi': 4312, 'segenap': 4313, 'bluetooth': 4314, 'truk': 4315, 'beserta': 4316, '2018': 4317, 'kai76': 4318, 'mensyaratkan': 4319, 'merayakan': 4320, 'catatan': 4321, 'kurir': 4322, 'sejam': 4323, 'apartemen': 4324, 'dievaluasi': 4325, 'tertutup': 4326, 'berbondong': 4327, 'bondong': 4328, 'far': 4329, 'kertapati': 4330, 'referral': 4331, 'coins': 4332, 'kupon': 4333, 'rewards': 4334, '1000000': 4335, 'lucky': 4336, '5000000': 4337, 'koin': 4338, 'netizen': 4339, 'diperkenankan': 4340, '49000': 4341, 'really': 4342, 'mengecewakan': 4343, 'taman': 4344, 'experience': 4345, 'tumben': 4346, 'wakapolri': 4347, 'stadion': 4348, 'lukas': 4349, 'enembe': 4350, 'venue': 4351, 'aquatic': 4352, 'wahana': 4353, 'bertepatan': 4354, 'laju': 4355, 'dinanti': 4356, 'u': 4357, 'ndut': 4358, 'slo': 4359, 'kekurangan': 4360, 'katakan': 4361, 'balesannya': 4362, 'menghalus': 4363, 'pose': 4364, 'badminton': 4365, 'memfasilitasi': 4366, 'kesian': 4367, 'obatnya': 4368, 'setan': 4369, 'bodat': 4370, 'barokallah': 4371, 'pki': 4372, 'arsip': 4373, 'kecebur': 4374, 'terwujud': 4375, 'miskin': 4376, 'ngerasa': 4377, 'tweetnya': 4378, 'arogan': 4379, 'apbd': 4380, 'lahan': 4381, 'liatnya': 4382, 'dihilangkan': 4383, 'pohon': 4384, 'hadeh': 4385, 'gembira': 4386, 'dengerin': 4387, 'berisik': 4388, 'meninggalkan': 4389, 'merepotkan': 4390, 'tenang': 4391, 'buyar': 4392, 'martapura': 4393, 'menjual': 4394, 'konsep': 4395, 'mencegah': 4396, 'wajibkan': 4397, 'kelanjutan': 4398, 'ybs': 4399, 'dinyalain': 4400, 'tvnya': 4401, 'lubang': 4402, 'diundang': 4403, 'iri': 4404, 'yogyajakarta': 4405, 'kantin': 4406, 'dawuan': 4407, 'ngumpul': 4408, 'ditunda': 4409, 'anjay': 4410, 'gada': 4411, 'perkenankan': 4412, 'bogie': 4413, 'spring': 4414, 'sorenya': 4415, 'perusahaannya': 4416, 'semen': 4417, 'pingsan': 4418, 'gordyn': 4419, 'ditambahin': 4420, 'gundih': 4421, 'kalu': 4422, 'olehnya': 4423, 'start': 4424, 'bersamaan': 4425, 'mengantisipasi': 4426, 'pemesan': 4427, 'bencana': 4428, 'letusan': 4429, 'salurkan': 4430, 'memutar': 4431, 'erupsi': 4432, 'niknya': 4433, 'salahkan': 4434, 'mengancam': 4435, 'kerumunan': 4436, 'maleman': 4437, 'sepupu': 4438, 'kepadatan': 4439, 'inisiatif': 4440, 'desakan': 4441, 'mengevaluasi': 4442, 'mengedepankan': 4443, 'memahami': 4444, 'mempertahankan': 4445, 'menekan': 4446, 'berpasir': 4447, 'loncat': 4448, 'pemecah': 4449, 'gelombang': 4450, 'airnya': 4451, 'tawar': 4452, 'dimakan': 4453, 'glagah': 4454, 'motong': 4455, 'len': 4456, 'menghilangkan': 4457, 'kulon': 4458, 'oper': 4459, 'gocar': 4460, 'nada': 4461, 'system': 4462, 'gomawo': 4463, 'akunmu': 4464, 'morning': 4465, 'eloket': 4466, 'tasyun': 4467, 'ngabarin': 4468, 'lengan': 4469, 'smt': 4470, 'bi': 4471, 'gijug': 4472, 'formasi': 4473, '1710': 4474, 'bilik': 4475, 'terjaga': 4476, 'gedung': 4477, 'persediaan': 4478, '230': 4479, 'security': 4480, 'kepo': 4481, 'becek': 4482, 'banyumas': 4483, '1300': 4484, 'jir': 4485, 'kesiangan': 4486, 'nerapin': 4487, 'penelitian': 4488, 'sirine': 4489, 'lajur': 4490, 'turunnya': 4491, 'viq': 4492, 'hola': 4493, 'd3': 4494, 'n': 4495, 'final': 4496, 'menangani': 4497, 'musibah': 4498, 'sblm': 4499, 'memberatkan': 4500, 'gajahwong': 4501, 'penipuan': 4502, 'pelemparan': 4503, 'proposal': 4504, 'perak': 4505, 'tinggalin': 4506, 'integrated': 4507, 'diketahui': 4508, 'pemiliknya': 4509, 'map': 4510, 'pengisian': 4511, 'elektronik': 4512, '085788477231': 4513, 'rangkaiannya': 4514, 'papan': 4515, 'lengkapnya': 4516, 'ngalamin': 4517, 'dampak': 4518, 'terjual': 4519, 'dst': 4520, 'indentitas': 4521, '292': 4522, 'life': 4523, 'ft': 4524, 'batuk': 4525, 'menulis': 4526, 'batasannya': 4527, 'dikaji': 4528, 'traffic': 4529, 'laka': 4530, 'kesenangan': 4531, 'putus': 4532, 'mengenang': 4533, '0910': 4534, 'didinginkan': 4535, 'berargumen': 4536, 'goshow': 4537, 'menyatakan': 4538, 'tertinggi': 4539, 'opini': 4540, 'ahad': 4541, 'teras': 4542, 'monyet': 4543, 'menghalangi': 4544, 'perjuangan': 4545, 'dipersilahkan': 4546, 'fungsinya': 4547, 'nurani': 4548, 'ditilang': 4549, 'langkah': 4550, 'langkahnya': 4551, 'paralon': 4552, 'improvisasi': 4553, 'tehnologi': 4554, '4122021meski': 4555, 'pemdatapi': 4556, 'design': 4557, 'benerin': 4558, 'fb': 4559, 'chaos': 4560, 'mumpung': 4561, 'mempermasalahkan': 4562, 'diantar': 4563, 'berjanji': 4564, 'komputer': 4565, 'viral': 4566, 'mengirim': 4567, 'dikuasai': 4568, 'sick': 4569, 'kec': 4570, 'perangkat': 4571, 'bermaksud': 4572, 'seruan': 4573, '242': 4574, 'gitarnya': 4575, 'taruh': 4576, 'charisma': 4577, 'melanjutkan': 4578, 'setahu': 4579, 'bsi': 4580, 'sebenernya': 4581, 'pegi': 4582, 'cak': 4583, 'jogjasolo': 4584, 'dulunya': 4585, 'menarik': 4586, 'user': 4587, '0600': 4588, 'beludru': 4589, 'bistik': 4590, 'koran': 4591, 'dosin': 4592, 'tabrak': 4593, 'yg': 4594, 'ditempati': 4595, 'cuy': 4596, 'cuan': 4597, 'gajian': 4598, 'dishare': 4599, 'cianjuran': 4600, 'cleaning': 4601, 'bumi': 4602, 'award': 4603, 'disiplinperlintasan': 4604, 'listriknya': 4605, 'meja': 4606, 'wkwkwk': 4607, 'perbedannya': 4608, 'minuman': 4609, 'tradisional': 4610, 'nobar': 4611, 'menahu': 4612, '2009': 4613, 'jadikan': 4614, 'canggih': 4615, 'ngamuk': 4616, 'tengok': 4617, 'kalinya': 4618, 'melaju': 4619, 'degan': 4620, 'menabrak': 4621, 'sanitaaa': 4622, 'kasiih': 4623, 'kcp': 4624, 'sleman': 4625, 'diy': 4626, 'kl': 4627, 'jakart': 4628, 'bak': 4629, '1910': 4630, 'night': 4631, 'issued': 4632, 'stok': 4633, 'market': 4634, 'place': 4635, 'ngerubah': 4636, 'disalip': 4637, 'moyong': 4638, 'dampingi': 4639, 'apkah': 4640, 'dapurnya': 4641, 'diingetin': 4642, 'kicir': 4643, 'peduliindungi': 4644, 'operational': 4645, 'resto': 4646, 'lilis': 4647, 'stroller': 4648, 'cibungur': 4649, 'yaaa': 4650, 'menganggu': 4651, 'inggris': 4652, 'selasar': 4653, 'munculnya': 4654, 'prepare': 4655, 'masinisnya': 4656, 'berjuang': 4657, 'ludes': 4658, 'myself': 4659, 'bdggambir': 4660, 'psr': 4661, 'bakpia': 4662, 'yan': 4663, '1935': 4664, 'samaan': 4665, 'dslr': 4666, 'pkd': 4667, '6281271071154': 4668, 'perbankan': 4669, 'memperbarui': 4670, '1406': 4671, 'bising': 4672, 'kebangkrutan': 4673, 'alih': 4674, 'tumpangi': 4675, 'kandangan': 4676, 'wagub': 4677, 'kemauan': 4678, 'kurangi': 4679, 'koko': 4680, 'jiwa': 4681, 'profesional': 4682, 'sesuain': 4683, 'rasamakasih': 4684, 'bajer': 4685, 'pemberangkatannya': 4686, '081235774055081221703383': 4687, 'claim': 4688, '3100': 4689, 'berwenang': 4690, 'kerennya': 4691, 'pantang': 4692, 'kesal': 4693, 'ditangkap': 4694, 'lemes': 4695, 'ngebahayain': 4696, 'nyawa': 4697, 'rumahan': 4698, 'mamen': 4699, 'teuas': 4700, 'divaksinasi': 4701, 'load': 4702, 'sobi': 4703, 'dobel': 4704, 'menutupi': 4705, 'dagu': 4706, 'mulut': 4707, 'mendisiplinkan': 4708, 'beradaptasi': 4709, 'tisu': 4710, 'basah': 4711, 'kfc': 4712, 'nolak': 4713, 'region': 4714, 'bronx': 4715, '2159': 4716, 'tea': 4717, 'dukungannya': 4718, 'kemanusiaan': 4719, 'ln': 4720, 'salmon': 4721, 'beruntung': 4722, 'konek': 4723, 'kecepatanya': 4724, 'stainless': 4725, 'misteri': 4726, 'nasgor': 4727, 'jelaslah': 4728, '400an': 4729, 'merakyat': 4730, 'landing': 4731, '1750': 4732, 'medika': 4733, 'toyota': 4734, 'auto2000': 4735, 'profile': 4736, 'gimaan': 4737, 'purwakrta': 4738, 'benerbener': 4739, 'diteraplikasian': 4740, 'joob': 4741, 'club': 4742, 'noleh': 4743, 'godok': 4744, 'daging': 4745, 'telor': 4746, 'sayuran': 4747, 'irisan': 4748, 'cabe': 4749, 'rawit': 4750, 'berapsa': 4751, 'gantian': 4752, 'generasi': 4753, '7d': 4754, 'diangetin': 4755, 'chip': 4756, 'tampilnya': 4757, 'finpay': 4758, 'occured': 4759, 'temennya': 4760, 'mus': 4761, 'preman': 4762, 'kancil': 4763, 'here': 4764, 'rendition': 4765, 'thoughts': 4766, 'karenawoman': 4767, 'mantau': 4768, 'laman': 4769, 'sosmednya': 4770, 'threadnya': 4771, 'beling': 4772, 'teas': 4773, 'siga': 4774, 'pfft': 4775, '53': 4776, 'drakor': 4777, 'padamin': 4778, 'lampunya': 4779, 'dipadamin': 4780, 'adapun': 4781, 'dilaundary': 4782, 'rada': 4783, 'magic': 4784, 'teladan': 4785, 'kepemipinan': 4786, 'skhun': 4787, 'kolom': 4788, 'jenisnya': 4789, 'ehh': 4790, 'bolek': 4791, 'dikompres': 4792, 'ijasah': 4793, '2mb': 4794, 'boardnya': 4795, 'selaku': 4796, 'sanggat': 4797, 'dibetulin': 4798, 'ngebongkarnya': 4799, 'nambalnya': 4800, 'cor': 4801, 'berceceran': 4802, 'unuan': 4803, 'uploadnya': 4804, 'unnya': 4805, 'tetera': 4806, 'kria': 4807, 'tandatangani': 4808, 'nota': 4809, 'ridwan': 4810, 'kamil': 4811, 'datangan': 4812, 'mewek': 4813, 'hambamu': 4814, 'seenak': 4815, 'gpp': 4816, 'tumblr': 4817, '20d': 4818, 'wkkwkwtidak': 4819, 'mengsedih': 4820, 'permasalahannya': 4821, 'butuhnya': 4822, 'dagang': 4823, 'grosiran': 4824, 'berempati': 4825, 'internetan': 4826, 'gulung': 4827, 'tikar': 4828, 'implementasi': 4829, 'punumpang': 4830, 'selebihnya': 4831, 'pkkm': 4832, 'alatnya': 4833, 'maksimalnyatidak': 4834, 'menyiapkan': 4835, 'memasukan': 4836, 'didapat': 4837, 'minceu': 4838, 'tercatat': 4839, 'peroleh': 4840, '0922': 4841, 'diikuti': 4842, 'membuktikan': 4843, 'kontrol': 4844, 'adakan': 4845, 'genosenya': 4846, 'hah': 4847, 'katanyatidak': 4848, 'milkshake': 4849, 'harkos': 4850, 'roadbike': 4851, 'muatannya': 4852, 'diijinkan': 4853, 'discan': 4854, 'gerai': 4855, 'hardcopynya': 4856, 'sembuhnya': 4857, '2305': 4858, '13002100': 4859, 'sedayu': 4860, 'testing': 4861, 'turicusda': 4862, 'shift': 4863, 'dapatkan': 4864, 'poker': 4865, 'darakinanti4': 4866, 'baless': 4867, 'membengkak': 4868, '84': 4869, 'tdak': 4870, 'virusnya': 4871, 'esertif': 4872, 'contacless': 4873, 'aba': 4874, 'orderan': 4875, 'diantara': 4876, 'aplikas': 4877, 'iweb': 4878, 'diperluin': 4879, 'melarang': 4880, 'meminimalkan': 4881, 'penyalahgunaan': 4882, 'berpihak': 4883, 'rdkartika': 4884, 'pulomas': 4885, 'dibandingin': 4886, 'dekade': 4887, 'layan': 4888, 'surket': 4889, 'miiin': 4890, 'lenteng': 4891, 'ibadahnya': 4892, 'kos': 4893, '810': 4894, 'dilalukan': 4895, 'paketin': 4896, 'kargo': 4897, 'barangnya': 4898, 'makaasih': 4899, '50921': 4900, 'merchandisenya': 4901, '2050': 4902, 'penumpukan': 4903, '2110': 4904, 'rekan': 4905, 'laporanku': 4906, 'tombol': 4907, 'hall': 4908, 'ditunjukin': 4909, 'fisiknya': 4910, 'petunjuk': 4911, 'potonya': 4912, 'larian': 4913, 'kapal': 4914, 'ink': 4915, 'tampilannya': 4916, 'cukupkah': 4917, 'takuttidak': 4918, 'domisilinya': 4919, 'purwokertoyogyakarta': 4920, 'kebahagian': 4921, 'sirna': 4922, 'masal': 4923, 'mengajak': 4924, 'walaharjati': 4925, 'gomawoyo': 4926, 'mengandalkan': 4927, 'diusulkan': 4928, 'perbaikannya': 4929, '1157': 4930, 'tersediakah': 4931, 'butuhkan': 4932, 'nip': 4933, 'jabotabek': 4934, '1415': 4935, 'menyengsarakan': 4936, 'upayakan': 4937, 'chace': 4938, 'jogloselokarto': 4939, 'masakannya': 4940, 'beristirahat': 4941, 'pesat': 4942, 'keberankatan': 4943, 'tersediatidak': 4944, '10092021': 4945, 'rite': 4946, 'kartunya': 4947, 'pedagang': 4948, 'asongan': 4949, 'semarag': 4950, 'legendaris': 4951, 'chache': 4952, 'ad': 4953, 'ubahnya': 4954, 'bersekolah': 4955, 'berkuliah': 4956, 'berkeliling': 4957, 'menunjuk': 4958, 'say': 4959, 'susuku': 4960, 'bagianbagian': 4961, 'kumbah': 4962, 'kerjanya': 4963, '67': 4964, 'kehamilan': 4965, 'week': 4966, 'kantoran': 4967, 'darione': 4968, 'wikipedia': 4969, 'diperuntukkan': 4970, 'perkantoran': 4971, 'umun': 4972, 'direpost': 4973, 'angrek': 4974, 'pembatsan': 4975, 'tupperware': 4976, 'kuning': 4977, '1234': 4978, '1745': 4979, 'dicoret': 4980, 'disimpankan': 4981, 'ngikuti': 4982, 'gebug': 4983, 'wfo': 4984, 'nurutin': 4985, 'habisnya': 4986, 'railminnya': 4987, 'healthy': 4988, 'mawardi': 4989, 'kualastabas': 4990, 'nunggunya': 4991, 'didukung': 4992, 'siluman': 4993, 'mengangkut': 4994, 'dicabut': 4995, 'pengetatan': 4996, 'sheet': 4997, 'varian': 4998, 'delta': 4999, 'memakain': 5000, 'operasinal': 5001, 'malau': 5002, 'samakan': 5003, '2016': 5004, 'vaksinasinya': 5005, 'tung': 5006, 'pagii': 5007, 'layani': 5008, 'nunjukan': 5009, 'apabisa': 5010, 'purwodadi': 5011, 'langsng': 5012, 'hitungannya': 5013, '932': 5014, 'nonlipat': 5015, 'webnya': 5016, 'pindad': 5017, 'turen': 5018, 'kebandara': 5019, 'nyatu': 5020, 'mamang': 5021, 'belunder': 5022, 'pembuat': 5023, 'mengecek': 5024, 'jiah': 5025, 'kelucuan': 5026, 'diaktifin': 5027, 'persayaratannya': 5028, 'operasiin': 5029, 'maskapai': 5030, 'harinanya': 5031, '910': 5032, 'pengcekan': 5033, '510': 5034, '1530': 5035, 'kuantitas': 5036, 'dhohonya': 5037, 'beroperasional': 5038, 'siliwangi': 5039, 'wadu': 5040, 'mama': 5041, 'sihyang': 5042, 'sumatra': 5043, 'terlanjut': 5044, 'twiter': 5045, 'gratisnya': 5046, '3x': 5047, 'bersua': 5048, 'jumpa': 5049, 'berikutanya': 5050, 'tugasnya': 5051, 'bangett': 5052, 'ariawinangun': 5053, 'saratnya': 5054, 'vaksinku': 5055, 'fotokopi': 5056, 'pcrantigen': 5057, 'ruman': 5058, '18092021': 5059, 'rekemondasikan': 5060, 'ra': 5061, 'longgarkan': 5062, 'ditangani': 5063, 'richard': 5064, 'grup': 5065, 'rf': 5066, 'tersebar': 5067, 'konsumsi': 5068, 'tertuju': 5069, 'ehehehe': 5070, 'moderna': 5071, 'normatif': 5072, 'koruptor': 5073, 'dijawabnya': 5074, 'uud': 5075, 'trasnportasi': 5076, 'comuter': 5077, 'dilonggar': 5078, 'muluk': 5079, 'nyediain': 5080, 'pekalongansolo': 5081, 'anggreknya': 5082, 'dinormalkan': 5083, 'huhuhuhu': 5084, 'cepupasar': 5085, 'mengkonfirmasi': 5086, 'acsess': 5087, 'hayuk': 5088, 'jalankeun': 5089, 'pen': 5090, 'pengambil': 5091, 'santri': 5092, 'ngirit': 5093, 'boros': 5094, 'kediriblitar': 5095, 'jikalau': 5096, 'ntar': 5097, '15nya': 5098, 'jugaa': 5099, 'haruskan': 5100, 'bepergiannya': 5101, 'menginginkan': 5102, 'lagisurat': 5103, 'tidakakan': 5104, 'ngumumin': 5105, 'bocor': 5106, 'whoa': 5107, 'dongs': 5108, 'udara': 5109, 'gorengnya': 5110, 'tandingannya': 5111, 'jaktara': 5112, 'cma': 5113, 'dibayarjan': 5114, 'gading': 5115, 'gimanapun': 5116, 'ppkmnya': 5117, '5rb': 5118, 'perjamnya': 5119, 'jonbang': 5120, 'banyakk': 5121, 'jdi': 5122, 'dikurangi': 5123, 'diomel': 5124, 'diomelin': 5125, 'dwipanggatidak': 5126, 'sejenisnya': 5127, 'dibook': 5128, 'diselangseling': 5129, 'pengusaha': 5130, 'kepedulian': 5131, 'keberlangsungan': 5132, 'karyawannya': 5133, 'dimohon': 5134, 'pulih': 5135, 'terbantu': 5136, 'nonaktif': 5137, 'merakrangkas': 5138, 'juni': 5139, 'bisaa': 5140, 'dioperasiin': 5141, 'mendatang': 5142, 'sampe': 5143, '1517': 5144, 'alasanya': 5145, 'mencapai': 5146, 'udi': 5147, '1600an': 5148, '1100an': 5149, 'railbus': 5150, 'sukoharjo': 5151, 'wonogiri': 5152, 'djuanda': 5153, 'sidah': 5154, 'karenasurabaya': 5155, 'disutuh': 5156, 'klise': 5157, 'sekantor': 5158, 'adatidak': 5159, 'nyenengin': 5160, 'barapa': 5161, 'hri': 5162, 'tanyaaa': 5163, 'railexpress': 5164, 'wonokromongunut': 5165, 'musti': 5166, 'tulungangung': 5167, 'kaitidak': 5168, 'recrutmeint': 5169, 'sekelurga': 5170, 'kepaksa': 5171, 'haluan': 5172, 'kendariaan': 5173, 'dimajukan': 5174, 'kebaikan': 5175, 'haur': 5176, 'geulis': 5177, 'tetatidaku': 5178, 'traktir': 5179, 'gedein': 5180, 'syukurlah': 5181, 'olyn': 5182, 'mahasiswi': 5183, 'unpad': 5184, 'proderur': 5185, 'tenan': 5186, 'cikarangpurwakarta': 5187, 'beroparsi': 5188, 'preparing': 5189, 'tanggulangin': 5190, 'leces': 5191, 'kahh': 5192, 'reaktif': 5193, 'didaftarkan': 5194, 'galeri': 5195, 'pedulil': 5196, 'indungi': 5197, 'tukar': 5198, 'sja': 5199, '288': 5200, 'bg': 5201, 'kedatangannya': 5202, 'herlina': 5203, 'terkena': 5204, 'elok': 5205, 'dibantukah': 5206, 'bangunin': 5207, 'responya': 5208, 'jadwalnnya': 5209, 'statugu': 5210, 'menentu': 5211, 'aplikasikan': 5212, 'pusatnya': 5213, 'tunai': 5214, 'transisi': 5215, 'minangkabau': 5216, 'kerto': 5217, 'mushala': 5218, 'wudhu': 5219, 'mundurin': 5220, 'persisnya': 5221, 'subhanallah': 5222, 'disyaratkan': 5223, 'yks': 5224, 'terimakasin': 5225, 'cekdmnya': 5226, 'mencla': 5227, 'mencle': 5228, 'after': 5229, 'ekpress': 5230, 'tegalpasar': 5231, 'dijakarta': 5232, 'mcu': 5233, 'rem': 5234, 'terjal': 5235, 'naikturunnya': 5236, 'murni': 5237, 'trafik': 5238, 'wktu': 5239, 'berawal': 5240, 'trowek': 5241, 'galuh': 5242, '1996': 5243, 'inspeksikereta': 5244, 'nawarin': 5245, 'pengan': 5246, 'penyelamat': 5247, 'galau': 5248, 'berhubungan': 5249, 'heritage': 5250, 'dirombak': 5251, 'penjual': 5252, 'menawarkan': 5253, 'statsiunnya': 5254, 'adem': 5255, 'linggau': 5256, 'berlevel': 5257, 'announcernya': 5258, 'pager': 5259, 'bangetdenger': 5260, 'terbiasa': 5261, 'melongok': 5262, 'barisan': 5263, 'menjajakan': 5264, 'kehangatan': 5265, 'khas': 5266, 'asri': 5267, 'dinikmati': 5268, 'destinasi': 5269, 'sakti': 5270, 'bade': 5271, 'kit': 5272, 'jejeran': 5273, 'berkualitas': 5274, 'siangan': 5275, 'abah': 5276, 'simpangan': 5277, 'sidoaarjo': 5278, 'keretaa': 5279, 'dicheck': 5280, 'teup': 5281, 'senyum': 5282, 'tertarik': 5283, 'case': 5284, 'jakartasemarang': 5285, '2426': 5286, 'kucari': 5287, 'seabad': 5288, 'teriakan': 5289, 'penjaja': 5290, 'hawanya': 5291, 'alesan': 5292, 'minski': 5293, 'ehac': 5294, 'karenaberhenti': 5295, 'udaranya': 5296, 'sejuk': 5297, 'aplikaso': 5298, 'jajal': 5299, 'kapastitas': 5300, 'internship': 5301, 'uuntuk': 5302, 'stpr': 5303, 'banat': 5304, 'leunca': 5305, 'kaih': 5306, 'bukit': 5307, 'mmasih': 5308, 'perhitungannya': 5309, 'mayoritas': 5310, 'gajayanan': 5311, 'nunukkan': 5312, 'mkasih': 5313, 'ditanyakan': 5314, 'ditukar': 5315, 'cashless': 5316, 'fleksibel': 5317, '0654': 5318, '0430': 5319, 'ayahku': 5320, 'menuggu': 5321, 'merencanakan': 5322, '403': 5323, 'alurnya': 5324, 'badung': 5325, 'sidoardjo': 5326, 'kerea': 5327, 'owalah': 5328, 'seblumnya': 5329, 'merakr': 5330, 'angkasurabaya': 5331, 'lempunyangan': 5332, 'sertivikat': 5333, 'rtrw': 5334, 'kejar': 5335, 'kerumah': 5336, 'acses': 5337, 'aing': 5338, 'adari': 5339, 'mash': 5340, 'crossing': 5341, 'sediiih': 5342, 'diadakan': 5343, 'nyambung': 5344, 'suamiku': 5345, 'frezee': 5346, '1351': 5347, 'ngw': 5348, 'berdampingan': 5349, '80mbps': 5350, 'ckckck': 5351, 'tanaman': 5352, 'randublatung': 5353, 'kesekolah': 5354, 'ayok': 5355, 'huehue': 5356, 'lahh': 5357, 'proteksi': 5358, 'tugassurat': 5359, 'pertanda': 5360, 'gasken': 5361, 'mendorong': 5362, 'ogah': 5363, 'disisi': 5364, 'outo': 5365, 'perlakuannya': 5366, 'bijakannya': 5367, 'mengidolakan': 5368, 'jantung': 5369, 'alihkan': 5370, 'keberangkarannya': 5371, 'screenshotan': 5372, 'dhohotidak': 5373, 'nyia': 5374, 'teratasi': 5375, 'bloracepu': 5376, 'karenaabis': 5377, 'menyanyakan': 5378, 'stasiung': 5379, 'surah': 5380, 'brati': 5381, 'meratanya': 5382, 'rapidan': 5383, 'ngusulin': 5384, 'aksestidak': 5385, 'meniadakan': 5386, 'pemakaian': 5387, 'tetkait': 5388, 'low': 5389, 'fullkan': 5390, 'hiatusnya': 5391, 'maksut': 5392, 'nihh': 5393, 'pasword': 5394, 'pengembaliannya': 5395, 'kebutuhannya': 5396, 'probowoangi': 5397, 'penatasan': 5398, 'pantau': 5399, 'adaaa': 5400, 'ehehe': 5401, 'nyet': 5402, 'tiadakan': 5403, 'mincot': 5404, 'jangn': 5405, 'arak': 5406, 'apaka': 5407, '550': 5408, 'ekpres': 5409, 'medianya': 5410, 'uldate': 5411, 'beranda': 5412, 'jalann': 5413, 'banywangi': 5414, 'diperpanjangnya': 5415, 'menyewakan': 5416, 'rambutan': 5417, '74000': 5418, '85000': 5419, 'allhamdulilah': 5420, 'ding': 5421, 'keringanan': 5422, '100an': 5423, 'jam12': 5424, 'septmber': 5425, 'perjalann': 5426, 'wonokrom': 5427, 'demikian': 5428, 'moohon': 5429, 'pucuk': 5430, '29000': 5431, 'pakenya': 5432, 'flownya': 5433, '1819': 5434, 'woke': 5435, 'prank': 5436, 'jarum': 5437, 'suntik': 5438, 'otomatistidak': 5439, 'mabuk': 5440, '1892021': 5441, 'mytrip': 5442, '3rd': 5443, 'party': 5444, 'eksternal': 5445, 'kebelakang': 5446, 'pindahin': 5447, 'kapaan': 5448, 'disewa': 5449, 'beroperasionalnya': 5450, 'pasalarang': 5451, 'ooh': 5452, 'komersil': 5453, 'diilustrasi': 5454, 'memangnya': 5455, 'game': 5456, 'kopernya': 5457, 'dilempar': 5458, 'kuliner': 5459, 'murce': 5460, 'rames': 5461, 'kupat': 5462, 'anjus': 5463, 'mksdnya': 5464, 'walaharjatiluhur': 5465, 'sepemahaman': 5466, 'prasana': 5467, 'linknya': 5468, 'beber': 5469, 'gime': 5470, 'some': 5471, 'apan': 5472, 'cuci': 5473, 'sabun': 5474, 'busa': 5475, 'pedesaan': 5476, 'bolivia': 5477, 'mengesampingkan': 5478, 'ngerokok': 5479, 'bukankah': 5480, 'choirunisa': 5481, 'nur': 5482, 'azizah': 5483, 'diquote': 5484, 'longgarkannya': 5485, 'reska': 5486, 'sewanya': 5487, 'menjalan': 5488, 'mojokertomalang': 5489, 'kaiacces': 5490, 'ngeles': 5491, 'diperiksa': 5492, 'persayatan': 5493, 'ngrokok': 5494, 'semar': 5495, 'tergugah': 5496, 'malangnya': 5497, 'dikasib': 5498, '69': 5499, '99': 5500, 'bwi': 5501, 'jawabanya': 5502, 'kejelasan': 5503, 'trial': 5504, 'serangrangkas': 5505, 'pedulindungi': 5506, 'dihitung': 5507, 'road': 5508, 'kunjungan': 5509, 'tenant': 5510, 'selaras': 5511, '15092021': 5512, 'serfitikat': 5513, 'mon': 5514, 'ohh': 5515, 'nelakukan': 5516, 'marketplace': 5517, 'kotidak': 5518, 'jikapun': 5519, 'purkawarta': 5520, 'stgh': 5521, 'ganbate': 5522, 'nyesel': 5523, 'pemalas': 5524, 'mintol': 5525, 'ndoho': 5526, 'tewak': 5527, 'sukapura': 5528, 'parakan': 5529, 'related': 5530, 'peluit': 5531, 'dibunyikan': 5532, 'hahahah': 5533, 'oral': 5534, 'softcopyvia': 5535, '150921': 5536, 'jenar': 5537, 'infonaik': 5538, 'heheheh': 5539, 'penanda': 5540, 'sensasi': 5541, 'jemberprobolinggo': 5542, '1548': 5543, '1640': 5544, 'kaiacses': 5545, 'vaksis': 5546, 'lagiapakah': 5547, 'patokannya': 5548, 'aaaaa': 5549, 'surabayayogyakarta': 5550, '08001600': 5551, 'gantikan': 5552, 'lindung': 5553, 'rangkasmerak': 5554, 'dimunculin': 5555, 'geh': 5556, 'fraud': 5557, 'lakuin': 5558, 'tutorial': 5559, 'kumaha': 5560, 'tangkap': 5561, 'dibedakan': 5562, '123': 5563, 'penatana': 5564, 'perlukah': 5565, 'lagsung': 5566, 'peryaratan': 5567, 'minute': 5568, 'berbedabeda': 5569, 'palsu': 5570, 'yakni': 5571, 'mewajibkan': 5572, 'mendownload': 5573, 'menayakan': 5574, 'perjalana': 5575, 'joglosenar': 5576, 'turunya': 5577, 'statisun': 5578, '80an': 5579, 'liputan': 5580, 'lebaran': 5581, 'goyangannya': 5582, 'lokomotifnya': 5583, 'lompat': 5584, 'seingatku': 5585, 'sekalipun': 5586, 'skrang': 5587, 'seseneng': 5588, '92': 5589, 'dilantai': 5590, 'tumbila': 5591, 'blakang': 5592, 'pengap': 5593, 'keringet': 5594, 'gemboknya': 5595, 'extra': 5596, 'centre': 5597, '02131922299': 5598, 'ext': 5599, '1512': 5600, '150121': 5601, '081388223205': 5602, 'drama': 5603, 'jempol': 5604, 'berdosa': 5605, 'celaka': 5606, 'akibat': 5607, 'engineer': 5608, 'teknisnya': 5609, 'suguhi': 5610, 'ralat': 5611, 'tidaknya': 5612, 'kakkalau': 5613, 'respond': 5614, 'lampiran': 5615, 'penghambat': 5616, 'woooo': 5617, 'ngetan': 5618, 'po': 5619, 'jo': 5620, 'lali': 5621, 'nggawak': 5622, 'yangko': 5623, 'alhamdulilllah': 5624, 'wawasanmu': 5625, 'sotoy': 5626, 'begok': 5627, 'tersinggung': 5628, 'penjaganya': 5629, 'sbb': 5630, 'menunya': 5631, 'kumis': 5632, 'jenggot': 5633, 'rambut': 5634, 'kriting': 5635, 'holiday': 5636, 'tuan': 5637, 'dpaatnya': 5638, 'woohoo': 5639, 'ndarie': 5640, 'teruptodate': 5641, 'perbaruan': 5642, 'perbarui': 5643, 'kotaang': 5644, 'kejatinegara': 5645, 'karrna': 5646, 'dilakuin': 5647, 'dibunuh': 5648, 'belikan': 5649, 'yik': 5650, 'ntt': 5651, 'ciyuk': 5652, 'micet': 5653, 'bange': 5654, 'joglosemarto': 5655, 'r': 5656, 'irama': 5657, 'danish': 5658, 'dilewatkan': 5659, 'nek': 5660, 'sujud': 5661, 'pulangpergi': 5662, 'rodok': 5663, 'siapsiap': 5664, 'nusa': 5665, 'tembini': 5666, 'kemalaman': 5667, 'dilanjuntukan': 5668, 'tebal': 5669, 'international': 5670, 'membanggakan': 5671, 'fokusnya': 5672, 'kesitu': 5673, 'lowong': 5674, 'rejekimu': 5675, 'ckck': 5676, 'rep': 5677, 'frustasinya': 5678, 'nurun': 5679, 'paki': 5680, 'kepeleset': 5681, 'diungkapkan': 5682, 'dituju': 5683, 'commuters': 5684, 'boroboro': 5685, 'widihhh': 5686, 'kereenn': 5687, 'kebogor': 5688, '730': 5689, 'mendengarkan': 5690, 'herman': 5691, 'foward': 5692, 'rahasia': 5693, 'penjuriannya': 5694, 'velbak': 5695, 'hires': 5696, 'ketertarikan': 5697, 'akurat': 5698, 'rhs': 5699, 'nyicil': 5700, 'bel': 5701, 'servak': 5702, 'kataksaka': 5703, 'slowresp': 5704, 'aih': 5705, 'wojo': 5706, 'dibikinin': 5707, 'le': 5708, 'kebengen': 5709, '255c': 5710, 'muncak': 5711, 'papandayan': 5712, 'pacarannya': 5713, 'terkejut': 5714, 'eman': 5715, 'msudahun': 5716, 'kunu': 5717, 'jng': 5718, 'apurwokerto': 5719, '0290': 5720, '290km': 5721, 'pemdanya': 5722, 'uunya': 5723, 'duhh': 5724, 'makannya': 5725, 'mager': 5726, 'pintunya': 5727, 'officialnya': 5728, 'dufan': 5729, 'mesinnya': 5730, 'pohgajih': 5731, 'should': 5732, 'sbobet': 5733, 'spin': 5734, 'buyspin': 5735, 'bonus': 5736, 'mix': 5737, 'parlay': 5738, 'member': 5739, 'langsirman': 5740, 'exclude': 5741, 'stalk': 5742, 'gawe': 5743, 'tambal': 5744, 'peringatin': 5745, 'ito': 5746, 'red': 5747, 'zone': 5748, 'hilal': 5749, 'atrium': 5750, 'engeuh': 5751, 'langga': 5752, 'walinya': 5753, 'bupatinya': 5754, 'segede': 5755, 'lintasan': 5756, 'mincil': 5757, 'sido': 5758, 'demo': 5759, 'sak': 5760, 'beteng': 5761, 'galabo': 5762, 'dariama': 5763, 'laporkan': 5764, 'omdo': 5765, 'awam': 5766, 'politis': 5767, 'sengklek': 5768, 'pokoke': 5769, 'pembencinya': 5770, 'zawiyah': 5771, 'rasudahah': 5772, 'kesemrawutan': 5773, 'mengaji': 5774, 'girder': 5775, 'fo': 5776, 'difinish': 5777, 'dark': 5778, 'grey': 5779, 'pekat': 5780, 'coating': 5781, 'acrilic': 5782, 'doff': 5783, 'agartidak': 5784, 'mengikat': 5785, 'debu': 5786, 'cahaya': 5787, 'warm': 5788, 'festival': 5789, 'menbah': 5790, 'kesan': 5791, 'led': 5792, 'raindariop': 5793, 'ketiduran': 5794, 'denda': 5795, 'ftidak': 5796, 'berbaju': 5797, 'smoga': 5798, 'mara': 5799, 'waswisu': 5800, 'fii': 5801, 'suduurinnas': 5802, 'hassad': 5803, 'julid': 5804, 'aamiinn': 5805, 'hormat': 5806, 'pinang': 5807, 'ranti': 5808, 'syafril': 5809, 'susu': 5810, 'gub': 5811, 'luara': 5812, 'baplikasi': 5813, 'menghendaki': 5814, 'ri1': 5815, 'menggalang': 5816, 'ntb': 5817, 'lombok': 5818, 'elu': 5819, 'ebong': 5820, 'gaswat': 5821, 'arsenal': 5822, 'ngalir': 5823, 'akherat': 5824, 'tagih': 5825, 'pembenahan': 5826, 'meneruskan': 5827, 'mengacu': 5828, 'kontek': 5829, 'iklim': 5830, 'pemanasan': 5831, 'global': 5832, 'polusi': 5833, '2015': 5834, 'anu': 5835, 'miring': 5836, 'penyeltidakraan': 5837, 'kumparan': 5838, 'berkomitmen': 5839, 'formulanya': 5840, 'odol': 5841, 'janjiin': 5842, 'pantesan': 5843, 'mongol': 5844, 'resah': 5845, 'cemerlanghaha': 5846, 'bnyak': 5847, 'menjegal': 5848, 'tuntaskan': 5849, 'jabatan': 5850, 'meridhoi': 5851, 'surbaya': 5852, 'urus': 5853, 'laknat': 5854, '150': 5855, 'milyar': 5856, 'eric': 5857, 'tohir': 5858, 'rip': 5859, 'manusiawi': 5860, 'ill': 5861, 'soon': 5862, 'karenaanies': 5863, 'mengaku': 5864, 'pemprovinsi': 5865, 'mengeksekusi': 5866, 'rapat2': 5867, 'pembayar': 5868, 'anggarannya': 5869, 'transparan': 5870, 'akuntabel': 5871, 'wattage': 5872, 'steker': 5873, 'sblum': 5874, 'seremonial': 5875, 'internetnya': 5876, 'tagline': 5877, 'leh': 5878, 'komennya': 5879, 'lanjutin': 5880, 'pembantu': 5881, 'gayabaru': 5882, '11abcd': 5883, 'terkecuali': 5884, '4c': 5885, '21c': 5886, 'legroom': 5887, '175': 5888, 'peribahasa': 5889, 'gatal': 5890, 'digaruk': 5891, '5g': 5892, 'diimplementasikan': 5893, 'mantab': 5894, 'melampauinya': 5895, 'concernnya': 5896, 'comfy': 5897, 'nanay': 5898, 'birunya': 5899, 'timeline': 5900, 'kmh': 5901, 'membiru': 5902, 'baginda': 5903, '61': 5904, 'dimatikan': 5905, 'volumenya': 5906, 'minimalis': 5907, 'konsentrasi': 5908, '20162017': 5909, 'ditemui': 5910, 'muriasindoro': 5911, 'layangnya': 5912, 'pemandangannya': 5913, 'lights': 5914, 'ceria': 5915, 'subway': 5916, 'va': 5917, 'point': 5918, 'opsinya': 5919, 'perang': 5920, 'helm': 5921, 'motoran': 5922, 'ketujuh': 5923, 'obtaining': 5924, 'ip': 5925, 'adress': 5926, '2002': 5927, 'kul': 5928, 'bandungg': 5929, 'diponegoro': 5930, 'flu': 5931, 'demam': 5932, 'cape': 5933, 'keliatanya': 5934, 'beriman': 5935, 'sayatidak': 5936, 'respect': 5937, 'pengetahuan': 5938, 'piala': 5939, 'diperluas': 5940, 'menggiring': 5941, 'mikrotrans': 5942, 'pit': 5943, 'stopnya': 5944, 'perfect': 5945, 'mengundang': 5946, 'zeneca': 5947, 'inter': 5948, 'hahahahaada': 5949, 'gonggong': 5950, 'alhamdullilah': 5951, 'terdahulu': 5952, 'aneis': 5953, 'berudu': 5954, 'dengki': 5955, 'amplop': 5956, 'nies': 5957, 'ane': 5958, 'kekenyangan': 5959, 'jamuan': 5960, 'than': 5961, 'every': 5962, 'zulu': 5963, 'njae': 5964, 'ngaciro': 5965, 'pita': 5966, 'apakali': 5967, 'diundur': 5968, 'grombolan': 5969, 'bani': 5970, 'blingsatan': 5971, 'kemampuan': 5972, 'amiiin': 5973, 'seoul': 5974, 'nyinyiran': 5975, 'fitnah': 5976, 'dilawan': 5977, 'nagih': 5978, 'rispek': 5979, 'tertutur': 5980, 'teratur': 5981, 'eloo': 5982, 'babrit': 5983, 'warganya': 5984, 'hatersnya': 5985, 'dijaga': 5986, 'insfratruktur': 5987, 'paron': 5988, 'period': 5989, 'diumuminnya': 5990, 'bantalan': 5991, 'perkerasaan': 5992, 'diaspal': 5993, 'lelaki': 5994, 'dipandang': 5995, 'maskulin': 5996, 'trtidaklek': 5997, 'jawapos': 5998, 'e100ss': 5999, 'dodo': 6000, 'ijk': 6001, 'mn': 6002, 'kestasiun': 6003, 'd111305': 6004, 'ckp': 6005, 'jakk': 6006, 'malangyogyakarta': 6007, 'memasuki': 6008, 'pemasangan': 6009, 'dipersembahkan': 6010, 'cilebut': 6011, 'neneknya': 6012, 'pantunnya': 6013, 'hati104': 6014, 'kamandakatidak': 6015, 'diliburkan': 6016, 'kedari': 6017, 'sediakala': 6018, 'pro': 6019, 'cc202': 6020, 'lantas': 6021, 'tuwek': 6022, 'sovenir': 6023, 'pramugari': 6024, 'musuhan': 6025, 'ganaik': 6026, 'disela': 6027, 'personilnya': 6028, 'garcep': 6029, 'nganu': 6030, 'qo': 6031, 'rib': 6032, 'usobat': 6033, 'backpackers': 6034, 'sabi': 6035, 'disemua': 6036, 'membelakangi': 6037, 'dicicipi': 6038, 'pedas': 6039, 'ringan': 6040, 'baso': 6041, 'slurup': 6042, 'lakarsantri': 6043, 'lakasantri': 6044, 'perumahan': 6045, '081357234847': 6046, '081232926726': 6047, '081234286150': 6048, '083820597959': 6049, '082358393986': 6050, 'acak': 6051, 'acakan': 6052, 'dirawat': 6053, 'keramat': 6054, 'galian': 6055, 'kabel': 6056, 'alakadarnya': 6057, 'kesimpen': 6058, 'gaskeun': 6059, 'yok': 6060, 'jadual': 6061, 'ketrack': 6062, 'disamping': 6063, '1a': 6064, '1b': 6065, 'pisah': 6066, '1c': 6067, '13b': 6068, 'berstatus': 6069, 'gratiskan': 6070, 'diseluruh': 6071, 'subscribe': 6072, 'berkelas': 6073, 'kasiahan': 6074, 'sate': 6075, 'taichannya': 6076, 'goa': 6077, 'gtidak': 6078, 'dioptimalkan': 6079, 'butut': 6080, 'penampakannya': 6081, 'pamer': 6082, 'disipin': 6083, 'pelintasan': 6084, '249': 6085, 'pelanggaran': 6086, 'menghadapinya': 6087, 'persuasif': 6088, 'ka41': 6089, 'kramat': 6090, 'wajahnya': 6091, 'pasarnya': 6092, 'semarangjakarta': 6093, 'nampak': 6094, 'godhog': 6095, 'citra': 6096, 'batunya': 6097, 'berserakan': 6098, 'jobang': 6099, 'batang': 6100, 'kepagian': 6101, 'surprisingly': 6102, 'sambelnya': 6103, 'gurih': 6104, 'diputer': 6105, 'malabarwilismutselturangga': 6106, 'jangan2': 6107, 'amannya': 6108, 'sebelom': 6109, 'kabari': 6110, 'zzzz': 6111, 'kerumahmu': 6112, '210': 6113, 'wait': 6114, 'uper': 6115, 'ngebacot': 6116, 'kerajaan': 6117, 'kebantu': 6118, 'durian': 6119, '6644ih3': 6120, 'e184ncp': 6121, 'dilayar': 6122, 'try': 6123, 'unconnection': 6124, 'terbayar': 6125, 'sekelas': 6126, 'limasbandan': 6127, 'limaspriuk': 6128, 'laris': 6129, 'mendpat': 6130, 'prujakannya': 6131, 'eits': 6132, 'diolah': 6133, 'hua': 6134, 'kedepanya': 6135, 'keli': 6136, 'ngegas': 6137, 'purwakarra': 6138, 'pemberitahuannya': 6139, 'menyeberang': 6140, 'moveon': 6141, 'saklawase': 6142, 'kirang': 6143, 'gocher': 6144, 'yeayyy': 6145, 'lt': 6146, 'midi': 6147, 'lagunya': 6148, 'itunes': 6149, '1650': 6150, 'menyerahkan': 6151, 'deputy': 6152, 'aaaa': 6153, 'hyangiene': 6154, 'secuil': 6155, 'bergabung': 6156, 'terpanjang': 6157, 'tour': 6158, 'kendor': 6159, 'loyo': 6160, 'lanyalla': 6161, 'mahmud': 6162, 'mattalitti': 6163, 'ketua': 6164, 'dpd': 6165, 'didiek': 6166, 'menaikkan': 6167, 'kepuasan': 6168, 'menyulitkan': 6169, 'merayakannya': 6170, 'totalitas': 6171, 'mengusung': 6172, 'jangankan': 6173, 'pelayannya': 6174, 'smg': 6175, 'kac': 6176, 'lakbok': 6177, 'alpinus': 6178, 'david': 6179, 'nunjukkan': 6180, 'pencinta': 6181, 'noga': 6182, 'luhut': 6183, 'nentengnya': 6184, 'perhentian': 6185, 'mengulik': 6186, 'terselip': 6187, 'tutur': 6188, 'harikeretaapi': 6189, 'dikompas': 6190, 'dipercayakan': 6191, 'sumatera': 6192, 'kalimantan': 6193, 'sulawesi': 6194, 'reformasinya': 6195, 'hay': 6196, 'centernya': 6197, 'dihubungi': 6198, 'mengaktifkan': 6199, 'berkembangnya': 6200, 'mengarah': 6201, 'lingkungan': 6202, 'pandai': 6203, 'swap': 6204, 'aksi': 6205, '130': 6206, '472500': 6207, '577500': 6208, 'sport': 6209, '707500': 6210, 'hargai': 6211, 'criebon': 6212, 'langsir': 6213, 'wengi': 6214, 'sliramu': 6215, 'tumeking': 6216, 'sirno': 6217, 'jauhtidak': 6218, 'jauhlokal': 6219, 'kaasihan': 6220, 'kariadi': 6221, 'luncurkan': 6222, 'memelihara': 6223, 'sayakan': 6224, 'semurah': 6225, 'peluncuran': 6226, 'diresmikan': 6227, 'yunanto': 6228, 'jenderal': 6229, 'danto': 6230, 'restyawan': 6231, 'induknya': 6232, 'spam': 6233, 'diseret': 6234, 'kakaknya': 6235, 'relasia': 6236, 'upacara': 6237, 'talinya': 6238, 'lalau': 6239, 'melebihi': 6240, '300330': 6241, '390': 6242, 'old': 6243, 'parsial': 6244, 'agamanya': 6245, 'said': 6246, 'aqil': 6247, 'ahlinya': 6248, 'kamerad': 6249, 'neraka': 6250, 'jahanam': 6251, 'pkipenghianatnkri': 6252, 'pantainya': 6253, 'ishak': 6254, 'dimaan': 6255, 'cabin': 6256, 'passion': 6257, 'adminn': 6258, 'lyly': 6259, 'panggang': 6260, 'punk': 6261, 'tejo': 6262, 'dijarakin': 6263, 'mananyakan': 6264, 'kertasnya': 6265, 'permukaan': 6266, '156': 6267, 'garuda': 6268, 'abd': 6269, 'saleh': 6270, 'kel': 6271, 'dunguscariang': 6272, 'atensi': 6273, 'cintaku': 6274, 'sayangku': 6275, 'pencariannya': 6276, 'bekasibandung': 6277, 'gambirbandung': 6278, '76th': 6279, 'plesetan': 6280, 'still': 6281, 'waiting': 6282, 'register': 6283, 'lalinkalalu': 6284, 'didinaskan': 6285, 'sbagai': 6286, 'broprasi': 6287, 'hitungan': 6288, 'pergeseran': 6289, 'besaran': 6290, 'd8': 6291, 'tuliskan': 6292, 'nanggung': 6293, 'perpangsaan': 6294, 'sukatani': 6295, 'sony': 6296, 'adminnaura': 6297, 'rek': 6298, 'nengokin': 6299, 'ampe': 6300, 'dipemakaman': 6301, 'selametan': 6302, 'fastresp': 6303, 'ssudah': 6304, 'selow': 6305, 'tumbas': 6306, 'ae': 6307, 'iso': 6308, 'keisi': 6309, 'metune': 6310, 'pensiun': 6311, 'p2ka': 6312, 'berkelit': 6313, 'ingkar': 6314, 'kosongan': 6315, 'emmanu': 6316, 'maennya': 6317, 'h90': 6318, 'wingi': 6319, 'langka': 6320, 'ham': 6321, 'dibilangtidak': 6322, 'skakmat': 6323, 'dimajuinnya': 6324, 'pertimbangin': 6325, 'dsk': 6326, 'ucaplikasian': 6327, 'tuk': 6328, 'keteta': 6329, 'pesaban': 6330, 'jak': 6331, '148': 6332, 'kampanye': 6333, 'tidakada': 6334, 'kantidak': 6335, 'balal': 6336, 'hpmu': 6337, 'bersihnya': 6338, 'pool': 6339, 'naturalisasi': 6340, 'oce': 6341, 'reklamasi': 6342, 'nol': 6343, 'gp': 6344, 'b2b': 6345, 'impact': 6346, 'buntung': 6347, 'cukuplah': 6348, 'ruete': 6349, 'tambahkan': 6350, 'pemberhentiannya': 6351, 'sinarjabar': 6352, 'sinarjabardotcom': 6353, 'faktual': 6354, 'infojabar': 6355, 'jawabarat': 6356, 'beritajabar': 6357, 'jabarterkini': 6358, 'stasiunkeretaapi': 6359, 'masihsepi': 6360, 'su': 6361, 'arfian': 6362, 'sek': 6363, 'heri': 6364, 'paten': 6365, 'kadar': 6366, 'bencinya': 6367, 'rasis': 6368, 'profil': 6369, 'ptidakntinya': 6370, 'melengkapi': 6371, 'manteb': 6372, 'hilir': 6373, 'initidak': 6374, 'asep': 6375, 'nye': 6376, 'nyang': 6377, 'ngebul': 6378, 'quote': 6379, 'berbalas': 6380, 'simpulkan': 6381, 'sajadah': 6382, 'mukena': 6383, 'jur': 6384, 'ccin': 6385, 'diteruskan': 6386, 'abadi': 6387, 'numpak': 6388, 'blas': 6389, 'nusindo': 6390, 'indofarma': 6391, 'farmalab': 6392, '747': 6393, '719': 6394, '717': 6395, 'ketutup': 6396, 'mggunakan': 6397, 'keterbatasan': 6398, 'personel': 6399, 'aleale': 6400, 'bolehkan': 6401, 'jri': 6402, 'daribrumah': 6403, 'kekejar': 6404, 'dikoreksi': 6405, 'benderang': 6406, 'asyifa': 6407, 'huray': 6408, 'snt46jz': 6409, 'permasalahan': 6410, 'stakeholder': 6411, 'penyelesaiannya': 6412, 'didorong': 6413, 'hukumannya': 6414, 'diakui': 6415, 'karenaga': 6416, 'pengemudi': 6417, 'helum': 6418, '1855': 6419, 'gambirkediri': 6420, '07': 6421, 'pengharum': 6422, 'baunya': 6423, 'enek': 6424, '1537': 6425, 'dinginan': 6426, 'ekomoni': 6427, 'railminn': 6428, 'mengembalikan': 6429, 'regulator': 6430, 'notis': 6431, 'brand': 6432, 'ambassadormu': 6433, 'oven': 6434, '415': 6435, '1840': 6436, '1810': 6437, 'backpackeran': 6438, 'hurry': 6439, 'menggantikan': 6440, 'argomelasi': 6441, 'gantiin': 6442, 'bolang': 6443, 'witahun': 6444, 'pluit': 6445, 'nunjukinn': 6446, 'olahraga': 6447, 'cerdas': 6448, 'buzzerrp': 6449, 'visualisai': 6450, 'cahayanya': 6451, 'hours': 6452, 'later': 6453, 'oon': 6454, 'karenajakarta': 6455, 'hadiri': 6456, 'menteru': 6457, 'kosambi': 6458, 'usulnya': 6459, 'mangap': 6460, 'kemudahan': 6461, 'tampaknya': 6462, 'moderat': 6463, 'thinker': 6464, 'ngetwit': 6465, 'dirubah': 6466, 'source': 6467, 'idiotnya': 6468, 'nyopet': 6469, 'terbang': 6470, 'muridnya': 6471, 'diketawain': 6472, 'pasukan': 6473, 'rendang': 6474, 'lengkoas': 6475, 'menyan': 6476, 'dipenjarain': 6477, 'mope': 6478, 'junjungan': 6479, 'ngibul': 6480, 'bangsat': 6481, 'tololnya': 6482, 'ketulungan': 6483, 'dikibulin': 6484, 'kebanjiran': 6485, 'nganggur': 6486, 'pengajar': 6487, 'mengatasnamakan': 6488, 'ky': 6489, 'sebangsa': 6490, 'senegara': 6491, 'damailah': 6492, 'kawan': 6493, 'amanah': 6494, 'ontel': 6495, 'network': 6496, 'kritisi': 6497, 'gobloknya': 6498, 'budayakan': 6499, 'membaca': 6500, 'literasinya': 6501, 'kepanasan': 6502, 'enya': 6503, 'menjatuhkan': 6504, 'losari': 6505, 'destinasinya': 6506, 'vino': 6507, 'kamsia': 6508, '558': 6509, 'sono': 6510, 'pijet': 6511, 'ditetaplikasian': 6512, 'smpe': 6513, 'pbnu': 6514, 'pemberontak': 6515, 'membantai': 6516, 'sipil': 6517, 'menewaskan': 6518, 'h2h1': 6519, 'dbulan': 6520, 'role': 6521, 'transformasi': 6522, 'dipimpin': 6523, 'amtrak': 6524, 'india': 6525, 'actionya': 6526, 'monggoh': 6527, 'mencuat': 6528, 'terkikisnya': 6529, 'kencana': 6530, 'nalarmu': 6531, 'dbd': 6532, 'banjir': 6533, 'nes': 6534, 'ilangan': 6535, 'civitas': 6536, 'nomornya': 6537, 'ngelewatin': 6538, '1441': 6539, 'kathuken': 6540, 'kalisat': 6541, 'panarukan': 6542, 'reaktivasikan': 6543, 'rembang': 6544, 'demak': 6545, 'peronnya': 6546, 'kudus': 6547, 'dimanfaatkan': 6548, 'oknum': 6549, 'mengklaim': 6550, 'miliknya': 6551, 'toko': 6552, 'digusur': 6553, 'paksa': 6554, 'akankah': 6555, 'menghidupkan': 6556, 'penduduk': 6557, 'menjadikannya': 6558, 'maish': 6559, 'crash': 6560, 'terakomodasi': 6561, 'serentak': 6562, 'kp': 6563, '1217': 6564, 'tumplek': 6565, 'kecele': 6566, 'validnya': 6567, 'gubug': 6568, 'bilangin': 6569, 'announcer': 6570, 'ngomongnya': 6571, 'omongannya': 6572, 'ketemunya': 6573, 'konseran': 6574, 'atauga': 6575, 'loooh': 6576, 'sunbae': 6577, 'collabnya': 6578, 'lokasii': 6579, 'syuting': 6580, 'mvnya': 6581, 'tausu': 6582, 'tanyarl': 6583, 'cw': 6584, 'kpop': 6585, 'collab': 6586, '6kurang': 6587, 'bedanyatidak': 6588, 'bersifat': 6589, 'jaditidak': 6590, 'menilai': 6591, 'campur': 6592, 'sandaran': 6593, 'ergonomis': 6594, 'dpn': 6595, 'lemparan': 6596, 'bobrok': 6597, 'mtdknti': 6598, 'palmerah': 6599, 'bp2': 6600, 'footage': 6601, 'kurangnya': 6602, 'pantauan': 6603, 'sterilisasi': 6604, 'trotoar': 6605, 'tegas': 6606, 'kmrn': 6607, 'sampingan': 6608, 'speakernya': 6609, 'dikencengin': 6610, 'terimakasih': 6611, 'lantai': 6612, 'konteks': 6613, 'izinkan': 6614, 'bad': 6615, 'gateaway': 6616, 'tipikal': 6617, 'forbidden': 6618, 'diinstall': 6619, 'dipertanggung': 6620, 'pernyataan': 6621, 'laksana': 6622, 'danau': 6623, 'lautan': 6624, 'pasir': 6625, 'pendapat': 6626, 'rssa': 6627, 'paru': 6628, 'rkz': 6629, 'yusuf': 6630, 'tentara': 6631, 'engga': 6632, 'espress': 6633, 'kedengeran': 6634, 'mendekat': 6635, 'centeng': 6636, 'membayara': 6637, 'booked': 6638, 'bagaimanya': 6639, 'lllllllp': 6640, '1720': 6641, 'mutasi': 6642, 'terkirim': 6643, 'kadaluwarsa': 6644, 'disimak': 6645, 'ngeluarin': 6646, 'kebencian': 6647, 'psi': 6648, 'pdip': 6649, 'pastilah': 6650, 'seseorang': 6651, 'menuntun': 6652, 'tindakannya': 6653, 'pagimu': 6654, 'menyusui': 6655, 'ternyaman': 6656, 'dinaikin': 6657, 'wo': 6658, 'untum': 6659, 'yaps': 6660, '106s': 6661, '00': 6662, 'summary': 6663, 'cmhi': 6664, 'cb': 6665, 'kelinci': 6666, 'disejahterakan': 6667, 'lapak': 6668, 'dukungpemudaberwirausaha': 6669, 'rabies': 6670, 'japan': 6671, '255': 6672, 'kewenangan': 6673, 'kemhub': 6674, 'dipengaruhi': 6675, 'dialalui': 6676, 'bagaimna': 6677, '104rb': 6678, 'regional': 6679, 'divre': 6680, 'tanjungkarang': 6681, 'limex': 6682, 'pencairannya': 6683, 'ditransfer': 6684, 'psnlpy': 6685, 'dus': 6686, 'ukuran': 6687, '55x33x47': 6688, 'beat': 6689, 'ngegarong': 6690, 'subtansi': 6691, 'diborong': 6692, 'dasarnya': 6693, 'benci': 6694, 'nyarinyari': 6695, 'nyinyirmu': 6696, 'sajalah': 6697, 'war': 6698, 'permaianan': 6699, 'seenaknya': 6700, 'anonim': 6701, 'nafkah': 6702, 'membrikan': 6703, 'ilmu': 6704, 'relpen': 6705, 'incumbent': 6706, 'independen': 6707, 'tegalekspres': 6708, 'fir': 6709, 'bolehnya': 6710, 'enttidak': 6711, 'kecam': 6712, 'kudos': 6713, 'dipenuhi': 6714, 'luring': 6715, 'penghasilanmu': 6716, 'pemenuhan': 6717, 'jejak': 6718, 'menerus': 6719, 'ditelanjangi': 6720, 'kedunguan': 6721, 'lebar': 6722, 'keuangan': 6723, 'pembiayaan': 6724, 'infrastruktur': 6725, 'dihubungin': 6726, 'dirugikan': 6727, 'karenapake': 6728, 'pretlah': 6729, 'beh': 6730, 'penghasilan': 6731, 'kpr': 6732, 'peminat': 6733, 'penghasilannya': 6734, 'qualified': 6735, 'dinaikkan': 6736, 'teori': 6737, 'menangis': 6738, 'mempersingkat': 6739, 'antibgen': 6740, 'jwab': 6741, 'skarang': 6742, 'expres': 6743, 'pesanya': 6744, 'perayaan': 6745, 'tementemen': 6746, 'membagikan': 6747, 'souvernir': 6748, 'mengajukan': 6749, '320319': 6750, '267268': 6751, 'plabuan': 6752, '7049': 6753, '0010': 6754, 'dianterin': 6755, 'tautan': 6756, 'jdtidak': 6757, 'melintasnya': 6758, 'republik': 6759, 'terhambat': 6760, 'membelikan': 6761, 'didata': 6762, 'peumpang': 6763, 'diedit': 6764, 'question': 6765, 'trem': 6766, 'monorel': 6767, 'bongkokan': 6768, 'jejaring': 6769, 'litbangkes': 6770, 'basi': 6771, 'ngambek': 6772, 'pertanian': 6773, 'editornya': 6774, 'csnya': 6775, 'ngemall': 6776, '2050an': 6777, 'dirilis': 6778, 'syaratanya': 6779, 'kik': 6780, 'pinat': 6781, 'sepremiun': 6782, 'nemenin': 6783, 'wira': 6784, 'wiriku': 6785, 'kerasa': 6786, 'langsiran': 6787, 'witahunka': 6788, 'bingkisan': 6789, 'beropersi': 6790, 'diajarin': 6791, 'cia': 6792, 'kaplb': 6793, 'diprivate': 6794, 'manufaktur': 6795, 'asia': 6796, 'ttidakra': 6797, 'memfollow': 6798, 'bapakibu': 6799, 'womens': 6800, 'mens': 6801, 'dimention': 6802, 'souvenirnya': 6803, 'pemberlakuan': 6804, 'belanda': 6805, 'keret': 6806, 'kejer': 6807, 'lanjuntkan': 6808, 'kegoblokanya': 6809, 'jarah': 6810, 'ciri': 6811, 'digambarkan': 6812, 'surveinya': 6813, 'antusias': 6814, 'kemenrian': 6815, 'dites': 6816, 'yadan': 6817, 'itutidak': 6818, 'ngode': 6819, 'nyuruh': 6820, 'yaman': 6821, 'amatiran': 6822, 'kerjaannya': 6823, 'diberesin': 6824, 'renovasi': 6825, 'dominan': 6826, 'ketepatan': 6827, 'sistemik': 6828, '2792021': 6829, 'dapetin': 6830, 'lompatan': 6831, 'serasa': 6832, 'pemenangnya': 6833, 'mikrolet': 6834, 'bergungsi': 6835, 'pengumpan': 6836, 'brumbung': 6837, 'menggunung': 6838, 'agendakan': 6839, 'kemayoran': 6840, 'cmi': 6841, 'gmr': 6842, 'kaca': 6843, 'lacak': 6844, 'ketiga': 6845, 'bahari': 6846, 'yampun': 6847, 'ketenangan': 6848, 'membawaku': 6849, 'kesedihan': 6850, 'all': 6851, 'mbah': 6852, 'penghapusan': 6853, 'koo': 6854, 'gtu': 6855, 'disi': 6856, 'nomernya': 6857, 'susun': 6858, 'dialihin': 6859, 'ssst': 6860, 'setoran': 6861, 'plafond': 6862, 'relate': 6863, 'putusan': 6864, 'restoka': 6865, 'krawu': 6866, 'yoyakarta': 6867, 'cordon': 6868, 'bleu': 6869, 'tuna': 6870, 'aglomerasin': 6871, 'ditungguin': 6872, 'dengarkan': 6873, 'ovo': 6874, 'menyimak': 6875, 'koi': 6876, 'tomat': 6877, 'tomatnya': 6878, 'ucapin': 6879, 'ngelag': 6880, 'diagendakan': 6881, 'hbd': 6882, 'minterima': 6883, 'mengantarkan': 6884, 'jutaan': 6885, 'kameramennya': 6886, 'matinya': 6887, 'merata': 6888, 'blast': 6889, 'wohoo': 6890, 'pucing': 6891, 'pala': 6892, 'berbi': 6893, 'jabanin': 6894, 'sejuta': 6895, 'pantat': 6896, 'ndan': 6897, 'dilancarkan': 6898, 'sawah': 6899, 'sunrise': 6900, 'gambirbalapan': 6901, 'ketuker': 6902, '291b': 6903, 'katawang': 6904, 'carikan': 6905, 'jigur': 6906, 'hongkong': 6907, 'protap': 6908, 'wet': 6909, 'sanitasi': 6910, 'pwspasar': 6911, 'dipesankan': 6912, 'dikirimi': 6913, 'memori': 6914, 'tidakbisa': 6915, '442': 6916, '95': 6917, '1447': 6918, 'tagl': 6919, 'adaptif': 6920, 'atap': 6921, 'panoramic': 6922, 'deck': 6923, 'kamar': 6924, 'mandinya': 6925, 'luas': 6926, 'wardariobenya': 6927, 'kecantikan': 6928, 'spa': 6929, 'facial': 6930, 'treatment': 6931, 'disimpen': 6932, 'bur': 6933, 'utuh': 6934, 'abc': 6935, 'uhuy': 6936, 'bangetkan': 6937, 'kabarin': 6938, 'fyp': 6939, 'dikomplain': 6940, 'dikorbankan': 6941, 'korbankan': 6942, 'tombak': 6943, 'modernisasi': 6944, 'efisiensinya': 6945, 'ide': 6946, '1310': 6947, 'wiih': 6948, 'wonosobo': 6949, 'uborampenya': 6950, 'dinganu': 6951, 'ykt': 6952, 'tio': 6953, 'pademi': 6954, 'ditempatin': 6955, 'youtubenya': 6956, 'nyangka': 6957, 'kokas': 6958, 'ngecharger': 6959, 'goodbye': 6960, 'batre': 6961, 'lowbat': 6962, 'cemas': 6963, 'nyampai': 6964, 'peresmiannya': 6965, 'percepetan': 6966, 'bahagianya': 6967, 'faster': 6968, 'better': 6969, 'naikeretaapi': 6970, 'percerahan': 6971, 'pekerjaa': 6972, 'analisis': 6973, 'bendungan': 6974, 'irigasi': 6975, 'elegan': 6976, 'budi': 6977, 'sumadi': 6978, 'berembun': 6979, 'transpostasi': 6980, 'desek': 6981, 'desekan': 6982, 'rumahku': 6983, 'wkkw': 6984, 'ambyar': 6985, 'ribetin': 6986, 'kecovidan': 6987, 'konyol': 6988, 'didalamnya': 6989, 'berbenah': 6990, 'saingan': 6991, 'inbox': 6992, 'iconomics': 6993, 'bl': 6994, 'senenn': 6995, 'makjleb': 6996, 'mesan': 6997, 'memasukkan': 6998, 'gacoan': 6999, 'cute': 7000, 'perjalalanan': 7001, 'sikecil': 7002, 'vaksinasipelanggankai': 7003, 'jasajasa': 7004, 'harikai': 7005, 'eby': 7006, 'ebynews': 7007, 'keroncong': 7008, 'sungai': 7009, 'tabok': 7010, 'dibiarkan': 7011, 'perginya': 7012, 'kotakota': 7013, 'berperan': 7014, 'amerika': 7015, 'sinkazen': 7016, 'urat': 7017, 'nadi': 7018, 'skrng': 7019, 'elektrifikasi': 7020, 'save': 7021, 'dicintai': 7022, 'lapisan': 7023, 'moal': 7024, 'cina': 7025, 'yusril': 7026, 'rizky': 7027, 'pratama': 7028, 'dilayanin': 7029, 'percepat': 7030, 'jok': 7031, 'tirai': 7032, 'kain': 7033, 'ciremainya': 7034, 'irung': 7035, 'sogrok': 7036, 'ii': 7037, 'wedine': 7038, 'infeksi': 7039, 'pesbuk': 7040, 'capai': 7041, '108462': 7042, 'faming': 7043, 'into': 7044, 'platform': 7045, 'nampung': 7046, 'berpacu': 7047, 'suntuk': 7048, 'ai': 7049, 'gang': 7050, 'nfts': 7051, 'propic': 7052, 'efisiensi': 7053, 'pembyaran': 7054, 'nft': 7055, 'smgpsr': 7056, 'gbsa': 7057, 'retweet': 7058, 'koki': 7059, 'protect': 7060, 'dirapikan': 7061, 'pekerjaanya': 7062, 'pengawas': 7063, 'dilapangan': 7064, 'sesepuran': 7065, 'hadiahnya': 7066, 'mottonya': 7067, 'penggunanya': 7068, 'topclass': 7069, 'pendidik': 7070, 'usai': 7071, 'ngajakin': 7072, 'hyung': 7073, 'kameremennya': 7074, 'sanak': 7075, 'liwat': 7076, 'andelin': 7077, 'sembah': 7078, 'rajabasa': 7079, 'melanda': 7080, 'dibooking': 7081, 'logo': 7082, 'berlibur': 7083, 'pam': 7084, 'new': 7085, 'tercinta': 7086, 'bhakti': 7087, 'postel': 7088, 'sepecial': 7089, 'mengabdi': 7090, '1824': 7091, 'reaktifasi': 7092, 'mobilisasi': 7093, 'penjajahan': 7094, 'pikirkan': 7095, 'kepentingan': 7096, 'berdirinya': 7097, 'pemukiman': 7098, 'bantaran': 7099, 'pembaharuan': 7100, 'berkoordinasi': 7101, 'levelan': 7102, 'ucapan': 7103, 'kreasi': 7104, 'rekanrekan': 7105, 'semenamena': 7106, '0643': 7107, 'kranji': 7108, '656': 7109, '658': 7110, 'minim': 7111, 'lamaran': 7112, '636': 7113, 'larang': 7114, '652': 7115, 'mtvnad': 7116, 'garda': 7117, 'keretaindonesia': 7118, 'konsumennya': 7119, 'slogan': 7120, '320': 7121, '130cc': 7122, '869400': 7123, '4600': 7124, '21kg': 7125, '100600': 7126, 'kilogram': 7127, 'disatuan': 7128, 'bangetdi': 7129, 'contekannya': 7130, 'kebalik': 7131, 'bo': 7132, 'respondd': 7133, 'sqc': 7134, 'klasik': 7135, 'sebaik': 7136, 'takdir': 7137, 'berkata': 7138, 'spare': 7139, 'tika': 7140, 'maksudku': 7141, 'ijo': 7142, 'ijonya': 7143, 'han': 7144, 'loketnya': 7145, 'tkp': 7146, 'bberapa': 7147, 'ajukan': 7148, 'nyayang': 7149, 'tanyauntuk': 7150, 'darurat': 7151, 'tuban': 7152, 'direaktivasi': 7153, 'unik': 7154, 'motornya': 7155, 'pm': 7156, 'jakartangrombo': 7157, 'training': 7158, 'disarankan': 7159, 'kts': 7160, '324': 7161, 'menggantinya': 7162, 'memproses': 7163, 'tnya': 7164, 'berlebih': 7165, 'awn': 7166, 'wrwb': 7167, 'dhodo': 7168, 'eyang': 7169, 'cucunya': 7170, 'seusai': 7171, 'kerahkan': 7172, 'angkut': 7173, '05302030': 7174, '1230': 7175, 'apaakah': 7176, 'ehembpasti': 7177, 'ngasap': 7178, 'pikir': 7179, 'cmtidak': 7180, 'cacat': 7181, 'pemberangjatan': 7182, 'rekomendasi': 7183, 'wisma': 7184, 'atlet': 7185, 'diperbaikin': 7186, 'fotona': 7187, 'dimasukkan': 7188, 'mintes': 7189, 'fikir': 7190, 'dikatain': 7191, 'terbalik': 7192, 'matian': 7193, 'jebakan': 7194, 'batmen': 7195, 'memaksa': 7196, 'buntunya': 7197, 'pendidikan': 7198, 'resufle': 7199, 'tokoh': 7200, 'pade': 7201, 'memalukan': 7202, 'ketauan': 7203, 'jugak': 7204, 'pembodohan': 7205, 'ngatno': 7206, 'volume': 7207, 'mksd': 7208, '1430an': 7209, 'bkslpn': 7210, '47': 7211, 'seng': 7212, 'bedo': 7213, 'yogyakartamadiun': 7214, 'h32': 7215, 'mesankan': 7216, 'playstore': 7217, 'menyala': 7218, '401': 7219, '2127': 7220, 'sekrang': 7221, 'berburu': 7222, 'langkanya': 7223, 'endors': 7224, 'terimakasi': 7225, 'sense': 7226, 'hrus': 7227, 'ehdmsudmhxnxhd': 7228, 'sekeluarga': 7229, 'setegah': 7230, '91': 7231, 'perjalananku': 7232, 'astrazeneca': 7233, 'alunyang': 7234, 'lhaaa': 7235, 'nunda': 7236, 'vacation': 7237, 'tembe': 7238, 'distribusi': 7239, 'ref': 7240, '6an': 7241, 'sapu': 7242, 'jagat': 7243, 'kemaslahatan': 7244, 'tauladan': 7245, 'gubernurnya': 7246, 'diponcol': 7247, 'antrinya': 7248, 'nyampenya': 7249, 'ngetem': 7250, 'previlage': 7251, 'meminta': 7252, 'penyeberangan': 7253, 'kalender': 7254, 'beropresi': 7255, '20kg': 7256, 'janjikan': 7257, 'kontra': 7258, 'restonya': 7259, 'sajakah': 7260, 'terkejar': 7261, 'screening': 7262, 'hinfo': 7263, 'prioritas': 7264, 'eksis': 7265, 'dilindungi': 7266, 'mrnggunakan': 7267, 'stponcol': 7268, 'alhamdullillah': 7269, 'lindungan': 7270, 'pemimpin': 7271, 'yrobbal': 7272, 'dengah': 7273, 'khusyuk': 7274, 'dzuhur': 7275, 'ashar': 7276, 'maannajah': 7277, 'akhi': 7278, 'sholeh': 7279, 'cieee': 7280, 'nadji': 7281, 'gayanya': 7282, '104000': 7283, 'lelucon': 7284, 'htidak': 7285, 'gantinya': 7286, 'mengharuskan': 7287, 'cipendeui': 7288, 'yogyakartasemarang': 7289, '180': 7290, 'wujud': 7291, 'ideal': 7292, 'amannyamannaikkereta': 7293, '081112111121': 7294, 'gegara': 7295, 'sejoli': 7296, 'monopoli': 7297, 'memanusiakan': 7298, 'nelfon': 7299, 'amiin': 7300, 'menyisakan': 7301, 'cp': 7302, 'balikkan': 7303, 'pertanggung': 7304, 'notabennya': 7305, 'direbahin': 7306, 'memperhentikan': 7307, 'penatran': 7308, 'edit': 7309, 'pesanku': 7310, 'rekomen': 7311, 'kepengen': 7312, 'emak': 7313, 'atawa': 7314, 'merdeka': 7315, 'sat': 7316, 'das': 7317, 'penglajon': 7318, 'mingguan': 7319, 'rabbal': 7320, 'persayaratan': 7321, 'purwokertoml': 7322, 'taksi': 7323, 'str': 7324, 'yeyeye': 7325, 'mengeluhkan': 7326, 'buaian': 7327, 'keitung': 7328, 'eneg': 7329, 'sasaran': 7330, 'mempengaruhi': 7331, 'curhatan': 7332, 'ell': 7333, 'maskeran': 7334, 'tingkat': 7335, 'krt': 7336, 'diatasnya': 7337, 'sendirikan': 7338, 'arjuno': 7339, 'klau': 7340, 'pengaspalan': 7341, 'landasan': 7342, 'sayangi': 7343, 'aset': 7344, 'tepos': 7345, 'hali': 7346, 'persib': 7347, 'cenah': 7348, 'manis': 7349, 'susul': 7350, 'njuk': 7351, 'tweeps': 7352, 'pulpen': 7353, 'beradu': 7354, 'menghadeh': 7355, 'dihela': 7356, 'diesel': 7357, 'elektrik': 7358, 'terkenal': 7359, 'horn': 7360, 'tonenya': 7361, 'berakibat': 7362, 'sumpek': 7363, 'mnggunakan': 7364, 'suasananya': 7365, 'okeh': 7366, 'azkia': 7367, 'dipublish': 7368, 'spesifiknya': 7369, 'karenadi': 7370, 'terdata': 7371, 'tertampil': 7372, 'pasphoto': 7373, 'aplikasily': 7374, 'sumarmo': 7375, 'ceu': 7376, 'evi': 7377, 'cnbc': 7378, 'matra': 7379, '2d': 7380, 'kadonya': 7381, 'didownload': 7382, 'passnya': 7383, 'dilebarkan': 7384, 'ngancem': 7385, 'emot': 7386, 'diprotes': 7387, 'jebol': 7388, 'donohudan': 7389, 'boyolali': 7390, 'kaosnya': 7391, 'haurs': 7392, 'progomataram': 7393, 'sirat': 7394, 'tawangka': 7395, '81c': 7396, 'konsisten': 7397, 'kelaparan': 7398, 'mulus': 7399, 'keberatan': 7400, 'hiraukan': 7401, 'hunting': 7402, 'berbentuk': 7403, 'roti': 7404, 'mineral': 7405, 'ekstra': 7406, 'konsekuensi': 7407, 'menguntungkan': 7408, 'nikmati': 7409, 'minimarket': 7410, 'kafe': 7411, 'unesa': 7412, 'sb': 7413, 'tart': 7414, 'selangit': 7415, 'sesalkan': 7416, 'sayangkan': 7417, 'inspiratif': 7418, 'imut': 7419, 'terletak': 7420, 'neo': 7421, 'journalist': 7422, 'makna': 7423, 'danesa': 7424, 'isoh': 7425, 'nembung': 7426, 'rung': 7427, 'hariannya': 7428, 'pemenang': 7429, 'sayembara': 7430, 'terpadu': 7431, 'light': 7432, 'ditransportasi': 7433, 'priorty': 7434, 'stlh': 7435, '19332597': 7436, 'keterang': 7437, 'indonesiamaju': 7438, 'jokowidodo': 7439, 'linimasa': 7440, 'dinkes': 7441, 'coworking': 7442, 'terorisme': 7443, 'menuntaskan': 7444, 'jatilihur': 7445, 'dijadiin': 7446, 'siskae': 7447, 'lpnbks': 7448, 'kuy': 7449, 'kakada': 7450, 'penyangga': 7451, 'selonjorannya': 7452, 'cctvnya': 7453, 'terapin': 7454, 'laporannya': 7455, 'ditempatkan': 7456, 'kukira': 7457, 'puol': 7458, 'cakepe': 7459, 'sesat': 7460, 'okb': 7461, 'nganter': 7462, 'dipikirnya': 7463, 'ndeso': 7464, 'followup': 7465, '205': 7466, 'marchen': 7467, 'm64': 7468, 'videosepur': 7469, 'hahanah': 7470, 'berjauhan': 7471, 'abduh': 7472, 'giveaway': 7473, 'senengnya': 7474, 'kf94': 7475, 'kn95': 7476, 'cewe': 7477, 'cowo': 7478, 'senengambir': 7479, 'busung': 7480, 'dibuatin': 7481, 'maksih': 7482, 'wali': 7483, 'rupanya': 7484, 'pendukung': 7485, 'pendukungnya': 7486, 'gigih': 7487, 'konstruktif': 7488, 'ngene': 7489, 'lek': 7490, 'kuduga': 7491, '2829': 7492, 'fikirannya': 7493, 'siapin': 7494, 'rapidpcr': 7495, '70497050': 7496, 'berkaas': 7497, 'ish': 7498, 'nyabukan': 7499, 'tergoda': 7500, 'ks': 7501, 'telinganya': 7502, 'kutumpangi': 7503, 'ditampilkan': 7504, 'terpantau': 7505, 'kompensasinya': 7506, 'kadung': 7507, 'didahulukan': 7508, 'tertabrak': 7509, 'jaka': 7510, 'tingkir': 7511, 'berantas': 7512, 'fans': 7513, 'since': 7514, '76tahunanniversary': 7515, 'puluh': 7516, 'enam': 7517, 'bokeh': 7518, 'merespon': 7519, 'kunjungi': 7520, 'playlist': 7521, 'bertemakan': 7522, 'kaitannya': 7523, 'additional': 7524, 'cost': 7525, 'dedikasinya': 7526, 'digemari': 7527, 'huntukai': 7528, 'mewakili': 7529, 'studi': 7530, 'komunikasi': 7531, 'teknik': 7532, 'maarif': 7533, 'latif': 7534, '224': 7535, 'mendatangi': 7536, 'pibesdei': 7537, 'h2': 7538, 'may': 7539, 'become': 7540, 'reliable': 7541, 'sustainable': 7542, 'keep': 7543, 'improvising': 7544, 'services': 7545, 'running': 7546, 'picture': 7547, '0916': 7548, 'continuous': 7549, 'tamping': 7550, 'cat': 7551, 'plasser': 7552, 'theurer': 7553, 'july': 7554, 'terjamin': 7555, 'hidangan': 7556, '82': 7557, 'inspirasi': 7558, 'ayonaikkereta': 7559, 'gemilang': 7560, '76tahunkai': 7561, 'insan': 7562, 'mendekatkan': 7563, 'menyatukan': 7564, 'stickernya': 7565, 'kemerdekaan': 7566, 'bumnuntukindonesia': 7567, 'door': 7568, 'prizenya': 7569, '37a': 7570, 'berkhidmat': 7571, '024': 7572, '86402637': 7573, '081329369366': 7574, '081329837231': 7575, '131cc': 7576, '200cc': 7577, '693000': 7578, 'diintegrasikan': 7579, '28092021': 7580, 'pengunjung': 7581, 'terpencar': 7582, 'mal': 7583, 'shinosaka': 7584, 'melalangbuana': 7585, 'kemari': 7586, 'ribuan': 7587, 'menyebrang': 7588, 'selat': 7589, 'tmii': 7590, 'hu': 7591, 'sut': 7592, 'menebak': 7593, 'krdnya': 7594, 'nyaris': 7595, 'tunggunya': 7596, 'kamadaka': 7597, 'tegalsemarang': 7598, 'dim': 7599, '62': 7600, 'menyingkat': 7601, 'diblokir': 7602, 'penulisan': 7603, 'sign': 7604, 'bangkit': 7605, 'balasnya': 7606, 'jujurlah': 7607, 'aplikai': 7608, 'okt': 7609, 'denganku': 7610, 'untukku': 7611, 'one': 7612, 'thing': 7613, 'ngeong': 7614, 'cakenya': 7615, 'gunanya': 7616, 'kekeretaan': 7617, 'ndang': 7618, 'aglomerasinya': 7619, 'yntkts': 7620, 'denahnya': 7621, 'dimahalin': 7622, 'populer': 7623, 'bendo': 7624, 'difabel': 7625, '64': 7626, 'insya': 7627, 'sholehah': 7628, 'sekalinya': 7629, 'doog': 7630, 'bidan': 7631, 'karton': 7632, 'betah': 7633, 'cipujaserayu': 7634, 'neduhin': 7635, 'keriuhan': 7636, 'untungan': 7637, 'pelopor': 7638, 'aspek': 7639, 'kinerjanya': 7640, 'burung': 7641, 'solatip': 7642, 'struggle': 7643, 'tumpah': 7644, 'berbasis': 7645, 'cotos': 7646, 'ngebolang': 7647, 'marilah': 7648, 'sejahtera': 7649, 'tertibkan': 7650, 'diintimidasi': 7651, 'pangkalan': 7652, 'trauma': 7653, 'walkot': 7654, 'keberadaan': 7655, '2892021': 7656, 'cus': 7657, 'mengantarku': 7658, 'belahan': 7659, 'jiwaku': 7660, '1st': 7661, 'username': 7662, 'komjen': 7663, 'pol': 7664, 'eddy': 7665, 'pramono': 7666, 'meninjau': 7667, 'jayapura': 7668, 'disiplinkan': 7669, 'semarakkan': 7670, 'pon': 7671, 'dadah': 7672, 'penghubung': 7673, 'memisahkan': 7674, 'memajukan': 7675, 'meramaikan': 7676, 'tanggapan': 7677, 'hot': 7678, 'pics': 7679, 'kado': 7680, 'perikanan': 7681, 'coy': 7682, 'god': 7683, 'bless': 7684, 'berkembang': 7685, 'tanpamu': 7686, 'candu': 7687, 'merindu': 7688, 'packer': 7689, 'perantara': 7690, 'ciptakan': 7691, 'jne': 7692, 'komeng': 7693, 'berbagi': 7694, 'menyempatkan': 7695, 'sing': 7696, 'edition': 7697, 'ngelobby': 7698, 'diwaro': 7699, 'taspat': 7700, 'bantre': 7701, 'ppk': 7702, 'secantik': 7703, 'koc': 7704, 'het': 7705, 'mutiah': 7706, 'sajaknya': 7707, 'yaudah': 7708, 'belang': 7709, 'pupuk': 7710, 'ngebutnya': 7711, 'senajan': 7712, 'riwayatnya': 7713, 'kehapus': 7714, 'kenangannya': 7715, 'ruhyat': 7716, 'wujudkan': 7717, 'harapannya': 7718, 'sedekah': 7719, 'berkah': 7720, 'green': 7721, 'screennya': 7722, 'jihan': 7723, 'baliho': 7724, 'nulis': 7725, '7an': 7726, 'patah': 7727, '2108': 7728, '2123': 7729, 'logistic': 7730, 'udahan': 7731, 'monta': 7732, 'pemasaran': 7733, 'patungnya': 7734, 'estetikanya': 7735, 'coming': 7736, 'ajeg': 7737, 'hoki': 7738, 'berjaga': 7739, 'failed': 7740, 'ahoker': 7741, 'pecundang': 7742, 'mengakui': 7743, 'advicenya': 7744, 'highly': 7745, 'apreciated': 7746, 'ki': 7747, 'beuh': 7748, 'gabut': 7749, 'masyaallah': 7750, 'harun': 7751, 'masiku': 7752, 'kelihat': 7753, 'kecebong': 7754, 'penyanyi': 7755, 'umkm': 7756, 'pengangguran': 7757, 'nyata': 7758, 'dititipkan': 7759, 'pembina': 7760, 'barokahlah': 7761, 'disetor': 7762, '950': 7763, 'miliar': 7764, 'biang': 7765, 'tagihan': 7766, 'baguslah': 7767, 'bulu': 7768, 'maling': 7769, 'ditanyain': 7770, 'ikn': 7771, 'dananya': 7772, '895t': 7773, 'dih': 7774, 'move': 7775, 'dipenjara': 7776, 'urusin': 7777, 'kpk': 7778, 'disodok': 7779, 'sodok': 7780, 'idungnya': 7781, 'nyodoknya': 7782, 'netes': 7783, 'tests': 7784, 'kantong': 7785, 'terpaksa': 7786, 'ngebet': 7787, 'ngehoax': 7788, 'tuslah': 7789, '2011': 7790, 'ncang': 7791, 'ncing': 7792, 'enyak': 7793, 'babe': 7794, 'nyok': 7795, 'movie': 7796, 'pengkhianatan': 7797, '30s': 7798, 'cekidot': 7799, 'ppfn': 7800, 'produksi': 7801, 'sedap': 7802, 'nengok': 7803, 'tuduhan': 7804, 'nayla': 7805, 'giring': 7806, 'danang': 7807, 'dejanout': 7808, 'g30s': 7809, 'mencoret': 7810, 'cakupan': 7811, 'haters': 7812, 'moh': 7813, 'tone': 7814, 'bajunya': 7815, 'berasal': 7816, 'bandingkan': 7817, 'pengeluaran': 7818, 'nguap': 7819, 'penggaris': 7820, 'arungi': 7821, 'samudera': 7822, 'fikum': 7823, 'presentase': 7824, 'terangan': 7825, 'sopan': 7826, 'slipi': 7827, 'petamburan': 7828, 'nantangin': 7829, 'elah': 7830, 'direnovasi': 7831, 'sisakan': 7832, '20024': 7833, 'sudi': 7834, '44': 7835, '02': 7836, 'casablanca': 7837, 'beraksi': 7838, 'karatan': 7839, 'waras': 7840, 'aquarium': 7841, 'kecebongnya': 7842, 'resmikan': 7843, 'monas': 7844, 'patung': 7845, 'selvi': 7846, 'pencitraan': 7847, 'dempet': 7848, 'dempetan': 7849, 'sehad': 7850, 'nistanda': 7851, 'empad': 7852, 'women': 7853, 'left': 7854, 'dimudahkan': 7855, 'suami': 7856, 'kirimkan': 7857, 'mengirimkan': 7858, 'yogyakartanya': 7859, 'aye': 7860, 'hun': 7861, 'dikenai': 7862, 'mengakibatkan': 7863, 'hilangnya': 7864, 'sekelompok': 7865, 'uring': 7866, 'uringan': 7867, 'match': 7868, 'matchan': 7869, 'realita': 7870, 'penyesuaian': 7871, 'revenge': 7872, 'mengizinkan': 7873, 'pd': 7874, 'padamu': 7875, 'yeah': 7876, 'seremnya': 7877, '1708': 7878, 'crushnya': 7879, 'nyerong': 7880, 'comeback': 7881, 'printilannya': 7882, 'dicopotin': 7883, 'dibuang': 7884, 'comberan': 7885, 'mengabulkan': 7886, 'maguwo': 7887, '56': 7888, 'pembatasannya': 7889, 'exists': 7890, 'jidat': 7891, 'sewot': 7892, 'congor': 7893, 'bebarengan': 7894, 'diinfoinnya': 7895, '940': 7896, '935': 7897, 'menahan': 7898, 'cont': 7899, 'pegang': 7900, 'annoying': 7901, 'diladenin': 7902, 'suryani': 7903, 'tulisanmu': 7904, '85k': 7905, 'parhayang': 7906, 'kesetrum': 7907, 'terimah': 7908, 'belaku': 7909, 'maksude': 7910, 'hih': 7911, 'nuansa': 7912, 'kekeretaapian': 7913, 'tersaingi': 7914, '1010': 7915, 'dimirip': 7916, 'miripkan': 7917, 'karawangnya': 7918, 'senior': 7919, 'scrap': 7920, 'rotasi': 7921, 'sourcing': 7922, 'refreshment': 7923, 'beritanya': 7924, 'miminya': 7925, 'mmng': 7926, 'memories': 7927, 'indonesian': 7928, 'antec': 7929, 'peruntukan': 7930, 'vaksinansi': 7931, 'information': 7932, 'ngalahin': 7933, 'toyib': 7934, 'dipertanyakan': 7935, 'jacknya': 7936, 'jack': 7937, 'rere': 7938, 'pesonamu': 7939, 'ndor': 7940, 'ajadah': 7941, 'sunatan': 7942, 'mubazir': 7943, 'undangannya': 7944, 'ciledug': 7945, 'gubengjember': 7946, 'persis': 7947, 'gaberani': 7948, 'chan': 7949, 'miminnya': 7950, '1610': 7951, '1015': 7952, 'standarnya': 7953, 'mengindahkan': 7954, 'kumpulan': 7955, 'genk': 7956, 'terjangkit': 7957, 'kesehatannya': 7958, 'warisan': 7959, 'londo': 7960, 'percobaan': 7961, 'haruskah': 7962, '93': 7963, 'k5': 7964, 'dibagian': 7965, 'keganggu': 7966, 'decitan': 7967, 'diproduksi': 7968, 'jdwal': 7969, 'sentralisasi': 7970, 'ragusa': 7971, 'urutan': 7972, 'terdaftarnya': 7973, 'tbk': 7974, 'adenomiosis': 7975, 'chicken': 7976, 'banyakin': 7977, 'sachet': 7978, 'klarifikasi': 7979, 'memberitahu': 7980, 'mentionnya': 7981, 'flazz': 7982, '19441697': 7983, 'klarifikasinya': 7984, 'nyerobot': 7985, 'gerbang': 7986, 'mengarahkan': 7987, 'ngerjain': 7988, 'raffasya': 7989, '6d': 7990, 'dicarikan': 7991, 'bolen': 7992, 'martabak': 7993, 'kontener': 7994, '24jam': 7995, 'gambirpekalongan': 7996, 'pengaruh': 7997, 'pencegahan': 7998, 'sist': 7999, 'kmt': 8000, 'trunojoyo': 8001, '089681335663': 8002, '081233936611': 8003, '081252864622': 8004, '089686474361': 8005, 'mengunjungimenghubungi': 8006, '10kg': 8007, '50000dan': 8008, '3800': 8009, 'juru': 8010, 'klender': 8011, 'terdampak': 8012, 'anta': 8013, 'terlbih': 8014, 'tjsl': 8015, 'portable': 8016, 'sembako': 8017, 'paspor': 8018, 'loginnya': 8019, 'terimbas': 8020, 'pesertanya': 8021, 'mirta': 8022, 'terimamasih': 8023, 'responsive': 8024, 'pasarsenen': 8025, 'sinkron': 8026, 'manakah': 8027, 'uwuwu': 8028, 'jagijug': 8029, 'mengambil': 8030, 'kadishub': 8031, 'mendidik': 8032, 'lalang': 8033, 'nyumbang': 8034, 'karen': 8035, 'bercampur': 8036, '2243': 8037, '2338': 8038, 'jakartanya': 8039, '546': 8040, 'widi': 8041, 'cutiku': 8042, 'cicil': 8043, 'tah': 8044, 'rewel': 8045, 'kluarnya': 8046, 'sucipto': 8047, 'blimbing': 8048, 'sedemikian': 8049, 'diabaikan': 8050, 'kitanya': 8051, 'ngilangin': 8052, 'silang': 8053, 'desak': 8054, 'berisiko': 8055, 'menemui': 8056, 'berhati': 8057, 'resiko': 8058, 'penularan': 8059, 'seminimal': 8060, 'history': 8061, 'dibatalkannya': 8062, 'doublenya': 8063, 'usulin': 8064, 'relnya': 8065, 'dearest': 8066, 'accessnya': 8067, 'kmd': 8068, 'carter': 8069, '80k': 8070, 'waw': 8071, 'pickup': 8072, 'diedukasi': 8073, 'halus': 8074, 'sebuat': 8075, 'kesimpulan': 8076, 'persatu': 8077, 'siapkan': 8078, 'attendant': 8079, 'memerhatikan': 8080, 'semengerikan': 8081, 'dibayangkan': 8082, 'smartphone': 8083, 'force': 8084, 'disiang': 8085, 'anjrot': 8086, 'fotografi': 8087, 'memperhatikan': 8088, 'lv': 8089, 'lingkup': 8090, 'd7': 8091, 'cicnya': 8092, 'mengabadikan': 8093, 'keretadi': 8094, 'diarea': 8095, 'bersambung': 8096, 'berkasi': 8097, 'verif': 8098, 'alfa': 8099, 'staiun': 8100, 'wamil': 8101, 'aqua': 8102, 'pesankan': 8103, 'keajaiban': 8104, 'buruk': 8105, 'victoria': 8106, 'holt': 8107, 'mampet': 8108, 'ngehambat': 8109, 'pesana': 8110, 'berdesak': 8111, 'tambahanya': 8112, 'plan': 8113, '1100': 8114, '1129': 8115, 'cancellation': 8116, 'bund': 8117, 'bolos': 8118, 'mbalik': 8119, 'yauda': 8120, 'kasingosari': 8121, 'charger': 8122, 'keberengkatan': 8123, 'dhal': 8124, 'idih': 8125, 'beruntungnya': 8126, 'terobati': 8127, 'bertemunya': 8128, 'diwajibin': 8129, 'jaket': 8130, 'ecom': 8131, 'kepanjangan': 8132, 'disingkat': 8133, 'kemarinnya': 8134, '811': 8135, 'tercepat': 8136, 'kiwing': 8137, 'dijam': 8138, 'bilah': 8139, 'mayan': 8140, 'awak': 8141, 'bata': 8142, '97': 8143, '29112021': 8144, 'goblog': 8145, 'vibes': 8146, 'ngelamun': 8147, 'faskesnya': 8148, 'singkatnya': 8149, 'berafiliasi': 8150, 'banjarmojokerto': 8151, 'jugijag': 8152, 'gijag': 8153, 'bik': 8154, 'y': 8155, 'mamakmu': 8156, 'take': 8157, 'ci': 8158, 'tiri': 8159, 'afi': 8160, 'tadabur': 8161, 'disepanjang': 8162, 'hafal': 8163, 'beud': 8164, 'pendampingan': 8165, 'toddler': 8166, 'dugaan': 8167, '11b': 8168, 'wesel': 8169, 'belok': 8170, 's': 8171, '2511': 8172, 'memanfaatkan': 8173, 'dinamai': 8174, 'briket': 8175, 'sekat': 8176, 'protokoler': 8177, '5m': 8178, 'dzul': 8179, 'lock': 8180, 'kalisetail': 8181, 'dekatnya': 8182, 'bundaran': 8183, 'ditelpon': 8184, 'facebook': 8185, '121021121': 8186, 'mintadi': 8187, 'patroman': 8188, 'berdinas': 8189, '361': 8190, 'polsuskanya': 8191, 'kesamben': 8192, 'ppka': 8193, 'resclean': 8194, 'disaat': 8195, 'jolosemarkerto': 8196, 'batasnya': 8197, 'rabunya': 8198, 'disebutkan': 8199, 'tindaklanjut': 8200, 'mengatakan': 8201, 'citayam': 8202, 'berbicara': 8203, 'kaposisi': 8204, 'satpamnya': 8205, 'mengobrol': 8206, 'keun': 8207, 'posisinnya': 8208, 'loco': 8209, 'restoran': 8210, 'jagir': 8211, 'ditinggikan': 8212, 'besinya': 8213, 'berbahaya': 8214, 'penyebab': 8215, 'rawat': 8216, 'jet': 8217, 'assisten': 8218, 'ginian': 8219, 'dirapiin': 8220, 'coffeeshop': 8221, 'instagramable': 8222, 'dibatesin': 8223, 'datengnya': 8224, 'rum': 8225, 'debit': 8226, 'apalikasi': 8227, 'wei': 8228, 'eksekutiif': 8229, 'membedakan': 8230, 'sayakrn': 8231, 'dengkul': 8232, 'lajon': 8233, 'instansi': 8234, 'alredy': 8235, 'perusahaanmu': 8236, 'pengangkutan': 8237, 'rileks': 8238, 'memasak': 8239, 'konfigurasinya': 8240, 'komplen': 8241, 'jokes': 8242, 'dibesar': 8243, 'besarkan': 8244, 'ditindaklanjuti': 8245, 'datangi': 8246, 'hsil': 8247, 'dtunjuk': 8248, 'ditunjuk': 8249, 'sehubungan': 8250, 'reborn': 8251, '23f': 8252, 'aternatif': 8253, 'tambak': 8254, 'first': 8255, 'alur': 8256, 'banner': 8257, 'kitakita': 8258, 'citizen': 8259, 'sumpiuh': 8260, 'golf': 8261, 'bag': 8262, 'saldonya': 8263, 'trolley': 8264, 'soresaya': 8265, '373': 8266, 'gajelas': 8267, 'ingatan': 8268, '1991': 8269, 'kelakuan': 8270, 'bocil': 8271, 'buktinya': 8272, 'baperan': 8273, 'pripun': 8274, 'milanisti': 8275, 'kebalikannya': 8276, 'tiidak': 8277, 'ketemuan': 8278, 'terpakai': 8279, 'skirpsi': 8280, 'mutusin': 8281, '0115': 8282, '675': 8283, '406': 8284, 'sampail': 8285, 'bat': 8286, 'kuncen': 8287, 'kiaracondongbandung': 8288, 'csr': 8289, 'pembeliannya': 8290, 'range': 8291, 'indo': 8292, 'dipakek': 8293, 'pembenaran': 8294, 'menyebutnya': 8295, 'pusdal': 8296, 'shoot': 8297, 'dihilangin': 8298, 'lamabaru': 8299, 'sepadat': 8300, 'class': 8301, 'atingen': 8302, '06': 8303, 'besarnya': 8304, 'kantinnya': 8305, 'diloket': 8306, '0730': 8307, 'shanday': 8308, 'seumpama': 8309, 'nyoloknya': 8310, 'kasar': 8311, 'nyolok': 8312, 'thomas': 8313, 'sinyalnya': 8314, 'kelap': 8315, 'kelip': 8316, 'perbanyak': 8317, 'persyarakat': 8318, 'selau': 8319, 'responsif': 8320, 'sepele': 8321, 'sribilah': 8322, 'project': 8323, 'penundaan': 8324, '1510': 8325, 'sampi': 8326, '253': 8327, 'kebasen': 8328, 'notog': 8329, 'andalkan': 8330, 'antimo': 8331, 'brarti': 8332, 'mengkomunikasikan': 8333, 'mumpuni': 8334, 'kinerja': 8335, 'nasib': 8336, 'nenek': 8337, '830': 8338, '700': 8339, 'kaipaynya': 8340, 'dibalikin': 8341, 'gajadi': 8342, 'balikinnya': 8343, 'matramaja': 8344, 'yas': 8345, 'bogo': 8346, 'pengertian': 8347, 'sepuasnya': 8348, 'da': 8349, 'ngrasain': 8350, 'tawaran': 8351, 'rekruitmen': 8352, 'kaitanggal': 8353, 'membayar': 8354, 'seragam': 8355, 'proposalnya': 8356, 'apply': 8357, 'documentnya': 8358, 'matarmataja': 8359, 'purwarta': 8360, '1255': 8361, '1448': 8362, 'egois': 8363, 'menikah': 8364, 'pameran': 8365, 'prodi': 8366, 'shownya': 8367, 'colong': 8368, 'colongan': 8369, 'kejepit': 8370, 'diceritain': 8371, 'merangkap': 8372, '13001400': 8373, 'shifting': 8374, 'lahannya': 8375, 'keduluan': 8376, 'diplot': 8377, 'trase': 8378, 'dalkot': 8379, 'sert': 8380, 'ribetnya': 8381, 'ubahin': 8382, 'jacket': 8383, '1215': 8384, 'bogowonto': 8385, 'fajarutama': 8386, 'majapahit': 8387, 'hen': 8388, 'maknanya': 8389, 'ngilmu': 8390, 'cuek': 8391, 'parno': 8392, 'bedasarkan': 8393, 'disebelahnya': 8394, 'nyempil': 8395, 'kejangkau': 8396, 'karo': 8397, 'komuternya': 8398, 'pentingnya': 8399, 'mentracenya': 8400, 'responsible': 8401, 'tegur': 8402, 'ajalah': 8403, 'ngadu': 8404, 'transfermu': 8405, 'tapping': 8406, 'claiming': 8407, 'purpose': 8408, 'damage': 8409, 'burn': 8410, 'detonate': 8411, 'drill': 8412, 'mine': 8413, 'use': 8414, 'contaminate': 8415, 'eat': 8416, 'animals': 8417, 'incesters': 8418, 'diberangkatkan': 8419, 'dikonfirmasikan': 8420, 'unduh': 8421, 'nontunai': 8422, 'direkomendasikan': 8423, 'penyampaian': 8424, 'sikut': 8425, 'nyalain': 8426, 'kampungan': 8427, 'songong': 8428, 'mengesalkan': 8429, 'polsus': 8430, '2211': 8431, 'penyerahan': 8432, 'simbolis': 8433, 'santunan': 8434, 'penanganan': 8435, 'kemasyarakatan': 8436, 'penyediaan': 8437, 'fase': 8438, 'kadipiro': 8439, 'minggir': 8440, 'omelin': 8441, 'sambat': 8442, 'tendang': 8443, 'rekomendasinya': 8444, 'newbie': 8445, 'perkeretaan': 8446, 'nyasar': 8447, 'cic': 8448, 'karcis': 8449, 'omg': 8450, 'maa': 8451, 'negurnya': 8452, 'sendri': 8453, 'risih': 8454, 'gerak': 8455, 'gerakin': 8456, 'dicopy': 8457, 'balance': 8458, 'kardus': 8459, 'pesenan': 8460, 'berduit': 8461, 'only': 8462, 'but': 8463, 'do': 8464, 'enough': 8465, 'mae': 8466, 'west': 8467, 'darat': 8468, 'smc': 8469, '7046': 8470, 'outnya': 8471, 'want': 8472, 'tie': 8473, 'goal': 8474, 'people': 8475, 'things': 8476, 'albert': 8477, 'einstein': 8478, 'penerapannya': 8479, 'disamakan': 8480, 'pilek': 8481, 'bersin': 8482, 'bernafas': 8483, 'mugen': 8484, 'option': 8485, 'isyarat': 8486, 'pijakan': 8487, 'distel': 8488, 'ketinggiannya': 8489, 'ngadminnya': 8490, 'bediri': 8491, 'rapet': 8492, 'commuting': 8493, 'jemursari': 8494, 'disalahin': 8495, 'sopirnya': 8496, 'jalurnya': 8497, 'meter': 8498, 'separatornya': 8499, 'mempertegas': 8500, 'pemerintahnya': 8501, 'ditandai': 8502, 'kewajiban': 8503, 'merobos': 8504, 'mood': 8505, 'weleh': 8506, 'keuntungan': 8507, 'sarangan': 8508, 'rondap': 8509, 'scanning': 8510, 'tarta': 8511, 'doku': 8512, 'vouchernya': 8513, '512': 8514, 'diwakili': 8515, 'terjadinya': 8516, 'stpasar': 8517, 'pandu': 8518, 'sender': 8519, 'olah': 8520, 'beropini': 8521, 'tercelup': 8522, 'mengalir': 8523, 'pembuangan': 8524, 'meresap': 8525, 'kabut': 8526, 'pandanganmu': 8527, 'kerikil': 8528, 'langkahmu': 8529, 'huruf': 8530, 'boss': 8531, 'argumen': 8532, 'medsos': 8533, 'rujakan': 8534, 'wc': 8535, 'matamu': 8536, 'dipelihara': 8537, 'disodorin': 8538, 'gws': 8539, 'simpatisan': 8540, 'trigger': 8541, '321': 8542, 'perhubungannya': 8543, 'ws': 8544, 'rendra': 8545, 'stadiun': 8546, 'ditanggepi': 8547, 'sop': 8548, 'hpku': 8549, 'kehalaman': 8550, 'cobalah': 8551, 'sekip': 8552, 'berandai': 8553, 'kreatifitas': 8554, 'mayat': 8555, 'berjatuhan': 8556, 'pengadilan': 8557, 'langgar': 8558, 'intruksi': 8559, 'peliharaan': 8560, 'atai': 8561, 'beraktivitas': 8562, 'parsialan': 8563, 'teu': 8564, 'purun': 8565, 'soalna': 8566, 'sedek': 8567, 'cok': 8568, 'pey': 8569, 'blh': 8570, 'flight': 8571, 'landed': 8572, 'antiannya': 8573, '101221': 8574, 'nyocot': 8575, 'agen': 8576, 'laen': 8577, '1124': 8578, 'lik': 8579, 'mince': 8580, 'stasuin': 8581, 'iceng': 8582, 'dibutuhin': 8583, 'bahannya': 8584, 'berdiam': 8585, 'rakyatnya': 8586, 'siasat': 8587, 'berlandas': 8588, 'uubodoh': 8589, 'kauakibat': 8590, 'katak': 8591, 'tempurung': 8592, 'rakyatpadahal': 8593, 'sambungan': 8594, '0100': 8595, 'amburadul': 8596, 'triliyunan': 8597, 'berkendara': 8598, 'itukan': 8599, 'menyukseskan': 8600, 'hijaukan': 8601, 'ditarik': 8602, 'treima': 8603, 'bekri': 8604, 'melaksanakan': 8605, 'biasakan': 8606, 'delanggu': 8607, 'nanyain': 8608, 'railfood': 8609, 'diantarkan': 8610, 'bergembira': 8611, 'terganggu': 8612, 'begitupun': 8613, 'disuguhi': 8614, 'kelegaan': 8615, 'memberitahukan': 8616, 'mengontak': 8617, 'melaui': 8618, 'deskripsi': 8619, 'membosankan': 8620, 'tuntutan': 8621, 'kuremas': 8622, 'ngetes': 8623, 'ngeprint': 8624, 'bagiin': 8625, 'keteter': 8626, 'cibatukarangsari': 8627, 'manggil': 8628, '154a153a': 8629, 'senenkutoarjo': 8630, '21112728': 8631, 'melalaikan': 8632, 'diapa': 8633, 'apain': 8634, 'rujak': 8635, 'buah': 8636, 'fa': 8637, 'dicariin': 8638, 'menjelang': 8639, 'mainannya': 8640, 'badag': 8641, 'walah': 8642, 'posko': 8643, 'payday': 8644, 'pointsgeek': 8645, 'pointsgeekid': 8646, 'stail': 8647, 'troli': 8648, 'twt': 8649, 'balesnya': 8650, 'layout': 8651, 'dicky': 8652, 'had': 8653, 'similar': 8654, 'contacted': 8655, 'two': 8656, 'months': 8657, 'they': 8658, 'couldnt': 8659, 'until': 8660, 'someone': 8661, 'recommended': 8662, 'hintcrack': 8663, 'professional': 8664, 'hacker': 8665, 'fixed': 8666, 'just': 8667, 'few': 8668, 'minutes': 8669, 'tunjangan': 8670, '1200': 8671, 'inforamsikan': 8672, 'selamet': 8673, '082135306725': 8674, '08170922742': 8675, '085215081839': 8676, '08122831255': 8677, '082243582009': 8678, 'jlsrikaya': 8679, 'sebrang': 8680, 'mnc': 8681, '081373867086': 8682, '4000': 8683, 'wargi': 8684, 'zonk': 8685, 'result': 8686, 'kritiknya': 8687, 'telinga': 8688, 'operatornya': 8689, 'intonasi': 8690, 'begituan': 8691, 'instansinya': 8692, 'mematikan': 8693, 'mikirnya': 8694, 'gitar': 8695, 'sinanti': 8696, 'peluk': 8697, 'mesra': 8698, 'transksi': 8699, '1350': 8700, 'senggol': 8701, 'kidul': 8702, 'perjuangannya': 8703, 'panggung': 8704, 'kdi': 8705, 'caranyaketik': 8706, 'kdispasi': 8707, '95151': 8708, 'vote': 8709, 'rcti': 8710, 'kdi2021': 8711, 'mengapresiasi': 8712, '0809': 8713, '0859': 8714, 'ts': 8715, 'kritikan': 8716, 'idnya': 8717, 'tengkiu': 8718, 'pse': 8719, 'didrop': 8720, 'bookingin': 8721, 'sodara': 8722, 'sorotan': 8723, 'maksimalnya': 8724, 'susunan': 8725, 'kesukaaan': 8726, '1460': 8727, 'inspeksi': 8728, 'keliatannya': 8729, 'banyaak': 8730, 'kebuka': 8731, 'koleksi': 8732, 'ngabadikan': 8733, 'massalnya': 8734, 'sumo': 8735, 'sula': 8736, 'sigres': 8737, 'proper': 8738, 'trayeknya': 8739, 'tusuk': 8740, 'tenggorokan': 8741, 'dirojok': 8742, 'mauk': 8743, 'psikologi': 8744, 'itungannya': 8745, 'sampingnya': 8746, 'dikosongin': 8747, 'sitting': 8748, 'alangkah': 8749, 'berisi': 8750, 'daya': 8751, 'sumakerto': 8752, 'indramayu': 8753, 'tegel': 8754, 'sejenis': 8755, 'kondisinya': 8756, 'ke2': 8757, 'route': 8758, '2324': 8759, 'dora': 8760, 'adventure': 8761, '0640': 8762, 'sewu': 8763, 'wisatawan': 8764, 'karma': 8765, 'jaksel': 8766, 'emil': 8767, 'salim': 8768, 'arteria': 8769, 'menhan': 8770, 'meletus': 8771, 'resmiin': 8772, 'bagusnya': 8773, 'allready': 8774, 'hipertensi': 8775, 'berkendala': 8776, 'ngarahin': 8777, 'lamgsung': 8778, '021121': 8779, 'railpoin': 8780, 'bimn': 8781, 'mencontoh': 8782, 'utang': 8783, 'pailit': 8784, 'siakan': 8785, 'seniman': 8786, 'memaklumi': 8787, 'sebabnya': 8788, 'regular': 8789, '1606': 8790, 'nam': 8791, '1638': 8792, 'puyeng': 8793, 'bumame': 8794, 'drive': 8795, 'thru': 8796, 'jj': 8797, 'laborat': 8798, 'pssenen': 8799, '1445': 8800, 'sofa': 8801, 'leg': 8802, 'rest': 8803, 'disajikan': 8804, 'mikirin': 8805, 'dibayarin': 8806, 'bludru': 8807, 'osowilangon': 8808, 'influencer': 8809, 'kaleng': 8810, 'bbm': 8811, 'revolusioner': 8812, 'masanya': 8813, 'seadanya': 8814, 'ditiru': 8815, 'th': 8816, 'silam': 8817, 'keesokannya': 8818, 'nnya': 8819, '310': 8820, 'disalah': 8821, 'marke': 8822, 'tplace': 8823, 'terdiri': 8824, 'pengulangan': 8825, 'refundnya': 8826, 'panitia': 8827, 'cross': 8828, 'kecapean': 8829, 'bunyiin': 8830, 'hapuskan': 8831, 'disalipin': 8832, 'kearah': 8833, 'mentok': 8834, 'tarik': 8835, 'berkelana': 8836, 'kontraktor': 8837, 'adhi': 8838, 'tawangjaya': 8839, 'seumur': 8840, 'diperbolehkannya': 8841, 'yos': 8842, 'sudarso': 8843, 'nati': 8844, 'halim': 8845, 'menunaikan': 8846, 'ibadah': 8847, 'armad': 8848, 'menaruh': 8849, 'sangatlah': 8850, 'korbannya': 8851, 'raynata': 8852, 'adjust': 8853, 'hair': 8854, 'dryer': 8855, 'bertahun': 8856, 'developernya': 8857, 'kompatibilitas': 8858, 'diturunin': 8859, 'lakan': 8860, 'nginep': 8861, 'studio': 8862, 'caper': 8863, 'ded': 8864, 'dmku': 8865, 'pln': 8866, 'penginputan': 8867, 'benefitnya': 8868, 'vertikal': 8869, 'garden': 8870, 'diperbanyak': 8871, 'ambience': 8872, 'relaxing': 8873, 'scientific': 8874, 'proven': 8875, 'hiasan': 8876, 'concourse': 8877, 'rmu': 8878, 'maping': 8879, 'kokoh': 8880, 'ringkih': 8881, 'nyayur': 8882, 'dach': 8883, 'ibarat': 8884, 'nederlandsch': 8885, 'indische': 8886, 'spoorweg': 8887, 'instagrammya': 8888, 'staats': 8889, 'spoorwegen': 8890, 'rekenimg': 8891, 'senindengan': 8892, 'keyakinan': 8893, 'dibanding': 8894, 'nyegat': 8895, 'jepretan': 8896, 'apikasi': 8897, 'stasius': 8898, 'diistirahatkan': 8899, 'sta': 8900, 'maiu': 8901, 'bakan': 8902, '825': 8903, '835': 8904, 'idealnya': 8905, '17desember': 8906, 'keberangkatnya': 8907, 'nda': 8908, 'tabiat': 8909, 'semena': 8910, 'mena': 8911, 'melamar': 8912, 'dipungut': 8913, 'akunakun': 8914, 'telegram': 8915, '38232': 8916, 'paid': 8917, '0711': 8918, '0721': 8919, 'kesuksesan': 8920, 'menyerah': 8921, 'kal': 8922, 'dihandle': 8923, 'dibiarin': 8924, 'prasarananya': 8925, 'dibersihkan': 8926, 'berkaca': 8927, 'kwala': 8928, 'bingei': 8929, 'membagongkan': 8930, 'taruwit': 8931, 'true': 8932, 'teringat': 8933, 'membasahi': 8934, 'keringetan': 8935, 'fdts': 8936, 'priok': 8937, 'verivikasi': 8938, 'raih': 8939, 'penganugerahan': 8940, 'sni': 8941, 'ptidakntian': 8942, 'notifnya': 8943, 'rinciannya': 8944, 'bantuuu': 8945, '2250': 8946, 'keremunan': 8947, 'keretakan': 8948, '1911': 8949, '600an': 8950, 'apes': 8951, '371': 8952, 'keupload': 8953, 'berekspektasi': 8954, 'nyiapin': 8955, 'grand': 8956, 'nanyatarif': 8957, 'oren': 8958, 'recordnya': 8959, 'penatarandhoho': 8960, 'bdsurabaya': 8961, 'favourite': 8962, 'praminya': 8963, 'nggeh': 8964, 'philippines': 8965, 'national': 8966, 'railway': 8967, '449': 8968, '363': 8969, 'ngajuin': 8970, 'arahkan': 8971, 'produk': 8972, 'tabungan': 8973, 'berjangka': 8974, 'kejahatan': 8975, 'trik': 8976, 'axa': 8977, 'tlg': 8978, 'mbadia': 8979, 'yaharus': 8980, '0415': 8981, 'pola': 8982, 'dri': 8983, 'menyiarkan': 8984, 'antennya': 8985, 'merk': 8986, 'oala': 8987, 'terendah': 8988, 'erzy': 8989, 'suvenir': 8990, 'pajangan': 8991, 'doorprize': 8992, 'smooth': 8993, 'permudah': 8994, 'idenya': 8995, 'vidio': 8996, 'premier': 8997, 'drpd': 8998, 'nontonin': 8999, 'kamera': 9000, 'disaksikan': 9001, 'kabin': 9002, 'mimiin': 9003, 'menampung': 9004, 'membatasi': 9005, 'tayangan': 9006, 'terealisasi': 9007, 'psti': 9008, 'bobo': 9009, 'berdedikasi': 9010, 'reformasi': 9011, 'note': 9012, 'jajanan': 9013, 'cemilan': 9014, 'pemandanganya': 9015, 'bosenin': 9016, 'bultang': 9017, 'bola': 9018, 'dukung': 9019, 'semuaa': 9020, 'infor': 9021, 'kelulusan': 9022, 'satupun': 9023, 'kiara': 9024, 'condong': 9025, 'dilamar': 9026, 'nanyanya': 9027, 'cimb': 9028, 'niaga': 9029, 'fitur': 9030, 'dirumah': 9031, 'ponsel': 9032, 'sistemnya': 9033, 'ngatur': 9034, 'report': 9035, 'fm': 9036, 'pertanyakan': 9037, 'mangkal': 9038, 'berantem': 9039, 'soeta': 9040, 'mumet': 9041, 'naikin': 9042, 'roket': 9043, 'terclose': 9044, 'nugas': 9045, 'ngecharge': 9046, 'congratulations': 9047, 'most': 9048, 'efficient': 9049, 'dipickup': 9050, 'gojek': 9051, 'arena': 9052, 'ruangannya': 9053, 'dilepas': 9054, 'memesankan': 9055, '08771xxxxxxxx': 9056, 'setara': 9057, 'dimulainya': 9058, 'marahin': 9059, 'duitku': 9060, 'ngelawak': 9061, 'bah': 9062, 'kanankiri': 9063, 'logikamu': 9064, 'dipalang': 9065, 'dilewatin': 9066, 'bukam': 9067, 'keset': 9068, 'perolehan': 9069, 'sibv': 9070, 'sesungguhnya': 9071, 'lebay': 9072, 'tombolnya': 9073, 'copot': 9074, 'sensor': 9075, 'diriku': 9076, 'lawak': 9077, 'gapernah': 9078, 'loss': 9079, 'ngelawan': 9080, 'maafin': 9081, 'mengamankan': 9082, 'dsini': 9083, 'skeptis': 9084, 'headway': 9085, 'temui': 9086, 'haturnuhun': 9087, 'cewek': 9088, 'sigap': 9089, 'mengadang': 9090, 'mendorongnya': 9091, 'kencang': 9092, 'kualanamo': 9093, 'membenarkan': 9094, 'calo': 9095, 'masalahkan': 9096, 'nyetir': 9097, 'dipahami': 9098, '2007': 9099, 'dihukum': 9100, 'sederhana': 9101, 'berkalikali': 9102, 'bejat': 9103, 'mengais': 9104, 'dilanggar': 9105, 'ukur': 9106, 'sudan': 9107, 'somalia': 9108, 'output': 9109, 'disitulah': 9110, 'sinergi': 9111, 'disebarin': 9112, 'diselamatkannya': 9113, 'srit': 9114, 'anjung': 9115, '37': 9116, 'perjalaan': 9117, 'tia': 9118, 'baptis': 9119, 'ndro': 9120, 'dicegat': 9121, 'dikerjain': 9122, 'fuck': 9123, 'gmail': 9124, 'pkoc': 9125, 'adminya': 9126, '1920': 9127, 'realtime': 9128, 'perhatiin': 9129, 'diupah': 9130, 'pantas': 9131, 'adikku': 9132, 'umurnya': 9133, 'saint': 9134, 'indro': 9135, 'cool': 9136, 'peran': 9137, 'vital': 9138, 'stasiunlab': 9139, 'ketahan': 9140, '284': 9141, 'kusus': 9142, 'mengetahui': 9143, 'ti': 9144, 'rekrutan': 9145, 'dipekerjakan': 9146, 'osi': 9147, 'klinikrs': 9148, 'kijang': 9149, 'muatan': 9150, 'telentang': 9151, 'telapak': 9152, 'tewas': 9153, 'becak': 9154, 'ngangkut': 9155, 'ikutin': 9156, 'nutupin': 9157, 'jenazah': 9158, 'letakkan': 9159, 'fals': 9160, 'prujakancirebon': 9161, 'perintah': 9162, 'rujukanberobat': 9163, 'ptm': 9164, 'pembelajaran': 9165, 'dipersilakan': 9166, 'evakuasi': 9167, 'dipinggiran': 9168, 'todays': 9169, 'pedulilindungisudah': 9170, 'gatel': 9171, '1987': 9172, 'tanggerang': 9173, 'iaccess': 9174, '1158': 9175, 'lembur': 9176, 'genting': 9177, 'gara2': 9178, 'ironically': 9179, 'small': 9180, 'accident': 9181, 'slipped': 9182, 'stair': 9183, 'internasional': 9184, 'airport': 9185, 'selali': 9186, 'rilmin': 9187, 'dikomputer': 9188, 'mununjukan': 9189, 'hardfile': 9190, 'kerera': 9191, 'mengubahnya': 9192, 'mutualan': 9193, 'laboratorium': 9194, 'kalimat': 9195, 'ngabs': 9196, 'menyapa': 9197, 'hooh': 9198, 'partnerku': 9199, 'lindungi': 9200, 'wedeh': 9201, 'jongkok': 9202, 'cekrek': 9203, 'farmasi': 9204, 'dihabisin': 9205, 'tlp': 9206, 'dipanjangain': 9207, 'son': 9208, 'memilili': 9209, 'pengenal': 9210, 'membingungkan': 9211, 'mengaturnya': 9212, 'dendy': 9213, 'regards': 9214, 'judul': 9215, 'statement': 9216, 'muara': 9217, 'enim': 9218, 'gomboran': 9219, 'gombor': 9220, 'laswi': 9221, 'ditabrak': 9222, 'keluyuran': 9223, 'longgar': 9224, 'sndiri': 9225, 'bosque': 9226, 'biya': 9227, 'pemegang': 9228, 'keranjang': 9229, 'jamanya': 9230, 'sepuluh': 9231, 'tibu': 9232, 'kakau': 9233, 'terbuang': 9234, 'terguling': 9235, 'huka': 9236, 'melihara': 9237, 'peterus': 9238, 'ngebebanin': 9239, 'mai': 9240, 'gadein': 9241, 'dalamnya': 9242, 'nyamber': 9243, 'ditandain': 9244, 'dilogika': 9245, 'okupansi': 9246, '8085': 9247, 'diakalin': 9248, 'dibedain': 9249, 'ngrugiin': 9250, 'diperhatiin': 9251, '2350': 9252, 'liatan': 9253, 'minkereta': 9254, 'ditolerir': 9255, 'lestari': 9256, 'lestaru': 9257, 'ngelihat': 9258, 'poskonya': 9259, 'pukuk': 9260, 'menengok': 9261, 'mbangking': 9262, 'recana': 9263, '0950': 9264, '0926': 9265, 'salahin': 9266, 'kenyataannya': 9267, 'bergkt': 9268, '654': 9269, '19201021': 9270, 'winongo': 9271, 'dilihatkan': 9272, 'untu': 9273, 'bojonggede': 9274, 'kejadiannya': 9275, 'ditepati': 9276, 'dimajuin': 9277, '648': 9278, '704': 9279, 'piknik': 9280, 'dikenankan': 9281, 'imunitas': 9282, 'kerete': 9283, 'nte': 9284, 'gapapalah': 9285, 'finish': 9286, 'tobat': 9287, 'selaim': 9288, 'ngecekin': 9289, 'depanku': 9290, 'ngebalikin': 9291, 'selonjoran': 9292, 'goyangnya': 9293, 'seakan': 9294, 'dikonfirmasi': 9295, 'bawen': 9296, 'darisana': 9297, 'destination': 9298, 'menurutku': 9299, 'percis': 9300, 'kendalanya': 9301, 'wisatanya': 9302, 'kejaksaan': 9303, 'seberangnya': 9304, 'amblas': 9305, 'keruan': 9306, 'diperbarui': 9307, 'direct': 9308, 'apalah': 9309, '0651apakah': 9310, '0651': 9311, 'akupun': 9312, 'bertemu': 9313, 'disangka': 9314, 'artisnya': 9315, 'cuaca': 9316, 'nina': 9317, 'aktifitas': 9318, 'berpegian': 9319, 'dompetnya': 9320, 'nnti': 9321, 'resi': 9322, 'ajm': 9323, 'nyetel': 9324, 'spykids': 9325, 'tololnesia': 9326, 'tikus': 9327, 'ciuman': 9328, 'keranda': 9329, 'disetel': 9330, 'kecium': 9331, 'aroma': 9332, 'betawinya': 9333, 'bercitacita': 9334, 'barangakali': 9335, 'revisi': 9336, 'setelin': 9337, 'dangdut': 9338, 'kemaleman': 9339, 'charge': 9340, 'honorer': 9341, 'semangkin': 9342, 'manualnya': 9343, 'luput': 9344, 'setumpuk': 9345, 'diinput': 9346, 'penukaran': 9347, 'dipermasalahkan': 9348, 'pendemi': 9349, 'milliaran': 9350, 'kosakata': 9351, 'takkan': 9352, 'menggambarkan': 9353, 'megahnya': 9354, 'ciptaan': 9355, 'ketidak': 9356, 'jelang': 9357, 'deg': 9358, 'tertangani': 9359, 'kedalam': 9360, 'palawan': 9361, 'home': 9362, 'away': 9363, 'makasiih': 9364, 'penutupan': 9365, 'masukannya': 9366, 'pengennya': 9367, 'prama': 9368, 'prami': 9369, 'seksual': 9370, 'railfriends': 9371, 'akang': 9372, 'pisan': 9373, 'customermu': 9374, 'kakuntuk': 9375, 'tutupin': 9376, 'disalahgunakan': 9377, 'jeda': 9378, 'relatif': 9379, 'person': 9380, 'bandingan': 9381, 'cel': 9382, 'occupancy': 9383, 'colek': 9384, 'sarannya': 9385, 'restart': 9386, 'sg': 9387, 'pengok': 9388, 'pulubrayan': 9389, 'balaiyasa': 9390, 'ditidurkan': 9391, 'dipangku': 9392, 'pinjaman': 9393, 'sukarela': 9394, 'akutu': 9395, 'terngiang': 9396, 'ngiang': 9397, 'tertua': 9398, 'maximal': 9399, 'saturday': 9400, 'videokan': 9401, 'sekadar': 9402, 'keles': 9403, 'resolusi': 9404, '1080p': 9405, 'ksih': 9406, 'indahnya': 9407, 'pertemuan': 9408, 'lihatlah': 9409, 'revolusi': 9410, 'perbudakan': 9411, 'dalih': 9412, 'digaji': 9413, 'saku': 9414, 'nga': 9415, 'jogjakediri': 9416, 'lanjutnya': 9417, 'jal': 9418, 'minusnya': 9419, 'berak': 9420, 'semaksimal': 9421, 'legrest': 9422, 'toll': 9423, 'pelankan': 9424, 'deret': 9425, 'sekereta': 9426, 'kebersihan': 9427, 'perbedaannya': 9428, 'box': 9429, 'toeflnya': 9430, 'mateng': 9431, 'duty': 9432, 'bodo': 9433, 'nabung': 9434, 'mengitim': 9435, 'strprt': 9436, 'diparkir': 9437, 'untungnya': 9438, 'steril': 9439, 'dicuri': 9440, 'dijaman': 9441, 'bersihinnya': 9442, 'bersiap': 9443, 'alik': 9444, 'rehat': 9445, 'bbrp': 9446, 'markir': 9447, 'side': 9448, 'digantikan': 9449, 'headset': 9450, 'lansung': 9451, 'lift': 9452, 'pemberian': 9453, 'dihadiri': 9454, 'menghibahkan': 9455, 'spanduk': 9456, 'imbauan': 9457, 'cone': 9458, 'kedetectnya': 9459, 'gabtau': 9460, 'kerenn': 9461, 'sebutkan': 9462, 'vendornya': 9463, 'lahi': 9464, 'eks': 9465, 'dongkelan': 9466, 'dkn': 9467, 'ditemenin': 9468, 'jga': 9469, 'brio': 9470, 'msih': 9471, 'setifikat': 9472, 'persimpangan': 9473, 'seneja': 9474, 'room': 9475, 'helpful': 9476, 'as': 9477, 'digambir': 9478, 'formnya': 9479, 'menyuarakan': 9480, 'wawasan': 9481, 'kebangsaan': 9482, 'wadah': 9483, 'akur': 9484, 'rukun': 9485, 'gelorakan': 9486, 'distancingnya': 9487, 'manjat': 9488, 'topup': 9489, 'turununtuk': 9490, 'notabene': 9491, 'memgatur': 9492, 'karakter': 9493, 'jepangminimal': 9494, 'berkesimpulan': 9495, 'yasudah': 9496, 'meraih': 9497, 'solved': 9498, 'emailnya': 9499, 'klo': 9500, 'brp': 9501, 'kactsm': 9502, '685': 9503, 'dipengaturan': 9504, 'sirinenya': 9505, 'kesadaran': 9506, 'generate': 9507, 'null': 9508, 'blank': 9509, 'kapankah': 9510, 'klatrn': 9511, 'tiker': 9512, 'orangtua': 9513, 'friendly': 9514, 'tangganya': 9515, 'fan': 9516, 'cannot': 9517, 'find': 9518, 'transaction': 9519, 'mytrips': 9520, 'segalanya': 9521, 'ditaktdirkan': 9522, 'iklasin': 9523, 'kebawa': 9524, 'puasa': 9525, 'deng': 9526, 'digunain': 9527, 'pembangkit': 9528, 'sebut': 9529, 'genset': 9530, 'kva': 9531, 'suplai': 9532, 'penyewa': 9533, 'kawis': 9534, 'charter': 9535, 'ngelolanya': 9536, 'atigen': 9537, 'bersyukurlah': 9538, 'sadari': 9539, 'kerasnya': 9540, 'tidakk': 9541, 'brangkat': 9542, 'ngantri': 9543, 'ngisi': 9544, 'gambirpasar': 9545, 'pantun': 9546, 'lt1': 9547, 'rambipuji': 9548, 'cpu': 9549, 'dlm': 9550, 'terkahir': 9551, 'berkabar': 9552, 'refresing': 9553, 'kapasitasnya': 9554, 'keganggun': 9555, 'melaporkan': 9556, 'smctg': 9557, 'quota': 9558, 'saksi': 9559, 'bergegas': 9560, 'menghibur': 9561, 'stress': 9562, 'nanggepinnya': 9563, 'andlan': 9564, 'berberapa': 9565, 'opsi': 9566, '317': 9567, 'interpretasi': 9568, 'terlepas': 9569, 'kontroversi': 9570, 'jakrta': 9571, 'galucu': 9572, 'pandami': 9573, 'hijarah': 9574, 'berkendak': 9575, 'ardo': 9576, 'sikon': 9577, 'terbanyak': 9578, 'mengembirakan': 9579, 'selepas': 9580, 'kedoya': 9581, 'mengejar': 9582, 'skrg': 9583, 'aelah': 9584, 'posting': 9585, 'kebayar': 9586, 'viewnya': 9587, 'ketagihan': 9588, 'dipedulilindungi': 9589, 'stand': 9590, 'mondar': 9591, 'mandir': 9592, 'membetulkan': 9593, 'sumbernya': 9594, 'majalah': 9595, 'djawa': 9596, 'baroe': 9597, '1102604': 9598, '26041944': 9599, 'biarpun': 9600, 'bawaannya': 9601, 'lok': 9602, 'balutan': 9603, 'kretek': 9604, 'public': 9605, 'goods': 9606, 'layaknya': 9607, 'sebats': 9608, 'forte': 9609, 'cocik': 9610, 'cepuin': 9611, 'nggak': 9612, 'penandanya': 9613, 'ngetag': 9614, 'merang': 9615, 'quotenya': 9616, 'nyesek': 9617, '0015': 9618, 'selera': 9619, 'humor': 9620, 'diseriusin': 9621, 'terlahir': 9622, 'mario': 9623, 'puzo': 9624, 'penatnya': 9625, 'harini': 9626, 'pk1051': 9627, 'mekanismenya': 9628, 'seburuk': 9629, 'tenda': 9630, 'another': 9631, 'sahabatkai': 9632, 'batasan': 9633, 'tentu': 9634, 'surabayajogja': 9635, 'eksekutifnya': 9636, 'caur': 9637, 'someah': 9638, 'lihatnya': 9639, 'biliknya': 9640, 'iwan': 9641, 'kadaop': 9642, '160an': 9643, 'walopun': 9644, 'dag': 9645, 'gaduh': 9646, 'pakaian': 9647, 'minberarti': 9648, 'langit': 9649, 'perantau': 9650, 'diviralkan': 9651, 'kenan': 9652, 'iki': 9653, 'sttulungagung': 9654, 'beredar': 9655, 'diributin': 9656, 'kafir': 9657, 'munafiq': 9658, 'celana': 9659, 'vaskin': 9660, 'u5k': 9661, 'acap': 9662, 'dijumpai': 9663, '144c': 9664, 'astagfirullah': 9665, 'fastrespon': 9666, 'luvv': 9667, 'budek': 9668, 'hihihi': 9669, 'sepulang': 9670, 'indikasi': 9671, 'pembatan': 9672, 'kuntilanaknya': 9673, 'bengs': 9674, 'menghela': 9675, 'nafas': 9676, 'repetitif': 9677, 'impianku': 9678, 'smells': 9679, 'prfum': 9680, 'prmugari': 9681, 'ngantuk': 9682, 'pekalongans': 9683, 'emarang': 9684, 'kebandung': 9685, 'bakmi': 9686, 'tasty': 9687, 'selametin': 9688, 'expect': 9689, 'happen': 9690, 'nais': 9691, 'kukus': 9692, '1731': 9693, 'senenprupuk': 9694, 'senentegal': 9695, 'tanyanya': 9696, 'chatku': 9697, 'socket': 9698, 'torque': 9699, 'wrench': 9700, 'pmlckp': 9701, 'halal': 9702, 'cabut': 9703, 'ppj': 9704, 'digoreng': 9705, 'bebeknya': 9706, 'panganan': 9707, 'malan': 9708, 'kuyup': 9709, 'treknya': 9710, 'meleng': 9711, 'nyusur': 9712, 'pahala': 9713, 'ditawarin': 9714, 'haget': 9715, '0548': 9716, 'uwu': 9717, 'ibuk': 9718, 'gasalah': 9719, 'pulas': 9720, 'kais': 9721, 'avail': 9722, 'h30': 9723, '29nya': 9724, 'privasi': 9725, 'konci': 9726, 'infrastructure': 9727, 'duck': 9728, 'overdemi': 9729, 'sepupunya': 9730, 'kia': 9731, 'fc': 9732, 'lebak': 9733, 'jero': 9734, 'nagreg': 9735, 'kiranya': 9736, 'screenshoot': 9737, 'wehh': 9738, 'compang': 9739, 'camping': 9740, 'ea': 9741, '3500': 9742, 'emangnya': 9743, 'wkwkkwk': 9744, 'mnpse': 9745, 'wedew': 9746, 'ayah': 9747, 'gajinya': 9748, 'duluin': 9749, 'vertivikasi': 9750, 'melainkan': 9751, 'mahasiswai': 9752, 'mengisi': 9753, 'mrtjakarta': 9754, 'makanannya': 9755, 'dibeliin': 9756, 'pathok': 9757, 'antingen': 9758, 'pahlawannya': 9759, 'short': 9760, 'wkw': 9761, 'trimakasih': 9762, 'purwokertojogja': 9763}\n",
            "{'netral': 1, 'positif': 2, 'negatif': 3}\n",
            "{'lain': 1, 'syarat': 2, 'jadwalrute': 3, 'ticketing': 4, 'aturan': 5, 'fasilitas': 6, 'experience': 7, 'pelayanan': 8}\n"
          ]
        }
      ]
    },
    {
      "cell_type": "code",
      "source": [
        "train_text_seq = tokenizer.texts_to_sequences(train_text)\n",
        "train_text_pad = pad_sequences(train_text_seq, padding = padding_type, truncating = trunc_type, \n",
        "                               maxlen = max_length)\n",
        "\n",
        "train_sent_seq = np.array(sent_tok.texts_to_sequences(train_sent))\n",
        "train_sent_pad = pad_sequences(train_sent_seq, maxlen=1)\n",
        "\n",
        "train_topic_seq = np.array(topic_tok.texts_to_sequences(train_topic))\n",
        "train_topic_pad = pad_sequences(train_topic_seq, maxlen=1)\n",
        "\n",
        "print(train_text_pad)\n",
        "print(train_sent_pad)\n",
        "print(train_topic_seq)"
      ],
      "metadata": {
        "id": "831SzfZTBJaC",
        "colab": {
          "base_uri": "https://localhost:8080/"
        },
        "outputId": "e424c1f5-2626-487f-9bc2-99f5d5f4a6f9"
      },
      "execution_count": null,
      "outputs": [
        {
          "output_type": "stream",
          "name": "stdout",
          "text": [
            "[[198   5  14 ...   0   0   0]\n",
            " [124   2  38 ...   0   0   0]\n",
            " [ 35  38  16 ...   0   0   0]\n",
            " ...\n",
            " [  6  55  72 ...   0   0   0]\n",
            " [ 35  16  32 ...   0   0   0]\n",
            " [ 42  87   2 ...   0   0   0]]\n",
            "[[1]\n",
            " [1]\n",
            " [1]\n",
            " ...\n",
            " [1]\n",
            " [1]\n",
            " [1]]\n",
            "[[3]\n",
            " [2]\n",
            " [2]\n",
            " ...\n",
            " [1]\n",
            " [2]\n",
            " [2]]\n"
          ]
        }
      ]
    },
    {
      "cell_type": "markdown",
      "source": [
        "Sentiment Classification"
      ],
      "metadata": {
        "id": "D05xJKU_BJaD"
      }
    },
    {
      "cell_type": "code",
      "source": [
        "ckpt_path = \"sent/cp.ckpt\"\n",
        "cp_callback = tf.keras.callbacks.ModelCheckpoint(filepath=ckpt_path,\n",
        "                                                 save_weights_only=True,\n",
        "                                                 verbose=1)\n",
        "sent_model = tf.keras.Sequential([\n",
        "                                  tf.keras.layers.Embedding(100000, embedding_dim, \n",
        "                                                            input_length = max_length),\n",
        "                                  tf.keras.layers.GlobalAveragePooling1D(),\n",
        "                                  tf.keras.layers.Dense(16, activation = 'relu'),\n",
        "                                  tf.keras.layers.Dense(4, activation = 'softmax')\n",
        "])\n",
        "\n",
        "sent_model.compile(optimizer = 'adam', loss = 'sparse_categorical_crossentropy', metrics = ['accuracy'])\n",
        "sent_hist = sent_model.fit(train_text_pad, train_sent_seq, \n",
        "               epochs = 30, callbacks = [cp_callback])"
      ],
      "metadata": {
        "id": "-82RB3W2BJaD",
        "colab": {
          "base_uri": "https://localhost:8080/"
        },
        "outputId": "73745dff-48e7-4ed2-c176-76b7379bcf5b"
      },
      "execution_count": null,
      "outputs": [
        {
          "output_type": "stream",
          "name": "stdout",
          "text": [
            "Epoch 1/30\n",
            "380/380 [==============================] - ETA: 0s - loss: 0.5066 - accuracy: 0.9497\n",
            "Epoch 1: saving model to sent/cp.ckpt\n",
            "380/380 [==============================] - 3s 7ms/step - loss: 0.5066 - accuracy: 0.9497\n",
            "Epoch 2/30\n",
            "376/380 [============================>.] - ETA: 0s - loss: 0.2200 - accuracy: 0.9522\n",
            "Epoch 2: saving model to sent/cp.ckpt\n",
            "380/380 [==============================] - 3s 7ms/step - loss: 0.2200 - accuracy: 0.9522\n",
            "Epoch 3/30\n",
            "373/380 [============================>.] - ETA: 0s - loss: 0.2125 - accuracy: 0.9522\n",
            "Epoch 3: saving model to sent/cp.ckpt\n",
            "380/380 [==============================] - 3s 7ms/step - loss: 0.2124 - accuracy: 0.9522\n",
            "Epoch 4/30\n",
            "374/380 [============================>.] - ETA: 0s - loss: 0.2071 - accuracy: 0.9522\n",
            "Epoch 4: saving model to sent/cp.ckpt\n",
            "380/380 [==============================] - 3s 7ms/step - loss: 0.2069 - accuracy: 0.9522\n",
            "Epoch 5/30\n",
            "373/380 [============================>.] - ETA: 0s - loss: 0.2017 - accuracy: 0.9518\n",
            "Epoch 5: saving model to sent/cp.ckpt\n",
            "380/380 [==============================] - 3s 7ms/step - loss: 0.2002 - accuracy: 0.9522\n",
            "Epoch 6/30\n",
            "374/380 [============================>.] - ETA: 0s - loss: 0.1918 - accuracy: 0.9521\n",
            "Epoch 6: saving model to sent/cp.ckpt\n",
            "380/380 [==============================] - 3s 7ms/step - loss: 0.1914 - accuracy: 0.9522\n",
            "Epoch 7/30\n",
            "379/380 [============================>.] - ETA: 0s - loss: 0.1773 - accuracy: 0.9523\n",
            "Epoch 7: saving model to sent/cp.ckpt\n",
            "380/380 [==============================] - 3s 7ms/step - loss: 0.1776 - accuracy: 0.9522\n",
            "Epoch 8/30\n",
            "375/380 [============================>.] - ETA: 0s - loss: 0.1584 - accuracy: 0.9530\n",
            "Epoch 8: saving model to sent/cp.ckpt\n",
            "380/380 [==============================] - 3s 7ms/step - loss: 0.1584 - accuracy: 0.9530\n",
            "Epoch 9/30\n",
            "373/380 [============================>.] - ETA: 0s - loss: 0.1437 - accuracy: 0.9548\n",
            "Epoch 9: saving model to sent/cp.ckpt\n",
            "380/380 [==============================] - 3s 7ms/step - loss: 0.1428 - accuracy: 0.9549\n",
            "Epoch 10/30\n",
            "375/380 [============================>.] - ETA: 0s - loss: 0.1308 - accuracy: 0.9555\n",
            "Epoch 10: saving model to sent/cp.ckpt\n",
            "380/380 [==============================] - 3s 7ms/step - loss: 0.1314 - accuracy: 0.9554\n",
            "Epoch 11/30\n",
            "379/380 [============================>.] - ETA: 0s - loss: 0.1226 - accuracy: 0.9568\n",
            "Epoch 11: saving model to sent/cp.ckpt\n",
            "380/380 [==============================] - 3s 7ms/step - loss: 0.1225 - accuracy: 0.9568\n",
            "Epoch 12/30\n",
            "376/380 [============================>.] - ETA: 0s - loss: 0.1128 - accuracy: 0.9580\n",
            "Epoch 12: saving model to sent/cp.ckpt\n",
            "380/380 [==============================] - 3s 7ms/step - loss: 0.1128 - accuracy: 0.9578\n",
            "Epoch 13/30\n",
            "373/380 [============================>.] - ETA: 0s - loss: 0.1048 - accuracy: 0.9607\n",
            "Epoch 13: saving model to sent/cp.ckpt\n",
            "380/380 [==============================] - 3s 7ms/step - loss: 0.1050 - accuracy: 0.9605\n",
            "Epoch 14/30\n",
            "375/380 [============================>.] - ETA: 0s - loss: 0.0976 - accuracy: 0.9634\n",
            "Epoch 14: saving model to sent/cp.ckpt\n",
            "380/380 [==============================] - 3s 7ms/step - loss: 0.0976 - accuracy: 0.9634\n",
            "Epoch 15/30\n",
            "379/380 [============================>.] - ETA: 0s - loss: 0.0922 - accuracy: 0.9656\n",
            "Epoch 15: saving model to sent/cp.ckpt\n",
            "380/380 [==============================] - 3s 7ms/step - loss: 0.0922 - accuracy: 0.9656\n",
            "Epoch 16/30\n",
            "374/380 [============================>.] - ETA: 0s - loss: 0.0845 - accuracy: 0.9687\n",
            "Epoch 16: saving model to sent/cp.ckpt\n",
            "380/380 [==============================] - 3s 7ms/step - loss: 0.0850 - accuracy: 0.9684\n",
            "Epoch 17/30\n",
            "374/380 [============================>.] - ETA: 0s - loss: 0.0792 - accuracy: 0.9735\n",
            "Epoch 17: saving model to sent/cp.ckpt\n",
            "380/380 [==============================] - 3s 7ms/step - loss: 0.0794 - accuracy: 0.9735\n",
            "Epoch 18/30\n",
            "379/380 [============================>.] - ETA: 0s - loss: 0.0732 - accuracy: 0.9749\n",
            "Epoch 18: saving model to sent/cp.ckpt\n",
            "380/380 [==============================] - 3s 7ms/step - loss: 0.0731 - accuracy: 0.9750\n",
            "Epoch 19/30\n",
            "373/380 [============================>.] - ETA: 0s - loss: 0.0683 - accuracy: 0.9780\n",
            "Epoch 19: saving model to sent/cp.ckpt\n",
            "380/380 [==============================] - 3s 7ms/step - loss: 0.0681 - accuracy: 0.9780\n",
            "Epoch 20/30\n",
            "375/380 [============================>.] - ETA: 0s - loss: 0.0630 - accuracy: 0.9806\n",
            "Epoch 20: saving model to sent/cp.ckpt\n",
            "380/380 [==============================] - 3s 7ms/step - loss: 0.0630 - accuracy: 0.9805\n",
            "Epoch 21/30\n",
            "376/380 [============================>.] - ETA: 0s - loss: 0.0585 - accuracy: 0.9824\n",
            "Epoch 21: saving model to sent/cp.ckpt\n",
            "380/380 [==============================] - 3s 7ms/step - loss: 0.0592 - accuracy: 0.9823\n",
            "Epoch 22/30\n",
            "377/380 [============================>.] - ETA: 0s - loss: 0.0533 - accuracy: 0.9845\n",
            "Epoch 22: saving model to sent/cp.ckpt\n",
            "380/380 [==============================] - 3s 7ms/step - loss: 0.0534 - accuracy: 0.9844\n",
            "Epoch 23/30\n",
            "374/380 [============================>.] - ETA: 0s - loss: 0.0493 - accuracy: 0.9865\n",
            "Epoch 23: saving model to sent/cp.ckpt\n",
            "380/380 [==============================] - 3s 7ms/step - loss: 0.0494 - accuracy: 0.9865\n",
            "Epoch 24/30\n",
            "374/380 [============================>.] - ETA: 0s - loss: 0.0445 - accuracy: 0.9875\n",
            "Epoch 24: saving model to sent/cp.ckpt\n",
            "380/380 [==============================] - 3s 7ms/step - loss: 0.0444 - accuracy: 0.9875\n",
            "Epoch 25/30\n",
            "378/380 [============================>.] - ETA: 0s - loss: 0.0406 - accuracy: 0.9885\n",
            "Epoch 25: saving model to sent/cp.ckpt\n",
            "380/380 [==============================] - 3s 7ms/step - loss: 0.0406 - accuracy: 0.9885\n",
            "Epoch 26/30\n",
            "374/380 [============================>.] - ETA: 0s - loss: 0.0367 - accuracy: 0.9896\n",
            "Epoch 26: saving model to sent/cp.ckpt\n",
            "380/380 [==============================] - 3s 7ms/step - loss: 0.0368 - accuracy: 0.9896\n",
            "Epoch 27/30\n",
            "376/380 [============================>.] - ETA: 0s - loss: 0.0350 - accuracy: 0.9906\n",
            "Epoch 27: saving model to sent/cp.ckpt\n",
            "380/380 [==============================] - 3s 7ms/step - loss: 0.0351 - accuracy: 0.9905\n",
            "Epoch 28/30\n",
            "374/380 [============================>.] - ETA: 0s - loss: 0.0315 - accuracy: 0.9913\n",
            "Epoch 28: saving model to sent/cp.ckpt\n",
            "380/380 [==============================] - 3s 7ms/step - loss: 0.0314 - accuracy: 0.9913\n",
            "Epoch 29/30\n",
            "378/380 [============================>.] - ETA: 0s - loss: 0.0287 - accuracy: 0.9926\n",
            "Epoch 29: saving model to sent/cp.ckpt\n",
            "380/380 [==============================] - 3s 7ms/step - loss: 0.0288 - accuracy: 0.9925\n",
            "Epoch 30/30\n",
            "380/380 [==============================] - ETA: 0s - loss: 0.0271 - accuracy: 0.9935\n",
            "Epoch 30: saving model to sent/cp.ckpt\n",
            "380/380 [==============================] - 2s 7ms/step - loss: 0.0271 - accuracy: 0.9935\n"
          ]
        }
      ]
    },
    {
      "cell_type": "code",
      "source": [
        "import matplotlib.image  as mpimg\n",
        "import matplotlib.pyplot as plt\n",
        "\n",
        "acc=sent_hist.history['accuracy']\n",
        "loss=sent_hist.history['loss']\n",
        "\n",
        "epochs=range(len(acc))\n",
        "\n",
        "plt.plot(epochs, acc, 'r')\n",
        "plt.title('Training accuracy')\n",
        "plt.xlabel(\"Epochs\")\n",
        "plt.ylabel(\"Accuracy\")\n",
        "plt.legend([\"Accuracy\"])\n",
        "\n",
        "plt.figure()\n",
        "\n",
        "plt.plot(epochs, loss, 'r')\n",
        "\n",
        "plt.title('Training loss')\n",
        "plt.xlabel(\"Epochs\")\n",
        "plt.ylabel(\"Loss\")\n",
        "plt.legend([\"Loss\"])\n",
        "\n",
        "plt.figure()"
      ],
      "metadata": {
        "id": "r_LhRGn-BJaD",
        "colab": {
          "base_uri": "https://localhost:8080/",
          "height": 608
        },
        "outputId": "2a840f05-93f1-4117-983f-fe3027eaa311"
      },
      "execution_count": null,
      "outputs": [
        {
          "output_type": "execute_result",
          "data": {
            "text/plain": [
              "<Figure size 432x288 with 0 Axes>"
            ]
          },
          "metadata": {},
          "execution_count": 26
        },
        {
          "output_type": "display_data",
          "data": {
            "text/plain": [
              "<Figure size 432x288 with 1 Axes>"
            ],
            "image/png": "[encoded data removed]"
          },
          "metadata": {
            "needs_background": "light"
          }
        },
        {
          "output_type": "display_data",
          "data": {
            "text/plain": [
              "<Figure size 432x288 with 1 Axes>"
            ],
            "image/png": "[encoded data removed]"
          },
          "metadata": {
            "needs_background": "light"
          }
        },
        {
          "output_type": "display_data",
          "data": {
            "text/plain": [
              "<Figure size 432x288 with 0 Axes>"
            ]
          },
          "metadata": {}
        }
      ]
    },
    {
      "cell_type": "code",
      "source": [
        "score = sent_model.evaluate(train_text_pad, train_sent_seq, verbose = 0)\n",
        "print(str(score[1]*100) + \"%\")"
      ],
      "metadata": {
        "id": "uGVRGq2QBJaE",
        "colab": {
          "base_uri": "https://localhost:8080/"
        },
        "outputId": "7967b79e-0c4b-4512-f0a8-2e945c2e3f54"
      },
      "execution_count": null,
      "outputs": [
        {
          "output_type": "stream",
          "name": "stdout",
          "text": [
            "99.39853549003601%\n"
          ]
        }
      ]
    },
    {
      "cell_type": "code",
      "source": [
        "test_input = input()\n",
        "text = np.array([test_input])\n",
        "text = np.array(pad_sequences(tokenizer.texts_to_sequences(text), padding=padding_type,\n",
        "                                    maxlen=max_length, truncating=trunc_type))\n",
        "prediction =sent_model.predict(text)\n",
        "print(prediction)\n",
        "\n",
        "result = prediction[0].tolist().index(np.max(prediction))\n",
        "print(result)\n",
        "cat = ''\n",
        "for key, value in sent_tok.word_index.items():\n",
        "  if result == value:\n",
        "    cat = key\n",
        "print(cat)"
      ],
      "metadata": {
        "id": "kgGtHiEBBJaE",
        "colab": {
          "base_uri": "https://localhost:8080/"
        },
        "outputId": "83a0eced-4f6a-4d7d-fd44-1ba66edf6562"
      },
      "execution_count": null,
      "outputs": [
        {
          "output_type": "stream",
          "name": "stdout",
          "text": [
            "jelek banget pelayanannya\n",
            "[[3.1894631e-06 4.5527440e-02 5.5162174e-01 4.0284765e-01]]\n",
            "2\n",
            "positif\n"
          ]
        }
      ]
    },
    {
      "cell_type": "code",
      "source": [
        "sent_predict_file = np.array(predict_data['text'])\n",
        "sent_predict_input = np.array(pad_sequences(tokenizer.texts_to_sequences(sent_predict_file), \n",
        "                                                                        maxlen = max_length,\n",
        "                                                                        padding = padding_type,\n",
        "                                                                        truncating = trunc_type))\n",
        "sent_prediction = sent_model.predict(sent_predict_input)\n",
        "print(sent_prediction)\n",
        "print(sent_word_index)\n",
        "\n",
        "slist_result = []\n",
        "for row in range(len(sent_prediction)):\n",
        "  sresult = sent_prediction[row].tolist().index(np.max(sent_prediction[row]))\n",
        "  slist_result.append(sresult)\n",
        "  print(\"prdiction- \" + str(row) + \" : \" + str(sresult) + \" with \" + str(100*max(sent_prediction[row].tolist()*100)) + \" percentage\")\n",
        "spre_result=[]\n",
        "for s in slist_result:\n",
        "  spre_result.append(sent_tok.index_word[s])\n",
        "\n",
        "pd.set_option(\"display.max_columns\", 150)\n",
        "predict_data['predict_sentiment'] = np.array(spre_result)\n",
        "predict_data[['text', 'predict_sentiment']]"
      ],
      "metadata": {
        "id": "0yhMj-mgBJaE",
        "colab": {
          "base_uri": "https://localhost:8080/",
          "height": 1000
        },
        "outputId": "29304cc3-cecb-4f4c-a8e3-e28eab7da2f0"
      },
      "execution_count": null,
      "outputs": [
        {
          "output_type": "stream",
          "name": "stdout",
          "text": [
            "[[8.8102511e-11 9.9999917e-01 6.3469787e-07 1.4430704e-07]\n",
            " [1.0006356e-06 9.9586725e-01 2.4237554e-04 3.8893996e-03]\n",
            " [9.6966176e-08 9.9676394e-01 1.9007721e-03 1.3351054e-03]\n",
            " [6.0805817e-08 9.9837744e-01 9.8647072e-04 6.3599140e-04]\n",
            " [1.2848694e-08 9.9985814e-01 7.9146288e-05 6.2724976e-05]\n",
            " [1.6992480e-10 9.9999940e-01 3.3960663e-07 2.5734107e-07]\n",
            " [4.4446574e-06 7.9255342e-01 6.8438500e-02 1.3900363e-01]\n",
            " [7.4679355e-18 1.0000000e+00 1.1546265e-13 5.3636674e-14]\n",
            " [1.0223942e-05 4.8834348e-01 1.2852375e-01 3.8312253e-01]\n",
            " [4.0029957e-07 9.8209929e-01 9.3433028e-03 8.5570728e-03]\n",
            " [2.4428179e-09 9.9997985e-01 1.2370159e-05 7.8061530e-06]\n",
            " [2.0878075e-09 9.9998927e-01 6.4460023e-06 4.3268942e-06]\n",
            " [6.0805817e-08 9.9837744e-01 9.8647072e-04 6.3599140e-04]\n",
            " [1.4463065e-08 9.9968588e-01 2.1122799e-04 1.0296845e-04]]\n",
            "{'netral': 1, 'positif': 2, 'negatif': 3}\n",
            "prdiction- 0 : 1 with 99.99991655349731 percentage\n",
            "prdiction- 1 : 1 with 99.58672523498535 percentage\n",
            "prdiction- 2 : 1 with 99.67639446258545 percentage\n",
            "prdiction- 3 : 1 with 99.83774423599243 percentage\n",
            "prdiction- 4 : 1 with 99.98581409454346 percentage\n",
            "prdiction- 5 : 1 with 99.99994039535522 percentage\n",
            "prdiction- 6 : 1 with 79.25534248352051 percentage\n",
            "prdiction- 7 : 1 with 100.0 percentage\n",
            "prdiction- 8 : 1 with 48.83434772491455 percentage\n",
            "prdiction- 9 : 1 with 98.20992946624756 percentage\n",
            "prdiction- 10 : 1 with 99.99798536300659 percentage\n",
            "prdiction- 11 : 1 with 99.99892711639404 percentage\n",
            "prdiction- 12 : 1 with 99.83774423599243 percentage\n",
            "prdiction- 13 : 1 with 99.96858835220337 percentage\n"
          ]
        },
        {
          "output_type": "execute_result",
          "data": {
            "text/plain": [
              "                                                 text predict_sentiment\n",
              "0                    tolong cek dm admin terima kasih            netral\n",
              "1   nyari duit makanya bagi saya ini sudah termasu...            netral\n",
              "2                                               buset            netral\n",
              "3                                 Happy new year 2022            netral\n",
              "4      gak gelem kerjo meneng2an kerjoan e kudu viral            netral\n",
              "5                                       cek dm ya min            netral\n",
              "6   lah emangnya dia ngelakuin pelecehan sampe di ...            netral\n",
              "7   selamat pagi railmin apakah ada kabar ka bima ...            netral\n",
              "8   apalagi kalo udh penuh tetep di paksa masuk ya...            netral\n",
              "9                                           jadwalnya            netral\n",
              "10  min boleh share jadwal kereta stasiun tugi nyi...            netral\n",
              "11  sebaiknya yang diperbolehkan naik angkutan umu...            netral\n",
              "12                                happy new year 2022            netral\n",
              "13                  mantab terimakasih kakak2 infonya            netral"
            ],
            "text/html": [
              "\n",
              "  <div id=\"df-3d217d89-f7ce-4003-8fe3-bcc39ccd1242\">\n",
              "    <div class=\"colab-df-container\">\n",
              "      <div>\n",
              "<style scoped>\n",
              "    .dataframe tbody tr th:only-of-type {\n",
              "        vertical-align: middle;\n",
              "    }\n",
              "\n",
              "    .dataframe tbody tr th {\n",
              "        vertical-align: top;\n",
              "    }\n",
              "\n",
              "    .dataframe thead th {\n",
              "        text-align: right;\n",
              "    }\n",
              "</style>\n",
              "<table border=\"1\" class=\"dataframe\">\n",
              "  <thead>\n",
              "    <tr style=\"text-align: right;\">\n",
              "      <th></th>\n",
              "      <th>text</th>\n",
              "      <th>predict_sentiment</th>\n",
              "    </tr>\n",
              "  </thead>\n",
              "  <tbody>\n",
              "    <tr>\n",
              "      <th>0</th>\n",
              "      <td>tolong cek dm admin terima kasih</td>\n",
              "      <td>netral</td>\n",
              "    </tr>\n",
              "    <tr>\n",
              "      <th>1</th>\n",
              "      <td>nyari duit makanya bagi saya ini sudah termasu...</td>\n",
              "      <td>netral</td>\n",
              "    </tr>\n",
              "    <tr>\n",
              "      <th>2</th>\n",
              "      <td>buset</td>\n",
              "      <td>netral</td>\n",
              "    </tr>\n",
              "    <tr>\n",
              "      <th>3</th>\n",
              "      <td>Happy new year 2022</td>\n",
              "      <td>netral</td>\n",
              "    </tr>\n",
              "    <tr>\n",
              "      <th>4</th>\n",
              "      <td>gak gelem kerjo meneng2an kerjoan e kudu viral</td>\n",
              "      <td>netral</td>\n",
              "    </tr>\n",
              "    <tr>\n",
              "      <th>5</th>\n",
              "      <td>cek dm ya min</td>\n",
              "      <td>netral</td>\n",
              "    </tr>\n",
              "    <tr>\n",
              "      <th>6</th>\n",
              "      <td>lah emangnya dia ngelakuin pelecehan sampe di ...</td>\n",
              "      <td>netral</td>\n",
              "    </tr>\n",
              "    <tr>\n",
              "      <th>7</th>\n",
              "      <td>selamat pagi railmin apakah ada kabar ka bima ...</td>\n",
              "      <td>netral</td>\n",
              "    </tr>\n",
              "    <tr>\n",
              "      <th>8</th>\n",
              "      <td>apalagi kalo udh penuh tetep di paksa masuk ya...</td>\n",
              "      <td>netral</td>\n",
              "    </tr>\n",
              "    <tr>\n",
              "      <th>9</th>\n",
              "      <td>jadwalnya</td>\n",
              "      <td>netral</td>\n",
              "    </tr>\n",
              "    <tr>\n",
              "      <th>10</th>\n",
              "      <td>min boleh share jadwal kereta stasiun tugi nyi...</td>\n",
              "      <td>netral</td>\n",
              "    </tr>\n",
              "    <tr>\n",
              "      <th>11</th>\n",
              "      <td>sebaiknya yang diperbolehkan naik angkutan umu...</td>\n",
              "      <td>netral</td>\n",
              "    </tr>\n",
              "    <tr>\n",
              "      <th>12</th>\n",
              "      <td>happy new year 2022</td>\n",
              "      <td>netral</td>\n",
              "    </tr>\n",
              "    <tr>\n",
              "      <th>13</th>\n",
              "      <td>mantab terimakasih kakak2 infonya</td>\n",
              "      <td>netral</td>\n",
              "    </tr>\n",
              "  </tbody>\n",
              "</table>\n",
              "</div>\n",
              "      <button class=\"colab-df-convert\" onclick=\"convertToInteractive('df-3d217d89-f7ce-4003-8fe3-bcc39ccd1242')\"\n",
              "              title=\"Convert this dataframe to an interactive table.\"\n",
              "              style=\"display:none;\">\n",
              "        \n",
              "  <svg xmlns=\"http://www.w3.org/2000/svg\" height=\"24px\"viewBox=\"0 0 24 24\"\n",
              "       width=\"24px\">\n",
              "    <path d=\"M0 0h24v24H0V0z\" fill=\"none\"/>\n",
              "    <path d=\"M18.56 5.44l.94 2.06.94-2.06 2.06-.94-2.06-.94-.94-2.06-.94 2.06-2.06.94zm-11 1L8.5 8.5l.94-2.06 2.06-.94-2.06-.94L8.5 2.5l-.94 2.06-2.06.94zm10 10l.94 2.06.94-2.06 2.06-.94-2.06-.94-.94-2.06-.94 2.06-2.06.94z\"/><path d=\"M17.41 7.96l-1.37-1.37c-.4-.4-.92-.59-1.43-.59-.52 0-1.04.2-1.43.59L10.3 9.45l-7.72 7.72c-.78.78-.78 2.05 0 2.83L4 21.41c.39.39.9.59 1.41.59.51 0 1.02-.2 1.41-.59l7.78-7.78 2.81-2.81c.8-.78.8-2.07 0-2.86zM5.41 20L4 18.59l7.72-7.72 1.47 1.35L5.41 20z\"/>\n",
              "  </svg>\n",
              "      </button>\n",
              "      \n",
              "  <style>\n",
              "    .colab-df-container {\n",
              "      display:flex;\n",
              "      flex-wrap:wrap;\n",
              "      gap: 12px;\n",
              "    }\n",
              "\n",
              "    .colab-df-convert {\n",
              "      background-color: #E8F0FE;\n",
              "      border: none;\n",
              "      border-radius: 50%;\n",
              "      cursor: pointer;\n",
              "      display: none;\n",
              "      fill: #1967D2;\n",
              "      height: 32px;\n",
              "      padding: 0 0 0 0;\n",
              "      width: 32px;\n",
              "    }\n",
              "\n",
              "    .colab-df-convert:hover {\n",
              "      background-color: #E2EBFA;\n",
              "      box-shadow: 0px 1px 2px rgba(60, 64, 67, 0.3), 0px 1px 3px 1px rgba(60, 64, 67, 0.15);\n",
              "      fill: #174EA6;\n",
              "    }\n",
              "\n",
              "    [theme=dark] .colab-df-convert {\n",
              "      background-color: #3B4455;\n",
              "      fill: #D2E3FC;\n",
              "    }\n",
              "\n",
              "    [theme=dark] .colab-df-convert:hover {\n",
              "      background-color: #434B5C;\n",
              "      box-shadow: 0px 1px 3px 1px rgba(0, 0, 0, 0.15);\n",
              "      filter: drop-shadow(0px 1px 2px rgba(0, 0, 0, 0.3));\n",
              "      fill: #FFFFFF;\n",
              "    }\n",
              "  </style>\n",
              "\n",
              "      <script>\n",
              "        const buttonEl =\n",
              "          document.querySelector('#df-3d217d89-f7ce-4003-8fe3-bcc39ccd1242 button.colab-df-convert');\n",
              "        buttonEl.style.display =\n",
              "          google.colab.kernel.accessAllowed ? 'block' : 'none';\n",
              "\n",
              "        async function convertToInteractive(key) {\n",
              "          const element = document.querySelector('#df-3d217d89-f7ce-4003-8fe3-bcc39ccd1242');\n",
              "          const dataTable =\n",
              "            await google.colab.kernel.invokeFunction('convertToInteractive',\n",
              "                                                     [key], {});\n",
              "          if (!dataTable) return;\n",
              "\n",
              "          const docLinkHtml = 'Like what you see? Visit the ' +\n",
              "            '<a target=\"_blank\" href=https://colab.research.google.com/notebooks/data_table.ipynb>data table notebook</a>'\n",
              "            + ' to learn more about interactive tables.';\n",
              "          element.innerHTML = '';\n",
              "          dataTable['output_type'] = 'display_data';\n",
              "          await google.colab.output.renderOutput(dataTable, element);\n",
              "          const docLink = document.createElement('div');\n",
              "          docLink.innerHTML = docLinkHtml;\n",
              "          element.appendChild(docLink);\n",
              "        }\n",
              "      </script>\n",
              "    </div>\n",
              "  </div>\n",
              "  "
            ]
          },
          "metadata": {},
          "execution_count": 29
        }
      ]
    },
    {
      "cell_type": "markdown",
      "source": [
        "Topic"
      ],
      "metadata": {
        "id": "gwmSeHcQraM1"
      }
    },
    {
      "cell_type": "code",
      "source": [
        "input_topic = np.concatenate([train_text_pad, train_sent_pad], axis = 1)\n",
        "\n",
        "ckpt_path = \"sent/cp.ckpt\"\n",
        "cp_callback = tf.keras.callbacks.ModelCheckpoint(filepath=ckpt_path,\n",
        "                                                 save_weights_only=True,\n",
        "                                               verbose=1)\n",
        "\n",
        "topic_model = tf.keras.Sequential([\n",
        "                                  tf.keras.layers.Embedding(10000, embedding_dim, \n",
        "                                                            input_length = max_length+1),\n",
        "                                  tf.keras.layers.Conv1D(32, 5, activation = 'relu'),\n",
        "                                  tf.keras.layers.MaxPool1D(),\n",
        "                                  tf.keras.layers.Bidirectional(tf.keras.layers.LSTM(64, return_sequences= True)),\n",
        "                                  tf.keras.layers.Bidirectional(tf.keras.layers.LSTM(32)),\n",
        "                                  tf.keras.layers.Dense(16, activation = 'relu'),\n",
        "                                  tf.keras.layers.Dense(9, activation = 'softmax')\n",
        "])\n",
        "\n",
        "topic_model.compile(optimizer = 'adam', loss = 'sparse_categorical_crossentropy', metrics = ['accuracy'])\n",
        "topic_hist = topic_model.fit(input_topic, train_topic_seq, \n",
        "               epochs = 30, callbacks = [cp_callback])"
      ],
      "metadata": {
        "colab": {
          "base_uri": "https://localhost:8080/"
        },
        "id": "fDsyEu-frcwY",
        "outputId": "9e470045-8abf-40b8-eeeb-10d184446453"
      },
      "execution_count": null,
      "outputs": [
        {
          "output_type": "stream",
          "name": "stdout",
          "text": [
            "Epoch 1/30\n",
            "380/380 [==============================] - ETA: 0s - loss: 1.0713 - accuracy: 0.6443\n",
            "Epoch 1: saving model to sent/cp.ckpt\n",
            "380/380 [==============================] - 37s 70ms/step - loss: 1.0713 - accuracy: 0.6443\n",
            "Epoch 2/30\n",
            "380/380 [==============================] - ETA: 0s - loss: 0.6544 - accuracy: 0.7893\n",
            "Epoch 2: saving model to sent/cp.ckpt\n",
            "380/380 [==============================] - 27s 71ms/step - loss: 0.6544 - accuracy: 0.7893\n",
            "Epoch 3/30\n",
            "380/380 [==============================] - ETA: 0s - loss: 0.5185 - accuracy: 0.8313\n",
            "Epoch 3: saving model to sent/cp.ckpt\n",
            "380/380 [==============================] - 27s 71ms/step - loss: 0.5185 - accuracy: 0.8313\n",
            "Epoch 4/30\n",
            "380/380 [==============================] - ETA: 0s - loss: 0.4160 - accuracy: 0.8588\n",
            "Epoch 4: saving model to sent/cp.ckpt\n",
            "380/380 [==============================] - 27s 71ms/step - loss: 0.4160 - accuracy: 0.8588\n",
            "Epoch 5/30\n",
            "380/380 [==============================] - ETA: 0s - loss: 0.3467 - accuracy: 0.8862\n",
            "Epoch 5: saving model to sent/cp.ckpt\n",
            "380/380 [==============================] - 27s 70ms/step - loss: 0.3467 - accuracy: 0.8862\n",
            "Epoch 6/30\n",
            "380/380 [==============================] - ETA: 0s - loss: 0.2860 - accuracy: 0.9104\n",
            "Epoch 6: saving model to sent/cp.ckpt\n",
            "380/380 [==============================] - 27s 71ms/step - loss: 0.2860 - accuracy: 0.9104\n",
            "Epoch 7/30\n",
            "380/380 [==============================] - ETA: 0s - loss: 0.2382 - accuracy: 0.9241\n",
            "Epoch 7: saving model to sent/cp.ckpt\n",
            "380/380 [==============================] - 27s 71ms/step - loss: 0.2382 - accuracy: 0.9241\n",
            "Epoch 8/30\n",
            "380/380 [==============================] - ETA: 0s - loss: 0.2125 - accuracy: 0.9317\n",
            "Epoch 8: saving model to sent/cp.ckpt\n",
            "380/380 [==============================] - 27s 71ms/step - loss: 0.2125 - accuracy: 0.9317\n",
            "Epoch 9/30\n",
            "380/380 [==============================] - ETA: 0s - loss: 0.1832 - accuracy: 0.9435\n",
            "Epoch 9: saving model to sent/cp.ckpt\n",
            "380/380 [==============================] - 27s 71ms/step - loss: 0.1832 - accuracy: 0.9435\n",
            "Epoch 10/30\n",
            "380/380 [==============================] - ETA: 0s - loss: 0.1615 - accuracy: 0.9485\n",
            "Epoch 10: saving model to sent/cp.ckpt\n",
            "380/380 [==============================] - 27s 71ms/step - loss: 0.1615 - accuracy: 0.9485\n",
            "Epoch 11/30\n",
            "380/380 [==============================] - ETA: 0s - loss: 0.1367 - accuracy: 0.9594\n",
            "Epoch 11: saving model to sent/cp.ckpt\n",
            "380/380 [==============================] - 27s 71ms/step - loss: 0.1367 - accuracy: 0.9594\n",
            "Epoch 12/30\n",
            "380/380 [==============================] - ETA: 0s - loss: 0.1256 - accuracy: 0.9621\n",
            "Epoch 12: saving model to sent/cp.ckpt\n",
            "380/380 [==============================] - 27s 70ms/step - loss: 0.1256 - accuracy: 0.9621\n",
            "Epoch 13/30\n",
            "380/380 [==============================] - ETA: 0s - loss: 0.1119 - accuracy: 0.9689\n",
            "Epoch 13: saving model to sent/cp.ckpt\n",
            "380/380 [==============================] - 27s 71ms/step - loss: 0.1119 - accuracy: 0.9689\n",
            "Epoch 14/30\n",
            "380/380 [==============================] - ETA: 0s - loss: 0.0997 - accuracy: 0.9734\n",
            "Epoch 14: saving model to sent/cp.ckpt\n",
            "380/380 [==============================] - 27s 71ms/step - loss: 0.0997 - accuracy: 0.9734\n",
            "Epoch 15/30\n",
            "380/380 [==============================] - ETA: 0s - loss: 0.0801 - accuracy: 0.9793\n",
            "Epoch 15: saving model to sent/cp.ckpt\n",
            "380/380 [==============================] - 27s 71ms/step - loss: 0.0801 - accuracy: 0.9793\n",
            "Epoch 16/30\n",
            "380/380 [==============================] - ETA: 0s - loss: 0.0762 - accuracy: 0.9794\n",
            "Epoch 16: saving model to sent/cp.ckpt\n",
            "380/380 [==============================] - 27s 71ms/step - loss: 0.0762 - accuracy: 0.9794\n",
            "Epoch 17/30\n",
            "380/380 [==============================] - ETA: 0s - loss: 0.0740 - accuracy: 0.9805\n",
            "Epoch 17: saving model to sent/cp.ckpt\n",
            "380/380 [==============================] - 27s 71ms/step - loss: 0.0740 - accuracy: 0.9805\n",
            "Epoch 18/30\n",
            "380/380 [==============================] - ETA: 0s - loss: 0.0612 - accuracy: 0.9836\n",
            "Epoch 18: saving model to sent/cp.ckpt\n",
            "380/380 [==============================] - 27s 71ms/step - loss: 0.0612 - accuracy: 0.9836\n",
            "Epoch 19/30\n",
            "380/380 [==============================] - ETA: 0s - loss: 0.0499 - accuracy: 0.9874\n",
            "Epoch 19: saving model to sent/cp.ckpt\n",
            "380/380 [==============================] - 27s 72ms/step - loss: 0.0499 - accuracy: 0.9874\n",
            "Epoch 20/30\n",
            "380/380 [==============================] - ETA: 0s - loss: 0.0455 - accuracy: 0.9885\n",
            "Epoch 20: saving model to sent/cp.ckpt\n",
            "380/380 [==============================] - 27s 72ms/step - loss: 0.0455 - accuracy: 0.9885\n",
            "Epoch 21/30\n",
            "380/380 [==============================] - ETA: 0s - loss: 0.0462 - accuracy: 0.9881\n",
            "Epoch 21: saving model to sent/cp.ckpt\n",
            "380/380 [==============================] - 27s 72ms/step - loss: 0.0462 - accuracy: 0.9881\n",
            "Epoch 22/30\n",
            "380/380 [==============================] - ETA: 0s - loss: 0.0419 - accuracy: 0.9888\n",
            "Epoch 22: saving model to sent/cp.ckpt\n",
            "380/380 [==============================] - 27s 72ms/step - loss: 0.0419 - accuracy: 0.9888\n",
            "Epoch 23/30\n",
            "380/380 [==============================] - ETA: 0s - loss: 0.0441 - accuracy: 0.9885\n",
            "Epoch 23: saving model to sent/cp.ckpt\n",
            "380/380 [==============================] - 27s 72ms/step - loss: 0.0441 - accuracy: 0.9885\n",
            "Epoch 24/30\n",
            "380/380 [==============================] - ETA: 0s - loss: 0.0443 - accuracy: 0.9885\n",
            "Epoch 24: saving model to sent/cp.ckpt\n",
            "380/380 [==============================] - 27s 71ms/step - loss: 0.0443 - accuracy: 0.9885\n",
            "Epoch 25/30\n",
            "380/380 [==============================] - ETA: 0s - loss: 0.0383 - accuracy: 0.9900\n",
            "Epoch 25: saving model to sent/cp.ckpt\n",
            "380/380 [==============================] - 27s 72ms/step - loss: 0.0383 - accuracy: 0.9900\n",
            "Epoch 26/30\n",
            "380/380 [==============================] - ETA: 0s - loss: 0.0345 - accuracy: 0.9902\n",
            "Epoch 26: saving model to sent/cp.ckpt\n",
            "380/380 [==============================] - 27s 72ms/step - loss: 0.0345 - accuracy: 0.9902\n",
            "Epoch 27/30\n",
            "380/380 [==============================] - ETA: 0s - loss: 0.0273 - accuracy: 0.9925\n",
            "Epoch 27: saving model to sent/cp.ckpt\n",
            "380/380 [==============================] - 27s 72ms/step - loss: 0.0273 - accuracy: 0.9925\n",
            "Epoch 28/30\n",
            "380/380 [==============================] - ETA: 0s - loss: 0.0228 - accuracy: 0.9945\n",
            "Epoch 28: saving model to sent/cp.ckpt\n",
            "380/380 [==============================] - 27s 72ms/step - loss: 0.0228 - accuracy: 0.9945\n",
            "Epoch 29/30\n",
            "380/380 [==============================] - ETA: 0s - loss: 0.0212 - accuracy: 0.9935\n",
            "Epoch 29: saving model to sent/cp.ckpt\n",
            "380/380 [==============================] - 27s 72ms/step - loss: 0.0212 - accuracy: 0.9935\n",
            "Epoch 30/30\n",
            "380/380 [==============================] - ETA: 0s - loss: 0.0319 - accuracy: 0.9904\n",
            "Epoch 30: saving model to sent/cp.ckpt\n",
            "380/380 [==============================] - 27s 71ms/step - loss: 0.0319 - accuracy: 0.9904\n"
          ]
        }
      ]
    },
    {
      "cell_type": "code",
      "source": [
        "import matplotlib.image  as mpimg\n",
        "import matplotlib.pyplot as plt\n",
        "\n",
        "acc=topic_hist.history['accuracy']\n",
        "loss=topic_hist.history['loss']\n",
        "\n",
        "epochs=range(len(acc))\n",
        "\n",
        "plt.plot(epochs, acc, 'r')\n",
        "plt.title('Training accuracy')\n",
        "plt.xlabel(\"Epochs\")\n",
        "plt.ylabel(\"Accuracy\")\n",
        "plt.legend([\"Accuracy\"])\n",
        "\n",
        "plt.figure()\n",
        "\n",
        "plt.plot(epochs, loss, 'r')\n",
        "\n",
        "plt.title('Training loss')\n",
        "plt.xlabel(\"Epochs\")\n",
        "plt.ylabel(\"Loss\")\n",
        "plt.legend([\"Loss\"])\n",
        "\n",
        "plt.figure()"
      ],
      "metadata": {
        "colab": {
          "base_uri": "https://localhost:8080/",
          "height": 608
        },
        "id": "Aeeii0KruiNK",
        "outputId": "eab3f15b-3786-4de0-a157-1d6459a5567c"
      },
      "execution_count": null,
      "outputs": [
        {
          "output_type": "execute_result",
          "data": {
            "text/plain": [
              "<Figure size 432x288 with 0 Axes>"
            ]
          },
          "metadata": {},
          "execution_count": 42
        },
        {
          "output_type": "display_data",
          "data": {
            "text/plain": [
              "<Figure size 432x288 with 1 Axes>"
            ],
            "image/png": "[encoded data removed]"
          },
          "metadata": {
            "needs_background": "light"
          }
        },
        {
          "output_type": "display_data",
          "data": {
            "text/plain": [
              "<Figure size 432x288 with 1 Axes>"
            ],
            "image/png": "[encoded data removed]"
          },
          "metadata": {
            "needs_background": "light"
          }
        },
        {
          "output_type": "display_data",
          "data": {
            "text/plain": [
              "<Figure size 432x288 with 0 Axes>"
            ]
          },
          "metadata": {}
        }
      ]
    },
    {
      "cell_type": "code",
      "source": [
        "score = topic_model.evaluate(input_topic, train_topic_seq, verbose = 0)\n",
        "print(str(score[1]*100) + \"%\")"
      ],
      "metadata": {
        "colab": {
          "base_uri": "https://localhost:8080/"
        },
        "id": "KckKMa50waxP",
        "outputId": "92d03d1d-3199-42b8-bfed-b07f44536e33"
      },
      "execution_count": null,
      "outputs": [
        {
          "output_type": "stream",
          "name": "stdout",
          "text": [
            "99.30790066719055%\n"
          ]
        }
      ]
    },
    {
      "cell_type": "code",
      "source": [
        "text_input = input()\n",
        "text_input = np.array([text_input])\n",
        "sent_input = input()\n",
        "sent_input = np.array([sent_input])\n",
        "text_input = pad_sequences(tokenizer.texts_to_sequences(text_input), padding=padding_type,\n",
        "                                    maxlen=max_length, truncating=trunc_type)\n",
        "sent_input = pad_sequences(sent_tok.texts_to_sequences(sent_input), padding=padding_type,\n",
        "                                    maxlen=1, truncating=trunc_type)\n",
        "pre_input = np.array(np.concatenate([text_input, sent_input], axis=1))\n",
        "prediction =topic_model.predict(pre_input)\n",
        "\n",
        "result = prediction[0].tolist().index(np.max(prediction))\n",
        "print(result)\n",
        "cat = ''\n",
        "for key, value in topic_tok.word_index.items():\n",
        "  if result == value:\n",
        "    cat = key\n",
        "print(cat)"
      ],
      "metadata": {
        "colab": {
          "base_uri": "https://localhost:8080/"
        },
        "id": "x5ekCpTtwqK2",
        "outputId": "d7abf852-03fb-4c78-986a-dc4890aabbd0"
      },
      "execution_count": null,
      "outputs": [
        {
          "output_type": "stream",
          "name": "stdout",
          "text": [
            "jelek banget pelayanannya\n",
            "negatif\n",
            "8\n",
            "pelayanan\n"
          ]
        }
      ]
    },
    {
      "cell_type": "code",
      "source": [
        "sent_model.save('sent_model.h5')\n",
        "topic_model.save('topic_model.h5')"
      ],
      "metadata": {
        "id": "rbjp8ZSlGEEG"
      },
      "execution_count": null,
      "outputs": []
    },
    {
      "cell_type": "markdown",
      "source": [
        "# with no stopwords and number"
      ],
      "metadata": {
        "id": "_9Pp8Pzhowea"
      }
    },
    {
      "cell_type": "code",
      "source": [
        "from sklearn.model_selection import train_test_split\n",
        "from tensorflow.keras.preprocessing.text import Tokenizer\n",
        "from tensorflow.keras.preprocessing.sequence import pad_sequences\n",
        "import numpy as np"
      ],
      "metadata": {
        "id": "98vELE1bowej"
      },
      "execution_count": null,
      "outputs": []
    },
    {
      "cell_type": "code",
      "source": [
        "data = pd.read_csv('/content/KAI121mentions - removed_stpwrds_number.csv')\n",
        "predict_data = pd.read_csv('predict.csv', sep = ';')\n",
        "data.drop(columns = ['Unnamed: 0'], inplace = True)\n",
        "predict_data.drop(columns = ['Unnamed: 0'], inplace = True)\n",
        "print(data)\n",
        "predict_data"
      ],
      "metadata": {
        "colab": {
          "base_uri": "https://localhost:8080/",
          "height": 1000
        },
        "id": "RY-dxsxio0YN",
        "outputId": "2d0351ff-682c-4793-e169-135c1c7ee39e"
      },
      "execution_count": null,
      "outputs": [
        {
          "output_type": "stream",
          "name": "stdout",
          "text": [
            "       Unnamed: 0.1    tanggal sentiment       topic  \\\n",
            "0                 0  9/24/2021    netral  jadwalrute   \n",
            "1                 1  9/24/2021    netral      syarat   \n",
            "2                 2  9/24/2021    netral      syarat   \n",
            "3                 3  9/24/2021    netral      syarat   \n",
            "4                 4  9/24/2021    netral        lain   \n",
            "...             ...        ...       ...         ...   \n",
            "12132         12132   11/29/21    netral        lain   \n",
            "12133         12133   11/29/21    netral  jadwalrute   \n",
            "12134         12134   11/29/21    netral        lain   \n",
            "12135         12135   11/29/21    netral      syarat   \n",
            "12136         12136   11/29/21    netral      syarat   \n",
            "\n",
            "                                                    text  \n",
            "0                                  rute kereta mana saja  \n",
            "1      sore min kalo kereta pemberangkatan besok jam ...  \n",
            "2      halo kalo mau naik kereta tapi belum vaksin di...  \n",
            "3      mohon info rapid test antigen di stasiun cireb...  \n",
            "4      railmin boleh tolong dibalas dm saya saya telp...  \n",
            "...                                                  ...  \n",
            "12132                                            bandung  \n",
            "12133  halo kak mau nanya kereta joglokerto purwokert...  \n",
            "12134  stasiun pasar senen kalo jam siang saya sampai...  \n",
            "12135  halo mau tanya untuk syarat naik kereta untuk ...  \n",
            "12136  selamat malam min saya mau tanya besok kereta ...  \n",
            "\n",
            "[12137 rows x 5 columns]\n"
          ]
        },
        {
          "output_type": "execute_result",
          "data": {
            "text/plain": [
              "                  created_at                   id  \\\n",
              "0   2022-01-03T23:58:30.000Z  1478153829782802433   \n",
              "1   2022-01-03T23:56:20.000Z  1478153282765869063   \n",
              "2   2022-01-03T23:54:59.000Z  1478152944734203905   \n",
              "3   2022-01-03T23:51:11.000Z  1478151987225001985   \n",
              "4   2022-01-03T23:49:39.000Z  1478151604452823040   \n",
              "5   2022-01-03T23:47:07.000Z  1478150964364275712   \n",
              "6   2022-01-03T23:45:13.000Z  1478150485487984645   \n",
              "7   2022-01-03T23:42:54.000Z  1478149904501329920   \n",
              "8   2022-01-03T23:31:34.000Z  1478147050495639555   \n",
              "9   2022-01-03T23:18:02.000Z  1478143647090556928   \n",
              "10  2022-01-03T23:17:20.000Z  1478143471584088066   \n",
              "11  2022-01-03T23:05:52.000Z  1478140582945910786   \n",
              "12  2022-01-03T23:03:59.000Z  1478140110700904450   \n",
              "13  2022-01-03T22:55:30.000Z  1478137975330328577   \n",
              "\n",
              "                                                 text  \n",
              "0                    tolong cek dm admin terima kasih  \n",
              "1   nyari duit makanya bagi saya ini sudah termasu...  \n",
              "2                                               buset  \n",
              "3                                 Happy new year 2022  \n",
              "4      gak gelem kerjo meneng2an kerjoan e kudu viral  \n",
              "5                                       cek dm ya min  \n",
              "6   lah emangnya dia ngelakuin pelecehan sampe di ...  \n",
              "7   selamat pagi railmin apakah ada kabar ka bima ...  \n",
              "8   apalagi kalo udh penuh tetep di paksa masuk ya...  \n",
              "9                                           jadwalnya  \n",
              "10  min boleh share jadwal kereta stasiun tugi nyi...  \n",
              "11  sebaiknya yang diperbolehkan naik angkutan umu...  \n",
              "12                                happy new year 2022  \n",
              "13                  mantab terimakasih kakak2 infonya  "
            ],
            "text/html": [
              "\n",
              "  <div id=\"df-28f7bcee-938c-4069-95da-aefa7d9838d5\">\n",
              "    <div class=\"colab-df-container\">\n",
              "      <div>\n",
              "<style scoped>\n",
              "    .dataframe tbody tr th:only-of-type {\n",
              "        vertical-align: middle;\n",
              "    }\n",
              "\n",
              "    .dataframe tbody tr th {\n",
              "        vertical-align: top;\n",
              "    }\n",
              "\n",
              "    .dataframe thead th {\n",
              "        text-align: right;\n",
              "    }\n",
              "</style>\n",
              "<table border=\"1\" class=\"dataframe\">\n",
              "  <thead>\n",
              "    <tr style=\"text-align: right;\">\n",
              "      <th></th>\n",
              "      <th>created_at</th>\n",
              "      <th>id</th>\n",
              "      <th>text</th>\n",
              "    </tr>\n",
              "  </thead>\n",
              "  <tbody>\n",
              "    <tr>\n",
              "      <th>0</th>\n",
              "      <td>2022-01-03T23:58:30.000Z</td>\n",
              "      <td>1478153829782802433</td>\n",
              "      <td>tolong cek dm admin terima kasih</td>\n",
              "    </tr>\n",
              "    <tr>\n",
              "      <th>1</th>\n",
              "      <td>2022-01-03T23:56:20.000Z</td>\n",
              "      <td>1478153282765869063</td>\n",
              "      <td>nyari duit makanya bagi saya ini sudah termasu...</td>\n",
              "    </tr>\n",
              "    <tr>\n",
              "      <th>2</th>\n",
              "      <td>2022-01-03T23:54:59.000Z</td>\n",
              "      <td>1478152944734203905</td>\n",
              "      <td>buset</td>\n",
              "    </tr>\n",
              "    <tr>\n",
              "      <th>3</th>\n",
              "      <td>2022-01-03T23:51:11.000Z</td>\n",
              "      <td>1478151987225001985</td>\n",
              "      <td>Happy new year 2022</td>\n",
              "    </tr>\n",
              "    <tr>\n",
              "      <th>4</th>\n",
              "      <td>2022-01-03T23:49:39.000Z</td>\n",
              "      <td>1478151604452823040</td>\n",
              "      <td>gak gelem kerjo meneng2an kerjoan e kudu viral</td>\n",
              "    </tr>\n",
              "    <tr>\n",
              "      <th>5</th>\n",
              "      <td>2022-01-03T23:47:07.000Z</td>\n",
              "      <td>1478150964364275712</td>\n",
              "      <td>cek dm ya min</td>\n",
              "    </tr>\n",
              "    <tr>\n",
              "      <th>6</th>\n",
              "      <td>2022-01-03T23:45:13.000Z</td>\n",
              "      <td>1478150485487984645</td>\n",
              "      <td>lah emangnya dia ngelakuin pelecehan sampe di ...</td>\n",
              "    </tr>\n",
              "    <tr>\n",
              "      <th>7</th>\n",
              "      <td>2022-01-03T23:42:54.000Z</td>\n",
              "      <td>1478149904501329920</td>\n",
              "      <td>selamat pagi railmin apakah ada kabar ka bima ...</td>\n",
              "    </tr>\n",
              "    <tr>\n",
              "      <th>8</th>\n",
              "      <td>2022-01-03T23:31:34.000Z</td>\n",
              "      <td>1478147050495639555</td>\n",
              "      <td>apalagi kalo udh penuh tetep di paksa masuk ya...</td>\n",
              "    </tr>\n",
              "    <tr>\n",
              "      <th>9</th>\n",
              "      <td>2022-01-03T23:18:02.000Z</td>\n",
              "      <td>1478143647090556928</td>\n",
              "      <td>jadwalnya</td>\n",
              "    </tr>\n",
              "    <tr>\n",
              "      <th>10</th>\n",
              "      <td>2022-01-03T23:17:20.000Z</td>\n",
              "      <td>1478143471584088066</td>\n",
              "      <td>min boleh share jadwal kereta stasiun tugi nyi...</td>\n",
              "    </tr>\n",
              "    <tr>\n",
              "      <th>11</th>\n",
              "      <td>2022-01-03T23:05:52.000Z</td>\n",
              "      <td>1478140582945910786</td>\n",
              "      <td>sebaiknya yang diperbolehkan naik angkutan umu...</td>\n",
              "    </tr>\n",
              "    <tr>\n",
              "      <th>12</th>\n",
              "      <td>2022-01-03T23:03:59.000Z</td>\n",
              "      <td>1478140110700904450</td>\n",
              "      <td>happy new year 2022</td>\n",
              "    </tr>\n",
              "    <tr>\n",
              "      <th>13</th>\n",
              "      <td>2022-01-03T22:55:30.000Z</td>\n",
              "      <td>1478137975330328577</td>\n",
              "      <td>mantab terimakasih kakak2 infonya</td>\n",
              "    </tr>\n",
              "  </tbody>\n",
              "</table>\n",
              "</div>\n",
              "      <button class=\"colab-df-convert\" onclick=\"convertToInteractive('df-28f7bcee-938c-4069-95da-aefa7d9838d5')\"\n",
              "              title=\"Convert this dataframe to an interactive table.\"\n",
              "              style=\"display:none;\">\n",
              "        \n",
              "  <svg xmlns=\"http://www.w3.org/2000/svg\" height=\"24px\"viewBox=\"0 0 24 24\"\n",
              "       width=\"24px\">\n",
              "    <path d=\"M0 0h24v24H0V0z\" fill=\"none\"/>\n",
              "    <path d=\"M18.56 5.44l.94 2.06.94-2.06 2.06-.94-2.06-.94-.94-2.06-.94 2.06-2.06.94zm-11 1L8.5 8.5l.94-2.06 2.06-.94-2.06-.94L8.5 2.5l-.94 2.06-2.06.94zm10 10l.94 2.06.94-2.06 2.06-.94-2.06-.94-.94-2.06-.94 2.06-2.06.94z\"/><path d=\"M17.41 7.96l-1.37-1.37c-.4-.4-.92-.59-1.43-.59-.52 0-1.04.2-1.43.59L10.3 9.45l-7.72 7.72c-.78.78-.78 2.05 0 2.83L4 21.41c.39.39.9.59 1.41.59.51 0 1.02-.2 1.41-.59l7.78-7.78 2.81-2.81c.8-.78.8-2.07 0-2.86zM5.41 20L4 18.59l7.72-7.72 1.47 1.35L5.41 20z\"/>\n",
              "  </svg>\n",
              "      </button>\n",
              "      \n",
              "  <style>\n",
              "    .colab-df-container {\n",
              "      display:flex;\n",
              "      flex-wrap:wrap;\n",
              "      gap: 12px;\n",
              "    }\n",
              "\n",
              "    .colab-df-convert {\n",
              "      background-color: #E8F0FE;\n",
              "      border: none;\n",
              "      border-radius: 50%;\n",
              "      cursor: pointer;\n",
              "      display: none;\n",
              "      fill: #1967D2;\n",
              "      height: 32px;\n",
              "      padding: 0 0 0 0;\n",
              "      width: 32px;\n",
              "    }\n",
              "\n",
              "    .colab-df-convert:hover {\n",
              "      background-color: #E2EBFA;\n",
              "      box-shadow: 0px 1px 2px rgba(60, 64, 67, 0.3), 0px 1px 3px 1px rgba(60, 64, 67, 0.15);\n",
              "      fill: #174EA6;\n",
              "    }\n",
              "\n",
              "    [theme=dark] .colab-df-convert {\n",
              "      background-color: #3B4455;\n",
              "      fill: #D2E3FC;\n",
              "    }\n",
              "\n",
              "    [theme=dark] .colab-df-convert:hover {\n",
              "      background-color: #434B5C;\n",
              "      box-shadow: 0px 1px 3px 1px rgba(0, 0, 0, 0.15);\n",
              "      filter: drop-shadow(0px 1px 2px rgba(0, 0, 0, 0.3));\n",
              "      fill: #FFFFFF;\n",
              "    }\n",
              "  </style>\n",
              "\n",
              "      <script>\n",
              "        const buttonEl =\n",
              "          document.querySelector('#df-28f7bcee-938c-4069-95da-aefa7d9838d5 button.colab-df-convert');\n",
              "        buttonEl.style.display =\n",
              "          google.colab.kernel.accessAllowed ? 'block' : 'none';\n",
              "\n",
              "        async function convertToInteractive(key) {\n",
              "          const element = document.querySelector('#df-28f7bcee-938c-4069-95da-aefa7d9838d5');\n",
              "          const dataTable =\n",
              "            await google.colab.kernel.invokeFunction('convertToInteractive',\n",
              "                                                     [key], {});\n",
              "          if (!dataTable) return;\n",
              "\n",
              "          const docLinkHtml = 'Like what you see? Visit the ' +\n",
              "            '<a target=\"_blank\" href=https://colab.research.google.com/notebooks/data_table.ipynb>data table notebook</a>'\n",
              "            + ' to learn more about interactive tables.';\n",
              "          element.innerHTML = '';\n",
              "          dataTable['output_type'] = 'display_data';\n",
              "          await google.colab.output.renderOutput(dataTable, element);\n",
              "          const docLink = document.createElement('div');\n",
              "          docLink.innerHTML = docLinkHtml;\n",
              "          element.appendChild(docLink);\n",
              "        }\n",
              "      </script>\n",
              "    </div>\n",
              "  </div>\n",
              "  "
            ]
          },
          "metadata": {},
          "execution_count": 2
        }
      ]
    },
    {
      "cell_type": "code",
      "source": [
        "#data.drop(columns=['Unnamed: 0.1'], inplace = True)\n",
        "print(len(data))\n",
        "data"
      ],
      "metadata": {
        "colab": {
          "base_uri": "https://localhost:8080/",
          "height": 520
        },
        "id": "KTTnPUtXoemJ",
        "outputId": "cd69f441-e6d6-43e7-e66c-36ac5ef4e5c3"
      },
      "execution_count": null,
      "outputs": [
        {
          "output_type": "stream",
          "name": "stdout",
          "text": [
            "12137\n"
          ]
        },
        {
          "output_type": "execute_result",
          "data": {
            "text/plain": [
              "         tanggal sentiment       topic  \\\n",
              "0      9/24/2021    netral  jadwalrute   \n",
              "1      9/24/2021    netral      syarat   \n",
              "2      9/24/2021    netral      syarat   \n",
              "3      9/24/2021    netral      syarat   \n",
              "4      9/24/2021    netral        lain   \n",
              "...          ...       ...         ...   \n",
              "12132   11/29/21    netral        lain   \n",
              "12133   11/29/21    netral  jadwalrute   \n",
              "12134   11/29/21    netral        lain   \n",
              "12135   11/29/21    netral      syarat   \n",
              "12136   11/29/21    netral      syarat   \n",
              "\n",
              "                                                    text  \n",
              "0                                  rute kereta mana saja  \n",
              "1      sore min kalo kereta pemberangkatan besok jam ...  \n",
              "2      halo kalo mau naik kereta tapi belum vaksin di...  \n",
              "3      mohon info rapid test antigen di stasiun cireb...  \n",
              "4      railmin boleh tolong dibalas dm saya saya telp...  \n",
              "...                                                  ...  \n",
              "12132                                            bandung  \n",
              "12133  halo kak mau nanya kereta joglokerto purwokert...  \n",
              "12134  stasiun pasar senen kalo jam siang saya sampai...  \n",
              "12135  halo mau tanya untuk syarat naik kereta untuk ...  \n",
              "12136  selamat malam min saya mau tanya besok kereta ...  \n",
              "\n",
              "[12137 rows x 4 columns]"
            ],
            "text/html": [
              "\n",
              "  <div id=\"df-c7517cf4-5f0f-4489-abe2-f97f6058611a\">\n",
              "    <div class=\"colab-df-container\">\n",
              "      <div>\n",
              "<style scoped>\n",
              "    .dataframe tbody tr th:only-of-type {\n",
              "        vertical-align: middle;\n",
              "    }\n",
              "\n",
              "    .dataframe tbody tr th {\n",
              "        vertical-align: top;\n",
              "    }\n",
              "\n",
              "    .dataframe thead th {\n",
              "        text-align: right;\n",
              "    }\n",
              "</style>\n",
              "<table border=\"1\" class=\"dataframe\">\n",
              "  <thead>\n",
              "    <tr style=\"text-align: right;\">\n",
              "      <th></th>\n",
              "      <th>tanggal</th>\n",
              "      <th>sentiment</th>\n",
              "      <th>topic</th>\n",
              "      <th>text</th>\n",
              "    </tr>\n",
              "  </thead>\n",
              "  <tbody>\n",
              "    <tr>\n",
              "      <th>0</th>\n",
              "      <td>9/24/2021</td>\n",
              "      <td>netral</td>\n",
              "      <td>jadwalrute</td>\n",
              "      <td>rute kereta mana saja</td>\n",
              "    </tr>\n",
              "    <tr>\n",
              "      <th>1</th>\n",
              "      <td>9/24/2021</td>\n",
              "      <td>netral</td>\n",
              "      <td>syarat</td>\n",
              "      <td>sore min kalo kereta pemberangkatan besok jam ...</td>\n",
              "    </tr>\n",
              "    <tr>\n",
              "      <th>2</th>\n",
              "      <td>9/24/2021</td>\n",
              "      <td>netral</td>\n",
              "      <td>syarat</td>\n",
              "      <td>halo kalo mau naik kereta tapi belum vaksin di...</td>\n",
              "    </tr>\n",
              "    <tr>\n",
              "      <th>3</th>\n",
              "      <td>9/24/2021</td>\n",
              "      <td>netral</td>\n",
              "      <td>syarat</td>\n",
              "      <td>mohon info rapid test antigen di stasiun cireb...</td>\n",
              "    </tr>\n",
              "    <tr>\n",
              "      <th>4</th>\n",
              "      <td>9/24/2021</td>\n",
              "      <td>netral</td>\n",
              "      <td>lain</td>\n",
              "      <td>railmin boleh tolong dibalas dm saya saya telp...</td>\n",
              "    </tr>\n",
              "    <tr>\n",
              "      <th>...</th>\n",
              "      <td>...</td>\n",
              "      <td>...</td>\n",
              "      <td>...</td>\n",
              "      <td>...</td>\n",
              "    </tr>\n",
              "    <tr>\n",
              "      <th>12132</th>\n",
              "      <td>11/29/21</td>\n",
              "      <td>netral</td>\n",
              "      <td>lain</td>\n",
              "      <td>bandung</td>\n",
              "    </tr>\n",
              "    <tr>\n",
              "      <th>12133</th>\n",
              "      <td>11/29/21</td>\n",
              "      <td>netral</td>\n",
              "      <td>jadwalrute</td>\n",
              "      <td>halo kak mau nanya kereta joglokerto purwokert...</td>\n",
              "    </tr>\n",
              "    <tr>\n",
              "      <th>12134</th>\n",
              "      <td>11/29/21</td>\n",
              "      <td>netral</td>\n",
              "      <td>lain</td>\n",
              "      <td>stasiun pasar senen kalo jam siang saya sampai...</td>\n",
              "    </tr>\n",
              "    <tr>\n",
              "      <th>12135</th>\n",
              "      <td>11/29/21</td>\n",
              "      <td>netral</td>\n",
              "      <td>syarat</td>\n",
              "      <td>halo mau tanya untuk syarat naik kereta untuk ...</td>\n",
              "    </tr>\n",
              "    <tr>\n",
              "      <th>12136</th>\n",
              "      <td>11/29/21</td>\n",
              "      <td>netral</td>\n",
              "      <td>syarat</td>\n",
              "      <td>selamat malam min saya mau tanya besok kereta ...</td>\n",
              "    </tr>\n",
              "  </tbody>\n",
              "</table>\n",
              "<p>12137 rows × 4 columns</p>\n",
              "</div>\n",
              "      <button class=\"colab-df-convert\" onclick=\"convertToInteractive('df-c7517cf4-5f0f-4489-abe2-f97f6058611a')\"\n",
              "              title=\"Convert this dataframe to an interactive table.\"\n",
              "              style=\"display:none;\">\n",
              "        \n",
              "  <svg xmlns=\"http://www.w3.org/2000/svg\" height=\"24px\"viewBox=\"0 0 24 24\"\n",
              "       width=\"24px\">\n",
              "    <path d=\"M0 0h24v24H0V0z\" fill=\"none\"/>\n",
              "    <path d=\"M18.56 5.44l.94 2.06.94-2.06 2.06-.94-2.06-.94-.94-2.06-.94 2.06-2.06.94zm-11 1L8.5 8.5l.94-2.06 2.06-.94-2.06-.94L8.5 2.5l-.94 2.06-2.06.94zm10 10l.94 2.06.94-2.06 2.06-.94-2.06-.94-.94-2.06-.94 2.06-2.06.94z\"/><path d=\"M17.41 7.96l-1.37-1.37c-.4-.4-.92-.59-1.43-.59-.52 0-1.04.2-1.43.59L10.3 9.45l-7.72 7.72c-.78.78-.78 2.05 0 2.83L4 21.41c.39.39.9.59 1.41.59.51 0 1.02-.2 1.41-.59l7.78-7.78 2.81-2.81c.8-.78.8-2.07 0-2.86zM5.41 20L4 18.59l7.72-7.72 1.47 1.35L5.41 20z\"/>\n",
              "  </svg>\n",
              "      </button>\n",
              "      \n",
              "  <style>\n",
              "    .colab-df-container {\n",
              "      display:flex;\n",
              "      flex-wrap:wrap;\n",
              "      gap: 12px;\n",
              "    }\n",
              "\n",
              "    .colab-df-convert {\n",
              "      background-color: #E8F0FE;\n",
              "      border: none;\n",
              "      border-radius: 50%;\n",
              "      cursor: pointer;\n",
              "      display: none;\n",
              "      fill: #1967D2;\n",
              "      height: 32px;\n",
              "      padding: 0 0 0 0;\n",
              "      width: 32px;\n",
              "    }\n",
              "\n",
              "    .colab-df-convert:hover {\n",
              "      background-color: #E2EBFA;\n",
              "      box-shadow: 0px 1px 2px rgba(60, 64, 67, 0.3), 0px 1px 3px 1px rgba(60, 64, 67, 0.15);\n",
              "      fill: #174EA6;\n",
              "    }\n",
              "\n",
              "    [theme=dark] .colab-df-convert {\n",
              "      background-color: #3B4455;\n",
              "      fill: #D2E3FC;\n",
              "    }\n",
              "\n",
              "    [theme=dark] .colab-df-convert:hover {\n",
              "      background-color: #434B5C;\n",
              "      box-shadow: 0px 1px 3px 1px rgba(0, 0, 0, 0.15);\n",
              "      filter: drop-shadow(0px 1px 2px rgba(0, 0, 0, 0.3));\n",
              "      fill: #FFFFFF;\n",
              "    }\n",
              "  </style>\n",
              "\n",
              "      <script>\n",
              "        const buttonEl =\n",
              "          document.querySelector('#df-c7517cf4-5f0f-4489-abe2-f97f6058611a button.colab-df-convert');\n",
              "        buttonEl.style.display =\n",
              "          google.colab.kernel.accessAllowed ? 'block' : 'none';\n",
              "\n",
              "        async function convertToInteractive(key) {\n",
              "          const element = document.querySelector('#df-c7517cf4-5f0f-4489-abe2-f97f6058611a');\n",
              "          const dataTable =\n",
              "            await google.colab.kernel.invokeFunction('convertToInteractive',\n",
              "                                                     [key], {});\n",
              "          if (!dataTable) return;\n",
              "\n",
              "          const docLinkHtml = 'Like what you see? Visit the ' +\n",
              "            '<a target=\"_blank\" href=https://colab.research.google.com/notebooks/data_table.ipynb>data table notebook</a>'\n",
              "            + ' to learn more about interactive tables.';\n",
              "          element.innerHTML = '';\n",
              "          dataTable['output_type'] = 'display_data';\n",
              "          await google.colab.output.renderOutput(dataTable, element);\n",
              "          const docLink = document.createElement('div');\n",
              "          docLink.innerHTML = docLinkHtml;\n",
              "          element.appendChild(docLink);\n",
              "        }\n",
              "      </script>\n",
              "    </div>\n",
              "  </div>\n",
              "  "
            ]
          },
          "metadata": {},
          "execution_count": 6
        }
      ]
    },
    {
      "cell_type": "code",
      "source": [
        "from sklearn.model_selection import train_test_split\n",
        "\n",
        "train_text = data['text'].astype(str)\n",
        "train_sent = data['sentiment']\n",
        "train_topic = data['topic']"
      ],
      "metadata": {
        "id": "-Diklohqoweo"
      },
      "execution_count": null,
      "outputs": []
    },
    {
      "cell_type": "code",
      "source": [
        "tokenizer = Tokenizer(vocab_size, oov_token= oov)\n",
        "tokenizer.fit_on_texts(train_text)\n",
        "word_index = tokenizer.word_index\n",
        "print(word_index)\n",
        "\n",
        "sent_tok = Tokenizer()\n",
        "sent_tok.fit_on_texts(train_sent)\n",
        "sent_word_index = sent_tok.word_index\n",
        "print(sent_word_index)\n",
        "\n",
        "topic_tok = Tokenizer()\n",
        "topic_tok.fit_on_texts(train_topic)\n",
        "topic_word_index = topic_tok.word_index\n",
        "print(topic_word_index)"
      ],
      "metadata": {
        "colab": {
          "base_uri": "https://localhost:8080/"
        },
        "outputId": "4733194b-1bed-48da-cb05-706de431a63b",
        "id": "HJBuLjj5oweo"
      },
      "execution_count": null,
      "outputs": [
        {
          "output_type": "stream",
          "name": "stdout",
          "text": [
            "{'<OOV_TOK>': 1, 'min': 2, 'di': 3, 'ya': 4, 'kereta': 5, 'stasiun': 6, 'tidak': 7, 'untuk': 8, 'antigen': 9, 'kasih': 10, 'terima': 11, 'ada': 12, 'dari': 13, 'jam': 14, 'mau': 15, 'bisa': 16, 'saya': 17, 'dan': 18, 'berapa': 19, 'naik': 20, 'ka': 21, 'apa': 22, 'sudah': 23, 'dm': 24, 'ini': 25, 'cek': 26, 'kai': 27, 'kalau': 28, 'tanya': 29, 'lagi': 30, 'kak': 31, 'halo': 32, 'atau': 33, 'sampai': 34, 'kalo': 35, 'vaksin': 36, 'rapid': 37, 'belum': 38, 'selamat': 39, 'harus': 40, 'masih': 41, 'tanggal': 42, 'beroperasi': 43, 'tiket': 44, 'tapi': 45, 'itu': 46, 'juga': 47, 'lokal': 48, 'api': 49, 'aja': 50, 'nya': 51, 'pasar': 52, 'mohon': 53, 'yogyakarta': 54, 'tes': 55, 'boleh': 56, 'jadwal': 57, 'kapan': 58, 'surabaya': 59, 'perjalanan': 60, 'pagi': 61, 'tolong': 62, 'udah': 63, 'anak': 64, 'jakarta': 65, 'swab': 66, 'senen': 67, 'makasih': 68, 'admin': 69, 'test': 70, 'dengan': 71, 'sama': 72, 'jauh': 73, 'gambir': 74, 'jalan': 75, 'jarak': 76, 'info': 77, 'semarang': 78, 'malam': 79, 'bandung': 80, 'baik': 81, 'infonya': 82, 'buka': 83, 'jadi': 84, 'aplikasi': 85, 'syarat': 86, 'sekarang': 87, 'mulai': 88, 'saja': 89, 'ga': 90, 'layanan': 91, 'oktober': 92, 'surat': 93, 'access': 94, 'keberangkatan': 95, 'buat': 96, 'kah': 97, 'siang': 98, 'malang': 99, 'terus': 100, 'gimana': 101, 'lebih': 102, 'seperti': 103, 'penumpang': 104, 'oke': 105, 'aku': 106, 'banyak': 107, 'kenapa': 108, 'bekasi': 109, 'hasil': 110, 'pake': 111, 'sore': 112, 'tersedia': 113, 'solo': 114, 'nanya': 115, 'kota': 116, 'banget': 117, 'semoga': 118, 'baru': 119, 'lama': 120, 'nih': 121, 'pakai': 122, 'pelayanan': 123, 'palang': 124, 'orang': 125, 'september': 126, 'argo': 127, 'minggu': 128, 'hanya': 129, 'penataran': 130, 'purwokerto': 131, 'menggunakan': 132, 'joglosemarkerto': 133, 'tujuan': 134, 'lempuyangan': 135, 'bukan': 136, 'tegal': 137, 'akan': 138, 'kembali': 139, 'gubeng': 140, 'saat': 141, 'dhoho': 142, 'besok': 143, 'maaf': 144, 'cuma': 145, 'railmin': 146, 'selalu': 147, 'dulu': 148, 'kaligung': 149, 'beli': 150, 'pada': 151, 'berlaku': 152, 'bagaimana': 153, 'lain': 154, 'tetap': 155, 'berangkat': 156, 'dalam': 157, 'mana': 158, 'krl': 159, 'indonesia': 160, 'minta': 161, 'ulang': 162, 'sih': 163, 'bandara': 164, 'langsung': 165, 'pcr': 166, 'atas': 167, 'desember': 168, 'soalnya': 169, 'semua': 170, 'tempat': 171, 'you': 172, 'turi': 173, 'wajib': 174, 'lewat': 175, 'jangan': 176, 'pedulilindungi': 177, 'rute': 178, 'waktu': 179, 'iya': 180, 'kali': 181, 'dapat': 182, 'ekonomi': 183, 'hai': 184, 'salah': 185, 'usia': 186, 'tawang': 187, 'thank': 188, 'gitu': 189, 'bawa': 190, 'persyaratan': 191, 'wkwk': 192, 'dibawah': 193, 'pt': 194, 'airlangga': 195, 'padahal': 196, 'sebelum': 197, 'pas': 198, 'rencana': 199, 'kursi': 200, 'harga': 201, 'pasti': 202, 'operasional': 203, 'masuk': 204, 'benar': 205, 'gerbong': 206, 'coba': 207, 'kartu': 208, 'mimin': 209, 'bertanya': 210, 'kira': 211, 'mas': 212, 'pesan': 213, 'tugu': 214, 'jember': 215, 'transportasi': 216, 'dosis': 217, 'tau': 218, 'syaratnya': 219, 'keluar': 220, 'cepat': 221, 'informasinya': 222, 'masa': 223, 'melayani': 224, 'sertifikat': 225, 'yah': 226, 'via': 227, 'kemarin': 228, 'berhenti': 229, 'setelah': 230, 'punya': 231, 'tarif': 232, 'melakukan': 233, 'nanti': 234, 'ppkm': 235, 'cirebon': 236, 'genose': 237, 'medan': 238, 'turun': 239, 'keterangan': 240, 'sabtu': 241, 'kerja': 242, 'cukup': 243, 'tiketnya': 244, 'menjadi': 245, 'bengawan': 246, 'angkot': 247, 'tadi': 248, 'nomor': 249, 'no': 250, 'bawah': 251, 'poncol': 252, 'jurusan': 253, 'biar': 254, 'cikarang': 255, 'senin': 256, 'satu': 257, 'jadwalnya': 258, 'eksekutif': 259, 'dimana': 260, 'setengah': 261, 'siap': 262, 'thanks': 263, 'luar': 264, 'sebelumnya': 265, 'express': 266, 'sidoarjo': 267, 'walahar': 268, 'pp': 269, 'gini': 270, 'informasi': 271, 'balas': 272, 'malah': 273, 'covid': 274, 'emang': 275, 'kamandaka': 276, 'kejadian': 277, 'khusus': 278, 'yia': 279, 'tanpa': 280, 'biaya': 281, 'ujung': 282, 'pulang': 283, 'kiaracondong': 284, 'kayak': 285, 'contoh': 286, 'jalur': 287, 'antigennya': 288, 'depan': 289, 'purwakarta': 290, 'sekali': 291, 'balapan': 292, 'setiap': 293, 'dibuka': 294, 'mantap': 295, 'akhirnya': 296, 'pernah': 297, 'ribu': 298, 'keretanya': 299, 'makan': 300, 'ktp': 301, 'selebar': 302, 'sangat': 303, 'selama': 304, 'muncul': 305, 'nyaman': 306, 'madiun': 307, 'duduk': 308, 'update': 309, 'nasional': 310, 'maharani': 311, 'parahyangan': 312, 'pertama': 313, 'akun': 314, 'fasilitas': 315, 'permisi': 316, 'cc': 317, 'memanjang': 318, 'ibu': 319, 'selain': 320, 'bagi': 321, 'segera': 322, 'hasilnya': 323, 'sehat': 324, 'bayar': 325, 'alhamdulillah': 326, 'beroprasi': 327, 'sebagai': 328, 'baca': 329, 'jk': 330, 'tabrakan': 331, 'strp': 332, 'semakin': 333, 'bales': 334, 'tutup': 335, 'tuh': 336, 'hp': 337, 'liat': 338, 'dear': 339, 'makin': 340, 'pintu': 341, 'blitar': 342, 'banyuwangi': 343, 'loh': 344, 'bener': 345, 'deh': 346, 'probowangi': 347, 'umur': 348, 'malem': 349, 'ke': 350, 'butuh': 351, 'bayi': 352, 'nunggu': 353, 'pengen': 354, 'ok': 355, 'pesen': 356, 'libur': 357, 'respon': 358, 'oh': 359, 'booking': 360, 'keren': 361, 'jawa': 362, 'kangen': 363, 'dah': 364, 'tetep': 365, 'dekat': 366, 'sepeda': 367, 'lihat': 368, 'hi': 369, 'bogor': 370, 'gue': 371, 'bantu': 372, 'pembayaran': 373, 'warga': 374, 'kurang': 375, 'aturan': 376, 'taksaka': 377, 'mungkin': 378, 'email': 379, 'sesuai': 380, 'persyaratannya': 381, 'kaya': 382, 'jumat': 383, 'namun': 384, 'go': 385, 'kau': 386, 'pekalongan': 387, 'utara': 388, 'pandemi': 389, 'pergi': 390, 'aglomerasi': 391, 'kutoarjo': 392, 'tiap': 393, 'enak': 394, 'petugas': 395, 'bojonegoro': 396, 'izin': 397, 'harganya': 398, 'gabisa': 399, 'kode': 400, 'show': 401, 'januari': 402, 'hati': 403, 'timur': 404, 'relasi': 405, 'masyarakat': 406, 'bikin': 407, 'balita': 408, 'umum': 409, 'memberikan': 410, 'wifi': 411, 'sendiri': 412, 'klinik': 413, 'diperbolehkan': 414, 'data': 415, 'sd': 416, 'akhir': 417, 'hehe': 418, 'sering': 419, 'rakyat': 420, 'jaya': 421, 'cikampek': 422, 'jelas': 423, 'prameks': 424, 'please': 425, 'jatinegara': 426, 'maju': 427, 'terbaik': 428, 'oleh': 429, 'klaten': 430, 'doang': 431, 'bilang': 432, 'terkait': 433, 'level': 434, 'ganti': 435, 'mereka': 436, 'motor': 437, 'dirgahayu': 438, 'cari': 439, 'perlintasan': 440, 'pemerintah': 441, 'jayabaya': 442, 'manggarai': 443, 'seat': 444, 'pemberangkatan': 445, 'patokan': 446, 'kertajaya': 447, 'dapet': 448, 'bukti': 449, 'pemesanan': 450, 'pilih': 451, 'bagus': 452, 'anggrek': 453, 'gratis': 454, 'id': 455, 'si': 456, 'tetapi': 457, 'biasa': 458, 'biasanya': 459, 'kediri': 460, 'kirim': 461, 'online': 462, 'membawa': 463, 'merak': 464, 'sukses': 465, 'terbaru': 466, 'menit': 467, 'rumah': 468, 'selatan': 469, 'operasi': 470, 'plis': 471, 'malabar': 472, 'pembelian': 473, 'mbak': 474, 'haha': 475, 'uang': 476, 'premium': 477, 'okay': 478, 'tiba': 479, 'barang': 480, 'arah': 481, 'secara': 482, 'abang': 483, 'dinomor': 484, 'dibantu': 485, 'ikut': 486, 'kebumen': 487, 'bantuannya': 488, 'btw': 489, 'raya': 490, 'ketentuan': 491, 'ambil': 492, 'operasionalnya': 493, 'tugas': 494, 'tanjung': 495, 'anies': 496, 'yuk': 497, 'vaksinasi': 498, 'commuter': 499, 'harusnya': 500, 'ditunggu': 501, 'susah': 502, 'kelas': 503, 'agustus': 504, 'akses': 505, 'krd': 506, 'mojokerto': 507, 'brebes': 508, 'habis': 509, 'tanah': 510, 'foto': 511, 'purwosari': 512, 'cuman': 513, 'pembatalan': 514, 'tunggu': 515, 'tinggal': 516, 'in': 517, 'kemana': 518, 'jayakarta': 519, 'betul': 520, 'sukabumi': 521, 'lu': 522, 'formula': 523, 'refund': 524, 'awal': 525, 'berubah': 526, 'masker': 527, 'perubahan': 528, 'menunjukan': 529, 'daftar': 530, 'follow': 531, 'silakan': 532, 'pengiriman': 533, 'masalah': 534, 'mending': 535, 'kakak': 536, 'karawang': 537, 'belom': 538, 'bus': 539, 'sancaka': 540, 'maksudnya': 541, 'mah': 542, 'check': 543, 'mention': 544, 'tambahan': 545, 'rs': 546, 'cibatuan': 547, 'kebijakan': 548, 'aktif': 549, 'terakhir': 550, 'cepu': 551, 'bang': 552, 'lupa': 553, 'november': 554, 'jl': 555, 'parkir': 556, 'murah': 557, 'an': 558, 'sekitar': 559, 'jombang': 560, 'menyertakan': 561, 'kampung': 562, 'wilis': 563, 'bromo': 564, 'lengkap': 565, 'bukanya': 566, 'ku': 567, 'suka': 568, 'terintegrasi': 569, 'link': 570, 'sakit': 571, 'error': 572, 'ayo': 573, 'reschedule': 574, 'biayanya': 575, 'gapapa': 576, 'kondisi': 577, 'terdaftar': 578, 'beda': 579, 'full': 580, 'nama': 581, 'serayu': 582, 'print': 583, 'batal': 584, 'calon': 585, 'menyediakan': 586, 'pelanggan': 587, 'cilacap': 588, 'dicek': 589, 'mahal': 590, 'aman': 591, 'gagal': 592, 'dipesan': 593, 'sedangkan': 594, 'saran': 595, 'sebelah': 596, 'salam': 597, 'pengguna': 598, 'ribet': 599, 'tahu': 600, 'sini': 601, 'tua': 602, 'bis': 603, 'provinsi': 604, 'peraturan': 605, 'negara': 606, 'usah': 607, 'minimal': 608, 'persero': 609, 'hut': 610, 'logistik': 611, 'estimasi': 612, 'om': 613, 'cs': 614, 'dikasih': 615, 'ekspres': 616, 'rel': 617, 'dokter': 618, 'sri': 619, 'pusat': 620, 'progo': 621, 'loket': 622, 'responnya': 623, 'pelayanannya': 624, 'nik': 625, 'jasa': 626, 'harina': 627, 'kantor': 628, 'dharmawangsa': 629, 'kapasitas': 630, 'karna': 631, 'kajj': 632, 'lainnya': 633, 'wijayakusuma': 634, 'antrian': 635, 'besar': 636, 'keluarga': 637, 'tak': 638, 'maksimal': 639, 'prujakan': 640, 'jaman': 641, 'silahkan': 642, 'to': 643, 'kosong': 644, 'per': 645, 'kabar': 646, 'ah': 647, 'toilet': 648, 'out': 649, 'nunjukin': 650, 'kedua': 651, 'lokasi': 652, 'nuhun': 653, 'duduknya': 654, 'siapa': 655, 'moda': 656, 'bersama': 657, 'kena': 658, 'tanggung': 659, 'kayaknya': 660, 'ubah': 661, 'good': 662, 'cepet': 663, 'on': 664, 'divaksin': 665, 'eh': 666, 'selimut': 667, 'joglosemar': 668, 'negatif': 669, 'puskesmas': 670, 'telat': 671, 'rencananya': 672, 'rangkaian': 673, 'naiknya': 674, 'sepur': 675, 'bangil': 676, 'kroya': 677, 'semangat': 678, 'cpns': 679, 'informasikan': 680, 'apapun': 681, 'hampir': 682, 'sayang': 683, 'kepada': 684, 'mulu': 685, 'aamiin': 686, 'menunggu': 687, 'mutiara': 688, 'adakah': 689, 'tasikmalaya': 690, 'gara': 691, 'lintas': 692, 'traveloka': 693, 'jawabannya': 694, 'dibeli': 695, 'cimahi': 696, 'dibales': 697, 'aneh': 698, 'memiliki': 699, 'dilayani': 700, 'rp': 701, 'gaada': 702, 'ijin': 703, 'mudik': 704, 'dipakai': 705, 'prokes': 706, 'lho': 707, 'penting': 708, 'cetak': 709, 'sementara': 710, 'proses': 711, 'normal': 712, 'bisnis': 713, 'gombong': 714, 'ranggajati': 715, 'kursinya': 716, 'supaya': 717, 'distasiun': 718, 'boarding': 719, 'tolol': 720, 'mu': 721, 'menu': 722, 'area': 723, 'paket': 724, 'aplikasinya': 725, 'line': 726, 'daerah': 727, 'ditiadakan': 728, 'hamil': 729, 'pandanwangi': 730, 'serius': 731, 'penuh': 732, 'perihal': 733, 'solusi': 734, 'sekalian': 735, 'kek': 736, 'takut': 737, 'lanjut': 738, 'anti': 739, 'sistem': 740, 'kesehatan': 741, 'the': 742, 'jenis': 743, 'tertentu': 744, 'lawu': 745, 'wonokromo': 746, 'alun': 747, 'bos': 748, 'tulungagung': 749, 'gajayana': 750, 'komuter': 751, 'kertosono': 752, 'pemalang': 753, 'sewa': 754, 'mati': 755, 'happy': 756, 'fotosepur': 757, 'barusan': 758, 'terjadi': 759, 'web': 760, 'main': 761, 'tergantung': 762, 'dua': 763, 'situ': 764, 'cibatu': 765, 'lokomotif': 766, 'beneran': 767, 'antara': 768, 'dimulai': 769, 'membantu': 770, 'selesai': 771, 'ekspress': 772, 'lab': 773, 'pribadi': 774, 'dwipangga': 775, 'rt': 776, 'diatas': 777, 'ketinggalan': 778, 'berita': 779, 'matarmaja': 780, 'garut': 781, 'banjar': 782, 'berhasil': 783, 'sabar': 784, 'makanan': 785, 'daop': 786, 'allah': 787, 'pilihan': 788, 'goblok': 789, 'kegiatan': 790, 'kritik': 791, 'supir': 792, 'bca': 793, 'perusahaan': 794, 'lodaya': 795, 'mobil': 796, 'merah': 797, 'service': 798, 'ambarawa': 799, 'sekian': 800, 'lipat': 801, 'scan': 802, 'lancar': 803, 'ac': 804, 'terlalu': 805, 'tidur': 806, 'penyintas': 807, 'memakai': 808, 'joglo': 809, 'membuat': 810, 'diperpanjang': 811, 'juta': 812, 'pesawat': 813, 'mesti': 814, 'swabnya': 815, 'bebas': 816, 'tarifnya': 817, 'keberangkatannya': 818, 'pembatasan': 819, 'urgent': 820, 'wisata': 821, 'pengumuman': 822, 'makasi': 823, 'gubernur': 824, 'alternatif': 825, 'digital': 826, 'terdekat': 827, 'nasi': 828, 'kemaren': 829, 'station': 830, 'love': 831, 'mba': 832, 'status': 833, 'lumayan': 834, 'asik': 835, 'uda': 836, 'hilang': 837, 'resmi': 838, 'free': 839, 'peron': 840, 'maksud': 841, 'huhu': 842, 'terlambat': 843, 'seluruh': 844, 'login': 845, 'diganti': 846, 'abis': 847, 'brantas': 848, 'lamongan': 849, 'diluar': 850, 'keselamatan': 851, 'ditambah': 852, 'antri': 853, 'video': 854, 'bro': 855, 'tebet': 856, 'hutkai': 857, 'customer': 858, 'kendala': 859, 'mendukung': 860, 'job': 861, 'teman': 862, 'kg': 863, 'lakukan': 864, 'keburu': 865, 'punten': 866, 'duit': 867, 'posisi': 868, 'tweet': 869, 'asli': 870, 'pemeriksaan': 871, 'disitu': 872, 'install': 873, 'noted': 874, 'nganjuk': 875, 'barcode': 876, 'sedih': 877, 'sembrani': 878, 'sertif': 879, 'non': 880, 'berpergian': 881, 'assalamualaikum': 882, 'beroperasinya': 883, 'ni': 884, 'rabu': 885, 'jatim': 886, 'kamis': 887, 'cicalengka': 888, 'males': 889, 'distancing': 890, 'turitung': 891, 'wates': 892, 'twitter': 893, 'korban': 894, 'ketemu': 895, 'berat': 896, 'dibalas': 897, 'dilarang': 898, 'angkutan': 899, 'bangsa': 900, 'bepergian': 901, 'website': 902, 'lampu': 903, 'detail': 904, 'diisi': 905, 'jaga': 906, 'pasuruan': 907, 'muter': 908, 'diperbaiki': 909, 'livery': 910, 'bantal': 911, 'kondektur': 912, 'kirain': 913, 'air': 914, 'bentuk': 915, 'dipake': 916, 'seneng': 917, 'dibawa': 918, 'melampirkan': 919, 'stop': 920, 'dki': 921, 'membatalkan': 922, 'disana': 923, 'kuota': 924, 'hangus': 925, 'pendaftaran': 926, 'bagasi': 927, 'pindah': 928, 'rangkasurabaya': 929, 'minn': 930, 'milik': 931, 'tambah': 932, 'yak': 933, 'rangkas': 934, 'penumpangnya': 935, 'lokalan': 936, 'agak': 937, 'laporan': 938, 'balai': 939, 'halte': 940, 'hadir': 941, 'perbaikan': 942, 'instagram': 943, 'dikarenakan': 944, 'tanggap': 945, 'masinis': 946, 'tanda': 947, 'hiks': 948, 'direspon': 949, 'packing': 950, 'kendaraan': 951, 'mundur': 952, 'pengecekan': 953, 'samping': 954, 'nomer': 955, 'diberlakukan': 956, 'lowongan': 957, 'minum': 958, 'urusan': 959, 'negeri': 960, 'pekerja': 961, 'bantuan': 962, 'riwayat': 963, 'kadang': 964, 'harinya': 965, 'mudah': 966, 'ig': 967, 'keperluan': 968, 'memesan': 969, 'alasan': 970, 'tesnya': 971, 'ngecek': 972, 'terlanjur': 973, 'bingung': 974, 'bolak': 975, 'inap': 976, 'setuju': 977, 'memerlukan': 978, 'kalah': 979, 'sehari': 980, 'persen': 981, 'segitu': 982, 'utama': 983, 'namanya': 984, 'mepet': 985, 'paham': 986, 'gak': 987, 'lo': 988, 'rusak': 989, 'mikir': 990, 'tag': 991, 'bodoh': 992, 'cheribon': 993, 'tepat': 994, 'petugasnya': 995, 'pendek': 996, 'wa': 997, 'identitas': 998, 'mencoba': 999, 'diinfokan': 1000, 'padalarang': 1001, 'ko': 1002, 'jatiluhur': 1003, 'sedikit': 1004, 'arus': 1005, 'wilayah': 1006, 'jatibarang': 1007, 'kanan': 1008, 'time': 1009, 'pangrango': 1010, 'waktunya': 1011, 'istirahat': 1012, 'ilang': 1013, 'isi': 1014, 'disediakan': 1015, 'valid': 1016, 'pasundan': 1017, 'kahuripan': 1018, 'keterangannya': 1019, 'senang': 1020, 'sektor': 1021, 'program': 1022, 'bu': 1023, 'gausah': 1024, 'rutenya': 1025, 'mataram': 1026, 'up': 1027, 'lrt': 1028, 'swasta': 1029, 'milih': 1030, 'berencana': 1031, 'jaringan': 1032, 'masukin': 1033, 'nice': 1034, 'konfirmasi': 1035, 'dana': 1036, 'bumn': 1037, 'capek': 1038, 'jabodetabek': 1039, 'sim': 1040, 'diperlukan': 1041, 'bedanya': 1042, 'operasikan': 1043, 'seru': 1044, 'social': 1045, 'dokumen': 1046, 'hidup': 1047, 'temen': 1048, 'ketapang': 1049, 'klik': 1050, 'railfans': 1051, 'ngomong': 1052, 'ciamis': 1053, 'tinggi': 1054, 'poin': 1055, 'logawa': 1056, 'koper': 1057, 'by': 1058, 'belajar': 1059, 'melihat': 1060, 'sekolah': 1061, 'parah': 1062, 'luxury': 1063, 'hahaha': 1064, 'make': 1065, 'favorit': 1066, 'satunya': 1067, 'atur': 1068, 'tertib': 1069, 'mengubah': 1070, 'bareng': 1071, 'slawi': 1072, 'beri': 1073, 'ketersediaan': 1074, 'space': 1075, 'menghubungi': 1076, 'blora': 1077, 'seharusnya': 1078, 'menerima': 1079, 'berasa': 1080, 'gate': 1081, 'is': 1082, 'penjelasannya': 1083, 'bangku': 1084, 'dioperasikan': 1085, 'gatau': 1086, 'membeli': 1087, 'aduh': 1088, 'lapangan': 1089, 'dibatalkan': 1090, 'rekening': 1091, 'dinas': 1092, 'leles': 1093, 'andalan': 1094, 'rogojampi': 1095, 'weekend': 1096, 'versi': 1097, 'tumapel': 1098, 'testnya': 1099, 'waru': 1100, 'pengambilan': 1101, 'dateng': 1102, 'matur': 1103, 'kepanjen': 1104, 'jamnya': 1105, 'barat': 1106, 'berjalan': 1107, 'kedung': 1108, 'cancel': 1109, 'merubah': 1110, 'lokasinya': 1111, 'guru': 1112, 'secepatnya': 1113, 'berhadapan': 1114, 'mendapatkan': 1115, 'suara': 1116, 'ramah': 1117, 'rame': 1118, 'seorang': 1119, 'pangandaran': 1120, 'berbeda': 1121, 'subuh': 1122, 'santai': 1123, 'anis': 1124, 'gas': 1125, 'panas': 1126, 'rupiah': 1127, 'diskon': 1128, 'malu': 1129, 'otak': 1130, 'lansia': 1131, 'dibaca': 1132, 'yasa': 1133, 'jebres': 1134, 'birthday': 1135, 'kue': 1136, 'film': 1137, 'kayanya': 1138, 'hujan': 1139, 'copy': 1140, 'menikmati': 1141, 'kaku': 1142, 'uu': 1143, 'call': 1144, 'baiklah': 1145, 'larangan': 1146, 'diambil': 1147, 'disiplin': 1148, 'kenyamanan': 1149, 'bangunkarta': 1150, 'hotel': 1151, 'polisi': 1152, 'tempuh': 1153, 'mengganti': 1154, 'sepi': 1155, 'buang': 1156, 'trip': 1157, 'tut': 1158, 'kasihan': 1159, 'tulisannya': 1160, 'kiri': 1161, 'gambar': 1162, 'liburan': 1163, 'terbuka': 1164, 'depok': 1165, 'batas': 1166, 'numpang': 1167, 'disuruh': 1168, 'vaksinnya': 1169, 'kesana': 1170, 'ngrombo': 1171, 'pdf': 1172, 'prosedur': 1173, 'agung': 1174, 'rail': 1175, 'indah': 1176, 'dmnya': 1177, 'rw': 1178, 'kusuma': 1179, 'istri': 1180, 'rugi': 1181, 'sempet': 1182, 'bahan': 1183, 'alat': 1184, 'ha': 1185, 'tasik': 1186, 'denah': 1187, 'suruh': 1188, 'handphone': 1189, 'hihi': 1190, 'deket': 1191, 'ngawi': 1192, 'berenti': 1193, 'bahagia': 1194, 'sendirian': 1195, 'stasiunnya': 1196, 'pass': 1197, 'perjalan': 1198, 'setia': 1199, 'transit': 1200, 'diwajibkan': 1201, 'ta': 1202, 'double': 1203, 'nyewa': 1204, 'gan': 1205, 'down': 1206, 'wib': 1207, 'anaknya': 1208, 'ih': 1209, 'ibukota': 1210, 'presiden': 1211, 'pekerjaan': 1212, 'cerita': 1213, 'perkeretaapian': 1214, 'nan': 1215, 'jepang': 1216, 'yeay': 1217, 'if': 1218, 'penjelasan': 1219, 'loko': 1220, 'diubah': 1221, 'input': 1222, 'tangguh': 1223, 'tumbuh': 1224, 'dipesen': 1225, 'desa': 1226, 'off': 1227, 'turangga': 1228, 'perbaiki': 1229, 'gaya': 1230, 'qris': 1231, 'keluarnya': 1232, 'tulisan': 1233, 'jual': 1234, 'guys': 1235, 'armada': 1236, 'bebek': 1237, 'jualan': 1238, 'my': 1239, 'for': 1240, 'nonton': 1241, 'tertinggal': 1242, 'karyawan': 1243, 'kuliah': 1244, 'komplain': 1245, 'sms': 1246, 'pulau': 1247, 'sidareja': 1248, 'download': 1249, 'mahasiswa': 1250, 'penyakit': 1251, 'perjalanannya': 1252, 'weleri': 1253, 'nyampe': 1254, 'melewati': 1255, 'sebuah': 1256, 'sip': 1257, 'babat': 1258, 'dikit': 1259, 'semarkerto': 1260, 'khususnya': 1261, 'tap': 1262, 'berlakunya': 1263, 'password': 1264, 'mrt': 1265, 'probolinggo': 1266, 'doho': 1267, 'tanggalnya': 1268, 'untung': 1269, 'tawangalun': 1270, 'kedatangan': 1271, 'suwun': 1272, 'jalanin': 1273, 'ditemukan': 1274, 'wijaya': 1275, 'travel': 1276, 'restorasi': 1277, 'pelajar': 1278, 'tu': 1279, 'protes': 1280, 'kesempatan': 1281, 'tunjukan': 1282, 'kradenan': 1283, 'bni': 1284, 'dewasa': 1285, 'pingin': 1286, 'acara': 1287, 'kucing': 1288, 'bertahap': 1289, 'depannya': 1290, 'wangi': 1291, 'next': 1292, 'masing': 1293, 'dihapus': 1294, 'share': 1295, 'baiknya': 1296, 'finally': 1297, 'alhasil': 1298, 'best': 1299, 'keliatan': 1300, 'hebat': 1301, 'sulit': 1302, 'banking': 1303, 'mudahan': 1304, 'pajak': 1305, 'penitipan': 1306, 'dirut': 1307, 'museum': 1308, 'manusia': 1309, 'wow': 1310, 'mampu': 1311, 'berinovasi': 1312, 'keretaapikita': 1313, 'publik': 1314, 'so': 1315, 'sampah': 1316, 'bersih': 1317, 'kecelakaan': 1318, 'bismillah': 1319, 'ngerti': 1320, 'gunung': 1321, 'jembatan': 1322, 'posisinya': 1323, 'pergudangan': 1324, 'maos': 1325, 'chat': 1326, 'kaipay': 1327, 'hiburan': 1328, 'undang': 1329, 'center': 1330, 'sengaja': 1331, 'pemandangan': 1332, 'berupaya': 1333, 'situasi': 1334, 'bergerak': 1335, 'kebanyakan': 1336, 'hewan': 1337, 'bekas': 1338, 'perdana': 1339, 'amin': 1340, 'sragen': 1341, 'misi': 1342, 'deretan': 1343, 'perhitungan': 1344, 'duh': 1345, 'telfon': 1346, 'bayarnya': 1347, 'satgas': 1348, 'semenjak': 1349, 'connect': 1350, 'hadeuh': 1351, 'jarang': 1352, 'pembangunan': 1353, 'peningkatan': 1354, 'apresiasi': 1355, 'protokol': 1356, 'terjangkau': 1357, 'dipisah': 1358, 'ayam': 1359, 'wanita': 1360, 'dingin': 1361, 'server': 1362, 'news': 1363, 'aaa': 1364, 'detik': 1365, 'singasari': 1366, 'file': 1367, 'batu': 1368, 'pegawai': 1369, 'otomatis': 1370, 'hemat': 1371, 'stabil': 1372, 'transfer': 1373, 'dibatasi': 1374, 'darii': 1375, 'purwojaya': 1376, 'seminggu': 1377, 'prosedurnya': 1378, 'ikutan': 1379, 'masukan': 1380, 'kertas': 1381, 'antibodi': 1382, 'mempunyai': 1383, 'batara': 1384, 'kresna': 1385, 'hardcopy': 1386, 'tangerang': 1387, 'cantik': 1388, 'rantau': 1389, 'prapat': 1390, 'masi': 1391, 'bima': 1392, 'mandiri': 1393, 'macet': 1394, 'kasian': 1395, 'token': 1396, 'terhadap': 1397, 'bumiayu': 1398, 'trans': 1399, 'ber': 1400, 'sample': 1401, 'log': 1402, 'babakan': 1403, 'mengikuti': 1404, 'fyi': 1405, 'oiya': 1406, 'positif': 1407, 'balasan': 1408, 'biru': 1409, 'kirakira': 1410, 'sritanjung': 1411, 'otw': 1412, 'tampilan': 1413, 'gangguan': 1414, 'lapor': 1415, 'nuwun': 1416, 'dijalankan': 1417, 'rapih': 1418, 'mo': 1419, 'memilih': 1420, 'dasar': 1421, 'rindu': 1422, 'pastinya': 1423, 'hadapan': 1424, 'rapidnya': 1425, 'jumlah': 1426, 'bitung': 1427, 'malioboro': 1428, 'berjarak': 1429, 'pandan': 1430, 'kopi': 1431, 'bangunan': 1432, 'reservasi': 1433, 'berangkatnya': 1434, 'yes': 1435, 'keterlambatan': 1436, 'setau': 1437, 'potongan': 1438, 'fix': 1439, 'jajan': 1440, 'proyek': 1441, 'seatnya': 1442, 'baby': 1443, 'anggota': 1444, 'berfungsi': 1445, 'ganggu': 1446, 'melanggar': 1447, 'nambah': 1448, 'hm': 1449, 'adminnya': 1450, 'sampean': 1451, 'pemda': 1452, 'ampun': 1453, 'ceritanya': 1454, 'layang': 1455, 'ngeri': 1456, 'palangnya': 1457, 'saldo': 1458, 'dibayar': 1459, 'komen': 1460, 'top': 1461, 'warna': 1462, 'dikenakan': 1463, 'orangnya': 1464, 'perhubungan': 1465, 'help': 1466, 'hadiah': 1467, 'buzzerp': 1468, 'he': 1469, 'beliau': 1470, 'pastikan': 1471, 'book': 1472, 'ortu': 1473, 'khawatir': 1474, 'kepala': 1475, 'karang': 1476, 'pjka': 1477, 'mall': 1478, 'kertanegara': 1479, 'gudang': 1480, 'live': 1481, 'mengucaplikasian': 1482, 'rubah': 1483, 'senantiasa': 1484, 'muria': 1485, 'kaki': 1486, 'stiker': 1487, 'jogja': 1488, 'tv': 1489, 'natal': 1490, 'nature': 1491, 'nerobos': 1492, 'gumarang': 1493, 'membutuhkan': 1494, 'verifikasi': 1495, 'berharap': 1496, 'solusinya': 1497, 'ajak': 1498, 'unggulan': 1499, 'goreng': 1500, 'mobile': 1501, 'bermasalah': 1502, 'pasarturi': 1503, 'kembang': 1504, 'kuat': 1505, 'mengunjungi': 1506, 'cm': 1507, 'sebaiknya': 1508, 'membuka': 1509, 'berlawanan': 1510, 'sekitaran': 1511, 'hidung': 1512, 'tukang': 1513, 'induk': 1514, 'kedepannya': 1515, 'hehehe': 1516, 'laki': 1517, 'badan': 1518, 'gerbongnya': 1519, 'kang': 1520, 'niat': 1521, 'bahaya': 1522, 'promo': 1523, 'acces': 1524, 'saudara': 1525, 'sembuh': 1526, 'ngasih': 1527, 'notif': 1528, 'ketentuannya': 1529, 'ptidaknti': 1530, 'spesialis': 1531, 'stay': 1532, 'plus': 1533, 'prambanan': 1534, 'kebijakannya': 1535, 'brawijaya': 1536, 'php': 1537, 'diupdate': 1538, 'cocok': 1539, 'aturannya': 1540, 'regulasi': 1541, 'guna': 1542, 'done': 1543, 'terupdate': 1544, 'ketat': 1545, 'invalid': 1546, 'corona': 1547, 'clear': 1548, 'menaiki': 1549, 'internet': 1550, 'diizinkan': 1551, 'exist': 1552, 'papa': 1553, 'setahun': 1554, 'tanyakan': 1555, 'tahap': 1556, 'intinya': 1557, 'kemenhub': 1558, 'atuh': 1559, 'cimindi': 1560, 'tulung': 1561, 'disebelah': 1562, 'yo': 1563, 'takutnya': 1564, 'ngelink': 1565, 'kudu': 1566, 'tunjukin': 1567, 'efektif': 1568, 'seterusnya': 1569, 'kabarnya': 1570, 'tindakan': 1571, 'pikiran': 1572, 'hadap': 1573, 'reply': 1574, 'isinya': 1575, 'pekan': 1576, 'acnya': 1577, 'dicetak': 1578, 'cilok': 1579, 'euy': 1580, 'suasana': 1581, 'metode': 1582, 'okey': 1583, 'sawunggalih': 1584, 'diaplikasi': 1585, 'softcopy': 1586, 'bosen': 1587, 'pengantar': 1588, 'ngeyel': 1589, 'merasakan': 1590, 'adik': 1591, 'adi': 1592, 'masak': 1593, 'mata': 1594, 'prupuk': 1595, 'daritadi': 1596, 'dikosongkan': 1597, 'fisik': 1598, 'model': 1599, 'bertanggung': 1600, 'meluncurkan': 1601, 'kaum': 1602, 'lucu': 1603, 'seger': 1604, 'nder': 1605, 'bermanfaat': 1606, 'kejang': 1607, 'tahunnya': 1608, 'integrasi': 1609, 'keamanan': 1610, 'fakultatif': 1611, 'transaksi': 1612, 'korea': 1613, 'and': 1614, 'kerjaan': 1615, 'recruitment': 1616, 'diberi': 1617, 'tertera': 1618, 'jpl': 1619, 'dungu': 1620, 'ditingkatkan': 1621, 'lord': 1622, 'andai': 1623, 'menghadirkan': 1624, 'sempit': 1625, 'asyik': 1626, 'alias': 1627, 'bahasa': 1628, 'rata': 1629, 'infokan': 1630, 'pengalaman': 1631, 'penjaga': 1632, 'upaya': 1633, 'penasaran': 1634, 'koja': 1635, 'terminal': 1636, 'gondangdia': 1637, 'mangga': 1638, 'pengirimannya': 1639, 'cooking': 1640, 'upload': 1641, 'berdiri': 1642, 'ptkai': 1643, 'halaman': 1644, 'klaim': 1645, 'mesin': 1646, 'lepas': 1647, 'ruang': 1648, 'buzzer': 1649, 'sadar': 1650, 'yaa': 1651, 'semeru': 1652, 'ditegur': 1653, 'menerobos': 1654, 'marka': 1655, 'pantai': 1656, 'dll': 1657, 'komorbid': 1658, 'dipo': 1659, 'berkenan': 1660, 'hubungi': 1661, 'perbolehkan': 1662, 'jabar': 1663, 'percepatan': 1664, 'soekarno': 1665, 'hatta': 1666, 'sdm': 1667, 'kerata': 1668, 'harap': 1669, 'board': 1670, 'total': 1671, 'launching': 1672, 'sok': 1673, 'tertulis': 1674, 'teh': 1675, 'of': 1676, 'nangis': 1677, 'ganteng': 1678, 'lawan': 1679, 'padang': 1680, 'mie': 1681, 'bali': 1682, 'auto': 1683, 'loading': 1684, 'qr': 1685, 'lagu': 1686, 'trouble': 1687, 'layanannya': 1688, 'executive': 1689, 'sisi': 1690, 'tulis': 1691, 'bangga': 1692, 'agro': 1693, 'juli': 1694, 'konfirmasinya': 1695, 'laku': 1696, 'esensial': 1697, 'batalkan': 1698, 'duluan': 1699, 'pemberitahuan': 1700, 'jelek': 1701, 'diprint': 1702, 'dibatalin': 1703, 'perpanjang': 1704, 'situs': 1705, 'modal': 1706, 'dibutuhkan': 1707, 'cipeundeuy': 1708, 'cilegon': 1709, 'isoman': 1710, 'semuanya': 1711, 'mushola': 1712, 'uninstall': 1713, 'mengalami': 1714, 'datanya': 1715, 'saling': 1716, 'pejuang': 1717, 'nggih': 1718, 'tokopedia': 1719, 'berkala': 1720, 'priuk': 1721, 'terhitung': 1722, 'dibolehkan': 1723, 'terdeteksi': 1724, 'besoknya': 1725, 'hapus': 1726, 'penggunaan': 1727, 'telepon': 1728, 'panataran': 1729, 'dicoba': 1730, 'layak': 1731, 'mengurangi': 1732, 'harian': 1733, 'jateng': 1734, 'berbayar': 1735, 'selasa': 1736, 'terowongan': 1737, 'kecewa': 1738, 'keras': 1739, 'dibulan': 1740, 'sarana': 1741, 'penerapan': 1742, 'didalam': 1743, 'jtidakla': 1744, 'traveling': 1745, 'sia': 1746, 'smpai': 1747, 'nge': 1748, 'senja': 1749, 'joglosemakerto': 1750, 'pokoknya': 1751, 'popmie': 1752, 'kerta': 1753, 'terbatas': 1754, 'segala': 1755, 'sungguh': 1756, 'kenangan': 1757, 'tunjukkan': 1758, 'argolawu': 1759, 'kemenkes': 1760, 'gapeka': 1761, 'bawaan': 1762, 'berati': 1763, 'beb': 1764, 'nyalahin': 1765, 'soemarmo': 1766, 'listrik': 1767, 'hello': 1768, 'payah': 1769, 'cinta': 1770, 'tata': 1771, 'ditaruh': 1772, 'enaknya': 1773, 'dijalan': 1774, 'subsidi': 1775, 'sahabat': 1776, 'template': 1777, 'menghapus': 1778, 'schedule': 1779, 'order': 1780, 'balikin': 1781, 'terdapat': 1782, 'wewenang': 1783, 'dek': 1784, 'thankyou': 1785, 'fokus': 1786, 'ibunya': 1787, 'gen': 1788, 'yaallah': 1789, 'repot': 1790, 'gila': 1791, 'purnama': 1792, 'gua': 1793, 'shopeepay': 1794, 'team': 1795, 'aktivasi': 1796, 'kayu': 1797, 'baswedan': 1798, 'insyaallah': 1799, 'ri': 1800, 'inovasi': 1801, 'janji': 1802, 'narasi': 1803, 'lha': 1804, 'epic': 1805, 'argowilis': 1806, 'kenyang': 1807, 'google': 1808, 'jokowi': 1809, 'shopee': 1810, 'menteri': 1811, 'reduksi': 1812, 'sampeyan': 1813, 'ngapain': 1814, 'vintage': 1815, 'wes': 1816, 'geprek': 1817, 'janjian': 1818, 'lidah': 1819, 'kecamatan': 1820, 'macam': 1821, 'im': 1822, 'desain': 1823, 'kontak': 1824, 'under': 1825, 'mjb': 1826, 'lt': 1827, 'menyambut': 1828, 'menyenangkan': 1829, 'melintas': 1830, 'pulkam': 1831, 'murid': 1832, 'fakta': 1833, 'digit': 1834, 'ps': 1835, 'perbedaan': 1836, 'puas': 1837, 'loker': 1838, 'll': 1839, 'apbn': 1840, 'diem': 1841, 'track': 1842, 'wifinya': 1843, 'exo': 1844, 'niatan': 1845, 'dirimu': 1846, 'hahahaha': 1847, 'care': 1848, 'tuker': 1849, 'semalam': 1850, 'selengkapnya': 1851, 'gede': 1852, 'membangun': 1853, 'ekosistem': 1854, 'ngubah': 1855, 'antecsepur': 1856, 'indomaret': 1857, 'bandan': 1858, 'pademangan': 1859, 'jatuh': 1860, 'cafe': 1861, 'mak': 1862, 'toiletnya': 1863, 'tambahin': 1864, 'konfigurasi': 1865, 'karya': 1866, 'komisaris': 1867, 'pahlawan': 1868, 'fajar': 1869, 'taun': 1870, 'istimewa': 1871, 'menampilkan': 1872, 'dipecat': 1873, 'ngadep': 1874, 'reset': 1875, 'berkerumun': 1876, 'joglokerto': 1877, 'official': 1878, 'seputar': 1879, 'heran': 1880, 'train': 1881, 'machine': 1882, 'parkiran': 1883, 'doi': 1884, 'lahir': 1885, 'bermain': 1886, 'dikirim': 1887, 'biarkan': 1888, 'pecat': 1889, 'sepatu': 1890, 'terkoneksi': 1891, 'disusul': 1892, 'angkotnya': 1893, 'melawan': 1894, 'locker': 1895, 'ca': 1896, 'atm': 1897, 'setidaknya': 1898, 'tamatan': 1899, 'slta': 1900, 'sopir': 1901, 'timpjkanaikkereta': 1902, 'empuk': 1903, 'bintaro': 1904, 'sosialisasi': 1905, 'sarankan': 1906, 'nyobain': 1907, 'available': 1908, 'open': 1909, 'sebenarnya': 1910, 'sapi': 1911, 'diakses': 1912, 'lawang': 1913, 'volumetrik': 1914, 'perhatikan': 1915, 'sebetulnya': 1916, 'kebiasaan': 1917, 'seriusan': 1918, 'kircon': 1919, 'cakung': 1920, 'nyoba': 1921, 'dipasang': 1922, 'lewati': 1923, 'berkurang': 1924, 'dipercepat': 1925, 'meningkat': 1926, 'reguler': 1927, 'kodenya': 1928, 'tempatnya': 1929, 'dibelakang': 1930, 'mantep': 1931, 'peraturannya': 1932, 'tertahan': 1933, 'code': 1934, 'internal': 1935, 'kredit': 1936, 'berkali': 1937, 'aktifkan': 1938, 'era': 1939, 'ijazah': 1940, 'kagak': 1941, 'filenya': 1942, 'nilai': 1943, 'maks': 1944, 'kerjasama': 1945, 'berikan': 1946, 'koneksi': 1947, 'mobilitas': 1948, 'tercantum': 1949, 'sinyal': 1950, 'masukkan': 1951, 'capture': 1952, 'sm': 1953, 'bias': 1954, 'disebuntukan': 1955, 'medis': 1956, 'ngambil': 1957, 'cuti': 1958, 'dikembalikan': 1959, 'diklik': 1960, 'hak': 1961, 'ajah': 1962, 'tas': 1963, 'relasinya': 1964, 'bangun': 1965, 'puluhan': 1966, 'anggaran': 1967, 'great': 1968, 'salut': 1969, 'sosial': 1970, 'pay': 1971, 'soetta': 1972, 'mestinya': 1973, 'kampus': 1974, 'rangka': 1975, 'magang': 1976, 'ready': 1977, 'sandi': 1978, 'haloo': 1979, 'teknis': 1980, 'diproses': 1981, 'kehabisan': 1982, 'fotonya': 1983, 'terbaca': 1984, 'prokesnya': 1985, 'diterima': 1986, 'adil': 1987, 'bolehin': 1988, 'setelahnya': 1989, 'buk': 1990, 'ojek': 1991, 'diminta': 1992, 'skd': 1993, 'kalotidak': 1994, 'direksi': 1995, 'blom': 1996, 'ngirim': 1997, 'baturaden': 1998, 'fast': 1999, 'already': 2000, 'kandungan': 2001, 'dilengkapi': 2002, 'bank': 2003, 'berapaa': 2004, 'kk': 2005, 'mekanisme': 2006, 'mengadakan': 2007, 'sinovac': 2008, 'disertakan': 2009, 'tanggul': 2010, 'keatas': 2011, 'am': 2012, 'acess': 2013, 'tegak': 2014, 'dihari': 2015, 'dompet': 2016, 'tipis': 2017, 'sampel': 2018, 'cisauk': 2019, 'edaran': 2020, 'lekas': 2021, 'hukum': 2022, 'usul': 2023, 'muka': 2024, 'sold': 2025, 'memenuhi': 2026, 'bentar': 2027, 'uangnya': 2028, 'duanya': 2029, 'nyusahin': 2030, 'usaha': 2031, 'pakek': 2032, 'denger': 2033, 'caruban': 2034, 'soft': 2035, 'tangga': 2036, 'pegel': 2037, 'colok': 2038, 'haduh': 2039, 'berpindah': 2040, 'perharinya': 2041, 'minkai': 2042, 'potong': 2043, 'kedepan': 2044, 'sampainya': 2045, 'serang': 2046, 'letaknya': 2047, 'petak': 2048, 'tragedi': 2049, 'cmiiw': 2050, 'keretaan': 2051, 'cakep': 2052, 'youtube': 2053, 'suaranya': 2054, 'me': 2055, 'nyari': 2056, 'rancaekek': 2057, 'inget': 2058, 'dikirimkan': 2059, 'mtb': 2060, 'denpasar': 2061, 'manual': 2062, 'terhubung': 2063, 'pertengahan': 2064, 'pemilihan': 2065, 'sisa': 2066, 'pantes': 2067, 'hape': 2068, 'singgah': 2069, 'kembalikan': 2070, 'terserah': 2071, 'rilis': 2072, 'terhalang': 2073, 'disewakan': 2074, 'pemesanannya': 2075, 'snack': 2076, 'saking': 2077, 'antriannya': 2078, 'logika': 2079, 'dijual': 2080, 'pencerahannya': 2081, 'benowo': 2082, 'berani': 2083, 'rombongan': 2084, 'pop': 2085, 'langganan': 2086, 'thread': 2087, 'lunas': 2088, 'nasibnya': 2089, 'postingan': 2090, 'segini': 2091, 'hatinya': 2092, 'diluncurkan': 2093, 'tipe': 2094, 'menghilang': 2095, 'priority': 2096, 'or': 2097, 'searah': 2098, 'rebutan': 2099, 'videonya': 2100, 'bayangin': 2101, 'mbaknya': 2102, 'sedari': 2103, 'dibikin': 2104, 'blok': 2105, 'mengedukasi': 2106, 'edukasi': 2107, 'diinformasikan': 2108, 'jujur': 2109, 'mei': 2110, 'terlampir': 2111, 'typo': 2112, 'ngerasain': 2113, 'piye': 2114, 'have': 2115, 'ditjen': 2116, 'berkarya': 2117, 'memperingati': 2118, 'gercep': 2119, 'infant': 2120, 'menemani': 2121, 'standar': 2122, 'kalijaga': 2123, 'medcomad': 2124, 'event': 2125, 'super': 2126, 'buatan': 2127, 'sis': 2128, 'wae': 2129, 'km': 2130, 'kesalahan': 2131, 'kunci': 2132, 'this': 2133, 'dilebur': 2134, 'memperbaiki': 2135, 'doa': 2136, 'bipang': 2137, 'kelak': 2138, 'ditagih': 2139, 'akhirat': 2140, 'ngaku': 2141, 'kualitas': 2142, 'ditanggapi': 2143, 'boro': 2144, 'sma': 2145, 'itupun': 2146, 'pkalau': 2147, 'kementrian': 2148, 'ye': 2149, 'kenyataan': 2150, 'pengaturan': 2151, 'redup': 2152, 'fresh': 2153, 'edisi': 2154, 'radio': 2155, 'crew': 2156, 'bisanya': 2157, 'alhamdulilah': 2158, 'bravo': 2159, 'du': 2160, 'nyinyir': 2161, 'mandalika': 2162, 'anjir': 2163, 'tangan': 2164, 'berdasarkan': 2165, 'bidang': 2166, 'berkesan': 2167, 'klb': 2168, 'bersangkutan': 2169, 'ditolak': 2170, 'simak': 2171, 'bertugas': 2172, 'sekedar': 2173, 'pertanyaannya': 2174, 'bongkar': 2175, 'antigenya': 2176, 'sindoro': 2177, 'dibolehin': 2178, 'sediakan': 2179, 'mencari': 2180, 'mi': 2181, 'menginformasikan': 2182, 'cut': 2183, 'with': 2184, 'patuhi': 2185, 'terisi': 2186, 'selang': 2187, 'memberi': 2188, 'sejarah': 2189, 'tahunkai': 2190, 'bakar': 2191, 'administrasi': 2192, 'ciremai': 2193, 'pencarian': 2194, 'penjualan': 2195, 'whatsapp': 2196, 'gaji': 2197, 'private': 2198, 'pasang': 2199, 'asap': 2200, 'hukuman': 2201, 'ngeh': 2202, 'diajak': 2203, 'day': 2204, 'kejaksan': 2205, 'action': 2206, 'setauku': 2207, 'waspada': 2208, 'tinjau': 2209, 'dipindah': 2210, 'kaka': 2211, 'skrining': 2212, 'view': 2213, 'it': 2214, 'letak': 2215, 'terbukti': 2216, 'buset': 2217, 'mampir': 2218, 'contohnya': 2219, 'upgrade': 2220, 'mbanking': 2221, 'masnya': 2222, 'kelancaran': 2223, 'perkereta': 2224, 'apian': 2225, 'kebangetan': 2226, 'pramuka': 2227, 'edan': 2228, 'mengoperasikan': 2229, 'kebanggaan': 2230, 'sub': 2231, 'melayu': 2232, 'pegadaian': 2233, 'menteng': 2234, 'komplek': 2235, 'dooring': 2236, 'hayu': 2237, 'mental': 2238, 'sudirman': 2239, 'bptj': 2240, 'mari': 2241, 'set': 2242, 'linkaja': 2243, 'jabodebek': 2244, 'cake': 2245, 'ngab': 2246, 'group': 2247, 'baja': 2248, 'alamat': 2249, 'tenaga': 2250, 'nikahan': 2251, 'subclass': 2252, 'ditutup': 2253, 'limit': 2254, 'kotor': 2255, 'mentri': 2256, 'otaknya': 2257, 'mengganggu': 2258, 'la': 2259, 'sholat': 2260, 'berusia': 2261, 'contact': 2262, 'eboarding': 2263, 'tepatnya': 2264, 'diatur': 2265, 'untun': 2266, 'mendadak': 2267, 'ditulis': 2268, 'twitternya': 2269, 'singkat': 2270, 'tindak': 2271, 'lanjuti': 2272, 'adek': 2273, 'sebagian': 2274, 'ditindak': 2275, 'menang': 2276, 'lambat': 2277, 'transportation': 2278, 'keretaapiindonesia': 2279, 'sebelahan': 2280, 'kuenya': 2281, 'stasion': 2282, 'amir': 2283, 'senilai': 2284, 'reward': 2285, 'sumber': 2286, 'perasaan': 2287, 'kreatif': 2288, 'got': 2289, 'iklan': 2290, 'checkout': 2291, 'ngobrol': 2292, 'kalog': 2293, 'tim': 2294, 'nataru': 2295, 'antrean': 2296, 'shower': 2297, 'batita': 2298, 'vending': 2299, 'didampingi': 2300, 'satpam': 2301, 'staf': 2302, 'prosesnya': 2303, 'menerapkan': 2304, 'yth': 2305, 'perbandingan': 2306, 'nakes': 2307, 'voucher': 2308, 'taxi': 2309, 'stindro': 2310, 'billing': 2311, 'seleksi': 2312, 'telp': 2313, 'kebingungan': 2314, 'akui': 2315, 'asing': 2316, 'sebulan': 2317, 'alasannya': 2318, 'kebagian': 2319, 'kondisional': 2320, 'ama': 2321, 'arte': 2322, 'pertigaan': 2323, 'gudeg': 2324, 'yu': 2325, 'djum': 2326, 'jago': 2327, 'offline': 2328, 'staisun': 2329, 'maskernya': 2330, 'batasi': 2331, 'peradaban': 2332, 'face': 2333, 'mabok': 2334, 'ikan': 2335, 'sriwijaya': 2336, 'terpotong': 2337, 'sultan': 2338, 'layar': 2339, 'kuburan': 2340, 'request': 2341, 'motivasi': 2342, 'dipermudah': 2343, 'dikereta': 2344, 'norak': 2345, 'seluler': 2346, 'pertanggal': 2347, 'dibenahi': 2348, 'notifikasi': 2349, 'any': 2350, 'always': 2351, 'right': 2352, 'meneraplikasian': 2353, 'baris': 2354, 'adain': 2355, 'durasi': 2356, 'wih': 2357, 'ngebut': 2358, 'bertambah': 2359, 'jayalah': 2360, 'skhu': 2361, 'kegedean': 2362, 'include': 2363, 'relevan': 2364, 'andir': 2365, 'solutif': 2366, 'what': 2367, 'batalin': 2368, 'duitnya': 2369, 'bangkrut': 2370, 'memuaskan': 2371, 'telpon': 2372, 'bocah': 2373, 'fakultas': 2374, 'halah': 2375, 'sari': 2376, 'suratnya': 2377, 'melahirkan': 2378, 'kritikal': 2379, 'card': 2380, 'gejala': 2381, 'sk': 2382, 'safe': 2383, 'terpapar': 2384, 'kelurahan': 2385, 'darah': 2386, 'rendah': 2387, 'sobat': 2388, 'kebutuhan': 2389, 'met': 2390, 'pelangi': 2391, 'post': 2392, 'pengembalian': 2393, 'meninggal': 2394, 'cikini': 2395, 'berobat': 2396, 'bd': 2397, 'disiaplikasian': 2398, 'numpuk': 2399, 'lari': 2400, 'miris': 2401, 'kecuali': 2402, 'ditunjukan': 2403, 'cdm': 2404, 'tertunda': 2405, 'kabupaten': 2406, 'yangtidak': 2407, 'tumpukan': 2408, 'melanjuntukan': 2409, 'tolonglah': 2410, 'tingkatkan': 2411, 'kepastian': 2412, 'tambun': 2413, 'commuterline': 2414, 'terbit': 2415, 'dianggap': 2416, 'genap': 2417, 'mempermudah': 2418, 'keliling': 2419, 'num': 2420, 'gempa': 2421, 'apaapa': 2422, 'cache': 2423, 'praktek': 2424, 'apinya': 2425, 'dinaiki': 2426, 'terimaksih': 2427, 'botol': 2428, 'paginya': 2429, 'astra': 2430, 'wfh': 2431, 'pulangnya': 2432, 'hub': 2433, 'sibuk': 2434, 'rincian': 2435, 'logis': 2436, 'balesan': 2437, 'kelonggaran': 2438, 'tiga': 2439, 'jamber': 2440, 'kab': 2441, 'penerbangan': 2442, 'dalem': 2443, 'logic': 2444, 'mang': 2445, 'disesuaikan': 2446, 'pilihannya': 2447, 'dialami': 2448, 'papar': 2449, 'ketik': 2450, 'pacitan': 2451, 'jemput': 2452, 'menjalankan': 2453, 'apatidak': 2454, 'diterapkan': 2455, 'antarkota': 2456, 'mendapat': 2457, 'mengeluarkan': 2458, 'format': 2459, 'binjai': 2460, 'hoax': 2461, 'manapun': 2462, 'nostalgia': 2463, 'perpanjangan': 2464, 'tujuannya': 2465, 'penyebaran': 2466, 'transport': 2467, 'aktifin': 2468, 'domisili': 2469, 'ongkos': 2470, 'krian': 2471, 'srtp': 2472, 'trayek': 2473, 'perjam': 2474, 'kesel': 2475, 'koktidak': 2476, 'berhadap': 2477, 'masuknya': 2478, 'cl': 2479, 'kelengkapan': 2480, 'duri': 2481, 'gamau': 2482, 'nungguin': 2483, 'multi': 2484, 'ditempat': 2485, 'eskalator': 2486, 'simple': 2487, 'lulus': 2488, 'hayo': 2489, 'perhatian': 2490, 'diputar': 2491, 'udahtidak': 2492, 'bergantung': 2493, 'tekor': 2494, 'ngga': 2495, 'simpel': 2496, 'emg': 2497, 'dibukanya': 2498, 'oprasi': 2499, 'perkenalkan': 2500, 'sponsor': 2501, 'keesokan': 2502, 'not': 2503, 'your': 2504, 'paledang': 2505, 'hangat': 2506, 'menambah': 2507, 'penambahan': 2508, 'mengatur': 2509, 'kareta': 2510, 'jaraknya': 2511, 'periode': 2512, 'permanen': 2513, 'menyusul': 2514, 'pelayananya': 2515, 'gaperlu': 2516, 'jalannya': 2517, 'mesen': 2518, 'cepatnya': 2519, 'setasiun': 2520, 'dirjen': 2521, 'pagar': 2522, 'palembang': 2523, 'cipendeuy': 2524, 'xixi': 2525, 'suguhan': 2526, 'anget': 2527, 'message': 2528, 'kompensasi': 2529, 'sumpah': 2530, 'support': 2531, 'difungsikan': 2532, 'gambarnya': 2533, 'penerimaan': 2534, 'sambel': 2535, 'minus': 2536, 'dibandingkan': 2537, 'yogyakartasolo': 2538, 'sertifikan': 2539, 'ktpnya': 2540, 'dadakan': 2541, 'malamnya': 2542, 'lolos': 2543, 'tanyain': 2544, 'mencantumkan': 2545, 'ajuin': 2546, 'gaboleh': 2547, 'perkiraan': 2548, 'oprasional': 2549, 'uji': 2550, 'terbarunya': 2551, 'terusan': 2552, 'penjelasanya': 2553, 'ganda': 2554, 'gelap': 2555, 'serem': 2556, 'joglosemarkarto': 2557, 'interior': 2558, 'dlu': 2559, 'gais': 2560, 'covidnya': 2561, 'tk': 2562, 'fasilitasnya': 2563, 'keretaapi': 2564, 'kelanjutannya': 2565, 'remaja': 2566, 'operasinya': 2567, 'menginap': 2568, 'malangsurabaya': 2569, 'over': 2570, 'ban': 2571, 'bakso': 2572, 'merusak': 2573, 'jelasin': 2574, 'terang': 2575, 'us': 2576, 'jatah': 2577, 'robot': 2578, 'pesannya': 2579, 'bioskop': 2580, 'penyekatan': 2581, 'excellence': 2582, 'menghadap': 2583, 'praktis': 2584, 'porter': 2585, 'berhubung': 2586, 'peduli': 2587, 'membahayakan': 2588, 'joglosemarketo': 2589, 'last': 2590, 'harapan': 2591, 'tertawa': 2592, 'okee': 2593, 'kuala': 2594, 'stabas': 2595, 'sebidang': 2596, 'arjawinangun': 2597, 'lanjutan': 2598, 'fly': 2599, 'cegah': 2600, 'smp': 2601, 'menemukan': 2602, 'rambu': 2603, 'jalanan': 2604, 'muak': 2605, 'account': 2606, 'comment': 2607, 'marah': 2608, 'yuhu': 2609, 'mentions': 2610, 'diharuskan': 2611, 'woi': 2612, 'batik': 2613, 'barakallah': 2614, 'bertransformasi': 2615, 'ditinggal': 2616, 'rapi': 2617, 'plat': 2618, 'kebayoran': 2619, 'direktur': 2620, 'merekrut': 2621, 'maklum': 2622, 'iklannya': 2623, 'terbalaskan': 2624, 'mandek': 2625, 'walikota': 2626, 'ls': 2627, 'februari': 2628, 'hatur': 2629, 'know': 2630, 'lumajang': 2631, 'ditertibkan': 2632, 'tol': 2633, 'prasarana': 2634, 'perkeretapian': 2635, 'pacar': 2636, 'fe': 2637, 'garong': 2638, 'interpelasi': 2639, 'dprd': 2640, 'sudut': 2641, 'pandang': 2642, 'akut': 2643, 'hitam': 2644, 'dijauhkan': 2645, 'putih': 2646, 'kenal': 2647, 'bedakan': 2648, 'ngurusin': 2649, 'ahok': 2650, 'penataan': 2651, 'tema': 2652, 'fraksi': 2653, 'dsb': 2654, 'kotak': 2655, 'back': 2656, 'kolaborasi': 2657, 'rapat': 2658, 'tahunan': 2659, 'bacot': 2660, 'pastiin': 2661, 'delay': 2662, 'laper': 2663, 'galak': 2664, 'bego': 2665, 'spd': 2666, 'pulsa': 2667, 'ulangi': 2668, 'kotanya': 2669, 'ponorogo': 2670, 'pasca': 2671, 'pinter': 2672, 'mulainya': 2673, 'menyerang': 2674, 'at': 2675, 'mewujudkan': 2676, 'menyuduntukan': 2677, 'terulang': 2678, 'papua': 2679, 'wetan': 2680, 'stnk': 2681, 'dealer': 2682, 'sebentar': 2683, 'terawat': 2684, 'fungsi': 2685, 'dikantong': 2686, 'bersebelahan': 2687, 'jati': 2688, 'dibangun': 2689, 'kondekturnya': 2690, 'angkatan': 2691, 'menambahkan': 2692, 'buku': 2693, 'yaelah': 2694, 'bambang': 2695, 'macetnya': 2696, 'koordinasikan': 2697, 'kacau': 2698, 'klari': 2699, 'harikeretaapinasional': 2700, 'pariwisata': 2701, 'aa': 2702, 'segi': 2703, 'kutojaya': 2704, 'visual': 2705, 'operator': 2706, 'ulangtahun': 2707, 'efisien': 2708, 'selamatulang': 2709, 'sewaktu': 2710, 'asuransi': 2711, 'risiko': 2712, 'pengirim': 2713, 'dendam': 2714, 'humas': 2715, 'rekrutmen': 2716, 'kisaran': 2717, 'terkini': 2718, 'pembayarannya': 2719, 'kolaboratif': 2720, 'penggusuran': 2721, 'merugikan': 2722, 'jajarannya': 2723, 'pemberhentian': 2724, 'dp': 2725, 'jargon': 2726, 'ngaret': 2727, 'nar': 2728, 'kebawah': 2729, 'koreksi': 2730, 'responsnya': 2731, 'arahan': 2732, 'sebagainya': 2733, 'single': 2734, 'kedungjati': 2735, 'manajemen': 2736, 'pso': 2737, 'dunia': 2738, 'meresmikan': 2739, 'need': 2740, 'manfaat': 2741, 'sosmed': 2742, 'cebong': 2743, 'rompi': 2744, 'orange': 2745, 'bungkus': 2746, 'bau': 2747, 'sapa': 2748, 'menyalahkan': 2749, 'kasi': 2750, 'diam': 2751, 'besi': 2752, 'polsuska': 2753, 'keberhasilan': 2754, 'padat': 2755, 'pokonya': 2756, 'debat': 2757, 'tetaplah': 2758, 'berhak': 2759, 'lempar': 2760, 'tupoksinya': 2761, 'gimna': 2762, 'mutu': 2763, 'kenceng': 2764, 'kirimin': 2765, 'ketawa': 2766, 'pramex': 2767, 'ditengah': 2768, 'lelah': 2769, 'ala': 2770, 'hard': 2771, 'banten': 2772, 'menutup': 2773, 'masalahnya': 2774, 'niatnya': 2775, 'statiun': 2776, 'statsiun': 2777, 'ucapkan': 2778, 'gelar': 2779, 'lanjuntukan': 2780, 'block': 2781, 'pencerahan': 2782, 'komunitas': 2783, 'membenahi': 2784, 'hancur': 2785, 'cicilan': 2786, 'ngetweet': 2787, 'jm': 2788, 'digitalbisa': 2789, 'untukindonesialebihbaik': 2790, 'pnp': 2791, 'before': 2792, 'sarapan': 2793, 'sad': 2794, 'plumpang': 2795, 'semper': 2796, 'azis': 2797, 'pos': 2798, 'duku': 2799, 'kebon': 2800, 'kacang': 2801, 'bungur': 2802, 'polsek': 2803, 'hasyim': 2804, 'uap': 2805, 'pinangsia': 2806, 'kesini': 2807, 'resminya': 2808, 'sumur': 2809, 'resapan': 2810, 'cipinang': 2811, 'tranportasi': 2812, 'serbu': 2813, 'yoi': 2814, 'dicari': 2815, 'melepas': 2816, 'bye': 2817, 'ngaruh': 2818, 'porong': 2819, 'gopay': 2820, 'latar': 2821, 'dimaklumi': 2822, 'haurgeulis': 2823, 'jendela': 2824, 'terpisah': 2825, 'list': 2826, 'penampakan': 2827, 'lapar': 2828, 'dimasa': 2829, 'dibilang': 2830, 'berkesempatan': 2831, 'tersedianya': 2832, 'drop': 2833, 'lur': 2834, 'dewan': 2835, 'hilangkan': 2836, 'dijadikan': 2837, 'berjaya': 2838, 'digembok': 2839, 'reaktivasi': 2840, 'artikel': 2841, 'emoney': 2842, 'siih': 2843, 'once': 2844, 'anakku': 2845, 'pict': 2846, 'tuhan': 2847, 'ngalah': 2848, 'hore': 2849, 'idnum': 2850, 'kehidupan': 2851, 'separuh': 2852, 'hijau': 2853, 'pasal': 2854, 'muda': 2855, 'giliran': 2856, 'berguna': 2857, 'barangkali': 2858, 'monggo': 2859, 'selisih': 2860, 'bete': 2861, 'berdua': 2862, 'eko': 2863, 'mentionsdm': 2864, 'tuanya': 2865, 'anggap': 2866, 'fotocopy': 2867, 'balasannya': 2868, 'keliru': 2869, 'kaos': 2870, 'cctv': 2871, 'gopar': 2872, 'arahnya': 2873, 'welcome': 2874, 'today': 2875, 'spot': 2876, 'dipanggil': 2877, 'musholanya': 2878, 'membuatmu': 2879, 'juanda': 2880, 'memperbolehkan': 2881, 'banter': 2882, 'diperjelas': 2883, 'lampirkan': 2884, 'jos': 2885, 'momen': 2886, 'belanja': 2887, 'grobogan': 2888, 'apanya': 2889, 'ditahan': 2890, 'kendal': 2891, 'telatnya': 2892, 'paste': 2893, 'teriak': 2894, 'iyaa': 2895, 'audio': 2896, 'bapaknya': 2897, 'bulat': 2898, 'cikudapateuh': 2899, 'korek': 2900, 'lemot': 2901, 'diduluin': 2902, 'awas': 2903, 'tanggapi': 2904, 'dahulukan': 2905, 'deras': 2906, 'mekanik': 2907, 'sorry': 2908, 'ditanggepin': 2909, 'biarin': 2910, 'cipendey': 2911, 'naf': 2912, 'yit': 2913, 'pintar': 2914, 'hidungnya': 2915, 'berusaha': 2916, 'droplet': 2917, 'kakek': 2918, 'trees': 2919, 'buru': 2920, 'kakinya': 2921, 'menghadapi': 2922, 'asalnya': 2923, 'nkri': 2924, 'separator': 2925, 'dipanjangin': 2926, 'panjangin': 2927, 'pemkab': 2928, 'dijadwal': 2929, 'dikala': 2930, 'meminimalisir': 2931, 'nutup': 2932, 'pelecehan': 2933, 'membalas': 2934, 'penat': 2935, 'sanksi': 2936, 'rezeki': 2937, 'nelpon': 2938, 'its': 2939, 'maap': 2940, 'statusnya': 2941, 'cianjur': 2942, 'penghargaan': 2943, 'driver': 2944, 'tilang': 2945, 'kehilangan': 2946, 'nyebrang': 2947, 'gilimanuk': 2948, 'nyenyak': 2949, 'panjangnya': 2950, 'kembaran': 2951, 'perawatan': 2952, 'moto': 2953, 'tempuhnya': 2954, 'ketimbang': 2955, 'barunya': 2956, 'teknologi': 2957, 'kru': 2958, 'berulang': 2959, 'seritfikat': 2960, 'ngemplak': 2961, 'temanggung': 2962, 'berbulan': 2963, 'cair': 2964, 'sei': 2965, 'jajaran': 2966, 'susahnya': 2967, 'excellent': 2968, 'satuan': 2969, 'pxlxt': 2970, 'timbangannya': 2971, 'terbesarnya': 2972, 'koordinasi': 2973, 'aparat': 2974, 'pelanggar': 2975, 'dilaporin': 2976, 'dikasi': 2977, 'bilangnya': 2978, 'bermasker': 2979, 'pembagian': 2980, 'hutan': 2981, 'ketertiban': 2982, 'shield': 2983, 'imbau': 2984, 'dijamin': 2985, 'haru': 2986, 'kebeli': 2987, 'mitra': 2988, 'kramatjati': 2989, 'kecepatan': 2990, 'dibeberapa': 2991, 'menggembirakan': 2992, 'label': 2993, 'dilaksanakan': 2994, 'tissue': 2995, 'perempuan': 2996, 'signal': 2997, 'nyambi': 2998, 'perut': 2999, 'akhlak': 3000, 'has': 3001, 'jakartabandung': 3002, 'anniversary': 3003, 'special': 3004, 'frame': 3005, 'merujuk': 3006, 'dibahas': 3007, 'sayangnya': 3008, 'mim': 3009, 'barisnya': 3010, 'perubahannya': 3011, 'inovasinya': 3012, 'jonan': 3013, 'arti': 3014, 'angka': 3015, 'dishub': 3016, 'transkrip': 3017, 'pembaruan': 3018, 'penggemar': 3019, 'berterima': 3020, 'pengendara': 3021, 'disimpan': 3022, 'huhuhu': 3023, 'smoking': 3024, 'baturraden': 3025, 'ditoleransi': 3026, 'dikeluarkan': 3027, 'menkes': 3028, 'we': 3029, 'perantauan': 3030, 'joglosemarkerjo': 3031, 'rujukan': 3032, 'nimbrung': 3033, 'narik': 3034, 'etiket': 3035, 'why': 3036, 'barcodenya': 3037, 'raphi': 3038, 'berlanjut': 3039, 'ratusan': 3040, 'ditemani': 3041, 'more': 3042, 'berfikir': 3043, 'menyesal': 3044, 'dokternya': 3045, 'did': 3046, 'lion': 3047, 'oalah': 3048, 'media': 3049, 'pendaftarannya': 3050, 'jenggala': 3051, 'kjj': 3052, 'tesan': 3053, 'jalankan': 3054, 'kebal': 3055, 'berpa': 3056, 'sediain': 3057, 'rscm': 3058, 'semacamnya': 3059, 'rentang': 3060, 'device': 3061, 'menumpuk': 3062, 'dipaketin': 3063, 'demen': 3064, 'ekonominya': 3065, 'dipotong': 3066, 'temannya': 3067, 'ujian': 3068, 'damai': 3069, 'ngejar': 3070, 'sbelum': 3071, 'seprti': 3072, 'transjakarta': 3073, 'perturan': 3074, 'menyayangkan': 3075, 'keadilan': 3076, 'luhur': 3077, 'empat': 3078, 'termudah': 3079, 'rsu': 3080, 'bojong': 3081, 'sudimara': 3082, 'tunda': 3083, 'sepedanya': 3084, 'buaran': 3085, 'baya': 3086, 'tangal': 3087, 'refresh': 3088, 'kiriman': 3089, 'geser': 3090, 'pariaman': 3091, 'pcrnya': 3092, 'suhu': 3093, 'pelaksanaan': 3094, 'sertifikatnya': 3095, 'bayaran': 3096, 'gresik': 3097, 'max': 3098, 'ngebug': 3099, 'disegerakan': 3100, 'eticket': 3101, 'anjing': 3102, 'menjaga': 3103, 'pengajuan': 3104, 'kenakan': 3105, 'diinfo': 3106, 'android': 3107, 'berantakan': 3108, 'cash': 3109, 'lurus': 3110, 'kocak': 3111, 'evaluasi': 3112, 'menyusahkan': 3113, 'dipersulit': 3114, 'dzolim': 3115, 'ldari': 3116, 'yey': 3117, 'pembukaan': 3118, 'terhormat': 3119, 'buffering': 3120, 'menoreh': 3121, 'seberapa': 3122, 'coyo': 3123, 'minka': 3124, 'berumur': 3125, 'petunjuknya': 3126, 'diperjalanan': 3127, 'dijalanin': 3128, 'pertimbangan': 3129, 'dihentikan': 3130, 'zona': 3131, 'maret': 3132, 'penyitas': 3133, 'mbok': 3134, 'andarioid': 3135, 'tahum': 3136, 'mataku': 3137, 'logout': 3138, 'tatap': 3139, 'rutin': 3140, 'merchant': 3141, 'senennya': 3142, 'kaji': 3143, 'melalukan': 3144, 'peserta': 3145, 'pengin': 3146, 'kalistail': 3147, 'pondok': 3148, 'membutuh': 3149, 'ktm': 3150, 'pikirannya': 3151, 'menhub': 3152, 'nyatidak': 3153, 'mantul': 3154, 'mengakses': 3155, 'serpong': 3156, 'ngebis': 3157, 'october': 3158, 'rb': 3159, 'banding': 3160, 'ja': 3161, 'miin': 3162, 'efek': 3163, 'yakan': 3164, 'musim': 3165, 'bersabar': 3166, 'teruntuk': 3167, 'updatenya': 3168, 'garis': 3169, 'se': 3170, 'sambung': 3171, 'universitas': 3172, 'pancasila': 3173, 'dibenerin': 3174, 'perjalananan': 3175, 'pke': 3176, 'dikunci': 3177, 'indariamayu': 3178, 'screenshot': 3179, 'men': 3180, 'singosari': 3181, 'beres': 3182, 'lampung': 3183, 'baturaja': 3184, 'search': 3185, 'maunya': 3186, 'rejekinya': 3187, 'allowed': 3188, 'asem': 3189, 'sedia': 3190, 'atautidak': 3191, 'embel': 3192, 'bulanan': 3193, 'kemacetan': 3194, 'direncanakan': 3195, 'pegaden': 3196, 'karanganyar': 3197, 'menumpang': 3198, 'ceknya': 3199, 'bsa': 3200, 'blum': 3201, 'sebat': 3202, 'insiden': 3203, 'pot': 3204, 'channel': 3205, 'bala': 3206, 'berjumpa': 3207, 'seandainya': 3208, 'dikunjungi': 3209, 'kuotanya': 3210, 'neng': 3211, 'kenerangkatan': 3212, 'warung': 3213, 'menyesuaikan': 3214, 'hmm': 3215, 'darmawangsa': 3216, 'woles': 3217, 'turunin': 3218, 'mlm': 3219, 'bukatutup': 3220, 'shalat': 3221, 'ramai': 3222, 'alam': 3223, 'patut': 3224, 'pimpinan': 3225, 'pelonggaran': 3226, 'nunjukkin': 3227, 'detailnya': 3228, 'faktanya': 3229, 'gadobangkong': 3230, 'kaligungnya': 3231, 'berangkatan': 3232, 'terafiliasi': 3233, 'kimia': 3234, 'farma': 3235, 'grafis': 3236, 'parujakan': 3237, 'random': 3238, 'dilanjut': 3239, 'gedangan': 3240, 'berlakukan': 3241, 'sakitnya': 3242, 'freeze': 3243, 'ngefreeze': 3244, 'maintenance': 3245, 'lagii': 3246, 'skalian': 3247, 'gapake': 3248, 'hes': 3249, 'anyway': 3250, 'menyelesaikan': 3251, 'membaik': 3252, 'timeout': 3253, 'putri': 3254, 'deli': 3255, 'diredupkan': 3256, 'trek': 3257, 'kelar': 3258, 'pembatalannya': 3259, 'ditinjau': 3260, 'faktor': 3261, 'kategori': 3262, 'turunkan': 3263, 'cimekar': 3264, 'ots': 3265, 'mendaftar': 3266, 'budget': 3267, 'jauhnya': 3268, 'lokalnya': 3269, 'virus': 3270, 'disewain': 3271, 'bohong': 3272, 'pagaden': 3273, 'rela': 3274, 'wajar': 3275, 'kedungsepur': 3276, 'ml': 3277, 'periksa': 3278, 'cepetan': 3279, 'pelit': 3280, 'kaiaccess': 3281, 'tiketdotcom': 3282, 'perhatiannya': 3283, 'kasihh': 3284, 'stasium': 3285, 'rezim': 3286, 'pecel': 3287, 'setail': 3288, 'mahalan': 3289, 'ngapa': 3290, 'naiki': 3291, 'kandang': 3292, 'mengunakan': 3293, 'tujuh': 3294, 'ajatidak': 3295, 'lelet': 3296, 'menyewa': 3297, 'umumnya': 3298, 'dimasukin': 3299, 'netijen': 3300, 'nihil': 3301, 'bookingnya': 3302, 'split': 3303, 'komersial': 3304, 'segerbong': 3305, 'pelajaran': 3306, 'berharga': 3307, 'lempuyang': 3308, 'banyaknya': 3309, 'replynya': 3310, 'hrga': 3311, 'menetaplikasian': 3312, 'noh': 3313, 'bike': 3314, 'ntuh': 3315, 'faskes': 3316, 'ato': 3317, 'aktifnya': 3318, 'tips': 3319, 'siaplikasian': 3320, 'konten': 3321, 'too': 3322, 'long': 3323, 'suda': 3324, 'keputusan': 3325, 'sent': 3326, 'something': 3327, 'when': 3328, 'wrong': 3329, 'diumumkan': 3330, 'stsiun': 3331, 'mohom': 3332, 'pembatas': 3333, 'trus': 3334, 'favoritku': 3335, 'keknya': 3336, 'dilayaninya': 3337, 'whatsaplikasi': 3338, 'muntah': 3339, 'prihatin': 3340, 'titip': 3341, 'benahi': 3342, 'komentar': 3343, 'percaya': 3344, 'verified': 3345, 'jembut': 3346, 'heh': 3347, 'widih': 3348, 'ngomel': 3349, 'moke': 3350, 'tinder': 3351, 'mantan': 3352, 'syukur': 3353, 'bar': 3354, 'sunset': 3355, 'teruslah': 3356, 'menyusu': 3357, 'asi': 3358, 'mimpi': 3359, 'suroboyo': 3360, 'berakhir': 3361, 'healing': 3362, 'astaga': 3363, 'gondariong': 3364, 'solokutoarjo': 3365, 'sumut': 3366, 'improve': 3367, 'ngarep': 3368, 'ticket': 3369, 'atensinya': 3370, 'kumuh': 3371, 'tempo': 3372, 'nang': 3373, 'temenku': 3374, 'disalahkan': 3375, 'ngingetin': 3376, 'njir': 3377, 'nuna': 3378, 'panik': 3379, 'think': 3380, 'about': 3381, 'kepotong': 3382, 'slot': 3383, 'berkat': 3384, 'busway': 3385, 'kawasan': 3386, 'panggil': 3387, 'kelebihan': 3388, 'bong': 3389, 'gunners': 3390, 'abal': 3391, 'liar': 3392, 'ranah': 3393, 'politik': 3394, 'ngaji': 3395, 'warni': 3396, 'lapis': 3397, 'terlewat': 3398, 'goblokin': 3399, 'bedain': 3400, 'nitip': 3401, 'baju': 3402, 'spdi': 3403, 'emng': 3404, 'dukungan': 3405, 'korupsi': 3406, 'ingetin': 3407, 'ngurusi': 3408, 'bansos': 3409, 'perkotaan': 3410, 'cmn': 3411, 'usulkan': 3412, 'terusedia': 3413, 'kontrak': 3414, 'ngelantur': 3415, 'pindahan': 3416, 'sebatas': 3417, 'anganangan': 3418, 'gagasan': 3419, 'ngeresmiin': 3420, 'biji': 3421, 'presidennya': 3422, 'wakil': 3423, 'bentuknya': 3424, 'yha': 3425, 'be': 3426, 'menuntut': 3427, 'payung': 3428, 'laptop': 3429, 'gaes': 3430, 'pantura': 3431, 'menyiksa': 3432, 'perkembangan': 3433, 'indeed': 3434, 'anus': 3435, 'mewarnai': 3436, 'dikejar': 3437, 'kuntilanak': 3438, 'musik': 3439, 'kci': 3440, 'buntu': 3441, 'hang': 3442, 'ending': 3443, 'endingnya': 3444, 'city': 3445, 'halnya': 3446, 'kindly': 3447, 'gess': 3448, 'halangan': 3449, 'ngejudge': 3450, 'pengecualian': 3451, 'magetan': 3452, 'memperoleh': 3453, 'prestasi': 3454, 'memudahkan': 3455, 'connected': 3456, 'istana': 3457, 'galunggung': 3458, 'menolak': 3459, 'ngajak': 3460, 'body': 3461, 'dialihkan': 3462, 'sirkuit': 3463, 'wan': 3464, 'abud': 3465, 'tertata': 3466, 'editan': 3467, 'slalu': 3468, 'kelojotan': 3469, 'bersinergi': 3470, 'kebersihannya': 3471, 'tubuh': 3472, 'kerap': 3473, 'srikandi': 3474, 'kompas': 3475, 'registrasi': 3476, 'polri': 3477, 'rsud': 3478, 'bentrok': 3479, 'ongkosnya': 3480, 'mereda': 3481, 'peta': 3482, 'sebelahnya': 3483, 'saranku': 3484, 'lahat': 3485, 'unit': 3486, 'dibuktikan': 3487, 'notice': 3488, 'putar': 3489, 'adu': 3490, 'lutut': 3491, 'date': 3492, 'lega': 3493, 'passport': 3494, 'physical': 3495, 'lembah': 3496, 'jangka': 3497, 'betulin': 3498, 'kuitansi': 3499, 'like': 3500, 'kta': 3501, 'standby': 3502, 'penantian': 3503, 'hpnya': 3504, 'benernya': 3505, 'jorok': 3506, 'lanjutkan': 3507, 'dimasak': 3508, 'miminnn': 3509, 'walka': 3510, 'otc': 3511, 'mun': 3512, 'cup': 3513, 'agent': 3514, 'payment': 3515, 'again': 3516, 'problem': 3517, 'kalmas': 3518, 'melintasi': 3519, 'soloyogyakarta': 3520, 'iv': 3521, 'terbaiknya': 3522, 'kejutan': 3523, 'seling': 3524, 'accses': 3525, 'serba': 3526, 'tancap': 3527, 'peringatan': 3528, 'mendingan': 3529, 'apiku': 3530, 'menjadikan': 3531, 'sweet': 3532, 'bersamamu': 3533, 'slow': 3534, 'menitan': 3535, 'direktorat': 3536, 'kementerian': 3537, 'sbelumnya': 3538, 'hey': 3539, 'mentiondm': 3540, 'keluhan': 3541, 'ruangan': 3542, 'weekdays': 3543, 'guard': 3544, 'pencet': 3545, 'th': 3546, 'bacanya': 3547, 'akunnya': 3548, 'titik': 3549, 'alami': 3550, 'inovatif': 3551, 'pembual': 3552, 'bijak': 3553, 'dicolok': 3554, 'pemilik': 3555, 'bun': 3556, 'kritis': 3557, 'kencleng': 3558, 'astaghfirullah': 3559, 'persyaratanya': 3560, 'ujungnya': 3561, 'mirip': 3562, 'niih': 3563, 'renta': 3564, 'tahan': 3565, 'item': 3566, 'bloon': 3567, 'sifatnya': 3568, 'durung': 3569, 'rajawali': 3570, 'nusantara': 3571, 'usahanya': 3572, 'kontol': 3573, 'hr': 3574, 'pdhal': 3575, 'ontime': 3576, 'ngantor': 3577, 'tai': 3578, 'dipersyaratkan': 3579, 'gembok': 3580, 'din': 3581, 'optimis': 3582, 'pergantian': 3583, 'vendor': 3584, 'counter': 3585, 'mendesak': 3586, 'kontribusi': 3587, 'kelalaian': 3588, 'kotabumi': 3589, 'aksesnya': 3590, 'from': 3591, 'ho': 3592, 'dapetnya': 3593, 'kamandakanya': 3594, 'ex': 3595, 'ikutnya': 3596, 'dikorupsi': 3597, 'mangkrak': 3598, 'moga': 3599, 'berpikir': 3600, 'based': 3601, 'fact': 3602, 'lol': 3603, 'eropa': 3604, 'kelompok': 3605, 'buta': 3606, 'bin': 3607, 'kaga': 3608, 'usik': 3609, 'puja': 3610, 'idiot': 3611, 'ojol': 3612, 'udahlah': 3613, 'ngak': 3614, 'mengutamakan': 3615, 'brutus': 3616, 'kyai': 3617, 'fox': 3618, 'panjenengan': 3619, 'kuda': 3620, 'diwacanakan': 3621, 'penghidupan': 3622, 'keasliannya': 3623, 'melulu': 3624, 'close': 3625, 'tersendiri': 3626, 'patuh': 3627, 'kumur': 3628, 'dengar': 3629, 'mengkritik': 3630, 'dikritik': 3631, 'bahas': 3632, 'kebijaksanaan': 3633, 'berpengaruh': 3634, 'bebal': 3635, 'derajat': 3636, 'bokong': 3637, 'lembar': 3638, 'faham': 3639, 'melempar': 3640, 'integritas': 3641, 'asn': 3642, 'budeg': 3643, 'menghubungkan': 3644, 'tutupnya': 3645, 'jawabkan': 3646, 'hadirmu': 3647, 'ekpressnya': 3648, 'prakteknya': 3649, 'peresmian': 3650, 'halooo': 3651, 'mendaki': 3652, 'ngebus': 3653, 'terkadang': 3654, 'ayolah': 3655, 'hei': 3656, 'jakartayogyakarta': 3657, 'ealah': 3658, 'part': 3659, 'kebablasan': 3660, 'spill': 3661, 'divisi': 3662, 'memperpanjang': 3663, 'darimana': 3664, 'dijelasin': 3665, 'vs': 3666, 'kadariun': 3667, 'diverifikasi': 3668, 'kapok': 3669, 'bicara': 3670, 'potensi': 3671, 'kerugian': 3672, 'gampang': 3673, 'mnjadi': 3674, 'diwakilkan': 3675, 'plb': 3676, 'terkendali': 3677, 'form': 3678, 'dipilih': 3679, 'kemajuan': 3680, 'gatot': 3681, 'pasrah': 3682, 'ditjenka': 3683, 'kltmr': 3684, 'tuins': 3685, 'terbesar': 3686, 'kh': 3687, 'wahid': 3688, 'noa': 3689, 'cabang': 3690, 'restroom': 3691, 'penjadwalan': 3692, 'heheh': 3693, 'didaerah': 3694, 'dongini': 3695, 'tamu': 3696, 'kegagalan': 3697, 'kerjakan': 3698, 'kaget': 3699, 'cisaat': 3700, 'argoparahyangan': 3701, 'permintaan': 3702, 'ektp': 3703, 'pacaran': 3704, 'kulineran': 3705, 'terharu': 3706, 'beban': 3707, 'pejabat': 3708, 'cover': 3709, 'gepreknya': 3710, 'testan': 3711, 'intip': 3712, 'kadul': 3713, 'ss': 3714, 'umat': 3715, 'mancarli': 3716, 'brubah': 3717, 'pelantikan': 3718, 'menunjang': 3719, 'dorong': 3720, 'beroperasikah': 3721, 'dijepang': 3722, 'kacamata': 3723, 'de': 3724, 'tiktok': 3725, 'durasinya': 3726, 'pria': 3727, 'cobain': 3728, 'dimasakin': 3729, 'chef': 3730, 'handal': 3731, 'colokan': 3732, 'menempuh': 3733, 'menyaksikan': 3734, 'menciptakan': 3735, 'ekonomis': 3736, 'terdengar': 3737, 'kece': 3738, 'credit': 3739, 'fotografer': 3740, 'pusing': 3741, 'terlibat': 3742, 'rejeki': 3743, 'kenapaa': 3744, 'meningkatkan': 3745, 'ular': 3746, 'modern': 3747, 'menjangkau': 3748, 'oy': 3749, 'chairebon': 3750, 'memutuskan': 3751, 'nemu': 3752, 'mass': 3753, 'tanggapannya': 3754, 'tekan': 3755, 'ngehang': 3756, 'pesanan': 3757, 'solosemarang': 3758, 'menindaklanjuti': 3759, 'cita': 3760, 'editioncc': 3761, 'gambi': 3762, 'rbandung': 3763, 'lpn': 3764, 'kelasnya': 3765, 'prima': 3766, 'berkunjung': 3767, 'tahun': 3768, 'sticker': 3769, 'teruskan': 3770, 'matang': 3771, 'ketidaknyamanannya': 3772, 'rerata': 3773, 'konser': 3774, 'gnose': 3775, 'barengan': 3776, 'terdepan': 3777, 'dipercaya': 3778, 'argobromo': 3779, 'jejer': 3780, 'sewaktuwaktu': 3781, 'diharga': 3782, 'berkas': 3783, 'mindi': 3784, 'istirahatnya': 3785, 'bunyi': 3786, 'anyar': 3787, 'bausasran': 3788, 'danurejan': 3789, 'ido': 3790, 'power': 3791, 'wk': 3792, 'aslinya': 3793, 'roda': 3794, 'prabumulih': 3795, 'antre': 3796, 'damri': 3797, 'susi': 3798, 'tenyata': 3799, 'jernih': 3800, 'fikiran': 3801, 'hidupmu': 3802, 'ngopi': 3803, 'speaker': 3804, 'senyaman': 3805, 'cipatat': 3806, 'kertonegoro': 3807, 'lh': 3808, 'cibitung': 3809, 'streaming': 3810, 'hatihati': 3811, 'bole': 3812, 'release': 3813, 'penjualannya': 3814, 'swt': 3815, 'yra': 3816, 'yaterima': 3817, 'alamin': 3818, 'garing': 3819, 'nabrak': 3820, 'humanis': 3821, 'perokok': 3822, 'konsumen': 3823, 'kesulitan': 3824, 'dinyatakan': 3825, 'perhari': 3826, 'des': 3827, 'cah': 3828, 'distance': 3829, 'dirangkaikan': 3830, 'limas': 3831, 'pemadaman': 3832, 'nyala': 3833, 'pembeli': 3834, 'nongol': 3835, 'monitor': 3836, 'berwarna': 3837, 'ter': 3838, 'iseng': 3839, 'sabaran': 3840, 'tegalnya': 3841, 'spesial': 3842, 'inka': 3843, 'depo': 3844, 'bekal': 3845, 'samsek': 3846, 'belinya': 3847, 'bernama': 3848, 'arya': 3849, 'wawancara': 3850, 'jr': 3851, 'tematik': 3852, 'dipasar': 3853, 'aduan': 3854, 'csid': 3855, 'penyimpanan': 3856, 'radikalisme': 3857, 'bnpt': 3858, 'sambut': 3859, 'tl': 3860, 'rekaman': 3861, 'mask': 3862, 'eror': 3863, 'surakarta': 3864, 'taunya': 3865, 'klakson': 3866, 'magrib': 3867, 'licin': 3868, 'teknisi': 3869, 'segenap': 3870, 'bluetooth': 3871, 'truk': 3872, 'beserta': 3873, 'mensyaratkan': 3874, 'merayakan': 3875, 'catatan': 3876, 'kurir': 3877, 'sejam': 3878, 'apartemen': 3879, 'dievaluasi': 3880, 'tertutup': 3881, 'berbondong': 3882, 'bondong': 3883, 'far': 3884, 'kertapati': 3885, 'referral': 3886, 'coins': 3887, 'kupon': 3888, 'rewards': 3889, 'lucky': 3890, 'koin': 3891, 'netizen': 3892, 'diperkenankan': 3893, 'really': 3894, 'mengecewakan': 3895, 'taman': 3896, 'experience': 3897, 'tumben': 3898, 'wakapolri': 3899, 'stadion': 3900, 'lukas': 3901, 'enembe': 3902, 'venue': 3903, 'aquatic': 3904, 'wahana': 3905, 'bertepatan': 3906, 'laju': 3907, 'dinanti': 3908, 'ndut': 3909, 'slo': 3910, 'kekurangan': 3911, 'balesannya': 3912, 'menghalus': 3913, 'pose': 3914, 'badminton': 3915, 'memfasilitasi': 3916, 'kesian': 3917, 'obatnya': 3918, 'setan': 3919, 'bodat': 3920, 'barokallah': 3921, 'pki': 3922, 'arsip': 3923, 'kecebur': 3924, 'terwujud': 3925, 'miskin': 3926, 'ngerasa': 3927, 'tweetnya': 3928, 'arogan': 3929, 'apbd': 3930, 'lahan': 3931, 'liatnya': 3932, 'dihilangkan': 3933, 'pohon': 3934, 'hadeh': 3935, 'gembira': 3936, 'dengerin': 3937, 'berisik': 3938, 'meninggalkan': 3939, 'merepotkan': 3940, 'tenang': 3941, 'buyar': 3942, 'martapura': 3943, 'menjual': 3944, 'konsep': 3945, 'mencegah': 3946, 'wajibkan': 3947, 'kelanjutan': 3948, 'ybs': 3949, 'dinyalain': 3950, 'tvnya': 3951, 'lubang': 3952, 'diundang': 3953, 'iri': 3954, 'yogyajakarta': 3955, 'kantin': 3956, 'dawuan': 3957, 'ngumpul': 3958, 'ditunda': 3959, 'anjay': 3960, 'gada': 3961, 'perkenankan': 3962, 'bogie': 3963, 'spring': 3964, 'sorenya': 3965, 'perusahaannya': 3966, 'semen': 3967, 'pingsan': 3968, 'gordyn': 3969, 'ditambahin': 3970, 'gundih': 3971, 'kalu': 3972, 'start': 3973, 'bersamaan': 3974, 'mengantisipasi': 3975, 'pemesan': 3976, 'bencana': 3977, 'letusan': 3978, 'salurkan': 3979, 'memutar': 3980, 'erupsi': 3981, 'niknya': 3982, 'salahkan': 3983, 'mengancam': 3984, 'kerumunan': 3985, 'maleman': 3986, 'sepupu': 3987, 'kepadatan': 3988, 'inisiatif': 3989, 'desakan': 3990, 'mengevaluasi': 3991, 'mengedepankan': 3992, 'memahami': 3993, 'mempertahankan': 3994, 'menekan': 3995, 'berpasir': 3996, 'loncat': 3997, 'pemecah': 3998, 'gelombang': 3999, 'airnya': 4000, 'tawar': 4001, 'dimakan': 4002, 'glagah': 4003, 'motong': 4004, 'len': 4005, 'menghilangkan': 4006, 'kulon': 4007, 'oper': 4008, 'gocar': 4009, 'nada': 4010, 'system': 4011, 'gomawo': 4012, 'akunmu': 4013, 'morning': 4014, 'eloket': 4015, 'tasyun': 4016, 'ngabarin': 4017, 'lengan': 4018, 'smt': 4019, 'bi': 4020, 'gijug': 4021, 'formasi': 4022, 'bilik': 4023, 'terjaga': 4024, 'gedung': 4025, 'persediaan': 4026, 'security': 4027, 'kepo': 4028, 'becek': 4029, 'banyumas': 4030, 'jir': 4031, 'kesiangan': 4032, 'nerapin': 4033, 'penelitian': 4034, 'sirine': 4035, 'lajur': 4036, 'turunnya': 4037, 'viq': 4038, 'hola': 4039, 'final': 4040, 'menangani': 4041, 'musibah': 4042, 'sblm': 4043, 'memberatkan': 4044, 'gajahwong': 4045, 'penipuan': 4046, 'pelemparan': 4047, 'proposal': 4048, 'perak': 4049, 'tinggalin': 4050, 'integrated': 4051, 'pemiliknya': 4052, 'map': 4053, 'pengisian': 4054, 'elektronik': 4055, 'rangkaiannya': 4056, 'papan': 4057, 'lengkapnya': 4058, 'ngalamin': 4059, 'dampak': 4060, 'terjual': 4061, 'dst': 4062, 'indentitas': 4063, 'life': 4064, 'ft': 4065, 'batuk': 4066, 'menulis': 4067, 'batasannya': 4068, 'dikaji': 4069, 'traffic': 4070, 'laka': 4071, 'kesenangan': 4072, 'putus': 4073, 'mengenang': 4074, 'didinginkan': 4075, 'berargumen': 4076, 'goshow': 4077, 'tertinggi': 4078, 'opini': 4079, 'ahad': 4080, 'teras': 4081, 'monyet': 4082, 'menghalangi': 4083, 'perjuangan': 4084, 'dipersilahkan': 4085, 'fungsinya': 4086, 'nurani': 4087, 'ditilang': 4088, 'langkah': 4089, 'langkahnya': 4090, 'paralon': 4091, 'improvisasi': 4092, 'tehnologi': 4093, 'meski': 4094, 'pemdatapi': 4095, 'design': 4096, 'benerin': 4097, 'fb': 4098, 'chaos': 4099, 'mumpung': 4100, 'mempermasalahkan': 4101, 'diantar': 4102, 'berjanji': 4103, 'komputer': 4104, 'viral': 4105, 'mengirim': 4106, 'dikuasai': 4107, 'sick': 4108, 'kec': 4109, 'perangkat': 4110, 'seruan': 4111, 'gitarnya': 4112, 'taruh': 4113, 'charisma': 4114, 'melanjutkan': 4115, 'kdi': 4116, 'setahu': 4117, 'bsi': 4118, 'sebenernya': 4119, 'pegi': 4120, 'cak': 4121, 'jogjasolo': 4122, 'dulunya': 4123, 'menarik': 4124, 'user': 4125, 'beludru': 4126, 'bistik': 4127, 'koran': 4128, 'dosin': 4129, 'tabrak': 4130, 'yg': 4131, 'ditempati': 4132, 'cuy': 4133, 'cuan': 4134, 'gajian': 4135, 'dishare': 4136, 'cianjuran': 4137, 'cleaning': 4138, 'bumi': 4139, 'award': 4140, 'disiplinperlintasan': 4141, 'listriknya': 4142, 'meja': 4143, 'wkwkwk': 4144, 'perbedannya': 4145, 'minuman': 4146, 'tradisional': 4147, 'nobar': 4148, 'menahu': 4149, 'jadikan': 4150, 'canggih': 4151, 'ngamuk': 4152, 'tengok': 4153, 'kalinya': 4154, 'melaju': 4155, 'degan': 4156, 'menabrak': 4157, 'sanitaaa': 4158, 'kasiih': 4159, 'kcp': 4160, 'sleman': 4161, 'diy': 4162, 'kl': 4163, 'jakart': 4164, 'bak': 4165, 'night': 4166, 'issued': 4167, 'stok': 4168, 'market': 4169, 'place': 4170, 'ngerubah': 4171, 'disalip': 4172, 'moyong': 4173, 'dampingi': 4174, 'apkah': 4175, 'dapurnya': 4176, 'diingetin': 4177, 'kicir': 4178, 'peduliindungi': 4179, 'operational': 4180, 'resto': 4181, 'lilis': 4182, 'stroller': 4183, 'cibungur': 4184, 'yaaa': 4185, 'menganggu': 4186, 'inggris': 4187, 'selasar': 4188, 'munculnya': 4189, 'prepare': 4190, 'masinisnya': 4191, 'berjuang': 4192, 'ludes': 4193, 'myself': 4194, 'bdggambir': 4195, 'psr': 4196, 'bakpia': 4197, 'yan': 4198, 'samaan': 4199, 'dslr': 4200, 'pkd': 4201, 'perbankan': 4202, 'memperbarui': 4203, 'bising': 4204, 'kebangkrutan': 4205, 'alih': 4206, 'tumpangi': 4207, 'kandangan': 4208, 'wagub': 4209, 'kemauan': 4210, 'kurangi': 4211, 'koko': 4212, 'jiwa': 4213, 'profesional': 4214, 'sesuain': 4215, 'rasamakasih': 4216, 'bajer': 4217, 'pemberangkatannya': 4218, 'claim': 4219, 'berwenang': 4220, 'kerennya': 4221, 'pantang': 4222, 'kesal': 4223, 'ditangkap': 4224, 'lemes': 4225, 'ngebahayain': 4226, 'nyawa': 4227, 'rumahan': 4228, 'mamen': 4229, 'teuas': 4230, 'divaksinasi': 4231, 'load': 4232, 'sobi': 4233, 'dobel': 4234, 'menutupi': 4235, 'dagu': 4236, 'mulut': 4237, 'mendisiplinkan': 4238, 'beradaptasi': 4239, 'tisu': 4240, 'basah': 4241, 'kfc': 4242, 'nolak': 4243, 'region': 4244, 'bronx': 4245, 'tea': 4246, 'dukungannya': 4247, 'kemanusiaan': 4248, 'ln': 4249, 'salmon': 4250, 'beruntung': 4251, 'konek': 4252, 'kecepatanya': 4253, 'stainless': 4254, 'misteri': 4255, 'nasgor': 4256, 'merakyat': 4257, 'landing': 4258, 'medika': 4259, 'toyota': 4260, 'profile': 4261, 'gimaan': 4262, 'purwakrta': 4263, 'benerbener': 4264, 'diteraplikasian': 4265, 'joob': 4266, 'club': 4267, 'noleh': 4268, 'godok': 4269, 'daging': 4270, 'telor': 4271, 'sayuran': 4272, 'irisan': 4273, 'cabe': 4274, 'rawit': 4275, 'berapsa': 4276, 'gantian': 4277, 'generasi': 4278, 'diangetin': 4279, 'chip': 4280, 'tampilnya': 4281, 'finpay': 4282, 'occured': 4283, 'temennya': 4284, 'mus': 4285, 'preman': 4286, 'kancil': 4287, 'here': 4288, 'rendition': 4289, 'thoughts': 4290, 'karenawoman': 4291, 'mantau': 4292, 'laman': 4293, 'sosmednya': 4294, 'threadnya': 4295, 'beling': 4296, 'teas': 4297, 'siga': 4298, 'pfft': 4299, 'drakor': 4300, 'padamin': 4301, 'lampunya': 4302, 'dipadamin': 4303, 'dilaundary': 4304, 'rada': 4305, 'magic': 4306, 'teladan': 4307, 'kepemipinan': 4308, 'skhun': 4309, 'kolom': 4310, 'jenisnya': 4311, 'ehh': 4312, 'bolek': 4313, 'dikompres': 4314, 'ijasah': 4315, 'mb': 4316, 'boardnya': 4317, 'sanggat': 4318, 'dibetulin': 4319, 'ngebongkarnya': 4320, 'nambalnya': 4321, 'cor': 4322, 'berceceran': 4323, 'unuan': 4324, 'uploadnya': 4325, 'unnya': 4326, 'tetera': 4327, 'kria': 4328, 'tandatangani': 4329, 'nota': 4330, 'ridwan': 4331, 'kamil': 4332, 'datangan': 4333, 'mewek': 4334, 'hambamu': 4335, 'seenak': 4336, 'gpp': 4337, 'tumblr': 4338, 'wkkwkwtidak': 4339, 'mengsedih': 4340, 'permasalahannya': 4341, 'butuhnya': 4342, 'dagang': 4343, 'grosiran': 4344, 'berempati': 4345, 'internetan': 4346, 'gulung': 4347, 'tikar': 4348, 'implementasi': 4349, 'punumpang': 4350, 'selebihnya': 4351, 'pkkm': 4352, 'alatnya': 4353, 'maksimalnyatidak': 4354, 'memasukan': 4355, 'didapat': 4356, 'minceu': 4357, 'tercatat': 4358, 'peroleh': 4359, 'diikuti': 4360, 'membuktikan': 4361, 'kontrol': 4362, 'adakan': 4363, 'genosenya': 4364, 'hah': 4365, 'katanyatidak': 4366, 'milkshake': 4367, 'harkos': 4368, 'roadbike': 4369, 'muatannya': 4370, 'diijinkan': 4371, 'discan': 4372, 'gerai': 4373, 'hardcopynya': 4374, 'sembuhnya': 4375, 'sedayu': 4376, 'testing': 4377, 'turicusda': 4378, 'shift': 4379, 'dapatkan': 4380, 'poker': 4381, 'darakinanti': 4382, 'baless': 4383, 'membengkak': 4384, 'tdak': 4385, 'virusnya': 4386, 'esertif': 4387, 'contacless': 4388, 'aba': 4389, 'orderan': 4390, 'aplikas': 4391, 'iweb': 4392, 'diperluin': 4393, 'melarang': 4394, 'meminimalkan': 4395, 'penyalahgunaan': 4396, 'berpihak': 4397, 'rdkartika': 4398, 'pulomas': 4399, 'dibandingin': 4400, 'dekade': 4401, 'layan': 4402, 'surket': 4403, 'miiin': 4404, 'lenteng': 4405, 'ibadahnya': 4406, 'kos': 4407, 'dilalukan': 4408, 'paketin': 4409, 'kargo': 4410, 'barangnya': 4411, 'makaasih': 4412, 'merchandisenya': 4413, 'penumpukan': 4414, 'rekan': 4415, 'laporanku': 4416, 'tombol': 4417, 'hall': 4418, 'ditunjukin': 4419, 'fisiknya': 4420, 'petunjuk': 4421, 'potonya': 4422, 'larian': 4423, 'kapal': 4424, 'ink': 4425, 'tampilannya': 4426, 'takuttidak': 4427, 'domisilinya': 4428, 'purwokertoyogyakarta': 4429, 'kebahagian': 4430, 'sirna': 4431, 'masal': 4432, 'mengajak': 4433, 'walaharjati': 4434, 'gomawoyo': 4435, 'mengandalkan': 4436, 'diusulkan': 4437, 'perbaikannya': 4438, 'tersediakah': 4439, 'butuhkan': 4440, 'nip': 4441, 'jabotabek': 4442, 'menyengsarakan': 4443, 'upayakan': 4444, 'chace': 4445, 'jogloselokarto': 4446, 'masakannya': 4447, 'beristirahat': 4448, 'pesat': 4449, 'keberankatan': 4450, 'tersediatidak': 4451, 'rite': 4452, 'kartunya': 4453, 'pedagang': 4454, 'asongan': 4455, 'semarag': 4456, 'legendaris': 4457, 'chache': 4458, 'ad': 4459, 'ubahnya': 4460, 'bersekolah': 4461, 'berkuliah': 4462, 'berkeliling': 4463, 'say': 4464, 'susuku': 4465, 'bagianbagian': 4466, 'kumbah': 4467, 'kerjanya': 4468, 'kehamilan': 4469, 'week': 4470, 'kantoran': 4471, 'darione': 4472, 'wikipedia': 4473, 'diperuntukkan': 4474, 'perkantoran': 4475, 'umun': 4476, 'direpost': 4477, 'angrek': 4478, 'pembatsan': 4479, 'tupperware': 4480, 'kuning': 4481, 'dicoret': 4482, 'disimpankan': 4483, 'ngikuti': 4484, 'gebug': 4485, 'wfo': 4486, 'nurutin': 4487, 'habisnya': 4488, 'railminnya': 4489, 'healthy': 4490, 'mawardi': 4491, 'kualastabas': 4492, 'nunggunya': 4493, 'didukung': 4494, 'siluman': 4495, 'mengangkut': 4496, 'dicabut': 4497, 'pengetatan': 4498, 'sheet': 4499, 'varian': 4500, 'delta': 4501, 'memakain': 4502, 'operasinal': 4503, 'malau': 4504, 'samakan': 4505, 'vaksinasinya': 4506, 'tung': 4507, 'pagii': 4508, 'layani': 4509, 'nunjukan': 4510, 'apabisa': 4511, 'purwodadi': 4512, 'langsng': 4513, 'hitungannya': 4514, 'nonlipat': 4515, 'webnya': 4516, 'pindad': 4517, 'turen': 4518, 'kebandara': 4519, 'nyatu': 4520, 'mamang': 4521, 'belunder': 4522, 'pembuat': 4523, 'mengecek': 4524, 'jiah': 4525, 'kelucuan': 4526, 'diaktifin': 4527, 'persayaratannya': 4528, 'operasiin': 4529, 'maskapai': 4530, 'harinanya': 4531, 'pengcekan': 4532, 'kuantitas': 4533, 'dhohonya': 4534, 'beroperasional': 4535, 'siliwangi': 4536, 'wadu': 4537, 'mama': 4538, 'sihyang': 4539, 'sumatra': 4540, 'terlanjut': 4541, 'twiter': 4542, 'gratisnya': 4543, 'bersua': 4544, 'jumpa': 4545, 'berikutanya': 4546, 'tugasnya': 4547, 'bangett': 4548, 'ariawinangun': 4549, 'saratnya': 4550, 'vaksinku': 4551, 'fotokopi': 4552, 'pcrantigen': 4553, 'ruman': 4554, 'rekemondasikan': 4555, 'ra': 4556, 'longgarkan': 4557, 'ditangani': 4558, 'richard': 4559, 'grup': 4560, 'rf': 4561, 'tersebar': 4562, 'konsumsi': 4563, 'ehehehe': 4564, 'moderna': 4565, 'normatif': 4566, 'koruptor': 4567, 'dijawabnya': 4568, 'uud': 4569, 'trasnportasi': 4570, 'comuter': 4571, 'dilonggar': 4572, 'muluk': 4573, 'nyediain': 4574, 'pekalongansolo': 4575, 'anggreknya': 4576, 'dinormalkan': 4577, 'huhuhuhu': 4578, 'cepupasar': 4579, 'mengkonfirmasi': 4580, 'acsess': 4581, 'hayuk': 4582, 'jalankeun': 4583, 'pen': 4584, 'pengambil': 4585, 'santri': 4586, 'ngirit': 4587, 'boros': 4588, 'kediriblitar': 4589, 'ntar': 4590, 'jugaa': 4591, 'haruskan': 4592, 'bepergiannya': 4593, 'lagisurat': 4594, 'tidakakan': 4595, 'ngumumin': 4596, 'bocor': 4597, 'whoa': 4598, 'dongs': 4599, 'udara': 4600, 'gorengnya': 4601, 'tandingannya': 4602, 'jaktara': 4603, 'cma': 4604, 'dibayarjan': 4605, 'gading': 4606, 'gimanapun': 4607, 'ppkmnya': 4608, 'perjamnya': 4609, 'jonbang': 4610, 'banyakk': 4611, 'jdi': 4612, 'dikurangi': 4613, 'diomel': 4614, 'diomelin': 4615, 'dwipanggatidak': 4616, 'sejenisnya': 4617, 'dibook': 4618, 'diselangseling': 4619, 'pengusaha': 4620, 'kepedulian': 4621, 'keberlangsungan': 4622, 'karyawannya': 4623, 'dimohon': 4624, 'pulih': 4625, 'terbantu': 4626, 'nonaktif': 4627, 'merakrangkas': 4628, 'juni': 4629, 'bisaa': 4630, 'dioperasiin': 4631, 'sampe': 4632, 'alasanya': 4633, 'mencapai': 4634, 'udi': 4635, 'railbus': 4636, 'sukoharjo': 4637, 'wonogiri': 4638, 'djuanda': 4639, 'sidah': 4640, 'karenasurabaya': 4641, 'disutuh': 4642, 'klise': 4643, 'sekantor': 4644, 'adatidak': 4645, 'nyenengin': 4646, 'barapa': 4647, 'hri': 4648, 'tanyaaa': 4649, 'railexpress': 4650, 'wonokromongunut': 4651, 'musti': 4652, 'tulungangung': 4653, 'kaitidak': 4654, 'recrutmeint': 4655, 'sekelurga': 4656, 'kepaksa': 4657, 'haluan': 4658, 'kendariaan': 4659, 'dimajukan': 4660, 'kebaikan': 4661, 'haur': 4662, 'geulis': 4663, 'tetatidaku': 4664, 'traktir': 4665, 'gedein': 4666, 'syukurlah': 4667, 'olyn': 4668, 'mahasiswi': 4669, 'unpad': 4670, 'proderur': 4671, 'tenan': 4672, 'cikarangpurwakarta': 4673, 'beroparsi': 4674, 'preparing': 4675, 'tanggulangin': 4676, 'leces': 4677, 'kahh': 4678, 'reaktif': 4679, 'didaftarkan': 4680, 'galeri': 4681, 'pedulil': 4682, 'indungi': 4683, 'tukar': 4684, 'sja': 4685, 'bg': 4686, 'kedatangannya': 4687, 'herlina': 4688, 'terkena': 4689, 'elok': 4690, 'dibantukah': 4691, 'bangunin': 4692, 'responya': 4693, 'jadwalnnya': 4694, 'statugu': 4695, 'menentu': 4696, 'aplikasikan': 4697, 'pusatnya': 4698, 'tunai': 4699, 'transisi': 4700, 'minangkabau': 4701, 'kerto': 4702, 'mushala': 4703, 'wudhu': 4704, 'mundurin': 4705, 'persisnya': 4706, 'subhanallah': 4707, 'disyaratkan': 4708, 'yks': 4709, 'terimakasin': 4710, 'cekdmnya': 4711, 'mencla': 4712, 'mencle': 4713, 'after': 4714, 'ekpress': 4715, 'tegalpasar': 4716, 'dijakarta': 4717, 'mcu': 4718, 'rem': 4719, 'terjal': 4720, 'naikturunnya': 4721, 'murni': 4722, 'trafik': 4723, 'wktu': 4724, 'berawal': 4725, 'trowek': 4726, 'galuh': 4727, 'inspeksikereta': 4728, 'nawarin': 4729, 'pengan': 4730, 'penyelamat': 4731, 'galau': 4732, 'berhubungan': 4733, 'heritage': 4734, 'dirombak': 4735, 'penjual': 4736, 'menawarkan': 4737, 'statsiunnya': 4738, 'adem': 4739, 'linggau': 4740, 'berlevel': 4741, 'announcernya': 4742, 'pager': 4743, 'bangetdenger': 4744, 'terbiasa': 4745, 'melongok': 4746, 'barisan': 4747, 'menjajakan': 4748, 'kehangatan': 4749, 'khas': 4750, 'asri': 4751, 'dinikmati': 4752, 'destinasi': 4753, 'sakti': 4754, 'bade': 4755, 'kit': 4756, 'jejeran': 4757, 'berkualitas': 4758, 'siangan': 4759, 'abah': 4760, 'simpangan': 4761, 'sidoaarjo': 4762, 'keretaa': 4763, 'dicheck': 4764, 'teup': 4765, 'senyum': 4766, 'tertarik': 4767, 'case': 4768, 'jakartasemarang': 4769, 'kucari': 4770, 'seabad': 4771, 'teriakan': 4772, 'penjaja': 4773, 'hawanya': 4774, 'alesan': 4775, 'minski': 4776, 'ehac': 4777, 'karenaberhenti': 4778, 'udaranya': 4779, 'sejuk': 4780, 'aplikaso': 4781, 'jajal': 4782, 'kapastitas': 4783, 'internship': 4784, 'uuntuk': 4785, 'stpr': 4786, 'banat': 4787, 'leunca': 4788, 'kaih': 4789, 'bukit': 4790, 'mmasih': 4791, 'perhitungannya': 4792, 'mayoritas': 4793, 'gajayanan': 4794, 'nunukkan': 4795, 'mkasih': 4796, 'ditukar': 4797, 'cashless': 4798, 'fleksibel': 4799, 'ayahku': 4800, 'menuggu': 4801, 'merencanakan': 4802, 'alurnya': 4803, 'badung': 4804, 'sidoardjo': 4805, 'kerea': 4806, 'owalah': 4807, 'seblumnya': 4808, 'merakr': 4809, 'angkasurabaya': 4810, 'lempunyangan': 4811, 'sertivikat': 4812, 'rtrw': 4813, 'kejar': 4814, 'kerumah': 4815, 'acses': 4816, 'aing': 4817, 'adari': 4818, 'mash': 4819, 'crossing': 4820, 'sediiih': 4821, 'diadakan': 4822, 'nyambung': 4823, 'suamiku': 4824, 'frezee': 4825, 'ngw': 4826, 'berdampingan': 4827, 'mbps': 4828, 'ckckck': 4829, 'tanaman': 4830, 'randublatung': 4831, 'kesekolah': 4832, 'ayok': 4833, 'huehue': 4834, 'lahh': 4835, 'proteksi': 4836, 'tugassurat': 4837, 'pertanda': 4838, 'gasken': 4839, 'mendorong': 4840, 'ogah': 4841, 'disisi': 4842, 'outo': 4843, 'perlakuannya': 4844, 'bijakannya': 4845, 'mengidolakan': 4846, 'jantung': 4847, 'alihkan': 4848, 'keberangkarannya': 4849, 'screenshotan': 4850, 'dhohotidak': 4851, 'nyia': 4852, 'teratasi': 4853, 'bloracepu': 4854, 'karenaabis': 4855, 'menyanyakan': 4856, 'stasiung': 4857, 'surah': 4858, 'brati': 4859, 'meratanya': 4860, 'rapidan': 4861, 'ngusulin': 4862, 'aksestidak': 4863, 'meniadakan': 4864, 'pemakaian': 4865, 'tetkait': 4866, 'low': 4867, 'fullkan': 4868, 'hiatusnya': 4869, 'maksut': 4870, 'nihh': 4871, 'pasword': 4872, 'pengembaliannya': 4873, 'kebutuhannya': 4874, 'probowoangi': 4875, 'penatasan': 4876, 'pantau': 4877, 'adaaa': 4878, 'ehehe': 4879, 'nyet': 4880, 'tiadakan': 4881, 'mincot': 4882, 'jangn': 4883, 'arak': 4884, 'apaka': 4885, 'ekpres': 4886, 'medianya': 4887, 'uldate': 4888, 'beranda': 4889, 'jalann': 4890, 'banywangi': 4891, 'diperpanjangnya': 4892, 'menyewakan': 4893, 'rambutan': 4894, 'allhamdulilah': 4895, 'ding': 4896, 'keringanan': 4897, 'septmber': 4898, 'perjalann': 4899, 'wonokrom': 4900, 'moohon': 4901, 'pucuk': 4902, 'pakenya': 4903, 'flownya': 4904, 'woke': 4905, 'prank': 4906, 'jarum': 4907, 'suntik': 4908, 'otomatistidak': 4909, 'mabuk': 4910, 'mytrip': 4911, 'rd': 4912, 'party': 4913, 'eksternal': 4914, 'kebelakang': 4915, 'pindahin': 4916, 'kapaan': 4917, 'disewa': 4918, 'beroperasionalnya': 4919, 'pasalarang': 4920, 'ooh': 4921, 'komersil': 4922, 'diilustrasi': 4923, 'memangnya': 4924, 'game': 4925, 'kopernya': 4926, 'dilempar': 4927, 'kuliner': 4928, 'murce': 4929, 'rames': 4930, 'kupat': 4931, 'anjus': 4932, 'mksdnya': 4933, 'walaharjatiluhur': 4934, 'sepemahaman': 4935, 'prasana': 4936, 'linknya': 4937, 'beber': 4938, 'gime': 4939, 'some': 4940, 'apan': 4941, 'cuci': 4942, 'sabun': 4943, 'busa': 4944, 'pedesaan': 4945, 'bolivia': 4946, 'mengesampingkan': 4947, 'ngerokok': 4948, 'choirunisa': 4949, 'nur': 4950, 'azizah': 4951, 'diquote': 4952, 'longgarkannya': 4953, 'reska': 4954, 'sewanya': 4955, 'menjalan': 4956, 'mojokertomalang': 4957, 'kaiacces': 4958, 'ngeles': 4959, 'diperiksa': 4960, 'persayatan': 4961, 'ngrokok': 4962, 'semar': 4963, 'tergugah': 4964, 'malangnya': 4965, 'dikasib': 4966, 'bwi': 4967, 'jawabanya': 4968, 'kejelasan': 4969, 'trial': 4970, 'serangrangkas': 4971, 'pedulindungi': 4972, 'dihitung': 4973, 'road': 4974, 'kunjungan': 4975, 'tenant': 4976, 'selaras': 4977, 'serfitikat': 4978, 'mon': 4979, 'ohh': 4980, 'nelakukan': 4981, 'marketplace': 4982, 'kotidak': 4983, 'jikapun': 4984, 'purkawarta': 4985, 'stgh': 4986, 'ganbate': 4987, 'nyesel': 4988, 'pemalas': 4989, 'mintol': 4990, 'ndoho': 4991, 'tewak': 4992, 'sukapura': 4993, 'parakan': 4994, 'related': 4995, 'peluit': 4996, 'dibunyikan': 4997, 'hahahah': 4998, 'oral': 4999, 'softcopyvia': 5000, 'jenar': 5001, 'infonaik': 5002, 'heheheh': 5003, 'penanda': 5004, 'sensasi': 5005, 'jemberprobolinggo': 5006, 'kaiacses': 5007, 'vaksis': 5008, 'lagiapakah': 5009, 'patokannya': 5010, 'aaaaa': 5011, 'surabayayogyakarta': 5012, 'gantikan': 5013, 'lindung': 5014, 'rangkasmerak': 5015, 'dimunculin': 5016, 'geh': 5017, 'fraud': 5018, 'lakuin': 5019, 'tutorial': 5020, 'kumaha': 5021, 'tangkap': 5022, 'dibedakan': 5023, 'penatana': 5024, 'lagsung': 5025, 'peryaratan': 5026, 'minute': 5027, 'berbedabeda': 5028, 'palsu': 5029, 'mewajibkan': 5030, 'mendownload': 5031, 'menayakan': 5032, 'perjalana': 5033, 'joglosenar': 5034, 'turunya': 5035, 'statisun': 5036, 'liputan': 5037, 'lebaran': 5038, 'goyangannya': 5039, 'lokomotifnya': 5040, 'lompat': 5041, 'seingatku': 5042, 'skrang': 5043, 'seseneng': 5044, 'dilantai': 5045, 'tumbila': 5046, 'blakang': 5047, 'pengap': 5048, 'keringet': 5049, 'gemboknya': 5050, 'extra': 5051, 'centre': 5052, 'ext': 5053, 'drama': 5054, 'jempol': 5055, 'berdosa': 5056, 'celaka': 5057, 'akibat': 5058, 'engineer': 5059, 'teknisnya': 5060, 'suguhi': 5061, 'ralat': 5062, 'tidaknya': 5063, 'kakkalau': 5064, 'respond': 5065, 'lampiran': 5066, 'penghambat': 5067, 'woooo': 5068, 'ngetan': 5069, 'po': 5070, 'jo': 5071, 'lali': 5072, 'nggawak': 5073, 'yangko': 5074, 'alhamdulilllah': 5075, 'wawasanmu': 5076, 'sotoy': 5077, 'begok': 5078, 'tersinggung': 5079, 'penjaganya': 5080, 'sbb': 5081, 'menunya': 5082, 'kumis': 5083, 'jenggot': 5084, 'rambut': 5085, 'kriting': 5086, 'holiday': 5087, 'tuan': 5088, 'dpaatnya': 5089, 'woohoo': 5090, 'ndarie': 5091, 'teruptodate': 5092, 'perbaruan': 5093, 'perbarui': 5094, 'kotaang': 5095, 'kejatinegara': 5096, 'karrna': 5097, 'dilakuin': 5098, 'dibunuh': 5099, 'belikan': 5100, 'yik': 5101, 'ntt': 5102, 'ciyuk': 5103, 'micet': 5104, 'bange': 5105, 'joglosemarto': 5106, 'irama': 5107, 'danish': 5108, 'dilewatkan': 5109, 'nek': 5110, 'sujud': 5111, 'pulangpergi': 5112, 'rodok': 5113, 'siapsiap': 5114, 'nusa': 5115, 'tembini': 5116, 'kemalaman': 5117, 'dilanjuntukan': 5118, 'tebal': 5119, 'international': 5120, 'membanggakan': 5121, 'fokusnya': 5122, 'kesitu': 5123, 'lowong': 5124, 'rejekimu': 5125, 'ckck': 5126, 'rep': 5127, 'frustasinya': 5128, 'nurun': 5129, 'paki': 5130, 'kepeleset': 5131, 'dituju': 5132, 'commuters': 5133, 'boroboro': 5134, 'widihhh': 5135, 'kereenn': 5136, 'kebogor': 5137, 'mendengarkan': 5138, 'herman': 5139, 'foward': 5140, 'rahasia': 5141, 'penjuriannya': 5142, 'velbak': 5143, 'hires': 5144, 'ketertarikan': 5145, 'akurat': 5146, 'rhs': 5147, 'nyicil': 5148, 'bel': 5149, 'servak': 5150, 'kataksaka': 5151, 'slowresp': 5152, 'aih': 5153, 'wojo': 5154, 'dibikinin': 5155, 'le': 5156, 'kebengen': 5157, 'muncak': 5158, 'papandayan': 5159, 'pacarannya': 5160, 'terkejut': 5161, 'eman': 5162, 'msudahun': 5163, 'kunu': 5164, 'jng': 5165, 'apurwokerto': 5166, 'pemdanya': 5167, 'uunya': 5168, 'duhh': 5169, 'makannya': 5170, 'mager': 5171, 'pintunya': 5172, 'officialnya': 5173, 'dufan': 5174, 'mesinnya': 5175, 'pohgajih': 5176, 'should': 5177, 'sbobet': 5178, 'spin': 5179, 'buyspin': 5180, 'bonus': 5181, 'mix': 5182, 'parlay': 5183, 'member': 5184, 'langsirman': 5185, 'exclude': 5186, 'stalk': 5187, 'gawe': 5188, 'tambal': 5189, 'peringatin': 5190, 'ito': 5191, 'red': 5192, 'zone': 5193, 'hilal': 5194, 'atrium': 5195, 'engeuh': 5196, 'langga': 5197, 'walinya': 5198, 'bupatinya': 5199, 'segede': 5200, 'lintasan': 5201, 'mincil': 5202, 'sido': 5203, 'demo': 5204, 'sak': 5205, 'beteng': 5206, 'galabo': 5207, 'dariama': 5208, 'laporkan': 5209, 'omdo': 5210, 'awam': 5211, 'politis': 5212, 'sengklek': 5213, 'pokoke': 5214, 'pembencinya': 5215, 'zawiyah': 5216, 'rasudahah': 5217, 'kesemrawutan': 5218, 'mengaji': 5219, 'girder': 5220, 'fo': 5221, 'difinish': 5222, 'dark': 5223, 'grey': 5224, 'pekat': 5225, 'coating': 5226, 'acrilic': 5227, 'doff': 5228, 'agartidak': 5229, 'mengikat': 5230, 'debu': 5231, 'cahaya': 5232, 'warm': 5233, 'festival': 5234, 'menbah': 5235, 'kesan': 5236, 'led': 5237, 'raindariop': 5238, 'ketiduran': 5239, 'denda': 5240, 'ftidak': 5241, 'berbaju': 5242, 'smoga': 5243, 'mara': 5244, 'waswisu': 5245, 'fii': 5246, 'suduurinnas': 5247, 'hassad': 5248, 'julid': 5249, 'aamiinn': 5250, 'hormat': 5251, 'pinang': 5252, 'ranti': 5253, 'syafril': 5254, 'susu': 5255, 'gub': 5256, 'luara': 5257, 'baplikasi': 5258, 'menggalang': 5259, 'ntb': 5260, 'lombok': 5261, 'elu': 5262, 'ebong': 5263, 'gaswat': 5264, 'arsenal': 5265, 'ngalir': 5266, 'akherat': 5267, 'tagih': 5268, 'pembenahan': 5269, 'meneruskan': 5270, 'mengacu': 5271, 'kontek': 5272, 'iklim': 5273, 'pemanasan': 5274, 'global': 5275, 'polusi': 5276, 'anu': 5277, 'miring': 5278, 'penyeltidakraan': 5279, 'kumparan': 5280, 'berkomitmen': 5281, 'formulanya': 5282, 'odol': 5283, 'janjiin': 5284, 'pantesan': 5285, 'mongol': 5286, 'resah': 5287, 'cemerlanghaha': 5288, 'bnyak': 5289, 'menjegal': 5290, 'tuntaskan': 5291, 'jabatan': 5292, 'meridhoi': 5293, 'surbaya': 5294, 'urus': 5295, 'laknat': 5296, 'milyar': 5297, 'eric': 5298, 'tohir': 5299, 'rip': 5300, 'manusiawi': 5301, 'ill': 5302, 'soon': 5303, 'karenaanies': 5304, 'mengaku': 5305, 'pemprovinsi': 5306, 'mengeksekusi': 5307, 'pembayar': 5308, 'anggarannya': 5309, 'transparan': 5310, 'akuntabel': 5311, 'wattage': 5312, 'steker': 5313, 'sblum': 5314, 'seremonial': 5315, 'internetnya': 5316, 'tagline': 5317, 'leh': 5318, 'komennya': 5319, 'lanjutin': 5320, 'pembantu': 5321, 'gayabaru': 5322, 'abcd': 5323, 'terkecuali': 5324, 'legroom': 5325, 'peribahasa': 5326, 'gatal': 5327, 'digaruk': 5328, 'diimplementasikan': 5329, 'mantab': 5330, 'melampauinya': 5331, 'concernnya': 5332, 'comfy': 5333, 'nanay': 5334, 'birunya': 5335, 'timeline': 5336, 'kmh': 5337, 'membiru': 5338, 'baginda': 5339, 'dimatikan': 5340, 'volumenya': 5341, 'minimalis': 5342, 'konsentrasi': 5343, 'ditemui': 5344, 'muriasindoro': 5345, 'layangnya': 5346, 'pemandangannya': 5347, 'lights': 5348, 'ceria': 5349, 'subway': 5350, 'va': 5351, 'point': 5352, 'opsinya': 5353, 'perang': 5354, 'helm': 5355, 'motoran': 5356, 'ketujuh': 5357, 'obtaining': 5358, 'ip': 5359, 'adress': 5360, 'kul': 5361, 'bandungg': 5362, 'diponegoro': 5363, 'flu': 5364, 'demam': 5365, 'cape': 5366, 'keliatanya': 5367, 'beriman': 5368, 'sayatidak': 5369, 'respect': 5370, 'pengetahuan': 5371, 'piala': 5372, 'diperluas': 5373, 'menggiring': 5374, 'mikrotrans': 5375, 'pit': 5376, 'stopnya': 5377, 'perfect': 5378, 'mengundang': 5379, 'zeneca': 5380, 'inter': 5381, 'hahahahaada': 5382, 'gonggong': 5383, 'alhamdullilah': 5384, 'aneis': 5385, 'berudu': 5386, 'dengki': 5387, 'amplop': 5388, 'nies': 5389, 'ane': 5390, 'kekenyangan': 5391, 'jamuan': 5392, 'than': 5393, 'every': 5394, 'zulu': 5395, 'njae': 5396, 'ngaciro': 5397, 'pita': 5398, 'apakali': 5399, 'diundur': 5400, 'grombolan': 5401, 'bani': 5402, 'blingsatan': 5403, 'kemampuan': 5404, 'amiiin': 5405, 'seoul': 5406, 'nyinyiran': 5407, 'fitnah': 5408, 'dilawan': 5409, 'nagih': 5410, 'rispek': 5411, 'tertutur': 5412, 'teratur': 5413, 'eloo': 5414, 'babrit': 5415, 'warganya': 5416, 'hatersnya': 5417, 'dijaga': 5418, 'insfratruktur': 5419, 'paron': 5420, 'period': 5421, 'diumuminnya': 5422, 'bantalan': 5423, 'perkerasaan': 5424, 'diaspal': 5425, 'lelaki': 5426, 'dipandang': 5427, 'maskulin': 5428, 'trtidaklek': 5429, 'jawapos': 5430, 'ess': 5431, 'dodo': 5432, 'ijk': 5433, 'mn': 5434, 'kestasiun': 5435, 'ckp': 5436, 'jakk': 5437, 'malangyogyakarta': 5438, 'memasuki': 5439, 'pemasangan': 5440, 'dipersembahkan': 5441, 'cilebut': 5442, 'neneknya': 5443, 'pantunnya': 5444, 'kamandakatidak': 5445, 'diliburkan': 5446, 'kedari': 5447, 'sediakala': 5448, 'pro': 5449, 'lantas': 5450, 'tuwek': 5451, 'sovenir': 5452, 'pramugari': 5453, 'musuhan': 5454, 'ganaik': 5455, 'disela': 5456, 'personilnya': 5457, 'garcep': 5458, 'nganu': 5459, 'qo': 5460, 'rib': 5461, 'usobat': 5462, 'backpackers': 5463, 'sabi': 5464, 'disemua': 5465, 'membelakangi': 5466, 'dicicipi': 5467, 'pedas': 5468, 'ringan': 5469, 'baso': 5470, 'slurup': 5471, 'lakarsantri': 5472, 'lakasantri': 5473, 'perumahan': 5474, 'acak': 5475, 'acakan': 5476, 'dirawat': 5477, 'keramat': 5478, 'galian': 5479, 'kabel': 5480, 'alakadarnya': 5481, 'kesimpen': 5482, 'gaskeun': 5483, 'yok': 5484, 'jadual': 5485, 'ketrack': 5486, 'disamping': 5487, 'pisah': 5488, 'berstatus': 5489, 'gratiskan': 5490, 'diseluruh': 5491, 'subscribe': 5492, 'berkelas': 5493, 'kasiahan': 5494, 'sate': 5495, 'taichannya': 5496, 'goa': 5497, 'gtidak': 5498, 'dioptimalkan': 5499, 'butut': 5500, 'penampakannya': 5501, 'pamer': 5502, 'disipin': 5503, 'pelintasan': 5504, 'pelanggaran': 5505, 'menghadapinya': 5506, 'persuasif': 5507, 'kramat': 5508, 'wajahnya': 5509, 'pasarnya': 5510, 'semarangjakarta': 5511, 'nampak': 5512, 'godhog': 5513, 'citra': 5514, 'batunya': 5515, 'berserakan': 5516, 'jobang': 5517, 'batang': 5518, 'kepagian': 5519, 'surprisingly': 5520, 'sambelnya': 5521, 'gurih': 5522, 'diputer': 5523, 'malabarwilismutselturangga': 5524, 'amannya': 5525, 'sebelom': 5526, 'kabari': 5527, 'zzzz': 5528, 'kerumahmu': 5529, 'wait': 5530, 'uper': 5531, 'ngebacot': 5532, 'kerajaan': 5533, 'kebantu': 5534, 'durian': 5535, 'encp': 5536, 'dilayar': 5537, 'try': 5538, 'unconnection': 5539, 'terbayar': 5540, 'sekelas': 5541, 'limasbandan': 5542, 'limaspriuk': 5543, 'laris': 5544, 'mendpat': 5545, 'prujakannya': 5546, 'eits': 5547, 'diolah': 5548, 'hua': 5549, 'kedepanya': 5550, 'keli': 5551, 'ngegas': 5552, 'purwakarra': 5553, 'pemberitahuannya': 5554, 'menyeberang': 5555, 'moveon': 5556, 'saklawase': 5557, 'kirang': 5558, 'gocher': 5559, 'yeayyy': 5560, 'midi': 5561, 'lagunya': 5562, 'itunes': 5563, 'menyerahkan': 5564, 'deputy': 5565, 'aaaa': 5566, 'hyangiene': 5567, 'secuil': 5568, 'bergabung': 5569, 'terpanjang': 5570, 'tour': 5571, 'kendor': 5572, 'loyo': 5573, 'lanyalla': 5574, 'mahmud': 5575, 'mattalitti': 5576, 'ketua': 5577, 'dpd': 5578, 'didiek': 5579, 'menaikkan': 5580, 'kepuasan': 5581, 'menyulitkan': 5582, 'merayakannya': 5583, 'totalitas': 5584, 'mengusung': 5585, 'pelayannya': 5586, 'smg': 5587, 'kac': 5588, 'lakbok': 5589, 'alpinus': 5590, 'david': 5591, 'nunjukkan': 5592, 'pencinta': 5593, 'noga': 5594, 'luhut': 5595, 'nentengnya': 5596, 'perhentian': 5597, 'mengulik': 5598, 'terselip': 5599, 'harikeretaapi': 5600, 'dikompas': 5601, 'dipercayakan': 5602, 'sumatera': 5603, 'kalimantan': 5604, 'sulawesi': 5605, 'reformasinya': 5606, 'hay': 5607, 'centernya': 5608, 'dihubungi': 5609, 'mengaktifkan': 5610, 'berkembangnya': 5611, 'mengarah': 5612, 'lingkungan': 5613, 'pandai': 5614, 'swap': 5615, 'aksi': 5616, 'sport': 5617, 'hargai': 5618, 'criebon': 5619, 'langsir': 5620, 'wengi': 5621, 'sliramu': 5622, 'tumeking': 5623, 'sirno': 5624, 'jauhtidak': 5625, 'jauhlokal': 5626, 'kaasihan': 5627, 'kariadi': 5628, 'luncurkan': 5629, 'memelihara': 5630, 'sayakan': 5631, 'semurah': 5632, 'peluncuran': 5633, 'diresmikan': 5634, 'yunanto': 5635, 'jenderal': 5636, 'danto': 5637, 'restyawan': 5638, 'induknya': 5639, 'spam': 5640, 'diseret': 5641, 'kakaknya': 5642, 'relasia': 5643, 'upacara': 5644, 'talinya': 5645, 'lalau': 5646, 'melebihi': 5647, 'old': 5648, 'parsial': 5649, 'agamanya': 5650, 'said': 5651, 'aqil': 5652, 'ahlinya': 5653, 'kamerad': 5654, 'neraka': 5655, 'jahanam': 5656, 'pkipenghianatnkri': 5657, 'pantainya': 5658, 'ishak': 5659, 'dimaan': 5660, 'cabin': 5661, 'passion': 5662, 'adminn': 5663, 'lyly': 5664, 'panggang': 5665, 'punk': 5666, 'tejo': 5667, 'dijarakin': 5668, 'mananyakan': 5669, 'kertasnya': 5670, 'permukaan': 5671, 'garuda': 5672, 'abd': 5673, 'saleh': 5674, 'kel': 5675, 'dunguscariang': 5676, 'atensi': 5677, 'cintaku': 5678, 'sayangku': 5679, 'pencariannya': 5680, 'bekasibandung': 5681, 'gambirbandung': 5682, 'plesetan': 5683, 'still': 5684, 'waiting': 5685, 'register': 5686, 'lalinkalalu': 5687, 'didinaskan': 5688, 'sbagai': 5689, 'broprasi': 5690, 'hitungan': 5691, 'pergeseran': 5692, 'besaran': 5693, 'tuliskan': 5694, 'nanggung': 5695, 'perpangsaan': 5696, 'sukatani': 5697, 'sony': 5698, 'adminnaura': 5699, 'rek': 5700, 'nengokin': 5701, 'ampe': 5702, 'dipemakaman': 5703, 'selametan': 5704, 'fastresp': 5705, 'ssudah': 5706, 'selow': 5707, 'tumbas': 5708, 'ae': 5709, 'iso': 5710, 'keisi': 5711, 'metune': 5712, 'pensiun': 5713, 'pka': 5714, 'berkelit': 5715, 'ingkar': 5716, 'kosongan': 5717, 'emmanu': 5718, 'maennya': 5719, 'wingi': 5720, 'langka': 5721, 'ham': 5722, 'dibilangtidak': 5723, 'skakmat': 5724, 'dimajuinnya': 5725, 'pertimbangin': 5726, 'dsk': 5727, 'ucaplikasian': 5728, 'tuk': 5729, 'keteta': 5730, 'pesaban': 5731, 'jak': 5732, 'kampanye': 5733, 'tidakada': 5734, 'kantidak': 5735, 'balal': 5736, 'hpmu': 5737, 'bersihnya': 5738, 'pool': 5739, 'naturalisasi': 5740, 'oce': 5741, 'reklamasi': 5742, 'nol': 5743, 'gp': 5744, 'bb': 5745, 'impact': 5746, 'buntung': 5747, 'ruete': 5748, 'tambahkan': 5749, 'pemberhentiannya': 5750, 'sinarjabar': 5751, 'sinarjabardotcom': 5752, 'faktual': 5753, 'infojabar': 5754, 'jawabarat': 5755, 'beritajabar': 5756, 'jabarterkini': 5757, 'stasiunkeretaapi': 5758, 'masihsepi': 5759, 'su': 5760, 'arfian': 5761, 'sek': 5762, 'heri': 5763, 'paten': 5764, 'kadar': 5765, 'bencinya': 5766, 'rasis': 5767, 'profil': 5768, 'ptidakntinya': 5769, 'melengkapi': 5770, 'manteb': 5771, 'hilir': 5772, 'initidak': 5773, 'asep': 5774, 'nye': 5775, 'nyang': 5776, 'ngebul': 5777, 'quote': 5778, 'berbalas': 5779, 'simpulkan': 5780, 'sajadah': 5781, 'mukena': 5782, 'jur': 5783, 'ccin': 5784, 'diteruskan': 5785, 'abadi': 5786, 'numpak': 5787, 'blas': 5788, 'nusindo': 5789, 'indofarma': 5790, 'farmalab': 5791, 'ketutup': 5792, 'mggunakan': 5793, 'keterbatasan': 5794, 'personel': 5795, 'aleale': 5796, 'bolehkan': 5797, 'jri': 5798, 'daribrumah': 5799, 'kekejar': 5800, 'dikoreksi': 5801, 'benderang': 5802, 'asyifa': 5803, 'huray': 5804, 'sntjz': 5805, 'permasalahan': 5806, 'stakeholder': 5807, 'penyelesaiannya': 5808, 'didorong': 5809, 'hukumannya': 5810, 'diakui': 5811, 'karenaga': 5812, 'pengemudi': 5813, 'helum': 5814, 'gambirkediri': 5815, 'pengharum': 5816, 'baunya': 5817, 'enek': 5818, 'dinginan': 5819, 'ekomoni': 5820, 'railminn': 5821, 'mengembalikan': 5822, 'regulator': 5823, 'notis': 5824, 'brand': 5825, 'ambassadormu': 5826, 'oven': 5827, 'backpackeran': 5828, 'hurry': 5829, 'menggantikan': 5830, 'argomelasi': 5831, 'gantiin': 5832, 'bolang': 5833, 'witahun': 5834, 'pluit': 5835, 'nunjukinn': 5836, 'olahraga': 5837, 'cerdas': 5838, 'buzzerrp': 5839, 'visualisai': 5840, 'cahayanya': 5841, 'hours': 5842, 'later': 5843, 'oon': 5844, 'karenajakarta': 5845, 'hadiri': 5846, 'menteru': 5847, 'kosambi': 5848, 'usulnya': 5849, 'mangap': 5850, 'kemudahan': 5851, 'moderat': 5852, 'thinker': 5853, 'ngetwit': 5854, 'dirubah': 5855, 'source': 5856, 'idiotnya': 5857, 'nyopet': 5858, 'terbang': 5859, 'muridnya': 5860, 'diketawain': 5861, 'pasukan': 5862, 'rendang': 5863, 'lengkoas': 5864, 'menyan': 5865, 'dipenjarain': 5866, 'mope': 5867, 'junjungan': 5868, 'ngibul': 5869, 'bangsat': 5870, 'tololnya': 5871, 'ketulungan': 5872, 'dikibulin': 5873, 'kebanjiran': 5874, 'nganggur': 5875, 'pengajar': 5876, 'mengatasnamakan': 5877, 'ky': 5878, 'sebangsa': 5879, 'senegara': 5880, 'damailah': 5881, 'kawan': 5882, 'amanah': 5883, 'ontel': 5884, 'network': 5885, 'kritisi': 5886, 'gobloknya': 5887, 'budayakan': 5888, 'membaca': 5889, 'literasinya': 5890, 'kepanasan': 5891, 'enya': 5892, 'menjatuhkan': 5893, 'losari': 5894, 'destinasinya': 5895, 'vino': 5896, 'kamsia': 5897, 'sono': 5898, 'pijet': 5899, 'ditetaplikasian': 5900, 'smpe': 5901, 'pbnu': 5902, 'pemberontak': 5903, 'membantai': 5904, 'sipil': 5905, 'menewaskan': 5906, 'hh': 5907, 'dbulan': 5908, 'role': 5909, 'transformasi': 5910, 'dipimpin': 5911, 'amtrak': 5912, 'india': 5913, 'actionya': 5914, 'monggoh': 5915, 'mencuat': 5916, 'terkikisnya': 5917, 'kencana': 5918, 'nalarmu': 5919, 'dbd': 5920, 'banjir': 5921, 'nes': 5922, 'ilangan': 5923, 'civitas': 5924, 'nomornya': 5925, 'ngelewatin': 5926, 'kathuken': 5927, 'kalisat': 5928, 'panarukan': 5929, 'reaktivasikan': 5930, 'rembang': 5931, 'demak': 5932, 'peronnya': 5933, 'kudus': 5934, 'dimanfaatkan': 5935, 'oknum': 5936, 'mengklaim': 5937, 'miliknya': 5938, 'toko': 5939, 'digusur': 5940, 'paksa': 5941, 'menghidupkan': 5942, 'penduduk': 5943, 'menjadikannya': 5944, 'maish': 5945, 'crash': 5946, 'terakomodasi': 5947, 'serentak': 5948, 'kp': 5949, 'tumplek': 5950, 'kecele': 5951, 'validnya': 5952, 'gubug': 5953, 'bilangin': 5954, 'announcer': 5955, 'ngomongnya': 5956, 'omongannya': 5957, 'ketemunya': 5958, 'konseran': 5959, 'atauga': 5960, 'loooh': 5961, 'sunbae': 5962, 'collabnya': 5963, 'lokasii': 5964, 'syuting': 5965, 'mvnya': 5966, 'tausu': 5967, 'tanyarl': 5968, 'cw': 5969, 'kpop': 5970, 'collab': 5971, 'bedanyatidak': 5972, 'bersifat': 5973, 'jaditidak': 5974, 'menilai': 5975, 'campur': 5976, 'sandaran': 5977, 'ergonomis': 5978, 'dpn': 5979, 'lemparan': 5980, 'bobrok': 5981, 'mtdknti': 5982, 'palmerah': 5983, 'bp': 5984, 'footage': 5985, 'kurangnya': 5986, 'pantauan': 5987, 'sterilisasi': 5988, 'trotoar': 5989, 'tegas': 5990, 'kmrn': 5991, 'sampingan': 5992, 'speakernya': 5993, 'dikencengin': 5994, 'terimakasih': 5995, 'lantai': 5996, 'konteks': 5997, 'izinkan': 5998, 'bad': 5999, 'gateaway': 6000, 'tipikal': 6001, 'forbidden': 6002, 'diinstall': 6003, 'dipertanggung': 6004, 'pernyataan': 6005, 'laksana': 6006, 'danau': 6007, 'lautan': 6008, 'pasir': 6009, 'pendapat': 6010, 'rssa': 6011, 'paru': 6012, 'rkz': 6013, 'yusuf': 6014, 'tentara': 6015, 'engga': 6016, 'espress': 6017, 'kedengeran': 6018, 'mendekat': 6019, 'centeng': 6020, 'membayara': 6021, 'booked': 6022, 'bagaimanya': 6023, 'lllllllp': 6024, 'mutasi': 6025, 'terkirim': 6026, 'kadaluwarsa': 6027, 'disimak': 6028, 'ngeluarin': 6029, 'kebencian': 6030, 'psi': 6031, 'pdip': 6032, 'menuntun': 6033, 'tindakannya': 6034, 'pagimu': 6035, 'menyusui': 6036, 'ternyaman': 6037, 'dinaikin': 6038, 'wo': 6039, 'untum': 6040, 'yaps': 6041, 'summary': 6042, 'cmhi': 6043, 'cb': 6044, 'kelinci': 6045, 'disejahterakan': 6046, 'lapak': 6047, 'dukungpemudaberwirausaha': 6048, 'rabies': 6049, 'japan': 6050, 'kewenangan': 6051, 'kemhub': 6052, 'dipengaruhi': 6053, 'dialalui': 6054, 'bagaimna': 6055, 'regional': 6056, 'divre': 6057, 'tanjungkarang': 6058, 'limex': 6059, 'pencairannya': 6060, 'ditransfer': 6061, 'psnlpy': 6062, 'dus': 6063, 'ukuran': 6064, 'xx': 6065, 'beat': 6066, 'ngegarong': 6067, 'subtansi': 6068, 'diborong': 6069, 'dasarnya': 6070, 'benci': 6071, 'nyarinyari': 6072, 'nyinyirmu': 6073, 'war': 6074, 'permaianan': 6075, 'seenaknya': 6076, 'anonim': 6077, 'nafkah': 6078, 'membrikan': 6079, 'ilmu': 6080, 'relpen': 6081, 'incumbent': 6082, 'independen': 6083, 'tegalekspres': 6084, 'fir': 6085, 'bolehnya': 6086, 'enttidak': 6087, 'kecam': 6088, 'kudos': 6089, 'dipenuhi': 6090, 'luring': 6091, 'penghasilanmu': 6092, 'pemenuhan': 6093, 'jejak': 6094, 'menerus': 6095, 'ditelanjangi': 6096, 'kedunguan': 6097, 'lebar': 6098, 'keuangan': 6099, 'pembiayaan': 6100, 'infrastruktur': 6101, 'dihubungin': 6102, 'dirugikan': 6103, 'karenapake': 6104, 'pretlah': 6105, 'beh': 6106, 'penghasilan': 6107, 'kpr': 6108, 'peminat': 6109, 'penghasilannya': 6110, 'qualified': 6111, 'dinaikkan': 6112, 'teori': 6113, 'menangis': 6114, 'mempersingkat': 6115, 'antibgen': 6116, 'jwab': 6117, 'skarang': 6118, 'expres': 6119, 'pesanya': 6120, 'perayaan': 6121, 'tementemen': 6122, 'membagikan': 6123, 'souvernir': 6124, 'mengajukan': 6125, 'plabuan': 6126, 'dianterin': 6127, 'tautan': 6128, 'jdtidak': 6129, 'melintasnya': 6130, 'republik': 6131, 'terhambat': 6132, 'membelikan': 6133, 'didata': 6134, 'peumpang': 6135, 'diedit': 6136, 'question': 6137, 'trem': 6138, 'monorel': 6139, 'bongkokan': 6140, 'jejaring': 6141, 'litbangkes': 6142, 'basi': 6143, 'ngambek': 6144, 'pertanian': 6145, 'editornya': 6146, 'csnya': 6147, 'ngemall': 6148, 'dirilis': 6149, 'syaratanya': 6150, 'kik': 6151, 'pinat': 6152, 'sepremiun': 6153, 'nemenin': 6154, 'wira': 6155, 'wiriku': 6156, 'kerasa': 6157, 'langsiran': 6158, 'witahunka': 6159, 'bingkisan': 6160, 'beropersi': 6161, 'diajarin': 6162, 'cia': 6163, 'kaplb': 6164, 'diprivate': 6165, 'manufaktur': 6166, 'asia': 6167, 'ttidakra': 6168, 'memfollow': 6169, 'bapakibu': 6170, 'womens': 6171, 'mens': 6172, 'dimention': 6173, 'souvenirnya': 6174, 'pemberlakuan': 6175, 'belanda': 6176, 'keret': 6177, 'kejer': 6178, 'lanjuntkan': 6179, 'kegoblokanya': 6180, 'jarah': 6181, 'ciri': 6182, 'digambarkan': 6183, 'surveinya': 6184, 'antusias': 6185, 'kemenrian': 6186, 'dites': 6187, 'yadan': 6188, 'itutidak': 6189, 'ngode': 6190, 'nyuruh': 6191, 'yaman': 6192, 'amatiran': 6193, 'kerjaannya': 6194, 'diberesin': 6195, 'renovasi': 6196, 'dominan': 6197, 'ketepatan': 6198, 'sistemik': 6199, 'dapetin': 6200, 'lompatan': 6201, 'serasa': 6202, 'pemenangnya': 6203, 'mikrolet': 6204, 'bergungsi': 6205, 'pengumpan': 6206, 'brumbung': 6207, 'menggunung': 6208, 'agendakan': 6209, 'kemayoran': 6210, 'cmi': 6211, 'gmr': 6212, 'kaca': 6213, 'lacak': 6214, 'ketiga': 6215, 'bahari': 6216, 'yampun': 6217, 'ketenangan': 6218, 'membawaku': 6219, 'kesedihan': 6220, 'all': 6221, 'mbah': 6222, 'penghapusan': 6223, 'koo': 6224, 'gtu': 6225, 'disi': 6226, 'nomernya': 6227, 'susun': 6228, 'dialihin': 6229, 'ssst': 6230, 'setoran': 6231, 'plafond': 6232, 'relate': 6233, 'putusan': 6234, 'restoka': 6235, 'krawu': 6236, 'yoyakarta': 6237, 'cordon': 6238, 'bleu': 6239, 'tuna': 6240, 'aglomerasin': 6241, 'ditungguin': 6242, 'dengarkan': 6243, 'ovo': 6244, 'menyimak': 6245, 'koi': 6246, 'tomat': 6247, 'tomatnya': 6248, 'ucapin': 6249, 'ngelag': 6250, 'diagendakan': 6251, 'hbd': 6252, 'minterima': 6253, 'mengantarkan': 6254, 'jutaan': 6255, 'kameramennya': 6256, 'matinya': 6257, 'merata': 6258, 'blast': 6259, 'wohoo': 6260, 'pucing': 6261, 'pala': 6262, 'berbi': 6263, 'jabanin': 6264, 'sejuta': 6265, 'pantat': 6266, 'ndan': 6267, 'dilancarkan': 6268, 'sawah': 6269, 'sunrise': 6270, 'gambirbalapan': 6271, 'ketuker': 6272, 'katawang': 6273, 'carikan': 6274, 'jigur': 6275, 'hongkong': 6276, 'protap': 6277, 'wet': 6278, 'sanitasi': 6279, 'pwspasar': 6280, 'dipesankan': 6281, 'dikirimi': 6282, 'memori': 6283, 'tidakbisa': 6284, 'tagl': 6285, 'adaptif': 6286, 'atap': 6287, 'panoramic': 6288, 'deck': 6289, 'kamar': 6290, 'mandinya': 6291, 'luas': 6292, 'wardariobenya': 6293, 'kecantikan': 6294, 'spa': 6295, 'facial': 6296, 'treatment': 6297, 'disimpen': 6298, 'bur': 6299, 'utuh': 6300, 'abc': 6301, 'uhuy': 6302, 'bangetkan': 6303, 'kabarin': 6304, 'fyp': 6305, 'dikomplain': 6306, 'dikorbankan': 6307, 'korbankan': 6308, 'tombak': 6309, 'modernisasi': 6310, 'efisiensinya': 6311, 'ide': 6312, 'wiih': 6313, 'wonosobo': 6314, 'uborampenya': 6315, 'dinganu': 6316, 'ykt': 6317, 'tio': 6318, 'pademi': 6319, 'ditempatin': 6320, 'youtubenya': 6321, 'nyangka': 6322, 'kokas': 6323, 'ngecharger': 6324, 'goodbye': 6325, 'batre': 6326, 'lowbat': 6327, 'cemas': 6328, 'nyampai': 6329, 'peresmiannya': 6330, 'percepetan': 6331, 'bahagianya': 6332, 'faster': 6333, 'better': 6334, 'naikeretaapi': 6335, 'percerahan': 6336, 'pekerjaa': 6337, 'analisis': 6338, 'bendungan': 6339, 'irigasi': 6340, 'elegan': 6341, 'budi': 6342, 'sumadi': 6343, 'berembun': 6344, 'transpostasi': 6345, 'desek': 6346, 'desekan': 6347, 'rumahku': 6348, 'wkkw': 6349, 'ambyar': 6350, 'ribetin': 6351, 'kecovidan': 6352, 'konyol': 6353, 'didalamnya': 6354, 'berbenah': 6355, 'saingan': 6356, 'inbox': 6357, 'iconomics': 6358, 'bl': 6359, 'senenn': 6360, 'makjleb': 6361, 'mesan': 6362, 'memasukkan': 6363, 'gacoan': 6364, 'cute': 6365, 'perjalalanan': 6366, 'sikecil': 6367, 'vaksinasipelanggankai': 6368, 'jasajasa': 6369, 'harikai': 6370, 'eby': 6371, 'ebynews': 6372, 'keroncong': 6373, 'sungai': 6374, 'tabok': 6375, 'dibiarkan': 6376, 'perginya': 6377, 'kotakota': 6378, 'berperan': 6379, 'amerika': 6380, 'sinkazen': 6381, 'urat': 6382, 'nadi': 6383, 'skrng': 6384, 'elektrifikasi': 6385, 'save': 6386, 'dicintai': 6387, 'lapisan': 6388, 'moal': 6389, 'cina': 6390, 'yusril': 6391, 'rizky': 6392, 'pratama': 6393, 'dilayanin': 6394, 'percepat': 6395, 'jok': 6396, 'tirai': 6397, 'kain': 6398, 'ciremainya': 6399, 'irung': 6400, 'sogrok': 6401, 'ii': 6402, 'wedine': 6403, 'infeksi': 6404, 'pesbuk': 6405, 'capai': 6406, 'faming': 6407, 'into': 6408, 'platform': 6409, 'nampung': 6410, 'berpacu': 6411, 'suntuk': 6412, 'ai': 6413, 'gang': 6414, 'nfts': 6415, 'propic': 6416, 'efisiensi': 6417, 'pembyaran': 6418, 'nft': 6419, 'smgpsr': 6420, 'gbsa': 6421, 'retweet': 6422, 'koki': 6423, 'protect': 6424, 'dirapikan': 6425, 'pekerjaanya': 6426, 'pengawas': 6427, 'dilapangan': 6428, 'sesepuran': 6429, 'hadiahnya': 6430, 'mottonya': 6431, 'penggunanya': 6432, 'topclass': 6433, 'pendidik': 6434, 'ngajakin': 6435, 'hyung': 6436, 'kameremennya': 6437, 'sanak': 6438, 'liwat': 6439, 'andelin': 6440, 'sembah': 6441, 'rajabasa': 6442, 'melanda': 6443, 'dibooking': 6444, 'logo': 6445, 'berlibur': 6446, 'pam': 6447, 'new': 6448, 'tercinta': 6449, 'bhakti': 6450, 'postel': 6451, 'sepecial': 6452, 'mengabdi': 6453, 'reaktifasi': 6454, 'mobilisasi': 6455, 'penjajahan': 6456, 'pikirkan': 6457, 'kepentingan': 6458, 'berdirinya': 6459, 'pemukiman': 6460, 'bantaran': 6461, 'pembaharuan': 6462, 'berkoordinasi': 6463, 'levelan': 6464, 'ucapan': 6465, 'kreasi': 6466, 'rekanrekan': 6467, 'semenamena': 6468, 'kranji': 6469, 'minim': 6470, 'lamaran': 6471, 'larang': 6472, 'mtvnad': 6473, 'garda': 6474, 'keretaindonesia': 6475, 'konsumennya': 6476, 'slogan': 6477, 'kilogram': 6478, 'disatuan': 6479, 'bangetdi': 6480, 'contekannya': 6481, 'kebalik': 6482, 'bo': 6483, 'respondd': 6484, 'sqc': 6485, 'klasik': 6486, 'sebaik': 6487, 'takdir': 6488, 'spare': 6489, 'tika': 6490, 'maksudku': 6491, 'ijo': 6492, 'ijonya': 6493, 'han': 6494, 'loketnya': 6495, 'tkp': 6496, 'bberapa': 6497, 'ajukan': 6498, 'nyayang': 6499, 'tanyauntuk': 6500, 'darurat': 6501, 'tuban': 6502, 'direaktivasi': 6503, 'unik': 6504, 'motornya': 6505, 'pm': 6506, 'jakartangrombo': 6507, 'training': 6508, 'disarankan': 6509, 'kts': 6510, 'menggantinya': 6511, 'memproses': 6512, 'tnya': 6513, 'berlebih': 6514, 'awn': 6515, 'wrwb': 6516, 'dhodo': 6517, 'eyang': 6518, 'cucunya': 6519, 'kerahkan': 6520, 'angkut': 6521, 'apaakah': 6522, 'ehembpasti': 6523, 'ngasap': 6524, 'pikir': 6525, 'cmtidak': 6526, 'cacat': 6527, 'pemberangjatan': 6528, 'rekomendasi': 6529, 'wisma': 6530, 'atlet': 6531, 'diperbaikin': 6532, 'fotona': 6533, 'dimasukkan': 6534, 'mintes': 6535, 'fikir': 6536, 'dikatain': 6537, 'terbalik': 6538, 'matian': 6539, 'jebakan': 6540, 'batmen': 6541, 'memaksa': 6542, 'buntunya': 6543, 'pendidikan': 6544, 'resufle': 6545, 'tokoh': 6546, 'pade': 6547, 'memalukan': 6548, 'ketauan': 6549, 'jugak': 6550, 'pembodohan': 6551, 'ngatno': 6552, 'volume': 6553, 'mksd': 6554, 'bkslpn': 6555, 'seng': 6556, 'bedo': 6557, 'yogyakartamadiun': 6558, 'mesankan': 6559, 'playstore': 6560, 'menyala': 6561, 'sekrang': 6562, 'berburu': 6563, 'langkanya': 6564, 'endors': 6565, 'terimakasi': 6566, 'sense': 6567, 'hrus': 6568, 'ehdmsudmhxnxhd': 6569, 'sekeluarga': 6570, 'setegah': 6571, 'perjalananku': 6572, 'astrazeneca': 6573, 'alunyang': 6574, 'lhaaa': 6575, 'nunda': 6576, 'vacation': 6577, 'tembe': 6578, 'distribusi': 6579, 'ref': 6580, 'sapu': 6581, 'jagat': 6582, 'kemaslahatan': 6583, 'tauladan': 6584, 'gubernurnya': 6585, 'diponcol': 6586, 'antrinya': 6587, 'nyampenya': 6588, 'ngetem': 6589, 'previlage': 6590, 'penyeberangan': 6591, 'kalender': 6592, 'beropresi': 6593, 'janjikan': 6594, 'kontra': 6595, 'restonya': 6596, 'sajakah': 6597, 'terkejar': 6598, 'screening': 6599, 'hinfo': 6600, 'prioritas': 6601, 'eksis': 6602, 'dilindungi': 6603, 'mrnggunakan': 6604, 'stponcol': 6605, 'alhamdullillah': 6606, 'lindungan': 6607, 'pemimpin': 6608, 'yrobbal': 6609, 'dengah': 6610, 'khusyuk': 6611, 'dzuhur': 6612, 'ashar': 6613, 'maannajah': 6614, 'akhi': 6615, 'sholeh': 6616, 'cieee': 6617, 'nadji': 6618, 'gayanya': 6619, 'lelucon': 6620, 'htidak': 6621, 'gantinya': 6622, 'mengharuskan': 6623, 'cipendeui': 6624, 'yogyakartasemarang': 6625, 'wujud': 6626, 'ideal': 6627, 'amannyamannaikkereta': 6628, 'gegara': 6629, 'sejoli': 6630, 'monopoli': 6631, 'memanusiakan': 6632, 'nelfon': 6633, 'amiin': 6634, 'menyisakan': 6635, 'cp': 6636, 'balikkan': 6637, 'pertanggung': 6638, 'notabennya': 6639, 'direbahin': 6640, 'memperhentikan': 6641, 'penatran': 6642, 'edit': 6643, 'pesanku': 6644, 'rekomen': 6645, 'kepengen': 6646, 'emak': 6647, 'atawa': 6648, 'merdeka': 6649, 'sat': 6650, 'das': 6651, 'penglajon': 6652, 'mingguan': 6653, 'rabbal': 6654, 'persayaratan': 6655, 'purwokertoml': 6656, 'taksi': 6657, 'str': 6658, 'yeyeye': 6659, 'mengeluhkan': 6660, 'buaian': 6661, 'keitung': 6662, 'eneg': 6663, 'sasaran': 6664, 'mempengaruhi': 6665, 'curhatan': 6666, 'ell': 6667, 'maskeran': 6668, 'tingkat': 6669, 'krt': 6670, 'diatasnya': 6671, 'sendirikan': 6672, 'arjuno': 6673, 'klau': 6674, 'pengaspalan': 6675, 'landasan': 6676, 'sayangi': 6677, 'aset': 6678, 'tepos': 6679, 'hali': 6680, 'persib': 6681, 'cenah': 6682, 'manis': 6683, 'susul': 6684, 'njuk': 6685, 'tweeps': 6686, 'pulpen': 6687, 'beradu': 6688, 'menghadeh': 6689, 'dihela': 6690, 'diesel': 6691, 'elektrik': 6692, 'terkenal': 6693, 'horn': 6694, 'tonenya': 6695, 'berakibat': 6696, 'sumpek': 6697, 'mnggunakan': 6698, 'suasananya': 6699, 'okeh': 6700, 'azkia': 6701, 'dipublish': 6702, 'spesifiknya': 6703, 'karenadi': 6704, 'terdata': 6705, 'tertampil': 6706, 'pasphoto': 6707, 'aplikasily': 6708, 'sumarmo': 6709, 'ceu': 6710, 'evi': 6711, 'cnbc': 6712, 'matra': 6713, 'kadonya': 6714, 'didownload': 6715, 'passnya': 6716, 'dilebarkan': 6717, 'ngancem': 6718, 'emot': 6719, 'diprotes': 6720, 'jebol': 6721, 'donohudan': 6722, 'boyolali': 6723, 'kaosnya': 6724, 'haurs': 6725, 'progomataram': 6726, 'sirat': 6727, 'tawangka': 6728, 'konsisten': 6729, 'kelaparan': 6730, 'mulus': 6731, 'keberatan': 6732, 'hiraukan': 6733, 'hunting': 6734, 'berbentuk': 6735, 'roti': 6736, 'mineral': 6737, 'ekstra': 6738, 'konsekuensi': 6739, 'menguntungkan': 6740, 'nikmati': 6741, 'minimarket': 6742, 'kafe': 6743, 'unesa': 6744, 'sb': 6745, 'tart': 6746, 'selangit': 6747, 'sesalkan': 6748, 'sayangkan': 6749, 'inspiratif': 6750, 'imut': 6751, 'terletak': 6752, 'neo': 6753, 'journalist': 6754, 'makna': 6755, 'danesa': 6756, 'isoh': 6757, 'nembung': 6758, 'rung': 6759, 'hariannya': 6760, 'pemenang': 6761, 'sayembara': 6762, 'terpadu': 6763, 'light': 6764, 'ditransportasi': 6765, 'priorty': 6766, 'stlh': 6767, 'keterang': 6768, 'indonesiamaju': 6769, 'jokowidodo': 6770, 'linimasa': 6771, 'dinkes': 6772, 'coworking': 6773, 'terorisme': 6774, 'menuntaskan': 6775, 'jatilihur': 6776, 'dijadiin': 6777, 'siskae': 6778, 'lpnbks': 6779, 'kuy': 6780, 'kakada': 6781, 'penyangga': 6782, 'selonjorannya': 6783, 'cctvnya': 6784, 'terapin': 6785, 'laporannya': 6786, 'ditempatkan': 6787, 'kukira': 6788, 'puol': 6789, 'cakepe': 6790, 'sesat': 6791, 'okb': 6792, 'nganter': 6793, 'dipikirnya': 6794, 'ndeso': 6795, 'followup': 6796, 'marchen': 6797, 'videosepur': 6798, 'hahanah': 6799, 'berjauhan': 6800, 'abduh': 6801, 'giveaway': 6802, 'senengnya': 6803, 'kf': 6804, 'kn': 6805, 'cewe': 6806, 'cowo': 6807, 'senengambir': 6808, 'busung': 6809, 'dibuatin': 6810, 'maksih': 6811, 'wali': 6812, 'pendukung': 6813, 'pendukungnya': 6814, 'gigih': 6815, 'konstruktif': 6816, 'ngene': 6817, 'lek': 6818, 'kuduga': 6819, 'fikirannya': 6820, 'siapin': 6821, 'rapidpcr': 6822, 'berkaas': 6823, 'ish': 6824, 'nyabukan': 6825, 'tergoda': 6826, 'ks': 6827, 'telinganya': 6828, 'kutumpangi': 6829, 'ditampilkan': 6830, 'terpantau': 6831, 'kompensasinya': 6832, 'kadung': 6833, 'didahulukan': 6834, 'tertabrak': 6835, 'jaka': 6836, 'tingkir': 6837, 'berantas': 6838, 'fans': 6839, 'since': 6840, 'tahunanniversary': 6841, 'puluh': 6842, 'enam': 6843, 'bokeh': 6844, 'merespon': 6845, 'kunjungi': 6846, 'playlist': 6847, 'bertemakan': 6848, 'kaitannya': 6849, 'additional': 6850, 'cost': 6851, 'dedikasinya': 6852, 'digemari': 6853, 'huntukai': 6854, 'mewakili': 6855, 'studi': 6856, 'komunikasi': 6857, 'teknik': 6858, 'maarif': 6859, 'latif': 6860, 'pibesdei': 6861, 'may': 6862, 'become': 6863, 'reliable': 6864, 'sustainable': 6865, 'keep': 6866, 'improvising': 6867, 'services': 6868, 'running': 6869, 'picture': 6870, 'continuous': 6871, 'tamping': 6872, 'cat': 6873, 'plasser': 6874, 'theurer': 6875, 'july': 6876, 'terjamin': 6877, 'hidangan': 6878, 'inspirasi': 6879, 'ayonaikkereta': 6880, 'gemilang': 6881, 'insan': 6882, 'mendekatkan': 6883, 'menyatukan': 6884, 'stickernya': 6885, 'kemerdekaan': 6886, 'bumnuntukindonesia': 6887, 'door': 6888, 'prizenya': 6889, 'berkhidmat': 6890, 'diintegrasikan': 6891, 'pengunjung': 6892, 'terpencar': 6893, 'mal': 6894, 'shinosaka': 6895, 'melalangbuana': 6896, 'kemari': 6897, 'ribuan': 6898, 'menyebrang': 6899, 'selat': 6900, 'tmii': 6901, 'hu': 6902, 'sut': 6903, 'menebak': 6904, 'krdnya': 6905, 'tunggunya': 6906, 'kamadaka': 6907, 'tegalsemarang': 6908, 'dim': 6909, 'menyingkat': 6910, 'diblokir': 6911, 'penulisan': 6912, 'sign': 6913, 'bangkit': 6914, 'balasnya': 6915, 'jujurlah': 6916, 'aplikai': 6917, 'okt': 6918, 'denganku': 6919, 'untukku': 6920, 'one': 6921, 'thing': 6922, 'ngeong': 6923, 'cakenya': 6924, 'gunanya': 6925, 'kekeretaan': 6926, 'ndang': 6927, 'aglomerasinya': 6928, 'yntkts': 6929, 'denahnya': 6930, 'dimahalin': 6931, 'populer': 6932, 'bendo': 6933, 'difabel': 6934, 'insya': 6935, 'sholehah': 6936, 'sekalinya': 6937, 'doog': 6938, 'bidan': 6939, 'karton': 6940, 'betah': 6941, 'cipujaserayu': 6942, 'neduhin': 6943, 'keriuhan': 6944, 'untungan': 6945, 'pelopor': 6946, 'aspek': 6947, 'kinerjanya': 6948, 'burung': 6949, 'solatip': 6950, 'struggle': 6951, 'tumpah': 6952, 'berbasis': 6953, 'cotos': 6954, 'ngebolang': 6955, 'marilah': 6956, 'sejahtera': 6957, 'tertibkan': 6958, 'diintimidasi': 6959, 'pangkalan': 6960, 'trauma': 6961, 'walkot': 6962, 'keberadaan': 6963, 'cus': 6964, 'mengantarku': 6965, 'belahan': 6966, 'jiwaku': 6967, 'st': 6968, 'username': 6969, 'komjen': 6970, 'pol': 6971, 'eddy': 6972, 'pramono': 6973, 'meninjau': 6974, 'jayapura': 6975, 'disiplinkan': 6976, 'semarakkan': 6977, 'pon': 6978, 'dadah': 6979, 'penghubung': 6980, 'memisahkan': 6981, 'memajukan': 6982, 'meramaikan': 6983, 'tanggapan': 6984, 'hot': 6985, 'pics': 6986, 'kado': 6987, 'perikanan': 6988, 'coy': 6989, 'god': 6990, 'bless': 6991, 'berkembang': 6992, 'tanpamu': 6993, 'candu': 6994, 'merindu': 6995, 'packer': 6996, 'perantara': 6997, 'ciptakan': 6998, 'jne': 6999, 'komeng': 7000, 'berbagi': 7001, 'menyempatkan': 7002, 'sing': 7003, 'edition': 7004, 'ngelobby': 7005, 'diwaro': 7006, 'taspat': 7007, 'bantre': 7008, 'ppk': 7009, 'secantik': 7010, 'koc': 7011, 'het': 7012, 'mutiah': 7013, 'sajaknya': 7014, 'yaudah': 7015, 'belang': 7016, 'pupuk': 7017, 'ngebutnya': 7018, 'senajan': 7019, 'riwayatnya': 7020, 'kehapus': 7021, 'kenangannya': 7022, 'ruhyat': 7023, 'wujudkan': 7024, 'harapannya': 7025, 'sedekah': 7026, 'berkah': 7027, 'green': 7028, 'screennya': 7029, 'jihan': 7030, 'baliho': 7031, 'nulis': 7032, 'patah': 7033, 'logistic': 7034, 'udahan': 7035, 'monta': 7036, 'pemasaran': 7037, 'patungnya': 7038, 'estetikanya': 7039, 'coming': 7040, 'ajeg': 7041, 'hoki': 7042, 'berjaga': 7043, 'failed': 7044, 'ahoker': 7045, 'pecundang': 7046, 'mengakui': 7047, 'advicenya': 7048, 'highly': 7049, 'apreciated': 7050, 'ki': 7051, 'beuh': 7052, 'gabut': 7053, 'masyaallah': 7054, 'harun': 7055, 'masiku': 7056, 'kelihat': 7057, 'kecebong': 7058, 'penyanyi': 7059, 'umkm': 7060, 'pengangguran': 7061, 'nyata': 7062, 'dititipkan': 7063, 'pembina': 7064, 'barokahlah': 7065, 'disetor': 7066, 'miliar': 7067, 'biang': 7068, 'tagihan': 7069, 'baguslah': 7070, 'bulu': 7071, 'maling': 7072, 'ditanyain': 7073, 'ikn': 7074, 'dananya': 7075, 'dih': 7076, 'move': 7077, 'dipenjara': 7078, 'urusin': 7079, 'kpk': 7080, 'disodok': 7081, 'sodok': 7082, 'idungnya': 7083, 'nyodoknya': 7084, 'netes': 7085, 'tests': 7086, 'kantong': 7087, 'terpaksa': 7088, 'ngebet': 7089, 'ngehoax': 7090, 'tuslah': 7091, 'ncang': 7092, 'ncing': 7093, 'enyak': 7094, 'babe': 7095, 'nyok': 7096, 'movie': 7097, 'pengkhianatan': 7098, 'cekidot': 7099, 'ppfn': 7100, 'produksi': 7101, 'sedap': 7102, 'nengok': 7103, 'tuduhan': 7104, 'nayla': 7105, 'giring': 7106, 'danang': 7107, 'dejanout': 7108, 'gs': 7109, 'mencoret': 7110, 'cakupan': 7111, 'haters': 7112, 'moh': 7113, 'tone': 7114, 'bajunya': 7115, 'berasal': 7116, 'bandingkan': 7117, 'pengeluaran': 7118, 'nguap': 7119, 'penggaris': 7120, 'arungi': 7121, 'samudera': 7122, 'fikum': 7123, 'presentase': 7124, 'terangan': 7125, 'sopan': 7126, 'slipi': 7127, 'petamburan': 7128, 'nantangin': 7129, 'elah': 7130, 'direnovasi': 7131, 'sisakan': 7132, 'sudi': 7133, 'casablanca': 7134, 'beraksi': 7135, 'karatan': 7136, 'waras': 7137, 'aquarium': 7138, 'kecebongnya': 7139, 'resmikan': 7140, 'monas': 7141, 'patung': 7142, 'selvi': 7143, 'pencitraan': 7144, 'dempet': 7145, 'dempetan': 7146, 'sehad': 7147, 'nistanda': 7148, 'empad': 7149, 'women': 7150, 'left': 7151, 'dimudahkan': 7152, 'suami': 7153, 'kirimkan': 7154, 'mengirimkan': 7155, 'yogyakartanya': 7156, 'aye': 7157, 'hun': 7158, 'dikenai': 7159, 'mengakibatkan': 7160, 'hilangnya': 7161, 'sekelompok': 7162, 'uring': 7163, 'uringan': 7164, 'match': 7165, 'matchan': 7166, 'realita': 7167, 'penyesuaian': 7168, 'revenge': 7169, 'mengizinkan': 7170, 'pd': 7171, 'padamu': 7172, 'yeah': 7173, 'seremnya': 7174, 'crushnya': 7175, 'nyerong': 7176, 'comeback': 7177, 'printilannya': 7178, 'dicopotin': 7179, 'dibuang': 7180, 'comberan': 7181, 'mengabulkan': 7182, 'maguwo': 7183, 'pembatasannya': 7184, 'exists': 7185, 'jidat': 7186, 'sewot': 7187, 'congor': 7188, 'bebarengan': 7189, 'diinfoinnya': 7190, 'menahan': 7191, 'cont': 7192, 'pegang': 7193, 'annoying': 7194, 'diladenin': 7195, 'suryani': 7196, 'tulisanmu': 7197, 'parhayang': 7198, 'kesetrum': 7199, 'terimah': 7200, 'belaku': 7201, 'maksude': 7202, 'hih': 7203, 'nuansa': 7204, 'kekeretaapian': 7205, 'tersaingi': 7206, 'dimirip': 7207, 'miripkan': 7208, 'karawangnya': 7209, 'senior': 7210, 'scrap': 7211, 'rotasi': 7212, 'sourcing': 7213, 'refreshment': 7214, 'beritanya': 7215, 'miminya': 7216, 'mmng': 7217, 'memories': 7218, 'indonesian': 7219, 'antec': 7220, 'peruntukan': 7221, 'vaksinansi': 7222, 'information': 7223, 'ngalahin': 7224, 'toyib': 7225, 'jacknya': 7226, 'jack': 7227, 'rere': 7228, 'pesonamu': 7229, 'ndor': 7230, 'ajadah': 7231, 'sunatan': 7232, 'mubazir': 7233, 'undangannya': 7234, 'ciledug': 7235, 'gubengjember': 7236, 'persis': 7237, 'gaberani': 7238, 'chan': 7239, 'miminnya': 7240, 'standarnya': 7241, 'mengindahkan': 7242, 'kumpulan': 7243, 'genk': 7244, 'terjangkit': 7245, 'kesehatannya': 7246, 'warisan': 7247, 'londo': 7248, 'percobaan': 7249, 'haruskah': 7250, 'dibagian': 7251, 'keganggu': 7252, 'decitan': 7253, 'diproduksi': 7254, 'jdwal': 7255, 'sentralisasi': 7256, 'ragusa': 7257, 'urutan': 7258, 'terdaftarnya': 7259, 'tbk': 7260, 'adenomiosis': 7261, 'chicken': 7262, 'banyakin': 7263, 'sachet': 7264, 'klarifikasi': 7265, 'memberitahu': 7266, 'mentionnya': 7267, 'flazz': 7268, 'klarifikasinya': 7269, 'nyerobot': 7270, 'gerbang': 7271, 'mengarahkan': 7272, 'ngerjain': 7273, 'raffasya': 7274, 'dicarikan': 7275, 'bolen': 7276, 'martabak': 7277, 'kontener': 7278, 'gambirpekalongan': 7279, 'pengaruh': 7280, 'pencegahan': 7281, 'sist': 7282, 'kmt': 7283, 'trunojoyo': 7284, 'mengunjungimenghubungi': 7285, 'juru': 7286, 'klender': 7287, 'terdampak': 7288, 'anta': 7289, 'terlbih': 7290, 'tjsl': 7291, 'portable': 7292, 'sembako': 7293, 'paspor': 7294, 'loginnya': 7295, 'terimbas': 7296, 'pesertanya': 7297, 'mirta': 7298, 'terimamasih': 7299, 'responsive': 7300, 'pasarsenen': 7301, 'sinkron': 7302, 'manakah': 7303, 'uwuwu': 7304, 'jagijug': 7305, 'mengambil': 7306, 'kadishub': 7307, 'mendidik': 7308, 'lalang': 7309, 'nyumbang': 7310, 'karen': 7311, 'bercampur': 7312, 'jakartanya': 7313, 'widi': 7314, 'cutiku': 7315, 'cicil': 7316, 'tah': 7317, 'rewel': 7318, 'kluarnya': 7319, 'sucipto': 7320, 'blimbing': 7321, 'diabaikan': 7322, 'kitanya': 7323, 'ngilangin': 7324, 'silang': 7325, 'desak': 7326, 'berisiko': 7327, 'menemui': 7328, 'berhati': 7329, 'resiko': 7330, 'penularan': 7331, 'seminimal': 7332, 'history': 7333, 'dibatalkannya': 7334, 'doublenya': 7335, 'usulin': 7336, 'relnya': 7337, 'dearest': 7338, 'accessnya': 7339, 'kmd': 7340, 'carter': 7341, 'waw': 7342, 'pickup': 7343, 'diedukasi': 7344, 'halus': 7345, 'sebuat': 7346, 'kesimpulan': 7347, 'persatu': 7348, 'siapkan': 7349, 'attendant': 7350, 'memerhatikan': 7351, 'semengerikan': 7352, 'dibayangkan': 7353, 'smartphone': 7354, 'force': 7355, 'disiang': 7356, 'anjrot': 7357, 'fotografi': 7358, 'memperhatikan': 7359, 'lv': 7360, 'lingkup': 7361, 'cicnya': 7362, 'mengabadikan': 7363, 'keretadi': 7364, 'diarea': 7365, 'bersambung': 7366, 'berkasi': 7367, 'verif': 7368, 'alfa': 7369, 'staiun': 7370, 'wamil': 7371, 'aqua': 7372, 'pesankan': 7373, 'keajaiban': 7374, 'buruk': 7375, 'victoria': 7376, 'holt': 7377, 'mampet': 7378, 'ngehambat': 7379, 'pesana': 7380, 'berdesak': 7381, 'tambahanya': 7382, 'plan': 7383, 'cancellation': 7384, 'bund': 7385, 'bolos': 7386, 'mbalik': 7387, 'yauda': 7388, 'kasingosari': 7389, 'charger': 7390, 'keberengkatan': 7391, 'dhal': 7392, 'idih': 7393, 'beruntungnya': 7394, 'terobati': 7395, 'bertemunya': 7396, 'diwajibin': 7397, 'jaket': 7398, 'ecom': 7399, 'kepanjangan': 7400, 'disingkat': 7401, 'kemarinnya': 7402, 'tercepat': 7403, 'kiwing': 7404, 'dijam': 7405, 'bilah': 7406, 'mayan': 7407, 'awak': 7408, 'bata': 7409, 'goblog': 7410, 'vibes': 7411, 'ngelamun': 7412, 'faskesnya': 7413, 'singkatnya': 7414, 'berafiliasi': 7415, 'banjarmojokerto': 7416, 'jugijag': 7417, 'gijag': 7418, 'bik': 7419, 'mamakmu': 7420, 'take': 7421, 'ci': 7422, 'tiri': 7423, 'afi': 7424, 'tadabur': 7425, 'disepanjang': 7426, 'hafal': 7427, 'beud': 7428, 'pendampingan': 7429, 'toddler': 7430, 'dugaan': 7431, 'wesel': 7432, 'belok': 7433, 'memanfaatkan': 7434, 'dinamai': 7435, 'briket': 7436, 'sekat': 7437, 'protokoler': 7438, 'dzul': 7439, 'lock': 7440, 'kalisetail': 7441, 'dekatnya': 7442, 'bundaran': 7443, 'ditelpon': 7444, 'facebook': 7445, 'mintadi': 7446, 'patroman': 7447, 'berdinas': 7448, 'polsuskanya': 7449, 'kesamben': 7450, 'ppka': 7451, 'resclean': 7452, 'disaat': 7453, 'jolosemarkerto': 7454, 'batasnya': 7455, 'rabunya': 7456, 'tindaklanjut': 7457, 'citayam': 7458, 'berbicara': 7459, 'kaposisi': 7460, 'satpamnya': 7461, 'mengobrol': 7462, 'keun': 7463, 'posisinnya': 7464, 'loco': 7465, 'restoran': 7466, 'jagir': 7467, 'ditinggikan': 7468, 'besinya': 7469, 'berbahaya': 7470, 'penyebab': 7471, 'rawat': 7472, 'jet': 7473, 'assisten': 7474, 'ginian': 7475, 'dirapiin': 7476, 'coffeeshop': 7477, 'instagramable': 7478, 'dibatesin': 7479, 'datengnya': 7480, 'rum': 7481, 'debit': 7482, 'apalikasi': 7483, 'wei': 7484, 'eksekutiif': 7485, 'membedakan': 7486, 'sayakrn': 7487, 'dengkul': 7488, 'lajon': 7489, 'instansi': 7490, 'alredy': 7491, 'perusahaanmu': 7492, 'pengangkutan': 7493, 'rileks': 7494, 'memasak': 7495, 'konfigurasinya': 7496, 'komplen': 7497, 'jokes': 7498, 'dibesar': 7499, 'besarkan': 7500, 'ditindaklanjuti': 7501, 'datangi': 7502, 'hsil': 7503, 'dtunjuk': 7504, 'sehubungan': 7505, 'reborn': 7506, 'aternatif': 7507, 'tambak': 7508, 'first': 7509, 'alur': 7510, 'banner': 7511, 'kitakita': 7512, 'citizen': 7513, 'sumpiuh': 7514, 'golf': 7515, 'bag': 7516, 'saldonya': 7517, 'trolley': 7518, 'soresaya': 7519, 'gajelas': 7520, 'ingatan': 7521, 'kelakuan': 7522, 'bocil': 7523, 'buktinya': 7524, 'baperan': 7525, 'pripun': 7526, 'milanisti': 7527, 'kebalikannya': 7528, 'tiidak': 7529, 'ketemuan': 7530, 'terpakai': 7531, 'skirpsi': 7532, 'mutusin': 7533, 'sampail': 7534, 'bat': 7535, 'kuncen': 7536, 'kiaracondongbandung': 7537, 'csr': 7538, 'pembeliannya': 7539, 'range': 7540, 'indo': 7541, 'dipakek': 7542, 'pembenaran': 7543, 'menyebutnya': 7544, 'pusdal': 7545, 'shoot': 7546, 'dihilangin': 7547, 'lamabaru': 7548, 'sepadat': 7549, 'class': 7550, 'atingen': 7551, 'besarnya': 7552, 'kantinnya': 7553, 'diloket': 7554, 'shanday': 7555, 'seumpama': 7556, 'nyoloknya': 7557, 'kasar': 7558, 'nyolok': 7559, 'thomas': 7560, 'sinyalnya': 7561, 'kelap': 7562, 'kelip': 7563, 'perbanyak': 7564, 'persyarakat': 7565, 'selau': 7566, 'responsif': 7567, 'sepele': 7568, 'sribilah': 7569, 'project': 7570, 'penundaan': 7571, 'sampi': 7572, 'kebasen': 7573, 'notog': 7574, 'andalkan': 7575, 'antimo': 7576, 'brarti': 7577, 'mengkomunikasikan': 7578, 'mumpuni': 7579, 'kinerja': 7580, 'nasib': 7581, 'nenek': 7582, 'kaipaynya': 7583, 'dibalikin': 7584, 'gajadi': 7585, 'balikinnya': 7586, 'matramaja': 7587, 'yas': 7588, 'bogo': 7589, 'pengertian': 7590, 'sepuasnya': 7591, 'da': 7592, 'ngrasain': 7593, 'tawaran': 7594, 'rekruitmen': 7595, 'kaitanggal': 7596, 'membayar': 7597, 'seragam': 7598, 'proposalnya': 7599, 'apply': 7600, 'documentnya': 7601, 'matarmataja': 7602, 'purwarta': 7603, 'egois': 7604, 'menikah': 7605, 'pameran': 7606, 'prodi': 7607, 'shownya': 7608, 'colong': 7609, 'colongan': 7610, 'kejepit': 7611, 'diceritain': 7612, 'merangkap': 7613, 'shifting': 7614, 'lahannya': 7615, 'keduluan': 7616, 'diplot': 7617, 'trase': 7618, 'dalkot': 7619, 'sert': 7620, 'ribetnya': 7621, 'ubahin': 7622, 'jacket': 7623, 'bogowonto': 7624, 'fajarutama': 7625, 'majapahit': 7626, 'hen': 7627, 'maknanya': 7628, 'ngilmu': 7629, 'cuek': 7630, 'parno': 7631, 'bedasarkan': 7632, 'disebelahnya': 7633, 'nyempil': 7634, 'kejangkau': 7635, 'karo': 7636, 'komuternya': 7637, 'mentracenya': 7638, 'responsible': 7639, 'tegur': 7640, 'ajalah': 7641, 'ngadu': 7642, 'transfermu': 7643, 'tapping': 7644, 'claiming': 7645, 'purpose': 7646, 'damage': 7647, 'burn': 7648, 'detonate': 7649, 'drill': 7650, 'mine': 7651, 'use': 7652, 'contaminate': 7653, 'eat': 7654, 'animals': 7655, 'incesters': 7656, 'diberangkatkan': 7657, 'dikonfirmasikan': 7658, 'unduh': 7659, 'nontunai': 7660, 'direkomendasikan': 7661, 'penyampaian': 7662, 'sikut': 7663, 'nyalain': 7664, 'kampungan': 7665, 'songong': 7666, 'mengesalkan': 7667, 'polsus': 7668, 'penyerahan': 7669, 'simbolis': 7670, 'santunan': 7671, 'penanganan': 7672, 'kemasyarakatan': 7673, 'penyediaan': 7674, 'fase': 7675, 'kadipiro': 7676, 'minggir': 7677, 'omelin': 7678, 'sambat': 7679, 'tendang': 7680, 'rekomendasinya': 7681, 'newbie': 7682, 'perkeretaan': 7683, 'nyasar': 7684, 'cic': 7685, 'karcis': 7686, 'omg': 7687, 'maa': 7688, 'negurnya': 7689, 'sendri': 7690, 'risih': 7691, 'gerak': 7692, 'gerakin': 7693, 'dicopy': 7694, 'balance': 7695, 'kardus': 7696, 'pesenan': 7697, 'berduit': 7698, 'only': 7699, 'but': 7700, 'do': 7701, 'enough': 7702, 'mae': 7703, 'west': 7704, 'darat': 7705, 'smc': 7706, 'outnya': 7707, 'want': 7708, 'tie': 7709, 'goal': 7710, 'people': 7711, 'things': 7712, 'albert': 7713, 'einstein': 7714, 'penerapannya': 7715, 'disamakan': 7716, 'pilek': 7717, 'bersin': 7718, 'bernafas': 7719, 'mugen': 7720, 'option': 7721, 'isyarat': 7722, 'pijakan': 7723, 'distel': 7724, 'ketinggiannya': 7725, 'ngadminnya': 7726, 'bediri': 7727, 'rapet': 7728, 'commuting': 7729, 'jemursari': 7730, 'disalahin': 7731, 'sopirnya': 7732, 'jalurnya': 7733, 'meter': 7734, 'separatornya': 7735, 'mempertegas': 7736, 'pemerintahnya': 7737, 'ditandai': 7738, 'kewajiban': 7739, 'merobos': 7740, 'mood': 7741, 'weleh': 7742, 'keuntungan': 7743, 'sarangan': 7744, 'rondap': 7745, 'scanning': 7746, 'tarta': 7747, 'doku': 7748, 'vouchernya': 7749, 'diwakili': 7750, 'stpasar': 7751, 'pandu': 7752, 'sender': 7753, 'olah': 7754, 'beropini': 7755, 'tercelup': 7756, 'mengalir': 7757, 'pembuangan': 7758, 'meresap': 7759, 'kabut': 7760, 'pandanganmu': 7761, 'kerikil': 7762, 'langkahmu': 7763, 'huruf': 7764, 'boss': 7765, 'argumen': 7766, 'medsos': 7767, 'rujakan': 7768, 'wc': 7769, 'matamu': 7770, 'dipelihara': 7771, 'disodorin': 7772, 'gws': 7773, 'simpatisan': 7774, 'trigger': 7775, 'perhubungannya': 7776, 'ws': 7777, 'rendra': 7778, 'stadiun': 7779, 'ditanggepi': 7780, 'sop': 7781, 'hpku': 7782, 'kehalaman': 7783, 'cobalah': 7784, 'sekip': 7785, 'berandai': 7786, 'kreatifitas': 7787, 'mayat': 7788, 'berjatuhan': 7789, 'pengadilan': 7790, 'langgar': 7791, 'intruksi': 7792, 'peliharaan': 7793, 'atai': 7794, 'beraktivitas': 7795, 'parsialan': 7796, 'teu': 7797, 'purun': 7798, 'soalna': 7799, 'sedek': 7800, 'cok': 7801, 'pey': 7802, 'blh': 7803, 'flight': 7804, 'landed': 7805, 'antiannya': 7806, 'nyocot': 7807, 'agen': 7808, 'laen': 7809, 'lik': 7810, 'mince': 7811, 'stasuin': 7812, 'iceng': 7813, 'dibutuhin': 7814, 'bahannya': 7815, 'berdiam': 7816, 'rakyatnya': 7817, 'siasat': 7818, 'berlandas': 7819, 'uubodoh': 7820, 'kauakibat': 7821, 'katak': 7822, 'tempurung': 7823, 'rakyatpadahal': 7824, 'sambungan': 7825, 'amburadul': 7826, 'triliyunan': 7827, 'berkendara': 7828, 'itukan': 7829, 'menyukseskan': 7830, 'hijaukan': 7831, 'ditarik': 7832, 'treima': 7833, 'bekri': 7834, 'melaksanakan': 7835, 'biasakan': 7836, 'delanggu': 7837, 'nanyain': 7838, 'railfood': 7839, 'diantarkan': 7840, 'bergembira': 7841, 'terganggu': 7842, 'disuguhi': 7843, 'kelegaan': 7844, 'memberitahukan': 7845, 'mengontak': 7846, 'melaui': 7847, 'deskripsi': 7848, 'membosankan': 7849, 'tuntutan': 7850, 'kuremas': 7851, 'ngetes': 7852, 'ngeprint': 7853, 'bagiin': 7854, 'keteter': 7855, 'cibatukarangsari': 7856, 'manggil': 7857, 'senenkutoarjo': 7858, 'melalaikan': 7859, 'diapa': 7860, 'apain': 7861, 'rujak': 7862, 'buah': 7863, 'fa': 7864, 'dicariin': 7865, 'menjelang': 7866, 'mainannya': 7867, 'badag': 7868, 'walah': 7869, 'posko': 7870, 'payday': 7871, 'pointsgeek': 7872, 'pointsgeekid': 7873, 'stail': 7874, 'troli': 7875, 'twt': 7876, 'balesnya': 7877, 'layout': 7878, 'dicky': 7879, 'had': 7880, 'similar': 7881, 'contacted': 7882, 'two': 7883, 'months': 7884, 'they': 7885, 'couldnt': 7886, 'until': 7887, 'someone': 7888, 'recommended': 7889, 'hintcrack': 7890, 'professional': 7891, 'hacker': 7892, 'fixed': 7893, 'just': 7894, 'few': 7895, 'minutes': 7896, 'tunjangan': 7897, 'inforamsikan': 7898, 'selamet': 7899, 'jlsrikaya': 7900, 'sebrang': 7901, 'mnc': 7902, 'wargi': 7903, 'zonk': 7904, 'result': 7905, 'kritiknya': 7906, 'telinga': 7907, 'operatornya': 7908, 'intonasi': 7909, 'begituan': 7910, 'instansinya': 7911, 'mematikan': 7912, 'mikirnya': 7913, 'gitar': 7914, 'sinanti': 7915, 'peluk': 7916, 'mesra': 7917, 'transksi': 7918, 'senggol': 7919, 'kidul': 7920, 'perjuangannya': 7921, 'panggung': 7922, 'caranyaketik': 7923, 'kdispasi': 7924, 'vote': 7925, 'rcti': 7926, 'mengapresiasi': 7927, 'ts': 7928, 'kritikan': 7929, 'idnya': 7930, 'tengkiu': 7931, 'pse': 7932, 'didrop': 7933, 'bookingin': 7934, 'sodara': 7935, 'sorotan': 7936, 'maksimalnya': 7937, 'susunan': 7938, 'kesukaaan': 7939, 'inspeksi': 7940, 'keliatannya': 7941, 'banyaak': 7942, 'kebuka': 7943, 'koleksi': 7944, 'ngabadikan': 7945, 'massalnya': 7946, 'sumo': 7947, 'sula': 7948, 'sigres': 7949, 'proper': 7950, 'trayeknya': 7951, 'tusuk': 7952, 'tenggorokan': 7953, 'dirojok': 7954, 'mauk': 7955, 'psikologi': 7956, 'itungannya': 7957, 'sampingnya': 7958, 'dikosongin': 7959, 'sitting': 7960, 'alangkah': 7961, 'berisi': 7962, 'daya': 7963, 'sumakerto': 7964, 'indramayu': 7965, 'tegel': 7966, 'sejenis': 7967, 'kondisinya': 7968, 'route': 7969, 'dora': 7970, 'adventure': 7971, 'sewu': 7972, 'wisatawan': 7973, 'karma': 7974, 'jaksel': 7975, 'emil': 7976, 'salim': 7977, 'arteria': 7978, 'menhan': 7979, 'meletus': 7980, 'resmiin': 7981, 'bagusnya': 7982, 'allready': 7983, 'hipertensi': 7984, 'berkendala': 7985, 'ngarahin': 7986, 'lamgsung': 7987, 'railpoin': 7988, 'bimn': 7989, 'mencontoh': 7990, 'utang': 7991, 'pailit': 7992, 'siakan': 7993, 'seniman': 7994, 'memaklumi': 7995, 'regular': 7996, 'nam': 7997, 'puyeng': 7998, 'bumame': 7999, 'drive': 8000, 'thru': 8001, 'jj': 8002, 'laborat': 8003, 'pssenen': 8004, 'sofa': 8005, 'leg': 8006, 'rest': 8007, 'disajikan': 8008, 'mikirin': 8009, 'dibayarin': 8010, 'bludru': 8011, 'osowilangon': 8012, 'influencer': 8013, 'kaleng': 8014, 'bbm': 8015, 'revolusioner': 8016, 'masanya': 8017, 'seadanya': 8018, 'ditiru': 8019, 'silam': 8020, 'keesokannya': 8021, 'nnya': 8022, 'disalah': 8023, 'marke': 8024, 'tplace': 8025, 'terdiri': 8026, 'pengulangan': 8027, 'refundnya': 8028, 'panitia': 8029, 'cross': 8030, 'kecapean': 8031, 'bunyiin': 8032, 'hapuskan': 8033, 'disalipin': 8034, 'kearah': 8035, 'mentok': 8036, 'tarik': 8037, 'berkelana': 8038, 'kontraktor': 8039, 'adhi': 8040, 'tawangjaya': 8041, 'seumur': 8042, 'diperbolehkannya': 8043, 'yos': 8044, 'sudarso': 8045, 'nati': 8046, 'halim': 8047, 'menunaikan': 8048, 'ibadah': 8049, 'armad': 8050, 'menaruh': 8051, 'korbannya': 8052, 'raynata': 8053, 'adjust': 8054, 'hair': 8055, 'dryer': 8056, 'bertahun': 8057, 'developernya': 8058, 'kompatibilitas': 8059, 'diturunin': 8060, 'lakan': 8061, 'nginep': 8062, 'studio': 8063, 'caper': 8064, 'ded': 8065, 'dmku': 8066, 'pln': 8067, 'penginputan': 8068, 'benefitnya': 8069, 'vertikal': 8070, 'garden': 8071, 'diperbanyak': 8072, 'ambience': 8073, 'relaxing': 8074, 'scientific': 8075, 'proven': 8076, 'hiasan': 8077, 'concourse': 8078, 'rmu': 8079, 'maping': 8080, 'kokoh': 8081, 'ringkih': 8082, 'nyayur': 8083, 'dach': 8084, 'nederlandsch': 8085, 'indische': 8086, 'spoorweg': 8087, 'instagrammya': 8088, 'staats': 8089, 'spoorwegen': 8090, 'rekenimg': 8091, 'senindengan': 8092, 'keyakinan': 8093, 'dibanding': 8094, 'nyegat': 8095, 'jepretan': 8096, 'apikasi': 8097, 'stasius': 8098, 'diistirahatkan': 8099, 'sta': 8100, 'maiu': 8101, 'bakan': 8102, 'idealnya': 8103, 'keberangkatnya': 8104, 'nda': 8105, 'tabiat': 8106, 'semena': 8107, 'mena': 8108, 'melamar': 8109, 'dipungut': 8110, 'akunakun': 8111, 'telegram': 8112, 'paid': 8113, 'kesuksesan': 8114, 'menyerah': 8115, 'kal': 8116, 'dihandle': 8117, 'dibiarin': 8118, 'prasarananya': 8119, 'dibersihkan': 8120, 'berkaca': 8121, 'kwala': 8122, 'bingei': 8123, 'membagongkan': 8124, 'taruwit': 8125, 'true': 8126, 'membasahi': 8127, 'keringetan': 8128, 'fdts': 8129, 'priok': 8130, 'verivikasi': 8131, 'raih': 8132, 'penganugerahan': 8133, 'sni': 8134, 'ptidakntian': 8135, 'notifnya': 8136, 'rinciannya': 8137, 'bantuuu': 8138, 'keremunan': 8139, 'keretakan': 8140, 'apes': 8141, 'keupload': 8142, 'berekspektasi': 8143, 'nyiapin': 8144, 'grand': 8145, 'nanyatarif': 8146, 'oren': 8147, 'recordnya': 8148, 'penatarandhoho': 8149, 'bdsurabaya': 8150, 'favourite': 8151, 'praminya': 8152, 'nggeh': 8153, 'philippines': 8154, 'national': 8155, 'railway': 8156, 'ngajuin': 8157, 'arahkan': 8158, 'produk': 8159, 'tabungan': 8160, 'berjangka': 8161, 'kejahatan': 8162, 'trik': 8163, 'axa': 8164, 'tlg': 8165, 'mbadia': 8166, 'yaharus': 8167, 'pola': 8168, 'dri': 8169, 'menyiarkan': 8170, 'antennya': 8171, 'merk': 8172, 'oala': 8173, 'terendah': 8174, 'erzy': 8175, 'suvenir': 8176, 'pajangan': 8177, 'doorprize': 8178, 'smooth': 8179, 'permudah': 8180, 'idenya': 8181, 'vidio': 8182, 'premier': 8183, 'drpd': 8184, 'nontonin': 8185, 'kamera': 8186, 'disaksikan': 8187, 'kabin': 8188, 'mimiin': 8189, 'menampung': 8190, 'membatasi': 8191, 'tayangan': 8192, 'terealisasi': 8193, 'psti': 8194, 'bobo': 8195, 'berdedikasi': 8196, 'reformasi': 8197, 'note': 8198, 'jajanan': 8199, 'cemilan': 8200, 'pemandanganya': 8201, 'bosenin': 8202, 'bultang': 8203, 'bola': 8204, 'dukung': 8205, 'semuaa': 8206, 'infor': 8207, 'kelulusan': 8208, 'satupun': 8209, 'kiara': 8210, 'condong': 8211, 'dilamar': 8212, 'nanyanya': 8213, 'cimb': 8214, 'niaga': 8215, 'fitur': 8216, 'dirumah': 8217, 'ponsel': 8218, 'sistemnya': 8219, 'ngatur': 8220, 'report': 8221, 'fm': 8222, 'mangkal': 8223, 'berantem': 8224, 'soeta': 8225, 'mumet': 8226, 'naikin': 8227, 'roket': 8228, 'terclose': 8229, 'nugas': 8230, 'ngecharge': 8231, 'congratulations': 8232, 'most': 8233, 'efficient': 8234, 'dipickup': 8235, 'gojek': 8236, 'arena': 8237, 'ruangannya': 8238, 'dilepas': 8239, 'memesankan': 8240, 'xxxxxxxx': 8241, 'setara': 8242, 'marahin': 8243, 'duitku': 8244, 'ngelawak': 8245, 'bah': 8246, 'kanankiri': 8247, 'logikamu': 8248, 'dipalang': 8249, 'dilewatin': 8250, 'bukam': 8251, 'keset': 8252, 'perolehan': 8253, 'sibv': 8254, 'sesungguhnya': 8255, 'lebay': 8256, 'tombolnya': 8257, 'copot': 8258, 'sensor': 8259, 'diriku': 8260, 'lawak': 8261, 'gapernah': 8262, 'loss': 8263, 'ngelawan': 8264, 'maafin': 8265, 'mengamankan': 8266, 'dsini': 8267, 'skeptis': 8268, 'headway': 8269, 'temui': 8270, 'haturnuhun': 8271, 'cewek': 8272, 'sigap': 8273, 'mengadang': 8274, 'mendorongnya': 8275, 'kencang': 8276, 'kualanamo': 8277, 'membenarkan': 8278, 'calo': 8279, 'masalahkan': 8280, 'nyetir': 8281, 'dipahami': 8282, 'dihukum': 8283, 'sederhana': 8284, 'berkalikali': 8285, 'bejat': 8286, 'mengais': 8287, 'dilanggar': 8288, 'ukur': 8289, 'sudan': 8290, 'somalia': 8291, 'output': 8292, 'disitulah': 8293, 'sinergi': 8294, 'disebarin': 8295, 'diselamatkannya': 8296, 'srit': 8297, 'anjung': 8298, 'perjalaan': 8299, 'tia': 8300, 'baptis': 8301, 'ndro': 8302, 'dicegat': 8303, 'dikerjain': 8304, 'fuck': 8305, 'gmail': 8306, 'pkoc': 8307, 'adminya': 8308, 'realtime': 8309, 'perhatiin': 8310, 'diupah': 8311, 'adikku': 8312, 'umurnya': 8313, 'saint': 8314, 'indro': 8315, 'cool': 8316, 'peran': 8317, 'vital': 8318, 'stasiunlab': 8319, 'ketahan': 8320, 'kusus': 8321, 'mengetahui': 8322, 'ti': 8323, 'rekrutan': 8324, 'dipekerjakan': 8325, 'osi': 8326, 'klinikrs': 8327, 'kijang': 8328, 'muatan': 8329, 'telentang': 8330, 'telapak': 8331, 'tewas': 8332, 'becak': 8333, 'ngangkut': 8334, 'ikutin': 8335, 'nutupin': 8336, 'jenazah': 8337, 'letakkan': 8338, 'fals': 8339, 'prujakancirebon': 8340, 'perintah': 8341, 'rujukanberobat': 8342, 'ptm': 8343, 'pembelajaran': 8344, 'dipersilakan': 8345, 'evakuasi': 8346, 'dipinggiran': 8347, 'todays': 8348, 'pedulilindungisudah': 8349, 'gatel': 8350, 'tanggerang': 8351, 'iaccess': 8352, 'lembur': 8353, 'genting': 8354, 'ironically': 8355, 'small': 8356, 'accident': 8357, 'slipped': 8358, 'stair': 8359, 'internasional': 8360, 'airport': 8361, 'selali': 8362, 'rilmin': 8363, 'dikomputer': 8364, 'mununjukan': 8365, 'hardfile': 8366, 'kerera': 8367, 'mengubahnya': 8368, 'mutualan': 8369, 'laboratorium': 8370, 'kalimat': 8371, 'ngabs': 8372, 'menyapa': 8373, 'hooh': 8374, 'partnerku': 8375, 'lindungi': 8376, 'wedeh': 8377, 'jongkok': 8378, 'cekrek': 8379, 'farmasi': 8380, 'dihabisin': 8381, 'tlp': 8382, 'dipanjangain': 8383, 'son': 8384, 'memilili': 8385, 'pengenal': 8386, 'membingungkan': 8387, 'mengaturnya': 8388, 'dendy': 8389, 'regards': 8390, 'judul': 8391, 'statement': 8392, 'muara': 8393, 'enim': 8394, 'gomboran': 8395, 'gombor': 8396, 'laswi': 8397, 'ditabrak': 8398, 'keluyuran': 8399, 'longgar': 8400, 'sndiri': 8401, 'bosque': 8402, 'biya': 8403, 'pemegang': 8404, 'keranjang': 8405, 'jamanya': 8406, 'sepuluh': 8407, 'tibu': 8408, 'kakau': 8409, 'terbuang': 8410, 'terguling': 8411, 'huka': 8412, 'melihara': 8413, 'peterus': 8414, 'ngebebanin': 8415, 'mai': 8416, 'gadein': 8417, 'dalamnya': 8418, 'nyamber': 8419, 'ditandain': 8420, 'dilogika': 8421, 'okupansi': 8422, 'diakalin': 8423, 'dibedain': 8424, 'ngrugiin': 8425, 'diperhatiin': 8426, 'liatan': 8427, 'minkereta': 8428, 'ditolerir': 8429, 'lestari': 8430, 'lestaru': 8431, 'ngelihat': 8432, 'poskonya': 8433, 'pukuk': 8434, 'menengok': 8435, 'mbangking': 8436, 'recana': 8437, 'salahin': 8438, 'kenyataannya': 8439, 'bergkt': 8440, 'winongo': 8441, 'dilihatkan': 8442, 'untu': 8443, 'bojonggede': 8444, 'kejadiannya': 8445, 'ditepati': 8446, 'dimajuin': 8447, 'piknik': 8448, 'dikenankan': 8449, 'imunitas': 8450, 'kerete': 8451, 'nte': 8452, 'gapapalah': 8453, 'finish': 8454, 'tobat': 8455, 'selaim': 8456, 'ngecekin': 8457, 'depanku': 8458, 'ngebalikin': 8459, 'selonjoran': 8460, 'goyangnya': 8461, 'seakan': 8462, 'dikonfirmasi': 8463, 'bawen': 8464, 'darisana': 8465, 'destination': 8466, 'menurutku': 8467, 'percis': 8468, 'kendalanya': 8469, 'wisatanya': 8470, 'kejaksaan': 8471, 'seberangnya': 8472, 'amblas': 8473, 'keruan': 8474, 'diperbarui': 8475, 'direct': 8476, 'apalah': 8477, 'apakah': 8478, 'akupun': 8479, 'bertemu': 8480, 'disangka': 8481, 'artisnya': 8482, 'cuaca': 8483, 'nina': 8484, 'aktifitas': 8485, 'berpegian': 8486, 'dompetnya': 8487, 'nnti': 8488, 'resi': 8489, 'ajm': 8490, 'nyetel': 8491, 'spykids': 8492, 'tololnesia': 8493, 'tikus': 8494, 'ciuman': 8495, 'keranda': 8496, 'disetel': 8497, 'kecium': 8498, 'aroma': 8499, 'betawinya': 8500, 'bercitacita': 8501, 'barangakali': 8502, 'revisi': 8503, 'setelin': 8504, 'dangdut': 8505, 'kemaleman': 8506, 'charge': 8507, 'honorer': 8508, 'semangkin': 8509, 'manualnya': 8510, 'luput': 8511, 'setumpuk': 8512, 'diinput': 8513, 'penukaran': 8514, 'dipermasalahkan': 8515, 'pendemi': 8516, 'milliaran': 8517, 'kosakata': 8518, 'takkan': 8519, 'menggambarkan': 8520, 'megahnya': 8521, 'ciptaan': 8522, 'ketidak': 8523, 'jelang': 8524, 'deg': 8525, 'tertangani': 8526, 'kedalam': 8527, 'palawan': 8528, 'home': 8529, 'away': 8530, 'makasiih': 8531, 'penutupan': 8532, 'masukannya': 8533, 'pengennya': 8534, 'prama': 8535, 'prami': 8536, 'seksual': 8537, 'railfriends': 8538, 'akang': 8539, 'pisan': 8540, 'customermu': 8541, 'kakuntuk': 8542, 'tutupin': 8543, 'disalahgunakan': 8544, 'jeda': 8545, 'relatif': 8546, 'person': 8547, 'bandingan': 8548, 'cel': 8549, 'occupancy': 8550, 'colek': 8551, 'sarannya': 8552, 'restart': 8553, 'sg': 8554, 'pengok': 8555, 'pulubrayan': 8556, 'balaiyasa': 8557, 'ditidurkan': 8558, 'dipangku': 8559, 'pinjaman': 8560, 'sukarela': 8561, 'akutu': 8562, 'terngiang': 8563, 'ngiang': 8564, 'tertua': 8565, 'maximal': 8566, 'saturday': 8567, 'videokan': 8568, 'keles': 8569, 'resolusi': 8570, 'ksih': 8571, 'indahnya': 8572, 'pertemuan': 8573, 'lihatlah': 8574, 'revolusi': 8575, 'perbudakan': 8576, 'dalih': 8577, 'digaji': 8578, 'saku': 8579, 'nga': 8580, 'jogjakediri': 8581, 'jal': 8582, 'minusnya': 8583, 'berak': 8584, 'semaksimal': 8585, 'legrest': 8586, 'toll': 8587, 'pelankan': 8588, 'deret': 8589, 'sekereta': 8590, 'kebersihan': 8591, 'perbedaannya': 8592, 'box': 8593, 'toeflnya': 8594, 'mateng': 8595, 'duty': 8596, 'bodo': 8597, 'nabung': 8598, 'mengitim': 8599, 'strprt': 8600, 'diparkir': 8601, 'untungnya': 8602, 'steril': 8603, 'dicuri': 8604, 'dijaman': 8605, 'bersihinnya': 8606, 'alik': 8607, 'rehat': 8608, 'bbrp': 8609, 'markir': 8610, 'side': 8611, 'digantikan': 8612, 'headset': 8613, 'lansung': 8614, 'lift': 8615, 'pemberian': 8616, 'dihadiri': 8617, 'menghibahkan': 8618, 'spanduk': 8619, 'imbauan': 8620, 'cone': 8621, 'kedetectnya': 8622, 'gabtau': 8623, 'kerenn': 8624, 'sebutkan': 8625, 'vendornya': 8626, 'lahi': 8627, 'eks': 8628, 'dongkelan': 8629, 'dkn': 8630, 'ditemenin': 8631, 'jga': 8632, 'brio': 8633, 'msih': 8634, 'setifikat': 8635, 'persimpangan': 8636, 'seneja': 8637, 'room': 8638, 'helpful': 8639, 'as': 8640, 'digambir': 8641, 'formnya': 8642, 'menyuarakan': 8643, 'wawasan': 8644, 'kebangsaan': 8645, 'wadah': 8646, 'akur': 8647, 'rukun': 8648, 'gelorakan': 8649, 'distancingnya': 8650, 'manjat': 8651, 'topup': 8652, 'turununtuk': 8653, 'notabene': 8654, 'memgatur': 8655, 'karakter': 8656, 'jepangminimal': 8657, 'berkesimpulan': 8658, 'yasudah': 8659, 'meraih': 8660, 'solved': 8661, 'emailnya': 8662, 'klo': 8663, 'brp': 8664, 'kactsm': 8665, 'dipengaturan': 8666, 'sirinenya': 8667, 'kesadaran': 8668, 'generate': 8669, 'null': 8670, 'blank': 8671, 'klatrn': 8672, 'tiker': 8673, 'orangtua': 8674, 'friendly': 8675, 'tangganya': 8676, 'fan': 8677, 'cannot': 8678, 'find': 8679, 'transaction': 8680, 'mytrips': 8681, 'ditaktdirkan': 8682, 'iklasin': 8683, 'kebawa': 8684, 'puasa': 8685, 'deng': 8686, 'digunain': 8687, 'pembangkit': 8688, 'genset': 8689, 'kva': 8690, 'suplai': 8691, 'penyewa': 8692, 'kawis': 8693, 'charter': 8694, 'ngelolanya': 8695, 'atigen': 8696, 'bersyukurlah': 8697, 'sadari': 8698, 'kerasnya': 8699, 'tidakk': 8700, 'brangkat': 8701, 'ngantri': 8702, 'ngisi': 8703, 'gambirpasar': 8704, 'pantun': 8705, 'rambipuji': 8706, 'cpu': 8707, 'dlm': 8708, 'terkahir': 8709, 'berkabar': 8710, 'refresing': 8711, 'kapasitasnya': 8712, 'keganggun': 8713, 'melaporkan': 8714, 'smctg': 8715, 'quota': 8716, 'saksi': 8717, 'bergegas': 8718, 'menghibur': 8719, 'stress': 8720, 'nanggepinnya': 8721, 'andlan': 8722, 'berberapa': 8723, 'opsi': 8724, 'interpretasi': 8725, 'terlepas': 8726, 'kontroversi': 8727, 'jakrta': 8728, 'galucu': 8729, 'pandami': 8730, 'hijarah': 8731, 'berkendak': 8732, 'ardo': 8733, 'sikon': 8734, 'terbanyak': 8735, 'mengembirakan': 8736, 'selepas': 8737, 'kedoya': 8738, 'mengejar': 8739, 'skrg': 8740, 'aelah': 8741, 'posting': 8742, 'kebayar': 8743, 'viewnya': 8744, 'ketagihan': 8745, 'dipedulilindungi': 8746, 'stand': 8747, 'mondar': 8748, 'mandir': 8749, 'membetulkan': 8750, 'sumbernya': 8751, 'majalah': 8752, 'djawa': 8753, 'baroe': 8754, 'biarpun': 8755, 'bawaannya': 8756, 'lok': 8757, 'balutan': 8758, 'kretek': 8759, 'public': 8760, 'goods': 8761, 'layaknya': 8762, 'sebats': 8763, 'forte': 8764, 'cocik': 8765, 'cepuin': 8766, 'nggak': 8767, 'penandanya': 8768, 'ngetag': 8769, 'merang': 8770, 'quotenya': 8771, 'nyesek': 8772, 'selera': 8773, 'humor': 8774, 'diseriusin': 8775, 'terlahir': 8776, 'mario': 8777, 'puzo': 8778, 'penatnya': 8779, 'harini': 8780, 'pk': 8781, 'mekanismenya': 8782, 'seburuk': 8783, 'tenda': 8784, 'another': 8785, 'sahabatkai': 8786, 'batasan': 8787, 'surabayajogja': 8788, 'eksekutifnya': 8789, 'caur': 8790, 'someah': 8791, 'lihatnya': 8792, 'biliknya': 8793, 'iwan': 8794, 'kadaop': 8795, 'walopun': 8796, 'dag': 8797, 'gaduh': 8798, 'pakaian': 8799, 'minberarti': 8800, 'langit': 8801, 'perantau': 8802, 'diviralkan': 8803, 'kenan': 8804, 'iki': 8805, 'sttulungagung': 8806, 'beredar': 8807, 'diributin': 8808, 'kafir': 8809, 'munafiq': 8810, 'celana': 8811, 'vaskin': 8812, 'uk': 8813, 'acap': 8814, 'dijumpai': 8815, 'astagfirullah': 8816, 'fastrespon': 8817, 'luvv': 8818, 'budek': 8819, 'hihihi': 8820, 'sepulang': 8821, 'indikasi': 8822, 'pembatan': 8823, 'kuntilanaknya': 8824, 'bengs': 8825, 'menghela': 8826, 'nafas': 8827, 'repetitif': 8828, 'impianku': 8829, 'smells': 8830, 'prfum': 8831, 'prmugari': 8832, 'ngantuk': 8833, 'pekalongans': 8834, 'emarang': 8835, 'kebandung': 8836, 'bakmi': 8837, 'tasty': 8838, 'selametin': 8839, 'expect': 8840, 'happen': 8841, 'nais': 8842, 'kukus': 8843, 'senenprupuk': 8844, 'senentegal': 8845, 'tanyanya': 8846, 'chatku': 8847, 'socket': 8848, 'torque': 8849, 'wrench': 8850, 'pmlckp': 8851, 'halal': 8852, 'cabut': 8853, 'ppj': 8854, 'digoreng': 8855, 'bebeknya': 8856, 'panganan': 8857, 'malan': 8858, 'kuyup': 8859, 'treknya': 8860, 'meleng': 8861, 'nyusur': 8862, 'pahala': 8863, 'ditawarin': 8864, 'haget': 8865, 'uwu': 8866, 'ibuk': 8867, 'gasalah': 8868, 'pulas': 8869, 'kais': 8870, 'avail': 8871, 'privasi': 8872, 'konci': 8873, 'infrastructure': 8874, 'duck': 8875, 'overdemi': 8876, 'sepupunya': 8877, 'kia': 8878, 'fc': 8879, 'lebak': 8880, 'jero': 8881, 'nagreg': 8882, 'screenshoot': 8883, 'wehh': 8884, 'compang': 8885, 'camping': 8886, 'ea': 8887, 'emangnya': 8888, 'wkwkkwk': 8889, 'mnpse': 8890, 'wedew': 8891, 'ayah': 8892, 'gajinya': 8893, 'duluin': 8894, 'vertivikasi': 8895, 'mahasiswai': 8896, 'mengisi': 8897, 'mrtjakarta': 8898, 'makanannya': 8899, 'dibeliin': 8900, 'pathok': 8901, 'antingen': 8902, 'pahlawannya': 8903, 'short': 8904, 'wkw': 8905, 'trimakasih': 8906, 'purwokertojogja': 8907}\n",
            "{'netral': 1, 'positif': 2, 'negatif': 3}\n",
            "{'lain': 1, 'syarat': 2, 'jadwalrute': 3, 'ticketing': 4, 'aturan': 5, 'fasilitas': 6, 'experience': 7, 'pelayanan': 8}\n"
          ]
        }
      ]
    },
    {
      "cell_type": "code",
      "source": [
        "train_text_seq = tokenizer.texts_to_sequences(train_text)\n",
        "train_text_pad = pad_sequences(train_text_seq, padding = padding_type, truncating = trunc_type, \n",
        "                               maxlen = max_length)\n",
        "\n",
        "train_sent_seq = np.array(sent_tok.texts_to_sequences(train_sent))\n",
        "train_sent_pad = pad_sequences(train_sent_seq, maxlen=1)\n",
        "\n",
        "train_topic_seq = np.array(topic_tok.texts_to_sequences(train_topic))\n",
        "train_topic_pad = pad_sequences(train_topic_seq, maxlen=1)\n",
        "\n",
        "print(train_text_pad)\n",
        "print(train_sent_pad)\n",
        "print(train_topic_seq)"
      ],
      "metadata": {
        "colab": {
          "base_uri": "https://localhost:8080/"
        },
        "outputId": "28c91321-2713-450c-a896-d0cb2c008409",
        "id": "vpCk00vVoweo"
      },
      "execution_count": null,
      "outputs": [
        {
          "output_type": "stream",
          "name": "stdout",
          "text": [
            "[[178   5 158 ...   0   0   0]\n",
            " [112   2  35 ...   0   0   0]\n",
            " [ 32  35  15 ...   0   0   0]\n",
            " ...\n",
            " [  6  52  67 ...   0   0   0]\n",
            " [ 32  15  29 ...   0   0   0]\n",
            " [ 39  79   2 ...   0   0   0]]\n",
            "[[1]\n",
            " [1]\n",
            " [1]\n",
            " ...\n",
            " [1]\n",
            " [1]\n",
            " [1]]\n",
            "[[3]\n",
            " [2]\n",
            " [2]\n",
            " ...\n",
            " [1]\n",
            " [2]\n",
            " [2]]\n"
          ]
        }
      ]
    },
    {
      "cell_type": "markdown",
      "source": [
        "Sentiment Classification"
      ],
      "metadata": {
        "id": "B0hXz_u0oweo"
      }
    },
    {
      "cell_type": "code",
      "source": [
        "ckpt_path = \"sent/cp.ckpt\"\n",
        "cp_callback = tf.keras.callbacks.ModelCheckpoint(filepath=ckpt_path,\n",
        "                                                 save_weights_only=True,\n",
        "                                                 verbose=1)\n",
        "sent_model = tf.keras.Sequential([\n",
        "                                  tf.keras.layers.Embedding(10000, embedding_dim, \n",
        "                                                            input_length = max_length),\n",
        "                                  tf.keras.layers.GlobalAveragePooling1D(),\n",
        "                                  tf.keras.layers.Dense(8, activation = 'relu'),\n",
        "                                  tf.keras.layers.Dense(4, activation = 'softmax')\n",
        "])\n",
        "\n",
        "sent_model.compile(optimizer = 'adam', loss = 'sparse_categorical_crossentropy', metrics = ['accuracy'])\n",
        "sent_hist = sent_model.fit(train_text_pad, train_sent_seq, \n",
        "               epochs = 30, callbacks = [cp_callback])"
      ],
      "metadata": {
        "colab": {
          "base_uri": "https://localhost:8080/"
        },
        "outputId": "3cb8af17-f317-49c8-dfd7-8f3b3257e544",
        "id": "SgbtYq51owep"
      },
      "execution_count": null,
      "outputs": [
        {
          "output_type": "stream",
          "name": "stdout",
          "text": [
            "Epoch 1/30\n",
            "373/380 [============================>.] - ETA: 0s - loss: 0.4740 - accuracy: 0.9524\n",
            "Epoch 1: saving model to sent/cp.ckpt\n",
            "380/380 [==============================] - 3s 5ms/step - loss: 0.4707 - accuracy: 0.9522\n",
            "Epoch 2/30\n",
            "377/380 [============================>.] - ETA: 0s - loss: 0.2236 - accuracy: 0.9523\n",
            "Epoch 2: saving model to sent/cp.ckpt\n",
            "380/380 [==============================] - 2s 5ms/step - loss: 0.2237 - accuracy: 0.9522\n",
            "Epoch 3/30\n",
            "372/380 [============================>.] - ETA: 0s - loss: 0.2158 - accuracy: 0.9524\n",
            "Epoch 3: saving model to sent/cp.ckpt\n",
            "380/380 [==============================] - 2s 5ms/step - loss: 0.2164 - accuracy: 0.9522\n",
            "Epoch 4/30\n",
            "376/380 [============================>.] - ETA: 0s - loss: 0.2108 - accuracy: 0.9522\n",
            "Epoch 4: saving model to sent/cp.ckpt\n",
            "380/380 [==============================] - 2s 5ms/step - loss: 0.2109 - accuracy: 0.9522\n",
            "Epoch 5/30\n",
            "371/380 [============================>.] - ETA: 0s - loss: 0.2049 - accuracy: 0.9522\n",
            "Epoch 5: saving model to sent/cp.ckpt\n",
            "380/380 [==============================] - 2s 5ms/step - loss: 0.2051 - accuracy: 0.9522\n",
            "Epoch 6/30\n",
            "379/380 [============================>.] - ETA: 0s - loss: 0.1977 - accuracy: 0.9523\n",
            "Epoch 6: saving model to sent/cp.ckpt\n",
            "380/380 [==============================] - 2s 6ms/step - loss: 0.1979 - accuracy: 0.9522\n",
            "Epoch 7/30\n",
            "378/380 [============================>.] - ETA: 0s - loss: 0.1886 - accuracy: 0.9521\n",
            "Epoch 7: saving model to sent/cp.ckpt\n",
            "380/380 [==============================] - 2s 5ms/step - loss: 0.1884 - accuracy: 0.9522\n",
            "Epoch 8/30\n",
            "372/380 [============================>.] - ETA: 0s - loss: 0.1748 - accuracy: 0.9525\n",
            "Epoch 8: saving model to sent/cp.ckpt\n",
            "380/380 [==============================] - 2s 5ms/step - loss: 0.1744 - accuracy: 0.9525\n",
            "Epoch 9/30\n",
            "377/380 [============================>.] - ETA: 0s - loss: 0.1591 - accuracy: 0.9532\n",
            "Epoch 9: saving model to sent/cp.ckpt\n",
            "380/380 [==============================] - 2s 5ms/step - loss: 0.1593 - accuracy: 0.9531\n",
            "Epoch 10/30\n",
            "378/380 [============================>.] - ETA: 0s - loss: 0.1460 - accuracy: 0.9552\n",
            "Epoch 10: saving model to sent/cp.ckpt\n",
            "380/380 [==============================] - 2s 5ms/step - loss: 0.1464 - accuracy: 0.9550\n",
            "Epoch 11/30\n",
            "373/380 [============================>.] - ETA: 0s - loss: 0.1379 - accuracy: 0.9553\n",
            "Epoch 11: saving model to sent/cp.ckpt\n",
            "380/380 [==============================] - 2s 5ms/step - loss: 0.1368 - accuracy: 0.9557\n",
            "Epoch 12/30\n",
            "375/380 [============================>.] - ETA: 0s - loss: 0.1297 - accuracy: 0.9564\n",
            "Epoch 12: saving model to sent/cp.ckpt\n",
            "380/380 [==============================] - 2s 5ms/step - loss: 0.1289 - accuracy: 0.9566\n",
            "Epoch 13/30\n",
            "377/380 [============================>.] - ETA: 0s - loss: 0.1210 - accuracy: 0.9577\n",
            "Epoch 13: saving model to sent/cp.ckpt\n",
            "380/380 [==============================] - 2s 5ms/step - loss: 0.1215 - accuracy: 0.9577\n",
            "Epoch 14/30\n",
            "379/380 [============================>.] - ETA: 0s - loss: 0.1158 - accuracy: 0.9585\n",
            "Epoch 14: saving model to sent/cp.ckpt\n",
            "380/380 [==============================] - 2s 5ms/step - loss: 0.1157 - accuracy: 0.9586\n",
            "Epoch 15/30\n",
            "375/380 [============================>.] - ETA: 0s - loss: 0.1098 - accuracy: 0.9594\n",
            "Epoch 15: saving model to sent/cp.ckpt\n",
            "380/380 [==============================] - 2s 5ms/step - loss: 0.1096 - accuracy: 0.9595\n",
            "Epoch 16/30\n",
            "379/380 [============================>.] - ETA: 0s - loss: 0.1035 - accuracy: 0.9615\n",
            "Epoch 16: saving model to sent/cp.ckpt\n",
            "380/380 [==============================] - 2s 5ms/step - loss: 0.1035 - accuracy: 0.9614\n",
            "Epoch 17/30\n",
            "374/380 [============================>.] - ETA: 0s - loss: 0.0984 - accuracy: 0.9644\n",
            "Epoch 17: saving model to sent/cp.ckpt\n",
            "380/380 [==============================] - 2s 5ms/step - loss: 0.0980 - accuracy: 0.9645\n",
            "Epoch 18/30\n",
            "374/380 [============================>.] - ETA: 0s - loss: 0.0936 - accuracy: 0.9672\n",
            "Epoch 18: saving model to sent/cp.ckpt\n",
            "380/380 [==============================] - 2s 5ms/step - loss: 0.0929 - accuracy: 0.9675\n",
            "Epoch 19/30\n",
            "379/380 [============================>.] - ETA: 0s - loss: 0.0883 - accuracy: 0.9716\n",
            "Epoch 19: saving model to sent/cp.ckpt\n",
            "380/380 [==============================] - 2s 5ms/step - loss: 0.0882 - accuracy: 0.9716\n",
            "Epoch 20/30\n",
            "377/380 [============================>.] - ETA: 0s - loss: 0.0834 - accuracy: 0.9725\n",
            "Epoch 20: saving model to sent/cp.ckpt\n",
            "380/380 [==============================] - 2s 5ms/step - loss: 0.0834 - accuracy: 0.9725\n",
            "Epoch 21/30\n",
            "373/380 [============================>.] - ETA: 0s - loss: 0.0795 - accuracy: 0.9734\n",
            "Epoch 21: saving model to sent/cp.ckpt\n",
            "380/380 [==============================] - 2s 5ms/step - loss: 0.0790 - accuracy: 0.9737\n",
            "Epoch 22/30\n",
            "380/380 [==============================] - ETA: 0s - loss: 0.0755 - accuracy: 0.9764\n",
            "Epoch 22: saving model to sent/cp.ckpt\n",
            "380/380 [==============================] - 2s 5ms/step - loss: 0.0755 - accuracy: 0.9764\n",
            "Epoch 23/30\n",
            "380/380 [==============================] - ETA: 0s - loss: 0.0713 - accuracy: 0.9761\n",
            "Epoch 23: saving model to sent/cp.ckpt\n",
            "380/380 [==============================] - 2s 5ms/step - loss: 0.0713 - accuracy: 0.9761\n",
            "Epoch 24/30\n",
            "373/380 [============================>.] - ETA: 0s - loss: 0.0670 - accuracy: 0.9794\n",
            "Epoch 24: saving model to sent/cp.ckpt\n",
            "380/380 [==============================] - 2s 6ms/step - loss: 0.0675 - accuracy: 0.9792\n",
            "Epoch 25/30\n",
            "374/380 [============================>.] - ETA: 0s - loss: 0.0650 - accuracy: 0.9799\n",
            "Epoch 25: saving model to sent/cp.ckpt\n",
            "380/380 [==============================] - 2s 5ms/step - loss: 0.0648 - accuracy: 0.9800\n",
            "Epoch 26/30\n",
            "375/380 [============================>.] - ETA: 0s - loss: 0.0602 - accuracy: 0.9812\n",
            "Epoch 26: saving model to sent/cp.ckpt\n",
            "380/380 [==============================] - 2s 6ms/step - loss: 0.0604 - accuracy: 0.9811\n",
            "Epoch 27/30\n",
            "378/380 [============================>.] - ETA: 0s - loss: 0.0571 - accuracy: 0.9833\n",
            "Epoch 27: saving model to sent/cp.ckpt\n",
            "380/380 [==============================] - 2s 6ms/step - loss: 0.0572 - accuracy: 0.9832\n",
            "Epoch 28/30\n",
            "379/380 [============================>.] - ETA: 0s - loss: 0.0535 - accuracy: 0.9847\n",
            "Epoch 28: saving model to sent/cp.ckpt\n",
            "380/380 [==============================] - 2s 6ms/step - loss: 0.0535 - accuracy: 0.9848\n",
            "Epoch 29/30\n",
            "377/380 [============================>.] - ETA: 0s - loss: 0.0509 - accuracy: 0.9850\n",
            "Epoch 29: saving model to sent/cp.ckpt\n",
            "380/380 [==============================] - 2s 6ms/step - loss: 0.0510 - accuracy: 0.9848\n",
            "Epoch 30/30\n",
            "376/380 [============================>.] - ETA: 0s - loss: 0.0474 - accuracy: 0.9856\n",
            "Epoch 30: saving model to sent/cp.ckpt\n",
            "380/380 [==============================] - 2s 6ms/step - loss: 0.0474 - accuracy: 0.9856\n"
          ]
        }
      ]
    },
    {
      "cell_type": "code",
      "source": [
        "import matplotlib.image  as mpimg\n",
        "import matplotlib.pyplot as plt\n",
        "\n",
        "acc=sent_hist.history['accuracy']\n",
        "loss=sent_hist.history['loss']\n",
        "\n",
        "epochs=range(len(acc))\n",
        "\n",
        "plt.plot(epochs, acc, 'r')\n",
        "plt.title('Training accuracy')\n",
        "plt.xlabel(\"Epochs\")\n",
        "plt.ylabel(\"Accuracy\")\n",
        "plt.legend([\"Accuracy\"])\n",
        "\n",
        "plt.figure()\n",
        "\n",
        "plt.plot(epochs, loss, 'r')\n",
        "\n",
        "plt.title('Training loss')\n",
        "plt.xlabel(\"Epochs\")\n",
        "plt.ylabel(\"Loss\")\n",
        "plt.legend([\"Loss\"])\n",
        "\n",
        "plt.figure()"
      ],
      "metadata": {
        "colab": {
          "base_uri": "https://localhost:8080/",
          "height": 608
        },
        "outputId": "fc879633-c77d-4707-d658-a30ae1f573b1",
        "id": "fHm7PZWZowep"
      },
      "execution_count": null,
      "outputs": [
        {
          "output_type": "execute_result",
          "data": {
            "text/plain": [
              "<Figure size 432x288 with 0 Axes>"
            ]
          },
          "metadata": {},
          "execution_count": 37
        },
        {
          "output_type": "display_data",
          "data": {
            "text/plain": [
              "<Figure size 432x288 with 1 Axes>"
            ],
            "image/png": "[encoded data removed]"
          },
          "metadata": {
            "needs_background": "light"
          }
        },
        {
          "output_type": "display_data",
          "data": {
            "text/plain": [
              "<Figure size 432x288 with 1 Axes>"
            ],
            "image/png": "[encoded data removed]"
          },
          "metadata": {
            "needs_background": "light"
          }
        },
        {
          "output_type": "display_data",
          "data": {
            "text/plain": [
              "<Figure size 432x288 with 0 Axes>"
            ]
          },
          "metadata": {}
        }
      ]
    },
    {
      "cell_type": "code",
      "source": [
        "score = sent_model.evaluate(train_text_pad, train_sent_seq, verbose = 0)\n",
        "print(str(score[1]*100) + \"%\")"
      ],
      "metadata": {
        "colab": {
          "base_uri": "https://localhost:8080/"
        },
        "outputId": "270176f1-08f6-4284-c76f-b85caaf4e0fa",
        "id": "yZ8zCM-iowep"
      },
      "execution_count": null,
      "outputs": [
        {
          "output_type": "stream",
          "name": "stdout",
          "text": [
            "98.93713593482971%\n"
          ]
        }
      ]
    },
    {
      "cell_type": "code",
      "source": [
        "test_input = 'jelek banget pelayanannya'\n",
        "text = np.array([test_input])\n",
        "text = np.array(pad_sequences(tokenizer.texts_to_sequences(text), padding=padding_type,\n",
        "                                    maxlen=max_length, truncating=trunc_type))\n",
        "prediction =sent_model.predict(text)\n",
        "\n",
        "result = prediction[0].tolist().index(np.max(prediction))\n",
        "print(result)\n",
        "cat = ''\n",
        "for key, value in sent_tok.word_index.items():\n",
        "  if result == value:\n",
        "    cat = key\n",
        "print(cat)"
      ],
      "metadata": {
        "colab": {
          "base_uri": "https://localhost:8080/"
        },
        "outputId": "96153289-77f5-4694-9cbc-08aaa82af507",
        "id": "bOoaYKAaowep"
      },
      "execution_count": null,
      "outputs": [
        {
          "output_type": "stream",
          "name": "stdout",
          "text": [
            "WARNING:tensorflow:5 out of the last 7 calls to <function Model.make_predict_function.<locals>.predict_function at 0x7fbd09391560> triggered tf.function retracing. Tracing is expensive and the excessive number of tracings could be due to (1) creating @tf.function repeatedly in a loop, (2) passing tensors with different shapes, (3) passing Python objects instead of tensors. For (1), please define your @tf.function outside of the loop. For (2), @tf.function has experimental_relax_shapes=True option that relaxes argument shapes that can avoid unnecessary retracing. For (3), please refer to https://www.tensorflow.org/guide/function#controlling_retracing and https://www.tensorflow.org/api_docs/python/tf/function for  more details.\n",
            "3\n",
            "negatif\n"
          ]
        }
      ]
    },
    {
      "cell_type": "code",
      "source": [
        "sent_predict_file = np.array(predict_data['text'])\n",
        "sent_predict_input = np.array(pad_sequences(tokenizer.texts_to_sequences(sent_predict_file), \n",
        "                                                                        maxlen = max_length,\n",
        "                                                                        padding = padding_type,\n",
        "                                                                        truncating = trunc_type))\n",
        "sent_prediction = sent_model.predict(sent_predict_input)\n",
        "print(sent_prediction)\n",
        "print(sent_word_index)\n",
        "\n",
        "slist_result = []\n",
        "for row in range(len(sent_prediction)):\n",
        "  sresult = sent_prediction[row].tolist().index(np.max(sent_prediction[row]))\n",
        "  slist_result.append(sresult)\n",
        "  print(\"prdiction- \" + str(row) + \" : \" + str(sresult) + \" with \" + str(100*max(sent_prediction[row].tolist()*100)) + \" percentage\")\n",
        "spre_result=[]\n",
        "for s in slist_result:\n",
        "  spre_result.append(sent_tok.index_word[s])\n",
        "\n",
        "pd.set_option(\"display.max_columns\", 150)\n",
        "predict_data['predict_sentiment'] = np.array(spre_result)\n",
        "predict_data[['text', 'predict_sentiment']]"
      ],
      "metadata": {
        "colab": {
          "base_uri": "https://localhost:8080/",
          "height": 1000
        },
        "outputId": "9de6b23d-1680-47aa-e0a3-376eca0fcb75",
        "id": "oH5hqWxdowep"
      },
      "execution_count": null,
      "outputs": [
        {
          "output_type": "stream",
          "name": "stdout",
          "text": [
            "[[3.65807864e-08 9.99962211e-01 2.50742396e-05 1.27456124e-05]\n",
            " [1.10578894e-05 9.70461071e-01 9.98284295e-03 1.95450112e-02]\n",
            " [3.85852809e-06 9.85875189e-01 8.43455084e-03 5.68642560e-03]\n",
            " [9.65447180e-06 9.61846232e-01 2.27475874e-02 1.53965326e-02]\n",
            " [1.31408297e-06 9.97675121e-01 1.49891584e-03 8.24719784e-04]\n",
            " [1.76370580e-08 9.99984980e-01 9.28826921e-06 5.77913715e-06]\n",
            " [1.17600603e-05 9.54991400e-01 2.44466290e-02 2.05503087e-02]\n",
            " [1.36413916e-12 1.00000000e+00 3.31871775e-09 1.36547151e-09]\n",
            " [6.47412962e-05 4.73620027e-01 2.18955532e-01 3.07359725e-01]\n",
            " [1.24556427e-05 9.30904150e-01 3.76942940e-02 3.13891210e-02]\n",
            " [2.64189708e-07 9.99678254e-01 2.08745405e-04 1.12785099e-04]\n",
            " [1.06518605e-07 9.99912858e-01 5.63179274e-05 3.06682705e-05]\n",
            " [9.65447180e-06 9.61846232e-01 2.27475874e-02 1.53965326e-02]\n",
            " [1.11274767e-06 9.97627318e-01 1.56210095e-03 8.09505407e-04]]\n",
            "{'netral': 1, 'positif': 2, 'negatif': 3}\n",
            "prdiction- 0 : 1 with 99.99622106552124 percentage\n",
            "prdiction- 1 : 1 with 97.04610705375671 percentage\n",
            "prdiction- 2 : 1 with 98.58751893043518 percentage\n",
            "prdiction- 3 : 1 with 96.18462324142456 percentage\n",
            "prdiction- 4 : 1 with 99.76751208305359 percentage\n",
            "prdiction- 5 : 1 with 99.99849796295166 percentage\n",
            "prdiction- 6 : 1 with 95.49914002418518 percentage\n",
            "prdiction- 7 : 1 with 100.0 percentage\n",
            "prdiction- 8 : 1 with 47.36200273036957 percentage\n",
            "prdiction- 9 : 1 with 93.09041500091553 percentage\n",
            "prdiction- 10 : 1 with 99.96782541275024 percentage\n",
            "prdiction- 11 : 1 with 99.99128580093384 percentage\n",
            "prdiction- 12 : 1 with 96.18462324142456 percentage\n",
            "prdiction- 13 : 1 with 99.7627317905426 percentage\n"
          ]
        },
        {
          "output_type": "execute_result",
          "data": {
            "text/plain": [
              "                                                 text predict_sentiment\n",
              "0                    tolong cek dm admin terima kasih            netral\n",
              "1   nyari duit makanya bagi saya ini sudah termasu...            netral\n",
              "2                                               buset            netral\n",
              "3                                 Happy new year 2022            netral\n",
              "4      gak gelem kerjo meneng2an kerjoan e kudu viral            netral\n",
              "5                                       cek dm ya min            netral\n",
              "6   lah emangnya dia ngelakuin pelecehan sampe di ...            netral\n",
              "7   selamat pagi railmin apakah ada kabar ka bima ...            netral\n",
              "8   apalagi kalo udh penuh tetep di paksa masuk ya...            netral\n",
              "9                                           jadwalnya            netral\n",
              "10  min boleh share jadwal kereta stasiun tugi nyi...            netral\n",
              "11  sebaiknya yang diperbolehkan naik angkutan umu...            netral\n",
              "12                                happy new year 2022            netral\n",
              "13                  mantab terimakasih kakak2 infonya            netral"
            ],
            "text/html": [
              "\n",
              "  <div id=\"df-28e2a43a-89a9-4aae-8e87-cf02e502377c\">\n",
              "    <div class=\"colab-df-container\">\n",
              "      <div>\n",
              "<style scoped>\n",
              "    .dataframe tbody tr th:only-of-type {\n",
              "        vertical-align: middle;\n",
              "    }\n",
              "\n",
              "    .dataframe tbody tr th {\n",
              "        vertical-align: top;\n",
              "    }\n",
              "\n",
              "    .dataframe thead th {\n",
              "        text-align: right;\n",
              "    }\n",
              "</style>\n",
              "<table border=\"1\" class=\"dataframe\">\n",
              "  <thead>\n",
              "    <tr style=\"text-align: right;\">\n",
              "      <th></th>\n",
              "      <th>text</th>\n",
              "      <th>predict_sentiment</th>\n",
              "    </tr>\n",
              "  </thead>\n",
              "  <tbody>\n",
              "    <tr>\n",
              "      <th>0</th>\n",
              "      <td>tolong cek dm admin terima kasih</td>\n",
              "      <td>netral</td>\n",
              "    </tr>\n",
              "    <tr>\n",
              "      <th>1</th>\n",
              "      <td>nyari duit makanya bagi saya ini sudah termasu...</td>\n",
              "      <td>netral</td>\n",
              "    </tr>\n",
              "    <tr>\n",
              "      <th>2</th>\n",
              "      <td>buset</td>\n",
              "      <td>netral</td>\n",
              "    </tr>\n",
              "    <tr>\n",
              "      <th>3</th>\n",
              "      <td>Happy new year 2022</td>\n",
              "      <td>netral</td>\n",
              "    </tr>\n",
              "    <tr>\n",
              "      <th>4</th>\n",
              "      <td>gak gelem kerjo meneng2an kerjoan e kudu viral</td>\n",
              "      <td>netral</td>\n",
              "    </tr>\n",
              "    <tr>\n",
              "      <th>5</th>\n",
              "      <td>cek dm ya min</td>\n",
              "      <td>netral</td>\n",
              "    </tr>\n",
              "    <tr>\n",
              "      <th>6</th>\n",
              "      <td>lah emangnya dia ngelakuin pelecehan sampe di ...</td>\n",
              "      <td>netral</td>\n",
              "    </tr>\n",
              "    <tr>\n",
              "      <th>7</th>\n",
              "      <td>selamat pagi railmin apakah ada kabar ka bima ...</td>\n",
              "      <td>netral</td>\n",
              "    </tr>\n",
              "    <tr>\n",
              "      <th>8</th>\n",
              "      <td>apalagi kalo udh penuh tetep di paksa masuk ya...</td>\n",
              "      <td>netral</td>\n",
              "    </tr>\n",
              "    <tr>\n",
              "      <th>9</th>\n",
              "      <td>jadwalnya</td>\n",
              "      <td>netral</td>\n",
              "    </tr>\n",
              "    <tr>\n",
              "      <th>10</th>\n",
              "      <td>min boleh share jadwal kereta stasiun tugi nyi...</td>\n",
              "      <td>netral</td>\n",
              "    </tr>\n",
              "    <tr>\n",
              "      <th>11</th>\n",
              "      <td>sebaiknya yang diperbolehkan naik angkutan umu...</td>\n",
              "      <td>netral</td>\n",
              "    </tr>\n",
              "    <tr>\n",
              "      <th>12</th>\n",
              "      <td>happy new year 2022</td>\n",
              "      <td>netral</td>\n",
              "    </tr>\n",
              "    <tr>\n",
              "      <th>13</th>\n",
              "      <td>mantab terimakasih kakak2 infonya</td>\n",
              "      <td>netral</td>\n",
              "    </tr>\n",
              "  </tbody>\n",
              "</table>\n",
              "</div>\n",
              "      <button class=\"colab-df-convert\" onclick=\"convertToInteractive('df-28e2a43a-89a9-4aae-8e87-cf02e502377c')\"\n",
              "              title=\"Convert this dataframe to an interactive table.\"\n",
              "              style=\"display:none;\">\n",
              "        \n",
              "  <svg xmlns=\"http://www.w3.org/2000/svg\" height=\"24px\"viewBox=\"0 0 24 24\"\n",
              "       width=\"24px\">\n",
              "    <path d=\"M0 0h24v24H0V0z\" fill=\"none\"/>\n",
              "    <path d=\"M18.56 5.44l.94 2.06.94-2.06 2.06-.94-2.06-.94-.94-2.06-.94 2.06-2.06.94zm-11 1L8.5 8.5l.94-2.06 2.06-.94-2.06-.94L8.5 2.5l-.94 2.06-2.06.94zm10 10l.94 2.06.94-2.06 2.06-.94-2.06-.94-.94-2.06-.94 2.06-2.06.94z\"/><path d=\"M17.41 7.96l-1.37-1.37c-.4-.4-.92-.59-1.43-.59-.52 0-1.04.2-1.43.59L10.3 9.45l-7.72 7.72c-.78.78-.78 2.05 0 2.83L4 21.41c.39.39.9.59 1.41.59.51 0 1.02-.2 1.41-.59l7.78-7.78 2.81-2.81c.8-.78.8-2.07 0-2.86zM5.41 20L4 18.59l7.72-7.72 1.47 1.35L5.41 20z\"/>\n",
              "  </svg>\n",
              "      </button>\n",
              "      \n",
              "  <style>\n",
              "    .colab-df-container {\n",
              "      display:flex;\n",
              "      flex-wrap:wrap;\n",
              "      gap: 12px;\n",
              "    }\n",
              "\n",
              "    .colab-df-convert {\n",
              "      background-color: #E8F0FE;\n",
              "      border: none;\n",
              "      border-radius: 50%;\n",
              "      cursor: pointer;\n",
              "      display: none;\n",
              "      fill: #1967D2;\n",
              "      height: 32px;\n",
              "      padding: 0 0 0 0;\n",
              "      width: 32px;\n",
              "    }\n",
              "\n",
              "    .colab-df-convert:hover {\n",
              "      background-color: #E2EBFA;\n",
              "      box-shadow: 0px 1px 2px rgba(60, 64, 67, 0.3), 0px 1px 3px 1px rgba(60, 64, 67, 0.15);\n",
              "      fill: #174EA6;\n",
              "    }\n",
              "\n",
              "    [theme=dark] .colab-df-convert {\n",
              "      background-color: #3B4455;\n",
              "      fill: #D2E3FC;\n",
              "    }\n",
              "\n",
              "    [theme=dark] .colab-df-convert:hover {\n",
              "      background-color: #434B5C;\n",
              "      box-shadow: 0px 1px 3px 1px rgba(0, 0, 0, 0.15);\n",
              "      filter: drop-shadow(0px 1px 2px rgba(0, 0, 0, 0.3));\n",
              "      fill: #FFFFFF;\n",
              "    }\n",
              "  </style>\n",
              "\n",
              "      <script>\n",
              "        const buttonEl =\n",
              "          document.querySelector('#df-28e2a43a-89a9-4aae-8e87-cf02e502377c button.colab-df-convert');\n",
              "        buttonEl.style.display =\n",
              "          google.colab.kernel.accessAllowed ? 'block' : 'none';\n",
              "\n",
              "        async function convertToInteractive(key) {\n",
              "          const element = document.querySelector('#df-28e2a43a-89a9-4aae-8e87-cf02e502377c');\n",
              "          const dataTable =\n",
              "            await google.colab.kernel.invokeFunction('convertToInteractive',\n",
              "                                                     [key], {});\n",
              "          if (!dataTable) return;\n",
              "\n",
              "          const docLinkHtml = 'Like what you see? Visit the ' +\n",
              "            '<a target=\"_blank\" href=https://colab.research.google.com/notebooks/data_table.ipynb>data table notebook</a>'\n",
              "            + ' to learn more about interactive tables.';\n",
              "          element.innerHTML = '';\n",
              "          dataTable['output_type'] = 'display_data';\n",
              "          await google.colab.output.renderOutput(dataTable, element);\n",
              "          const docLink = document.createElement('div');\n",
              "          docLink.innerHTML = docLinkHtml;\n",
              "          element.appendChild(docLink);\n",
              "        }\n",
              "      </script>\n",
              "    </div>\n",
              "  </div>\n",
              "  "
            ]
          },
          "metadata": {},
          "execution_count": 40
        }
      ]
    },
    {
      "cell_type": "code",
      "source": [
        "sent_model.save('sent_nosplit_nostpwrds.h5')"
      ],
      "metadata": {
        "id": "rJ9OFCXUi3ys"
      },
      "execution_count": null,
      "outputs": []
    },
    {
      "cell_type": "markdown",
      "source": [
        "Topic"
      ],
      "metadata": {
        "id": "TyHd6niuoweq"
      }
    },
    {
      "cell_type": "code",
      "source": [
        "input_topic = np.concatenate([train_text_pad, train_sent_pad], axis = 1)\n",
        "\n",
        "ckpt_path = \"sent/cp.ckpt\"\n",
        "cp_callback = tf.keras.callbacks.ModelCheckpoint(filepath=ckpt_path,\n",
        "                                                 save_weights_only=True,\n",
        "                                                 verbose=1)\n",
        "topic_model = tf.keras.Sequential([\n",
        "                                  tf.keras.layers.Embedding(100000, embedding_dim, \n",
        "                                                            input_length = max_length+1),\n",
        "                                  tf.keras.layers.Conv1D(32, 5, activation = 'relu'),\n",
        "                                  tf.keras.layers.MaxPool1D(),\n",
        "                                  tf.keras.layers.Bidirectional(tf.keras.layers.LSTM(64)),\n",
        "                                  tf.keras.layers.Dense(16, activation = 'relu'),\n",
        "                                  tf.keras.layers.Dropout(0.2),\n",
        "                                  tf.keras.layers.Dense(9, activation = 'softmax')\n",
        "])\n",
        "\n",
        "topic_model.compile(optimizer = 'adam', loss = 'sparse_categorical_crossentropy', metrics = ['accuracy'])\n",
        "topic_hist = topic_model.fit(input_topic, train_topic_seq, \n",
        "               epochs = 30, callbacks = [cp_callback])"
      ],
      "metadata": {
        "colab": {
          "base_uri": "https://localhost:8080/"
        },
        "outputId": "8611aac1-2db3-4a36-93da-521e8387e0a9",
        "id": "Jk2_g5mnoweq"
      },
      "execution_count": null,
      "outputs": [
        {
          "output_type": "stream",
          "name": "stdout",
          "text": [
            "Epoch 1/30\n",
            "379/380 [============================>.] - ETA: 0s - loss: 1.1555 - accuracy: 0.6256\n",
            "Epoch 1: saving model to sent/cp.ckpt\n",
            "380/380 [==============================] - 18s 37ms/step - loss: 1.1551 - accuracy: 0.6257\n",
            "Epoch 2/30\n",
            "380/380 [==============================] - ETA: 0s - loss: 0.6683 - accuracy: 0.7828\n",
            "Epoch 2: saving model to sent/cp.ckpt\n",
            "380/380 [==============================] - 14s 37ms/step - loss: 0.6683 - accuracy: 0.7828\n",
            "Epoch 3/30\n",
            "379/380 [============================>.] - ETA: 0s - loss: 0.5115 - accuracy: 0.8381\n",
            "Epoch 3: saving model to sent/cp.ckpt\n",
            "380/380 [==============================] - 14s 37ms/step - loss: 0.5113 - accuracy: 0.8381\n",
            "Epoch 4/30\n",
            "379/380 [============================>.] - ETA: 0s - loss: 0.4239 - accuracy: 0.8720\n",
            "Epoch 4: saving model to sent/cp.ckpt\n",
            "380/380 [==============================] - 14s 37ms/step - loss: 0.4239 - accuracy: 0.8720\n",
            "Epoch 5/30\n",
            "379/380 [============================>.] - ETA: 0s - loss: 0.3465 - accuracy: 0.8917\n",
            "Epoch 5: saving model to sent/cp.ckpt\n",
            "380/380 [==============================] - 14s 37ms/step - loss: 0.3463 - accuracy: 0.8918\n",
            "Epoch 6/30\n",
            "379/380 [============================>.] - ETA: 0s - loss: 0.2933 - accuracy: 0.9078\n",
            "Epoch 6: saving model to sent/cp.ckpt\n",
            "380/380 [==============================] - 14s 36ms/step - loss: 0.2932 - accuracy: 0.9078\n",
            "Epoch 7/30\n",
            "379/380 [============================>.] - ETA: 0s - loss: 0.2497 - accuracy: 0.9250\n",
            "Epoch 7: saving model to sent/cp.ckpt\n",
            "380/380 [==============================] - 14s 36ms/step - loss: 0.2496 - accuracy: 0.9250\n",
            "Epoch 8/30\n",
            "379/380 [============================>.] - ETA: 0s - loss: 0.2178 - accuracy: 0.9334\n",
            "Epoch 8: saving model to sent/cp.ckpt\n",
            "380/380 [==============================] - 14s 36ms/step - loss: 0.2177 - accuracy: 0.9334\n",
            "Epoch 9/30\n",
            "379/380 [============================>.] - ETA: 0s - loss: 0.2235 - accuracy: 0.9340\n",
            "Epoch 9: saving model to sent/cp.ckpt\n",
            "380/380 [==============================] - 14s 37ms/step - loss: 0.2236 - accuracy: 0.9339\n",
            "Epoch 10/30\n",
            "379/380 [============================>.] - ETA: 0s - loss: 0.1881 - accuracy: 0.9418\n",
            "Epoch 10: saving model to sent/cp.ckpt\n",
            "380/380 [==============================] - 14s 37ms/step - loss: 0.1879 - accuracy: 0.9418\n",
            "Epoch 11/30\n",
            "379/380 [============================>.] - ETA: 0s - loss: 0.1545 - accuracy: 0.9542\n",
            "Epoch 11: saving model to sent/cp.ckpt\n",
            "380/380 [==============================] - 14s 37ms/step - loss: 0.1545 - accuracy: 0.9542\n",
            "Epoch 12/30\n",
            "379/380 [============================>.] - ETA: 0s - loss: 0.1316 - accuracy: 0.9640\n",
            "Epoch 12: saving model to sent/cp.ckpt\n",
            "380/380 [==============================] - 14s 37ms/step - loss: 0.1315 - accuracy: 0.9640\n",
            "Epoch 13/30\n",
            "379/380 [============================>.] - ETA: 0s - loss: 0.1144 - accuracy: 0.9692\n",
            "Epoch 13: saving model to sent/cp.ckpt\n",
            "380/380 [==============================] - 14s 37ms/step - loss: 0.1145 - accuracy: 0.9691\n",
            "Epoch 14/30\n",
            "379/380 [============================>.] - ETA: 0s - loss: 0.1136 - accuracy: 0.9682\n",
            "Epoch 14: saving model to sent/cp.ckpt\n",
            "380/380 [==============================] - 14s 37ms/step - loss: 0.1135 - accuracy: 0.9682\n",
            "Epoch 15/30\n",
            "379/380 [============================>.] - ETA: 0s - loss: 0.0906 - accuracy: 0.9759\n",
            "Epoch 15: saving model to sent/cp.ckpt\n",
            "380/380 [==============================] - 14s 37ms/step - loss: 0.0905 - accuracy: 0.9759\n",
            "Epoch 16/30\n",
            "379/380 [============================>.] - ETA: 0s - loss: 0.0874 - accuracy: 0.9783\n",
            "Epoch 16: saving model to sent/cp.ckpt\n",
            "380/380 [==============================] - 14s 37ms/step - loss: 0.0874 - accuracy: 0.9783\n",
            "Epoch 17/30\n",
            "379/380 [============================>.] - ETA: 0s - loss: 0.0862 - accuracy: 0.9778\n",
            "Epoch 17: saving model to sent/cp.ckpt\n",
            "380/380 [==============================] - 14s 37ms/step - loss: 0.0862 - accuracy: 0.9778\n",
            "Epoch 18/30\n",
            "379/380 [============================>.] - ETA: 0s - loss: 0.0773 - accuracy: 0.9793\n",
            "Epoch 18: saving model to sent/cp.ckpt\n",
            "380/380 [==============================] - 14s 37ms/step - loss: 0.0772 - accuracy: 0.9793\n",
            "Epoch 19/30\n",
            "379/380 [============================>.] - ETA: 0s - loss: 0.0730 - accuracy: 0.9810\n",
            "Epoch 19: saving model to sent/cp.ckpt\n",
            "380/380 [==============================] - 14s 37ms/step - loss: 0.0730 - accuracy: 0.9810\n",
            "Epoch 20/30\n",
            "379/380 [============================>.] - ETA: 0s - loss: 0.0736 - accuracy: 0.9798\n",
            "Epoch 20: saving model to sent/cp.ckpt\n",
            "380/380 [==============================] - 14s 36ms/step - loss: 0.0736 - accuracy: 0.9798\n",
            "Epoch 21/30\n",
            "379/380 [============================>.] - ETA: 0s - loss: 0.0678 - accuracy: 0.9816\n",
            "Epoch 21: saving model to sent/cp.ckpt\n",
            "380/380 [==============================] - 14s 36ms/step - loss: 0.0677 - accuracy: 0.9816\n",
            "Epoch 22/30\n",
            "379/380 [============================>.] - ETA: 0s - loss: 0.0568 - accuracy: 0.9860\n",
            "Epoch 22: saving model to sent/cp.ckpt\n",
            "380/380 [==============================] - 14s 36ms/step - loss: 0.0568 - accuracy: 0.9860\n",
            "Epoch 23/30\n",
            "379/380 [============================>.] - ETA: 0s - loss: 0.0511 - accuracy: 0.9872\n",
            "Epoch 23: saving model to sent/cp.ckpt\n",
            "380/380 [==============================] - 14s 37ms/step - loss: 0.0512 - accuracy: 0.9871\n",
            "Epoch 24/30\n",
            "379/380 [============================>.] - ETA: 0s - loss: 0.0592 - accuracy: 0.9832\n",
            "Epoch 24: saving model to sent/cp.ckpt\n",
            "380/380 [==============================] - 14s 37ms/step - loss: 0.0591 - accuracy: 0.9832\n",
            "Epoch 25/30\n",
            "379/380 [============================>.] - ETA: 0s - loss: 0.0512 - accuracy: 0.9863\n",
            "Epoch 25: saving model to sent/cp.ckpt\n",
            "380/380 [==============================] - 14s 36ms/step - loss: 0.0512 - accuracy: 0.9863\n",
            "Epoch 26/30\n",
            "379/380 [============================>.] - ETA: 0s - loss: 0.0432 - accuracy: 0.9888\n",
            "Epoch 26: saving model to sent/cp.ckpt\n",
            "380/380 [==============================] - 14s 36ms/step - loss: 0.0432 - accuracy: 0.9888\n",
            "Epoch 27/30\n",
            "379/380 [============================>.] - ETA: 0s - loss: 0.0433 - accuracy: 0.9886\n",
            "Epoch 27: saving model to sent/cp.ckpt\n",
            "380/380 [==============================] - 14s 36ms/step - loss: 0.0433 - accuracy: 0.9886\n",
            "Epoch 28/30\n",
            "379/380 [============================>.] - ETA: 0s - loss: 0.0370 - accuracy: 0.9906\n",
            "Epoch 28: saving model to sent/cp.ckpt\n",
            "380/380 [==============================] - 14s 37ms/step - loss: 0.0369 - accuracy: 0.9906\n",
            "Epoch 29/30\n",
            "379/380 [============================>.] - ETA: 0s - loss: 0.0404 - accuracy: 0.9888\n",
            "Epoch 29: saving model to sent/cp.ckpt\n",
            "380/380 [==============================] - 14s 37ms/step - loss: 0.0404 - accuracy: 0.9888\n",
            "Epoch 30/30\n",
            "379/380 [============================>.] - ETA: 0s - loss: 0.0410 - accuracy: 0.9894\n",
            "Epoch 30: saving model to sent/cp.ckpt\n",
            "380/380 [==============================] - 14s 37ms/step - loss: 0.0410 - accuracy: 0.9894\n"
          ]
        }
      ]
    },
    {
      "cell_type": "code",
      "source": [
        "import matplotlib.image  as mpimg\n",
        "import matplotlib.pyplot as plt\n",
        "\n",
        "acc=topic_hist.history['accuracy']\n",
        "loss=topic_hist.history['loss']\n",
        "\n",
        "epochs=range(len(acc))\n",
        "\n",
        "plt.plot(epochs, acc, 'r')\n",
        "plt.title('Training accuracy')\n",
        "plt.xlabel(\"Epochs\")\n",
        "plt.ylabel(\"Accuracy\")\n",
        "plt.legend([\"Accuracy\"])\n",
        "\n",
        "plt.figure()\n",
        "\n",
        "plt.plot(epochs, loss, 'r')\n",
        "\n",
        "plt.title('Training loss')\n",
        "plt.xlabel(\"Epochs\")\n",
        "plt.ylabel(\"Loss\")\n",
        "plt.legend([\"Loss\"])\n",
        "\n",
        "plt.figure()"
      ],
      "metadata": {
        "colab": {
          "base_uri": "https://localhost:8080/",
          "height": 608
        },
        "outputId": "95d0d380-af38-426b-8cea-d03feeff013e",
        "id": "124sg4Y9oweq"
      },
      "execution_count": null,
      "outputs": [
        {
          "output_type": "execute_result",
          "data": {
            "text/plain": [
              "<Figure size 432x288 with 0 Axes>"
            ]
          },
          "metadata": {},
          "execution_count": 47
        },
        {
          "output_type": "display_data",
          "data": {
            "text/plain": [
              "<Figure size 432x288 with 1 Axes>"
            ],
            "image/png": "[encoded data removed]"
          },
          "metadata": {
            "needs_background": "light"
          }
        },
        {
          "output_type": "display_data",
          "data": {
            "text/plain": [
              "<Figure size 432x288 with 1 Axes>"
            ],
            "image/png": "[encoded data removed]"
          },
          "metadata": {
            "needs_background": "light"
          }
        },
        {
          "output_type": "display_data",
          "data": {
            "text/plain": [
              "<Figure size 432x288 with 0 Axes>"
            ]
          },
          "metadata": {}
        }
      ]
    },
    {
      "cell_type": "code",
      "source": [
        "score = topic_model.evaluate(input_topic, train_topic_seq, verbose = 0)\n",
        "print(str(score[1]*100) + \"%\")"
      ],
      "metadata": {
        "colab": {
          "base_uri": "https://localhost:8080/"
        },
        "outputId": "82773343-9318-4b33-f560-42b9fcd2b4d9",
        "id": "QKwLcsiToweq"
      },
      "execution_count": null,
      "outputs": [
        {
          "output_type": "stream",
          "name": "stdout",
          "text": [
            "99.63747262954712%\n"
          ]
        }
      ]
    },
    {
      "cell_type": "code",
      "source": [
        "text_input = 'jelek banget pelayanannya'\n",
        "text_input = np.array([text_input])\n",
        "sent_input = 'negatif'\n",
        "sent_input = np.array([sent_input])\n",
        "text_input = pad_sequences(tokenizer.texts_to_sequences(text_input), padding=padding_type,\n",
        "                                    maxlen=max_length, truncating=trunc_type)\n",
        "sent_input = pad_sequences(sent_tok.texts_to_sequences(sent_input), padding=padding_type,\n",
        "                                    maxlen=1, truncating=trunc_type)\n",
        "pre_input = np.array(np.concatenate([text_input, sent_input], axis=1))\n",
        "prediction =topic_model.predict(pre_input)\n",
        "\n",
        "result = prediction[0].tolist().index(np.max(prediction))\n",
        "print(result)\n",
        "cat = ''\n",
        "for key, value in topic_tok.word_index.items():\n",
        "  if result == value:\n",
        "    cat = key\n",
        "print(cat)"
      ],
      "metadata": {
        "colab": {
          "base_uri": "https://localhost:8080/"
        },
        "outputId": "2320dc20-517d-4fc4-a628-37688fc50ae0",
        "id": "eRiEbLV6oweq"
      },
      "execution_count": null,
      "outputs": [
        {
          "output_type": "stream",
          "name": "stdout",
          "text": [
            "8\n",
            "pelayanan\n"
          ]
        }
      ]
    },
    {
      "cell_type": "code",
      "source": [
        "topic_model.save('topic_nosplit_nostpwrds.h5')"
      ],
      "metadata": {
        "id": "Lk_7N_EDower"
      },
      "execution_count": null,
      "outputs": []
    }
  ]
}